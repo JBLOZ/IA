{
 "cells": [
  {
   "cell_type": "markdown",
   "id": "57696f78",
   "metadata": {
    "id": "57696f78"
   },
   "source": [
    "\n",
    "# Práctica 0: Tutorial de uso de Google Colab y Python\n",
    "\n",
    "**Objetivo:** Este notebook ofrece un recorrido práctico por Google Colab para el curso *Modelos Computacionales y Simulación de Sistemas*. Verás cómo:\n",
    "- Configurar Colab (GPU/TPU), gestionar archivos y usar Drive.\n",
    "- Usar librerías clave: `numpy`, `matplotlib`, `scipy`, `sympy`, `ipywidgets`.\n",
    "- Graficar (lineal, múltiples curvas, subplots, 3D).\n",
    "- Crear controles interactivos para explorar modelos (p.ej., logístico y SIR).\n",
    "- Actualizar una gráfica en “tiempo real” durante una simulación.\n",
    "- Introducción a IA/AA con `scikit-learn`, `tensorflow` y `pytorch`.\n",
    "- **Ejercicios guiados** para practicar cada bloque.\n"
   ]
  },
  {
   "cell_type": "markdown",
   "id": "a7980f79",
   "metadata": {
    "id": "a7980f79"
   },
   "source": [
    "\n",
    "> **Sugerencia:** ejecuta las celdas en orden. Las celdas con el icono ▶️ a la izquierda contienen código; las citas en bloques grises son explicaciones.\n"
   ]
  },
  {
   "cell_type": "markdown",
   "id": "ae70c721",
   "metadata": {
    "id": "ae70c721"
   },
   "source": [
    "## 1. Conceptos básicos de Colab"
   ]
  },
  {
   "cell_type": "markdown",
   "id": "ded6a1ac",
   "metadata": {
    "id": "ded6a1ac"
   },
   "source": [
    "\n",
    "- Un notebook está compuesto por **celdas** de **código** y **texto** (Markdown).\n",
    "- Puedes **insertar**, **mover** y **eliminar** celdas desde el menú o con atajos.\n",
    "- Todo lo que instales/descargues se pierde cuando la sesión termina (a menos que guardes en Drive).\n"
   ]
  },
  {
   "cell_type": "markdown",
   "id": "15c2e034",
   "metadata": {
    "id": "15c2e034"
   },
   "source": [
    "### 1.1 Aceleración por hardware (CPU/GPU/TPU)"
   ]
  },
  {
   "cell_type": "code",
   "execution_count": 1,
   "id": "87974754",
   "metadata": {
    "colab": {
     "base_uri": "https://localhost:8080/"
    },
    "executionInfo": {
     "elapsed": 9,
     "status": "ok",
     "timestamp": 1757249616317,
     "user": {
      "displayName": "Miguel Ángel Muñoz Bañón",
      "userId": "05694074937454650320"
     },
     "user_tz": -60
    },
    "id": "87974754",
    "outputId": "81830528-91e8-4e56-c385-56a03de3d8f7"
   },
   "outputs": [
    {
     "name": "stdout",
     "output_type": "stream",
     "text": [
      "=======================\n",
      "Información del entorno\n",
      "=======================\n",
      "Python: 3.12.11 | Plataforma: linux | Máquina: x86_64\n",
      "============================\n",
      "GPUs detectadas (nvidia-smi)\n",
      "============================\n",
      "No hay nvidia-smi o no se detecta GPU.\n"
     ]
    }
   ],
   "source": [
    "\n",
    "# Detectar si hay GPU disponible (útil para TensorFlow/PyTorch)\n",
    "import platform, sys, subprocess\n",
    "\n",
    "def print_header(title):\n",
    "    print(\"=\"*len(title))\n",
    "    print(title)\n",
    "    print(\"=\"*len(title))\n",
    "\n",
    "print_header(\"Información del entorno\")\n",
    "print(\"Python:\", sys.version.split()[0], \"| Plataforma:\", sys.platform, \"| Máquina:\", platform.machine())\n",
    "\n",
    "# CUDA vía nvidia-smi (si existe)\n",
    "try:\n",
    "    out = subprocess.check_output([\"nvidia-smi\", \"-L\"], text=True)\n",
    "    print_header(\"GPUs detectadas (nvidia-smi)\")\n",
    "    print(out)\n",
    "except Exception as e:\n",
    "    print_header(\"GPUs detectadas (nvidia-smi)\")\n",
    "    print(\"No hay nvidia-smi o no se detecta GPU.\")\n"
   ]
  },
  {
   "cell_type": "markdown",
   "id": "cf3bf7e7",
   "metadata": {
    "id": "cf3bf7e7"
   },
   "source": [
    "\n",
    "**Ejercicio 1 — Verifica tu acelerador:**  \n",
    "Cambia el tipo de hardware en: `Entorno de ejecución → Cambiar tipo de entorno de ejecución → Acelerador de hardware (GPU/TPU)` y vuelve a ejecutar la celda anterior. ¿Qué cambia en la salida?\n"
   ]
  },
  {
   "cell_type": "markdown",
   "id": "524029ed",
   "metadata": {},
   "source": [
    "La maquina dectecta la GPU y muestra una unica GPU Tesla T4 con su UUID"
   ]
  },
  {
   "cell_type": "markdown",
   "id": "81b03776",
   "metadata": {
    "id": "81b03776"
   },
   "source": [
    "### 1.2 Gestión de archivos y Google Drive"
   ]
  },
  {
   "cell_type": "code",
   "execution_count": 2,
   "id": "287751c2",
   "metadata": {
    "colab": {
     "base_uri": "https://localhost:8080/"
    },
    "executionInfo": {
     "elapsed": 45,
     "status": "ok",
     "timestamp": 1757249630882,
     "user": {
      "displayName": "Miguel Ángel Muñoz Bañón",
      "userId": "05694074937454650320"
     },
     "user_tz": -60
    },
    "id": "287751c2",
    "outputId": "e8fb4efd-f35e-4444-eebf-13c2af40985f"
   },
   "outputs": [
    {
     "name": "stdout",
     "output_type": "stream",
     "text": [
      "Archivo 'hola_colab.txt' creado en el directorio de trabajo actual.\n"
     ]
    }
   ],
   "source": [
    "\n",
    "# (Opcional) Montar Google Drive para leer/escribir archivos persistentemente\n",
    "# from google.colab import drive\n",
    "# drive.mount('/content/drive')\n",
    "\n",
    "# ¡Prueba a guardar un archivo!\n",
    "with open(\"hola_colab.txt\", \"w\", encoding=\"utf-8\") as f:\n",
    "    f.write(\"Hola, Colab!\")\n",
    "print(\"Archivo 'hola_colab.txt' creado en el directorio de trabajo actual.\")\n"
   ]
  },
  {
   "cell_type": "markdown",
   "id": "54184996",
   "metadata": {
    "id": "54184996"
   },
   "source": [
    "\n",
    "**Ejercicio 2 — Persistencia:**  \n",
    "Monta tu Drive y guarda un gráfico (de la sección 2) en una carpeta de tu Drive.\n"
   ]
  },
  {
   "cell_type": "markdown",
   "id": "421948d3",
   "metadata": {
    "id": "421948d3"
   },
   "source": [
    "## 2. Librerías base para modelado y simulación"
   ]
  },
  {
   "cell_type": "code",
   "execution_count": 3,
   "id": "ba81b13e",
   "metadata": {
    "colab": {
     "base_uri": "https://localhost:8080/"
    },
    "executionInfo": {
     "elapsed": 2899,
     "status": "ok",
     "timestamp": 1757249658778,
     "user": {
      "displayName": "Miguel Ángel Muñoz Bañón",
      "userId": "05694074937454650320"
     },
     "user_tz": -60
    },
    "id": "ba81b13e",
    "outputId": "2bead509-1d19-4ee1-f93a-41e1eb98663f"
   },
   "outputs": [
    {
     "name": "stdout",
     "output_type": "stream",
     "text": [
      "Versiones:\n",
      "numpy: 2.0.2\n",
      "matplotlib: 3.10.0\n",
      "scipy: 1.16.1\n",
      "sympy: 1.13.3\n"
     ]
    }
   ],
   "source": [
    "\n",
    "import numpy as np\n",
    "import matplotlib.pyplot as plt\n",
    "from scipy import integrate, signal, optimize\n",
    "import sympy as sp\n",
    "\n",
    "print(\"Versiones:\")\n",
    "print(\"numpy:\", np.__version__)\n",
    "print(\"matplotlib:\", plt.matplotlib.__version__)\n",
    "try:\n",
    "    import scipy\n",
    "    print(\"scipy:\", scipy.__version__)\n",
    "except Exception:\n",
    "    pass\n",
    "print(\"sympy:\", sp.__version__)\n"
   ]
  },
  {
   "cell_type": "markdown",
   "id": "3f58c7ba",
   "metadata": {
    "id": "3f58c7ba"
   },
   "source": [
    "### 2.1 Gráficas básicas con Matplotlib"
   ]
  },
  {
   "cell_type": "code",
   "execution_count": 4,
   "id": "a7323b56",
   "metadata": {
    "colab": {
     "base_uri": "https://localhost:8080/",
     "height": 472
    },
    "executionInfo": {
     "elapsed": 315,
     "status": "ok",
     "timestamp": 1757249663013,
     "user": {
      "displayName": "Miguel Ángel Muñoz Bañón",
      "userId": "05694074937454650320"
     },
     "user_tz": -60
    },
    "id": "a7323b56",
    "outputId": "9b36c35a-7f34-493b-a244-6d780d333b04"
   },
   "outputs": [
    {
     "data": {
      "image/png": "[encoded data removed]",
      "text/plain": [
       "<Figure size 640x480 with 1 Axes>"
      ]
     },
     "metadata": {},
     "output_type": "display_data"
    }
   ],
   "source": [
    "\n",
    "# Señal simple y su visualización\n",
    "x = np.linspace(0, 10, 300)\n",
    "y = np.sin(x) * np.exp(-0.1*x)\n",
    "\n",
    "plt.figure()\n",
    "plt.plot(x, y, label=\"señal\")\n",
    "plt.title(\"Señal amortiguada\")\n",
    "plt.xlabel(\"t\")\n",
    "plt.ylabel(\"x(t)\")\n",
    "plt.legend()\n",
    "plt.show()\n"
   ]
  },
  {
   "cell_type": "code",
   "execution_count": 5,
   "id": "7c6bda2b",
   "metadata": {
    "colab": {
     "base_uri": "https://localhost:8080/",
     "height": 750
    },
    "executionInfo": {
     "elapsed": 420,
     "status": "ok",
     "timestamp": 1757249669617,
     "user": {
      "displayName": "Miguel Ángel Muñoz Bañón",
      "userId": "05694074937454650320"
     },
     "user_tz": -60
    },
    "id": "7c6bda2b",
    "outputId": "09a8c1c1-25bb-4e2d-c5d8-7a5ed781f76a"
   },
   "outputs": [
    {
     "data": {
      "image/png": "[encoded data removed]",
      "text/plain": [
       "<Figure size 640x480 with 1 Axes>"
      ]
     },
     "metadata": {},
     "output_type": "display_data"
    },
    {
     "data": {
      "image/png": "[encoded data removed]",
      "text/plain": [
       "<Figure size 1000x300 with 2 Axes>"
      ]
     },
     "metadata": {},
     "output_type": "display_data"
    }
   ],
   "source": [
    "\n",
    "# Múltiples curvas y subplots\n",
    "x = np.linspace(0, 2*np.pi, 400)\n",
    "y1, y2, y3 = np.sin(x), np.cos(x), np.sin(2*x)\n",
    "\n",
    "plt.figure()\n",
    "plt.plot(x, y1, label=\"sin(x)\")\n",
    "plt.plot(x, y2, label=\"cos(x)\")\n",
    "plt.plot(x, y3, label=\"sin(2x)\")\n",
    "plt.title(\"Múltiples curvas\")\n",
    "plt.legend()\n",
    "plt.show()\n",
    "\n",
    "# Subplots\n",
    "fig, axs = plt.subplots(1, 2, figsize=(10, 3))\n",
    "axs[0].plot(x, y1); axs[0].set_title(\"sin(x)\")\n",
    "axs[1].plot(x, y2); axs[1].set_title(\"cos(x)\")\n",
    "plt.show()\n"
   ]
  },
  {
   "cell_type": "markdown",
   "id": "718803d4",
   "metadata": {
    "id": "718803d4"
   },
   "source": [
    "\n",
    "**Ejercicio 3 — Estilo y anotaciones:**  \n",
    "Añade líneas verticales/horizontales, anotaciones (`annotate`), y rejilla (`grid`) para resaltar máximos/mínimos.\n"
   ]
  },
  {
   "cell_type": "markdown",
   "id": "b871468e",
   "metadata": {
    "id": "b871468e"
   },
   "source": [
    "### 2.2 Matemática simbólica con SymPy"
   ]
  },
  {
   "cell_type": "code",
   "execution_count": 6,
   "id": "30eefe6a",
   "metadata": {
    "colab": {
     "base_uri": "https://localhost:8080/",
     "height": 38
    },
    "executionInfo": {
     "elapsed": 265,
     "status": "ok",
     "timestamp": 1757249675497,
     "user": {
      "displayName": "Miguel Ángel Muñoz Bañón",
      "userId": "05694074937454650320"
     },
     "user_tz": -60
    },
    "id": "30eefe6a",
    "outputId": "196755ef-207a-4202-98d1-444e8123dc84"
   },
   "outputs": [
    {
     "data": {
      "text/latex": [
       "$\\displaystyle x{\\left(t \\right)} = C_{1} e^{0.5 t}$"
      ],
      "text/plain": [
       "Eq(x(t), C1*exp(0.5*t))"
      ]
     },
     "execution_count": 6,
     "metadata": {},
     "output_type": "execute_result"
    }
   ],
   "source": [
    "\n",
    "t = sp.symbols('t', real=True)\n",
    "x = sp.Function('x')(t)\n",
    "ode = sp.Eq(sp.diff(x, t) - 0.5*x, 0)  # dx/dt = 0.5 x\n",
    "sol = sp.dsolve(ode)\n",
    "sol\n"
   ]
  },
  {
   "cell_type": "markdown",
   "id": "b5d688d1",
   "metadata": {
    "id": "b5d688d1"
   },
   "source": [
    "\n",
    "**Ejercicio 4 — EDO simbólica:**  \n",
    "Resuelve simbólicamente \\(\\dot{x} = ax\\) y representa la solución para varios valores de \\(a\\) de manera numérica con `numpy`/`matplotlib`.\n"
   ]
  },
  {
   "cell_type": "markdown",
   "id": "4ddbd88e",
   "metadata": {
    "id": "4ddbd88e"
   },
   "source": [
    "## 3. Simulación continua: EDOs (solve_ivp) — Modelo SIR"
   ]
  },
  {
   "cell_type": "code",
   "execution_count": 7,
   "id": "22584f6e",
   "metadata": {
    "colab": {
     "base_uri": "https://localhost:8080/",
     "height": 472
    },
    "executionInfo": {
     "elapsed": 411,
     "status": "ok",
     "timestamp": 1757249681605,
     "user": {
      "displayName": "Miguel Ángel Muñoz Bañón",
      "userId": "05694074937454650320"
     },
     "user_tz": -60
    },
    "id": "22584f6e",
    "outputId": "118ed457-3b16-45c3-9fe0-7a0043f2b60b"
   },
   "outputs": [
    {
     "data": {
      "image/png": "[encoded data removed]",
      "text/plain": [
       "<Figure size 640x480 with 1 Axes>"
      ]
     },
     "metadata": {},
     "output_type": "display_data"
    }
   ],
   "source": [
    "\n",
    "def sir(t, y, beta, gamma):\n",
    "    S, I, R = y\n",
    "    N = S + I + R\n",
    "    dS = -beta * S * I / N\n",
    "    dI = beta * S * I / N - gamma * I\n",
    "    dR = gamma * I\n",
    "    return [dS, dI, dR]\n",
    "\n",
    "# Parámetros\n",
    "beta, gamma = 0.3, 0.1\n",
    "y0 = [0.99, 0.01, 0.0]  # S, I, R iniciales\n",
    "t_span = (0, 160)\n",
    "t_eval = np.linspace(*t_span, 1000)\n",
    "\n",
    "sol = integrate.solve_ivp(sir, t_span, y0, t_eval=t_eval, args=(beta, gamma))\n",
    "S, I, R = sol.y\n",
    "\n",
    "plt.figure()\n",
    "plt.plot(sol.t, S, label=\"S\")\n",
    "plt.plot(sol.t, I, label=\"I\")\n",
    "plt.plot(sol.t, R, label=\"R\")\n",
    "plt.title(\"Modelo SIR (solve_ivp)\")\n",
    "plt.xlabel(\"t\")\n",
    "plt.legend()\n",
    "plt.show()\n"
   ]
  },
  {
   "cell_type": "markdown",
   "id": "3a13e1b3",
   "metadata": {
    "id": "3a13e1b3"
   },
   "source": [
    "\n",
    "**Ejercicio 5 — Sensibilidad:**  \n",
    "Explora cómo cambian las curvas variando `beta` y `gamma`. Busca el pico de infecciones (`max(I)`) y el tiempo en el que ocurre.\n"
   ]
  },
  {
   "cell_type": "markdown",
   "id": "71cd7450",
   "metadata": {
    "id": "71cd7450"
   },
   "source": [
    "### 3.1 Controles interactivos con ipywidgets"
   ]
  },
  {
   "cell_type": "code",
   "execution_count": 8,
   "id": "82006257",
   "metadata": {
    "colab": {
     "base_uri": "https://localhost:8080/",
     "height": 536,
     "referenced_widgets": [
      "3a6e91f5ca294a799bc7e360aa291186",
      "653a7a7fb5754fc694905b6d1b4e692d",
      "db03c593d9684f4b9dd8a6b144e44eb6",
      "87e5491d58524312892358a28f06572d",
      "ad1440ad53284d5c80795b49927f8b28",
      "7b412ced23314f4d9283eb24461c82f3",
      "ef99880b69a6457da7c58de00e651722",
      "7351c83facbc4414ab5bf07f662dc83b",
      "71a114e650a3495c88d92a931a568322",
      "00c6cd334c2a4babba60697f53430a33"
     ]
    },
    "executionInfo": {
     "elapsed": 289,
     "status": "ok",
     "timestamp": 1757249686979,
     "user": {
      "displayName": "Miguel Ángel Muñoz Bañón",
      "userId": "05694074937454650320"
     },
     "user_tz": -60
    },
    "id": "82006257",
    "outputId": "d4748d79-613c-4149-921d-8a45322c5c77"
   },
   "outputs": [
    {
     "data": {
      "application/vnd.jupyter.widget-view+json": {
       "model_id": "3a6e91f5ca294a799bc7e360aa291186",
       "version_major": 2,
       "version_minor": 0
      },
      "text/plain": [
       "interactive(children=(FloatSlider(value=0.3, description='beta', max=1.0, min=0.05, step=0.05), FloatSlider(va…"
      ]
     },
     "metadata": {},
     "output_type": "display_data"
    }
   ],
   "source": [
    "\n",
    "import ipywidgets as widgets\n",
    "from IPython.display import display, clear_output\n",
    "\n",
    "@widgets.interact(beta=(0.05, 1.0, 0.05), gamma=(0.05, 1.0, 0.05))\n",
    "def simular_sir(beta=0.3, gamma=0.1):\n",
    "    y0 = [0.99, 0.01, 0.0]\n",
    "    t = np.linspace(0, 160, 1000)\n",
    "    sol = integrate.solve_ivp(sir, (t[0], t[-1]), y0, t_eval=t, args=(beta, gamma))\n",
    "    S, I, R = sol.y\n",
    "    plt.figure()\n",
    "    plt.plot(sol.t, S, label=\"S\")\n",
    "    plt.plot(sol.t, I, label=\"I\")\n",
    "    plt.plot(sol.t, R, label=\"R\")\n",
    "    plt.title(f\"SIR interactivo (beta={beta:.2f}, gamma={gamma:.2f})\")\n",
    "    plt.xlabel(\"t\")\n",
    "    plt.legend()\n",
    "    plt.show()\n"
   ]
  },
  {
   "cell_type": "markdown",
   "id": "9c314dfd",
   "metadata": {
    "id": "9c314dfd"
   },
   "source": [
    "\n",
    "**Ejercicio 6 — Métricas:**  \n",
    "Añade al widget el cálculo de: tamaño final del brote (1−S(t\\_final)), `max(I)` y tiempo del pico.\n"
   ]
  },
  {
   "cell_type": "markdown",
   "id": "25cb9b17",
   "metadata": {
    "id": "25cb9b17"
   },
   "source": [
    "## 4. Gráfica que se actualiza en tiempo “real” (simulación paso a paso)"
   ]
  },
  {
   "cell_type": "code",
   "execution_count": null,
   "id": "c3894ff7",
   "metadata": {
    "id": "c3894ff7"
   },
   "outputs": [],
   "source": [
    "\n",
    "import time\n",
    "from IPython.display import display, clear_output\n",
    "\n",
    "# Ejemplo: oscilador amortiguado integrado paso a paso (Euler simple)\n",
    "dt = 0.02\n",
    "T = 10\n",
    "n = int(T/dt)\n",
    "x, v = 1.0, 0.0\n",
    "zeta, omega = 0.1, 2.0  # amortiguamiento y frecuencia\n",
    "\n",
    "ts, xs = [], []\n",
    "plt.figure()\n",
    "for k in range(n):\n",
    "    # dinámica: x'' + 2*zeta*omega*x' + omega^2*x = 0\n",
    "    a = -2*zeta*omega*v - (omega**2)*x\n",
    "    v = v + a*dt\n",
    "    x = x + v*dt\n",
    "\n",
    "    ts.append(k*dt); xs.append(x)\n",
    "\n",
    "    clear_output(wait=True)\n",
    "    plt.clf()\n",
    "    plt.plot(ts, xs, label=\"x(t)\")\n",
    "    plt.title(\"Actualización en 'tiempo real'\")\n",
    "    plt.xlabel(\"t\"); plt.ylabel(\"x\")\n",
    "    plt.legend()\n",
    "    plt.show()\n",
    "    time.sleep(0.01)\n"
   ]
  },
  {
   "cell_type": "markdown",
   "id": "5f6b4109",
   "metadata": {
    "id": "5f6b4109"
   },
   "source": [
    "\n",
    "**Ejercicio 7 — Estabilidad numérica:**  \n",
    "Compara el integrador de Euler con `solve_ivp` (RK45) para el mismo sistema. ¿Qué paso `dt` hace inestable a Euler?\n"
   ]
  },
  {
   "cell_type": "markdown",
   "id": "7d99bd78",
   "metadata": {
    "id": "7d99bd78"
   },
   "source": [
    "## 5. Diagramas de fases y mapas"
   ]
  },
  {
   "cell_type": "code",
   "execution_count": null,
   "id": "cec8d484",
   "metadata": {
    "id": "cec8d484"
   },
   "outputs": [],
   "source": [
    "\n",
    "# Sistema no lineal sencillo (Van der Pol suave)\n",
    "mu = 1.0\n",
    "def vdp(t, y):\n",
    "    x, v = y\n",
    "    dx = v\n",
    "    dv = mu*(1 - x**2)*v - x\n",
    "    return [dx, dv]\n",
    "\n",
    "t_span = (0, 40)\n",
    "y0 = [1.0, 0.0]\n",
    "t_eval = np.linspace(*t_span, 2000)\n",
    "sol = integrate.solve_ivp(vdp, t_span, y0, t_eval=t_eval)\n",
    "\n",
    "x, v = sol.y\n",
    "plt.figure()\n",
    "plt.plot(x, v)\n",
    "plt.title(\"Diagrama de fases (Van der Pol)\")\n",
    "plt.xlabel(\"x\"); plt.ylabel(\"v\")\n",
    "plt.show()\n"
   ]
  },
  {
   "cell_type": "markdown",
   "id": "2695b13a",
   "metadata": {
    "id": "2695b13a"
   },
   "source": [
    "\n",
    "**Ejercicio 8 — Retrato de fases:**  \n",
    "Dibuja varias trayectorias en el plano de fases para distintas condiciones iniciales. Añade un campo de direcciones con una malla.\n"
   ]
  },
  {
   "cell_type": "markdown",
   "id": "2594f2fe",
   "metadata": {
    "id": "2594f2fe"
   },
   "source": [
    "## 6. Modelo logístico (tiempo discreto) e interacción"
   ]
  },
  {
   "cell_type": "code",
   "execution_count": null,
   "id": "133b746e",
   "metadata": {
    "id": "133b746e"
   },
   "outputs": [],
   "source": [
    "\n",
    "def logistic_map(r, x0=0.2, n=200):\n",
    "    xs = [x0]\n",
    "    x = x0\n",
    "    for _ in range(n-1):\n",
    "        x = r*x*(1-x)\n",
    "        xs.append(x)\n",
    "    return np.array(xs)\n",
    "\n",
    "import ipywidgets as widgets\n",
    "@widgets.interact(r=(2.5, 4.0, 0.01), x0=(0.01, 0.99, 0.01))\n",
    "def explorar_logistico(r=3.5, x0=0.2):\n",
    "    xs = logistic_map(r, x0=x0, n=200)\n",
    "    plt.figure()\n",
    "    plt.plot(xs, marker='.', linestyle='-')\n",
    "    plt.title(f\"Mapa logístico (r={r:.2f}, x0={x0:.2f})\")\n",
    "    plt.xlabel(\"n\"); plt.ylabel(\"x_n\")\n",
    "    plt.show()\n"
   ]
  },
  {
   "cell_type": "markdown",
   "id": "55289155",
   "metadata": {
    "id": "55289155"
   },
   "source": [
    "\n",
    "**Ejercicio 9 — Diagrama de bifurcación:**  \n",
    "Genera el diagrama de bifurcación del mapa logístico barriendo `r∈[2.5, 4]` y descartando transitorios.\n"
   ]
  },
  {
   "cell_type": "markdown",
   "id": "b9723de0",
   "metadata": {
    "id": "b9723de0"
   },
   "source": [
    "## 7. SciPy: optimización y señales (breve)"
   ]
  },
  {
   "cell_type": "code",
   "execution_count": null,
   "id": "149fc8cc",
   "metadata": {
    "id": "149fc8cc"
   },
   "outputs": [],
   "source": [
    "\n",
    "# Ajuste de parámetros por mínimos cuadrados a datos sintéticos\n",
    "rng = np.random.default_rng(0)\n",
    "x = np.linspace(0, 5, 50)\n",
    "true = (2.0, 1.5)  # a, b\n",
    "y = true[0]*np.exp(-true[1]*x) + 0.05*rng.normal(size=x.size)\n",
    "\n",
    "def model(x, a, b):\n",
    "    return a*np.exp(-b*x)\n",
    "\n",
    "def resid(params):\n",
    "    a, b = params\n",
    "    return model(x, a, b) - y\n",
    "\n",
    "res = optimize.least_squares(resid, x0=(1.0, 0.5))\n",
    "a_hat, b_hat = res.x\n",
    "print(\"Estimado:\", a_hat, b_hat)\n",
    "\n",
    "plt.figure()\n",
    "plt.scatter(x, y, label=\"datos\")\n",
    "plt.plot(x, model(x, a_hat, b_hat), label=\"ajuste\")\n",
    "plt.legend(); plt.title(\"Ajuste no lineal\")\n",
    "plt.show()\n"
   ]
  },
  {
   "cell_type": "markdown",
   "id": "5d7fbbca",
   "metadata": {
    "id": "5d7fbbca"
   },
   "source": [
    "\n",
    "**Ejercicio 10 — Ruido y robustez:**  \n",
    "Aumenta el ruido y comprueba la variabilidad de los parámetros estimados. Repite el ajuste varias veces.\n"
   ]
  },
  {
   "cell_type": "markdown",
   "id": "8f3ccb09",
   "metadata": {
    "id": "8f3ccb09"
   },
   "source": [
    "## 8. Aprendizaje Automático clásico con Scikit-learn"
   ]
  },
  {
   "cell_type": "code",
   "execution_count": null,
   "id": "20b069e4",
   "metadata": {
    "id": "20b069e4"
   },
   "outputs": [],
   "source": [
    "\n",
    "from sklearn.model_selection import train_test_split\n",
    "from sklearn.preprocessing import StandardScaler\n",
    "from sklearn.pipeline import make_pipeline\n",
    "from sklearn.linear_model import Ridge\n",
    "from sklearn.metrics import mean_squared_error\n",
    "\n",
    "# Dataset sintético\n",
    "rng = np.random.default_rng(0)\n",
    "X = rng.uniform(-3, 3, size=(400, 2))\n",
    "y = 0.5*X[:,0] - 1.2*X[:,1] + 0.3*X[:,0]*X[:,1] + 0.5*rng.normal(size=400)\n",
    "\n",
    "Xtr, Xte, ytr, yte = train_test_split(X, y, test_size=0.25, random_state=0)\n",
    "pipe = make_pipeline(StandardScaler(), Ridge(alpha=1.0))\n",
    "pipe.fit(Xtr, ytr)\n",
    "pred = pipe.predict(Xte)\n",
    "mse = mean_squared_error(yte, pred)\n",
    "rmse = np.sqrt(mse)\n",
    "print(\"RMSE:\",rmse)\n"
   ]
  },
  {
   "cell_type": "markdown",
   "id": "de40c838",
   "metadata": {
    "id": "de40c838"
   },
   "source": [
    "\n",
    "**Ejercicio 11 — Clasificación:**  \n",
    "Crea un clasificador (p.ej., `LogisticRegression` o `SVC`) en un dataset sintético de dos clases. Evalúa `accuracy` y usa `train_test_split`.\n"
   ]
  },
  {
   "cell_type": "markdown",
   "id": "bcdc1e97",
   "metadata": {
    "id": "bcdc1e97"
   },
   "source": [
    "## 9. Redes neuronales con TensorFlow (Keras)"
   ]
  },
  {
   "cell_type": "code",
   "execution_count": null,
   "id": "551314f0",
   "metadata": {
    "id": "551314f0"
   },
   "outputs": [],
   "source": [
    "\n",
    "import tensorflow as tf\n",
    "import numpy as np\n",
    "\n",
    "# Datos simples de regresión\n",
    "rng = np.random.default_rng(1)\n",
    "X = rng.uniform(-2, 2, size=(600, 3)).astype(np.float32)\n",
    "y = (1.0*X[:,0] - 2.0*X[:,1] + 0.5*X[:,2] + 0.3*np.sin(3*X[:,0])).astype(np.float32)\n",
    "\n",
    "model = tf.keras.Sequential([\n",
    "    tf.keras.layers.Input(shape=(3,)),\n",
    "    tf.keras.layers.Dense(32, activation='relu'),\n",
    "    tf.keras.layers.Dense(32, activation='relu'),\n",
    "    tf.keras.layers.Dense(1)\n",
    "])\n",
    "model.compile(optimizer='adam', loss='mse')\n",
    "hist = model.fit(X, y, epochs=5, batch_size=64, verbose=0)  # pocas épocas para demo\n",
    "print(\"Loss final:\", hist.history['loss'][-1])\n"
   ]
  },
  {
   "cell_type": "markdown",
   "id": "71131b5f",
   "metadata": {
    "id": "71131b5f"
   },
   "source": [
    "\n",
    "**Ejercicio 12 — Overfitting/Underfitting:**  \n",
    "Separa datos de entrenamiento/validación y compara curvas de `loss`. Ajusta la capacidad (número de capas y neuronas) y la regularización (`kernel_regularizer`).\n"
   ]
  },
  {
   "cell_type": "markdown",
   "id": "b2cbbf99",
   "metadata": {
    "id": "b2cbbf99"
   },
   "source": [
    "## 10. Redes neuronales con PyTorch"
   ]
  },
  {
   "cell_type": "code",
   "execution_count": null,
   "id": "8df9a633",
   "metadata": {
    "id": "8df9a633"
   },
   "outputs": [],
   "source": [
    "\n",
    "import torch\n",
    "import torch.nn as nn\n",
    "import torch.optim as optim\n",
    "\n",
    "device = torch.device(\"cuda\" if torch.cuda.is_available() else \"cpu\")\n",
    "X_t = torch.tensor(X, dtype=torch.float32).to(device)\n",
    "y_t = torch.tensor(y.reshape(-1,1), dtype=torch.float32).to(device)\n",
    "\n",
    "class MLP(nn.Module):\n",
    "    def __init__(self):\n",
    "        super().__init__()\n",
    "        self.net = nn.Sequential(\n",
    "            nn.Linear(3, 32), nn.ReLU(),\n",
    "            nn.Linear(32, 32), nn.ReLU(),\n",
    "            nn.Linear(32, 1)\n",
    "        )\n",
    "    def forward(self, x):\n",
    "        return self.net(x)\n",
    "\n",
    "model = MLP().to(device)\n",
    "opt = optim.Adam(model.parameters(), lr=1e-3)\n",
    "loss_fn = nn.MSELoss()\n",
    "\n",
    "for epoch in range(5):  # pocas épocas para demo\n",
    "    opt.zero_grad()\n",
    "    pred = model(X_t)\n",
    "    loss = loss_fn(pred, y_t)\n",
    "    loss.backward()\n",
    "    opt.step()\n",
    "    print(f\"Epoch {epoch+1}: loss={loss.item():.4f}\")\n"
   ]
  },
  {
   "cell_type": "markdown",
   "id": "eaa0e610",
   "metadata": {
    "id": "eaa0e610"
   },
   "source": [
    "\n",
    "**Ejercicio 13 — Entrenamiento mini-batch:**  \n",
    "Implementa un `DataLoader` con `batch_size=64` y entrena por 20 épocas. Grafica la curva de pérdida.\n"
   ]
  }
 ],
 "metadata": {
  "colab": {
   "provenance": []
  },
  "kernelspec": {
   "display_name": "Python 3",
   "name": "python3"
  },
  "language_info": {
   "name": "python"
  },
  "widgets": {
   "application/vnd.jupyter.widget-state+json": {
    "00c6cd334c2a4babba60697f53430a33": {
     "model_module": "@jupyter-widgets/base",
     "model_module_version": "1.2.0",
     "model_name": "LayoutModel",
     "state": {
      "_model_module": "@jupyter-widgets/base",
      "_model_module_version": "1.2.0",
      "_model_name": "LayoutModel",
      "_view_count": null,
      "_view_module": "@jupyter-widgets/base",
      "_view_module_version": "1.2.0",
      "_view_name": "LayoutView",
      "align_content": null,
      "align_items": null,
      "align_self": null,
      "border": null,
      "bottom": null,
      "display": null,
      "flex": null,
      "flex_flow": null,
      "grid_area": null,
      "grid_auto_columns": null,
      "grid_auto_flow": null,
      "grid_auto_rows": null,
      "grid_column": null,
      "grid_gap": null,
      "grid_row": null,
      "grid_template_areas": null,
      "grid_template_columns": null,
      "grid_template_rows": null,
      "height": null,
      "justify_content": null,
      "justify_items": null,
      "left": null,
      "margin": null,
      "max_height": null,
      "max_width": null,
      "min_height": null,
      "min_width": null,
      "object_fit": null,
      "object_position": null,
      "order": null,
      "overflow": null,
      "overflow_x": null,
      "overflow_y": null,
      "padding": null,
      "right": null,
      "top": null,
      "visibility": null,
      "width": null
     }
    },
    "3a6e91f5ca294a799bc7e360aa291186": {
     "model_module": "@jupyter-widgets/controls",
     "model_module_version": "1.5.0",
     "model_name": "VBoxModel",
     "state": {
      "_dom_classes": [
       "widget-interact"
      ],
      "_model_module": "@jupyter-widgets/controls",
      "_model_module_version": "1.5.0",
      "_model_name": "VBoxModel",
      "_view_count": null,
      "_view_module": "@jupyter-widgets/controls",
      "_view_module_version": "1.5.0",
      "_view_name": "VBoxView",
      "box_style": "",
      "children": [
       "IPY_MODEL_653a7a7fb5754fc694905b6d1b4e692d",
       "IPY_MODEL_db03c593d9684f4b9dd8a6b144e44eb6",
       "IPY_MODEL_87e5491d58524312892358a28f06572d"
      ],
      "layout": "IPY_MODEL_ad1440ad53284d5c80795b49927f8b28"
     }
    },
    "653a7a7fb5754fc694905b6d1b4e692d": {
     "model_module": "@jupyter-widgets/controls",
     "model_module_version": "1.5.0",
     "model_name": "FloatSliderModel",
     "state": {
      "_dom_classes": [],
      "_model_module": "@jupyter-widgets/controls",
      "_model_module_version": "1.5.0",
      "_model_name": "FloatSliderModel",
      "_view_count": null,
      "_view_module": "@jupyter-widgets/controls",
      "_view_module_version": "1.5.0",
      "_view_name": "FloatSliderView",
      "continuous_update": true,
      "description": "beta",
      "description_tooltip": null,
      "disabled": false,
      "layout": "IPY_MODEL_7b412ced23314f4d9283eb24461c82f3",
      "max": 1,
      "min": 0.05,
      "orientation": "horizontal",
      "readout": true,
      "readout_format": ".2f",
      "step": 0.05,
      "style": "IPY_MODEL_ef99880b69a6457da7c58de00e651722",
      "value": 0.55
     }
    },
    "71a114e650a3495c88d92a931a568322": {
     "model_module": "@jupyter-widgets/controls",
     "model_module_version": "1.5.0",
     "model_name": "SliderStyleModel",
     "state": {
      "_model_module": "@jupyter-widgets/controls",
      "_model_module_version": "1.5.0",
      "_model_name": "SliderStyleModel",
      "_view_count": null,
      "_view_module": "@jupyter-widgets/base",
      "_view_module_version": "1.2.0",
      "_view_name": "StyleView",
      "description_width": "",
      "handle_color": null
     }
    },
    "7351c83facbc4414ab5bf07f662dc83b": {
     "model_module": "@jupyter-widgets/base",
     "model_module_version": "1.2.0",
     "model_name": "LayoutModel",
     "state": {
      "_model_module": "@jupyter-widgets/base",
      "_model_module_version": "1.2.0",
      "_model_name": "LayoutModel",
      "_view_count": null,
      "_view_module": "@jupyter-widgets/base",
      "_view_module_version": "1.2.0",
      "_view_name": "LayoutView",
      "align_content": null,
      "align_items": null,
      "align_self": null,
      "border": null,
      "bottom": null,
      "display": null,
      "flex": null,
      "flex_flow": null,
      "grid_area": null,
      "grid_auto_columns": null,
      "grid_auto_flow": null,
      "grid_auto_rows": null,
      "grid_column": null,
      "grid_gap": null,
      "grid_row": null,
      "grid_template_areas": null,
      "grid_template_columns": null,
      "grid_template_rows": null,
      "height": null,
      "justify_content": null,
      "justify_items": null,
      "left": null,
      "margin": null,
      "max_height": null,
      "max_width": null,
      "min_height": null,
      "min_width": null,
      "object_fit": null,
      "object_position": null,
      "order": null,
      "overflow": null,
      "overflow_x": null,
      "overflow_y": null,
      "padding": null,
      "right": null,
      "top": null,
      "visibility": null,
      "width": null
     }
    },
    "7b412ced23314f4d9283eb24461c82f3": {
     "model_module": "@jupyter-widgets/base",
     "model_module_version": "1.2.0",
     "model_name": "LayoutModel",
     "state": {
      "_model_module": "@jupyter-widgets/base",
      "_model_module_version": "1.2.0",
      "_model_name": "LayoutModel",
      "_view_count": null,
      "_view_module": "@jupyter-widgets/base",
      "_view_module_version": "1.2.0",
      "_view_name": "LayoutView",
      "align_content": null,
      "align_items": null,
      "align_self": null,
      "border": null,
      "bottom": null,
      "display": null,
      "flex": null,
      "flex_flow": null,
      "grid_area": null,
      "grid_auto_columns": null,
      "grid_auto_flow": null,
      "grid_auto_rows": null,
      "grid_column": null,
      "grid_gap": null,
      "grid_row": null,
      "grid_template_areas": null,
      "grid_template_columns": null,
      "grid_template_rows": null,
      "height": null,
      "justify_content": null,
      "justify_items": null,
      "left": null,
      "margin": null,
      "max_height": null,
      "max_width": null,
      "min_height": null,
      "min_width": null,
      "object_fit": null,
      "object_position": null,
      "order": null,
      "overflow": null,
      "overflow_x": null,
      "overflow_y": null,
      "padding": null,
      "right": null,
      "top": null,
      "visibility": null,
      "width": null
     }
    },
    "87e5491d58524312892358a28f06572d": {
     "model_module": "@jupyter-widgets/output",
     "model_module_version": "1.0.0",
     "model_name": "OutputModel",
     "state": {
      "_dom_classes": [],
      "_model_module": "@jupyter-widgets/output",
      "_model_module_version": "1.0.0",
      "_model_name": "OutputModel",
      "_view_count": null,
      "_view_module": "@jupyter-widgets/output",
      "_view_module_version": "1.0.0",
      "_view_name": "OutputView",
      "layout": "IPY_MODEL_00c6cd334c2a4babba60697f53430a33",
      "msg_id": "",
      "outputs": [
       {
        "data": {
         "image/png": "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\n",
         "text/plain": "<Figure size 640x480 with 1 Axes>"
        },
        "metadata": {},
        "output_type": "display_data"
       }
      ]
     }
    },
    "ad1440ad53284d5c80795b49927f8b28": {
     "model_module": "@jupyter-widgets/base",
     "model_module_version": "1.2.0",
     "model_name": "LayoutModel",
     "state": {
      "_model_module": "@jupyter-widgets/base",
      "_model_module_version": "1.2.0",
      "_model_name": "LayoutModel",
      "_view_count": null,
      "_view_module": "@jupyter-widgets/base",
      "_view_module_version": "1.2.0",
      "_view_name": "LayoutView",
      "align_content": null,
      "align_items": null,
      "align_self": null,
      "border": null,
      "bottom": null,
      "display": null,
      "flex": null,
      "flex_flow": null,
      "grid_area": null,
      "grid_auto_columns": null,
      "grid_auto_flow": null,
      "grid_auto_rows": null,
      "grid_column": null,
      "grid_gap": null,
      "grid_row": null,
      "grid_template_areas": null,
      "grid_template_columns": null,
      "grid_template_rows": null,
      "height": null,
      "justify_content": null,
      "justify_items": null,
      "left": null,
      "margin": null,
      "max_height": null,
      "max_width": null,
      "min_height": null,
      "min_width": null,
      "object_fit": null,
      "object_position": null,
      "order": null,
      "overflow": null,
      "overflow_x": null,
      "overflow_y": null,
      "padding": null,
      "right": null,
      "top": null,
      "visibility": null,
      "width": null
     }
    },
    "db03c593d9684f4b9dd8a6b144e44eb6": {
     "model_module": "@jupyter-widgets/controls",
     "model_module_version": "1.5.0",
     "model_name": "FloatSliderModel",
     "state": {
      "_dom_classes": [],
      "_model_module": "@jupyter-widgets/controls",
      "_model_module_version": "1.5.0",
      "_model_name": "FloatSliderModel",
      "_view_count": null,
      "_view_module": "@jupyter-widgets/controls",
      "_view_module_version": "1.5.0",
      "_view_name": "FloatSliderView",
      "continuous_update": true,
      "description": "gamma",
      "description_tooltip": null,
      "disabled": false,
      "layout": "IPY_MODEL_7351c83facbc4414ab5bf07f662dc83b",
      "max": 1,
      "min": 0.05,
      "orientation": "horizontal",
      "readout": true,
      "readout_format": ".2f",
      "step": 0.05,
      "style": "IPY_MODEL_71a114e650a3495c88d92a931a568322",
      "value": 0.1
     }
    },
    "ef99880b69a6457da7c58de00e651722": {
     "model_module": "@jupyter-widgets/controls",
     "model_module_version": "1.5.0",
     "model_name": "SliderStyleModel",
     "state": {
      "_model_module": "@jupyter-widgets/controls",
      "_model_module_version": "1.5.0",
      "_model_name": "SliderStyleModel",
      "_view_count": null,
      "_view_module": "@jupyter-widgets/base",
      "_view_module_version": "1.2.0",
      "_view_name": "StyleView",
      "description_width": "",
      "handle_color": null
     }
    }
   }
  }
 },
 "nbformat": 4,
 "nbformat_minor": 5
}
