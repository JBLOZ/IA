{
 "cells": [
  {
   "cell_type": "markdown",
   "id": "304b727b",
   "metadata": {
    "id": "304b727b"
   },
   "source": [
    "# Práctica 2 - Parte 1: Modelo poblacional\n",
    "\n",
    "En este cuaderno se presenta un **ejemplo de modelo poblacional** basado en el modelo logístico clásico.\n",
    "El objetivo es analizar el comportamiento de una población que crece bajo recursos limitados (capacidad de carga).\n",
    "\n",
    "---\n",
    "\n",
    "## Enunciado\n",
    "\n",
    "1. Considera el modelo logístico de crecimiento poblacional:\n",
    "   \n",
    "   $\n",
    "   \\dot{N} = r N \\left(1 - \\frac{N}{K}\\right)\n",
    "   $\n",
    "\n",
    "   donde:\n",
    "   - $N(t)$ es la población en el tiempo,\n",
    "   - $r$ es la tasa de crecimiento,\n",
    "   - $K$ es la capacidad de carga del entorno.\n",
    "\n",
    "2. Añade al modelo una señal de control $u(t)$ que represente una **cosecha constante** (extracción de individuos):\n",
    "   \n",
    "   $\n",
    "   \\dot{N} = r N \\left(1 - \\frac{N}{K}\\right) - u(t)\n",
    "   $\n",
    "\n",
    "3. Analiza el comportamiento del sistema para tres casos de $u(t)$:\n",
    "   - Caso $u=0$ (sin cosecha).\n",
    "   - Caso $0 < u < rK/4$ (cosecha moderada).\n",
    "   - Caso $u > rK/4$ (cosecha excesiva).\n",
    "\n",
    "4. Representa gráficamente la evolución temporal de la población en cada caso y comenta las diferencias observadas.\n",
    "\n",
    "---\n",
    "\n",
    "## Ejercicio propuesto\n",
    "\n",
    "Implementa en Python el modelo logístico con cosecha y representa la evolución temporal $N(t)$ para los tres casos de $u(t)$. Interpreta los resultados y discute qué ocurre con la población en cada situación.\n",
    "\n"
   ]
  },
  {
   "cell_type": "markdown",
   "id": "86636753",
   "metadata": {},
   "source": [
    "## Solución del ejercicio\n",
    "\n",
    "Vamos a implementar el modelo logístico con cosecha. Primero importamos las librerías necesarias y definimos la ecuación diferencial."
   ]
  },
  {
   "cell_type": "code",
   "execution_count": 1,
   "id": "9bedcc9f",
   "metadata": {},
   "outputs": [],
   "source": [
    "# Importamos las librerías necesarias\n",
    "import numpy as np\n",
    "import matplotlib.pyplot as plt\n",
    "from scipy.integrate import odeint\n",
    "\n",
    "# Configuramos matplotlib para que se vea más bonito\n",
    "plt.style.use('seaborn-v0_8-darkgrid')\n",
    "plt.rcParams['figure.figsize'] = (12, 8)"
   ]
  },
  {
   "cell_type": "code",
   "execution_count": 2,
   "id": "df409b7d",
   "metadata": {},
   "outputs": [
    {
     "name": "stdout",
     "output_type": "stream",
     "text": [
      "Valor crítico de cosecha u_crítico = rK/4 = 125.0\n",
      "\n",
      "Casos a analizar:\n",
      "1. Sin cosecha: u = 0\n",
      "2. Cosecha moderada: u = 87.50 (< 125.0)\n",
      "3. Cosecha excesiva: u = 187.50 (> 125.0)\n"
     ]
    }
   ],
   "source": [
    "# Definimos los parámetros del modelo\n",
    "# Estos valores son los típicos para un modelo logístico\n",
    "r = 0.5  # Tasa de crecimiento (0.5 significa que la población crece al 50% por unidad de tiempo)\n",
    "K = 1000  # Capacidad de carga (máximo de individuos que el entorno puede soportar)\n",
    "N0 = 50  # Población inicial (empezamos con 50 individuos)\n",
    "\n",
    "# Calculamos el valor crítico de cosecha: rK/4\n",
    "u_critico = r * K / 4\n",
    "print(f\"Valor crítico de cosecha u_crítico = rK/4 = {u_critico}\")\n",
    "\n",
    "# Definimos los tres casos de cosecha que vamos a analizar\n",
    "u_sin_cosecha = 0  # Caso 1: Sin cosecha\n",
    "u_moderada = u_critico * 0.7  # Caso 2: Cosecha moderada (70% del valor crítico, así es menor que rK/4)\n",
    "u_excesiva = u_critico * 1.5  # Caso 3: Cosecha excesiva (150% del valor crítico, así es mayor que rK/4)\n",
    "\n",
    "print(f\"\\nCasos a analizar:\")\n",
    "print(f\"1. Sin cosecha: u = {u_sin_cosecha}\")\n",
    "print(f\"2. Cosecha moderada: u = {u_moderada:.2f} (< {u_critico})\")\n",
    "print(f\"3. Cosecha excesiva: u = {u_excesiva:.2f} (> {u_critico})\")"
   ]
  },
  {
   "cell_type": "code",
   "execution_count": 3,
   "id": "202ac98f",
   "metadata": {},
   "outputs": [],
   "source": [
    "# Definimos la función que representa el modelo logístico con cosecha\n",
    "# Esta función calcula la derivada dN/dt según la ecuación del enunciado\n",
    "def modelo_logistico(N, t, r, K, u):\n",
    "    \"\"\"\n",
    "    Modelo logístico con cosecha constante.\n",
    "    \n",
    "    Parámetros:\n",
    "    - N: población en el instante t\n",
    "    - t: tiempo\n",
    "    - r: tasa de crecimiento\n",
    "    - K: capacidad de carga\n",
    "    - u: cosecha constante\n",
    "    \n",
    "    Retorna:\n",
    "    - dN/dt: derivada de la población respecto al tiempo\n",
    "    \"\"\"\n",
    "    # La ecuación es: dN/dt = r*N*(1 - N/K) - u\n",
    "    dNdt = r * N * (1 - N/K) - u\n",
    "    return dNdt"
   ]
  },
  {
   "cell_type": "code",
   "execution_count": 4,
   "id": "47adb6a6",
   "metadata": {},
   "outputs": [
    {
     "name": "stdout",
     "output_type": "stream",
     "text": [
      "✓ Simulaciones completadas con éxito\n"
     ]
    },
    {
     "name": "stderr",
     "output_type": "stream",
     "text": [
      "C:\\Users\\jordi\\AppData\\Local\\Temp\\ipykernel_25624\\24159185.py:11: ODEintWarning: Excess work done on this call (perhaps wrong Dfun type). Run with full_output = 1 to get quantitative information.\n",
      "  N_moderada = odeint(modelo_logistico, N0, t, args=(r, K, u_moderada))\n",
      "C:\\Users\\jordi\\AppData\\Local\\Temp\\ipykernel_25624\\24159185.py:14: ODEintWarning: Excess work done on this call (perhaps wrong Dfun type). Run with full_output = 1 to get quantitative information.\n",
      "  N_excesiva = odeint(modelo_logistico, N0, t, args=(r, K, u_excesiva))\n"
     ]
    }
   ],
   "source": [
    "# Definimos el intervalo de tiempo para la simulación\n",
    "t = np.linspace(0, 50, 1000)  # De 0 a 50 unidades de tiempo con 1000 puntos\n",
    "\n",
    "# Resolvemos la ecuación diferencial para cada caso de cosecha\n",
    "# odeint es una función que integra ecuaciones diferenciales ordinarias\n",
    "\n",
    "# Caso 1: Sin cosecha (u = 0)\n",
    "N_sin_cosecha = odeint(modelo_logistico, N0, t, args=(r, K, u_sin_cosecha))\n",
    "\n",
    "# Caso 2: Cosecha moderada (0 < u < rK/4)\n",
    "N_moderada = odeint(modelo_logistico, N0, t, args=(r, K, u_moderada))\n",
    "\n",
    "# Caso 3: Cosecha excesiva (u > rK/4)\n",
    "N_excesiva = odeint(modelo_logistico, N0, t, args=(r, K, u_excesiva))\n",
    "\n",
    "print(\"✓ Simulaciones completadas con éxito\")"
   ]
  },
  {
   "cell_type": "code",
   "execution_count": 5,
   "id": "7101b2a3",
   "metadata": {},
   "outputs": [
    {
     "data": {
      "image/png": "[encoded data removed]",
      "text/plain": [
       "<Figure size 1400x800 with 1 Axes>"
      ]
     },
     "metadata": {},
     "output_type": "display_data"
    },
    {
     "name": "stdout",
     "output_type": "stream",
     "text": [
      "\n",
      "📊 Gráfico generado con éxito\n"
     ]
    }
   ],
   "source": [
    "# Ahora graficamos los resultados para comparar los tres casos\n",
    "plt.figure(figsize=(14, 8))\n",
    "\n",
    "# Graficamos cada caso con un color diferente\n",
    "plt.plot(t, N_sin_cosecha, 'b-', linewidth=2, label=f'Sin cosecha (u = {u_sin_cosecha})')\n",
    "plt.plot(t, N_moderada, 'g-', linewidth=2, label=f'Cosecha moderada (u = {u_moderada:.2f})')\n",
    "plt.plot(t, N_excesiva, 'r-', linewidth=2, label=f'Cosecha excesiva (u = {u_excesiva:.2f})')\n",
    "\n",
    "# Añadimos líneas de referencia importantes\n",
    "plt.axhline(y=K, color='k', linestyle='--', alpha=0.5, label=f'Capacidad de carga K = {K}')\n",
    "plt.axhline(y=0, color='k', linestyle='-', alpha=0.3)\n",
    "\n",
    "# Configuramos el gráfico\n",
    "plt.xlabel('Tiempo (t)', fontsize=12)\n",
    "plt.ylabel('Población N(t)', fontsize=12)\n",
    "plt.title('Evolución temporal de la población según el modelo logístico con cosecha', fontsize=14, fontweight='bold')\n",
    "plt.legend(fontsize=10, loc='best')\n",
    "plt.grid(True, alpha=0.3)\n",
    "plt.ylim(-50, K*1.1)  # Ajustamos los límites del eje Y para ver bien todo\n",
    "\n",
    "plt.tight_layout()\n",
    "plt.show()\n",
    "\n",
    "print(\"\\n📊 Gráfico generado con éxito\")"
   ]
  },
  {
   "cell_type": "markdown",
   "id": "2b783636",
   "metadata": {},
   "source": [
    "## Interpretación de los resultados\n",
    "\n",
    "Vamos a analizar qué está pasando en cada caso:\n",
    "\n",
    "### Caso 1: Sin cosecha (u = 0)\n",
    "En este caso, la población crece de forma logística clásica. Empieza en N₀ = 50 y crece rápidamente al principio, pero conforme se acerca a la capacidad de carga K = 1000, el crecimiento se ralentiza hasta estabilizarse en K. Esto pasa porque los recursos son limitados y no hay espacio/comida para más individuos.\n",
    "\n",
    "### Caso 2: Cosecha moderada (0 < u < rK/4)\n",
    "Aquí extraemos individuos de la población, pero no demasiados. La población sigue creciendo, pero se estabiliza en un valor menor que K. Esto tiene sentido: como estamos sacando individuos constantemente, la población no puede llegar a la capacidad máxima, pero tampoco se extingue porque la tasa de crecimiento natural compensa las pérdidas por cosecha. Es un **equilibrio sostenible**.\n",
    "\n",
    "### Caso 3: Cosecha excesiva (u > rK/4)\n",
    "En este caso sacamos demasiados individuos. La población no puede recuperarse porque la cosecha es mayor que su capacidad de crecimiento. La población **colapsa y tiende a cero**, lo que significa que la especie se extingue. Esto es lo que pasa en la vida real cuando hay sobrepesca o sobreexplotación de un recurso."
   ]
  },
  {
   "cell_type": "code",
   "execution_count": 6,
   "id": "abd43985",
   "metadata": {},
   "outputs": [
    {
     "name": "stdout",
     "output_type": "stream",
     "text": [
      "Puntos de equilibrio teóricos:\n",
      "\n",
      "Sin cosecha (u = 0):\n",
      "  Equilibrio estable: N* = 1000.00\n",
      "  (El equilibrio trivial N = 0 también existe pero es inestable)\n",
      "\n",
      "Cosecha moderada (u = 87.50):\n",
      "  Equilibrio estable: N* = 773.86\n",
      "  Equilibrio inestable: N* = 226.14\n",
      "  Valor final en la simulación: 0.00\n",
      "\n",
      "Cosecha excesiva (u = 187.50):\n",
      "  ⚠️ No hay equilibrios reales positivos → La población colapsa\n",
      "  Valor final en la simulación: 0.00\n"
     ]
    }
   ],
   "source": [
    "# Calculemos los puntos de equilibrio teóricos para cada caso\n",
    "# Los equilibrios son los valores de N donde dN/dt = 0\n",
    "# Es decir: r*N*(1 - N/K) - u = 0\n",
    "\n",
    "def calcular_equilibrios(r, K, u):\n",
    "    \"\"\"\n",
    "    Calcula los puntos de equilibrio del modelo logístico con cosecha.\n",
    "    Resuelve: r*N*(1 - N/K) - u = 0\n",
    "    \"\"\"\n",
    "    # Esto es una ecuación cuadrática: -r/K * N^2 + r*N - u = 0\n",
    "    # Usamos la fórmula cuadrática: N = [r*K ± sqrt(r^2*K^2 - 4*r*K*u)] / (2*r)\n",
    "    \n",
    "    discriminante = r**2 * K**2 - 4*r*K*u\n",
    "    \n",
    "    if discriminante < 0:\n",
    "        return None, None  # No hay equilibrios reales (población colapsa)\n",
    "    elif discriminante == 0:\n",
    "        N_eq = r*K / (2*r)  # Un solo equilibrio (caso crítico)\n",
    "        return N_eq, N_eq\n",
    "    else:\n",
    "        N_eq1 = (r*K + np.sqrt(discriminante)) / (2*r)\n",
    "        N_eq2 = (r*K - np.sqrt(discriminante)) / (2*r)\n",
    "        return N_eq1, N_eq2\n",
    "\n",
    "print(\"Puntos de equilibrio teóricos:\\n\")\n",
    "\n",
    "# Caso 1: Sin cosecha\n",
    "eq1, eq2 = calcular_equilibrios(r, K, u_sin_cosecha)\n",
    "print(f\"Sin cosecha (u = {u_sin_cosecha}):\")\n",
    "print(f\"  Equilibrio estable: N* = {eq1:.2f}\")\n",
    "print(f\"  (El equilibrio trivial N = 0 también existe pero es inestable)\\n\")\n",
    "\n",
    "# Caso 2: Cosecha moderada\n",
    "eq1, eq2 = calcular_equilibrios(r, K, u_moderada)\n",
    "print(f\"Cosecha moderada (u = {u_moderada:.2f}):\")\n",
    "if eq1 is not None:\n",
    "    print(f\"  Equilibrio estable: N* = {eq1:.2f}\")\n",
    "    print(f\"  Equilibrio inestable: N* = {eq2:.2f}\")\n",
    "    print(f\"  Valor final en la simulación: {N_moderada[-1][0]:.2f}\\n\")\n",
    "\n",
    "# Caso 3: Cosecha excesiva\n",
    "eq1, eq2 = calcular_equilibrios(r, K, u_excesiva)\n",
    "print(f\"Cosecha excesiva (u = {u_excesiva:.2f}):\")\n",
    "if eq1 is None:\n",
    "    print(f\"  ⚠️ No hay equilibrios reales positivos → La población colapsa\")\n",
    "    print(f\"  Valor final en la simulación: {N_excesiva[-1][0]:.2f}\")\n",
    "else:\n",
    "    print(f\"  Equilibrios: N* = {eq1:.2f} y N* = {eq2:.2f}\")\n",
    "    print(f\"  (Ambos son inestables o imaginarios)\")"
   ]
  },
  {
   "cell_type": "markdown",
   "id": "5bae89bc",
   "metadata": {},
   "source": [
    "## Respuestas a las preguntas de reflexión"
   ]
  },
  {
   "cell_type": "markdown",
   "id": "9ae71fe6",
   "metadata": {},
   "source": [
    "### 1. ¿Qué ocurre con la población en ausencia de cosecha (u=0)? ¿Por qué tiende al valor K?\n",
    "\n",
    "**Respuesta:** \n",
    "\n",
    "Cuando no hay cosecha (u = 0), la población crece siguiendo el modelo logístico clásico y tiende al valor K (capacidad de carga). \n",
    "\n",
    "La explicación es bastante intuitiva: al principio, cuando hay pocos individuos, hay recursos de sobra y la población crece rápido (de forma casi exponencial). Pero conforme la población aumenta, empieza a haber competencia por los recursos limitados (comida, espacio, etc.). Cada vez es más difícil crecer porque hay menos recursos disponibles por individuo.\n",
    "\n",
    "Matemáticamente, el término $(1 - N/K)$ es el que hace esto: cuando N es pequeño, ese término vale casi 1 y la población crece a tasa r. Cuando N se acerca a K, el término se acerca a 0 y el crecimiento se frena hasta pararse completamente en N = K. En K se alcanza un **equilibrio estable**: si subes un poco, el crecimiento se hace negativo (mueren más de los que nacen) y vuelves a K; si bajas un poco, el crecimiento es positivo y vuelves a subir a K."
   ]
  },
  {
   "cell_type": "markdown",
   "id": "75ad6bf2",
   "metadata": {},
   "source": [
    "### 2. Para una cosecha moderada (0 < u < rK/4), ¿por qué se alcanza un equilibrio distinto de K? ¿Cuál es su interpretación biológica?\n",
    "\n",
    "**Respuesta:**\n",
    "\n",
    "Cuando hay una cosecha moderada, se alcanza un equilibrio en un valor menor que K porque ahora hay que balancear dos cosas: el crecimiento natural de la población y la extracción constante de individuos.\n",
    "\n",
    "El equilibrio se da cuando la tasa de nacimientos (que depende del crecimiento logístico) iguala exactamente a la tasa de cosecha. En otras palabras, la población se estabiliza en el punto donde \"nacen tantos como se extraen\".\n",
    "\n",
    "**Interpretación biológica:** Imagina una pesquería: si pescas una cantidad moderada, la población de peces puede mantenerse porque los peces se reproducen lo suficiente como para compensar las capturas. Pero como estás extrayendo individuos constantemente, nunca llegarás al máximo posible (K), sino a un valor intermedio sostenible. Es como un grifo con el desagüe abierto: el agua se estabiliza a un nivel que no es el máximo, pero tampoco se vacía.\n",
    "\n",
    "Este equilibrio es **estable y sostenible**, lo que significa que puedes mantener la cosecha indefinidamente sin agotar el recurso. Es la base de la gestión pesquera y forestal sostenible."
   ]
  },
  {
   "cell_type": "markdown",
   "id": "be05cddf",
   "metadata": {},
   "source": [
    "### 3. En el caso crítico (u = rK/4), ¿qué sucede con la dinámica poblacional?\n",
    "\n",
    "**Respuesta:**\n",
    "\n",
    "El caso crítico u = rK/4 es súper interesante porque es el **punto de bifurcación** del sistema. Este valor representa el máximo de cosecha sostenible que se puede extraer.\n",
    "\n",
    "En este punto, matemáticamente los dos equilibrios que normalmente existen (uno estable y uno inestable) **se juntan en uno solo** en N = K/2. Es lo que se llama una bifurcación silla-nodo (saddle-node bifurcation en inglés).\n",
    "\n",
    "**¿Qué significa en la práctica?** \n",
    "\n",
    "- Si estás exactamente en u = rK/4 y empiezas en N = K/2, te quedas ahí para siempre (equilibrio).\n",
    "- Pero este equilibrio es **extremadamente sensible**: cualquier perturbación mínima (una variación temporal, un error de medida) hace que la población se vaya o hacia K (si u baja un poquito) o hacia 0 (si u sube un poquito).\n",
    "\n",
    "Es como estar en el filo de una navaja: técnicamente es un punto de equilibrio, pero es **inestable en la práctica** porque cualquier mínima perturbación te saca de ahí. Por eso en gestión de recursos naturales nunca se trabaja en el límite crítico, siempre se deja un margen de seguridad."
   ]
  },
  {
   "cell_type": "markdown",
   "id": "06dfab4e",
   "metadata": {},
   "source": [
    "### 4. Para una cosecha excesiva (u > rK/4), ¿por qué la población colapsa? ¿Cuál es la interpretación práctica de este resultado en términos de sostenibilidad?\n",
    "\n",
    "**Respuesta:**\n",
    "\n",
    "Cuando la cosecha es excesiva (u > rK/4), la población colapsa porque **estás sacando más individuos de los que la población puede reponer** incluso en las mejores condiciones.\n",
    "\n",
    "Piensa en ello de esta manera: el modelo logístico alcanza su máximo crecimiento absoluto en N = K/2 (la mitad de la capacidad de carga). En ese punto, la población crece a una tasa de rK/4 individuos por unidad de tiempo. Si extraes más que eso, la población **nunca puede compensar las pérdidas**, incluso cuando está en su momento de máximo crecimiento.\n",
    "\n",
    "Matemáticamente, cuando u > rK/4, ya no hay equilibrios reales positivos. El discriminante de la ecuación cuadrática se vuelve negativo, lo que significa que no existe ningún valor de N > 0 donde la población pueda mantenerse estable.\n",
    "\n",
    "**Interpretación práctica (sostenibilidad):**\n",
    "\n",
    "Este resultado es crucial para entender conceptos como:\n",
    "- **Sobrepesca:** Si pescas demasiado, no importa cuánto esperes, la población no se recuperará. Se extingue.\n",
    "- **Deforestación excesiva:** Si talas más árboles de los que pueden crecer, el bosque desaparece.\n",
    "- **Caza furtiva:** Especies en peligro de extinción que son cazadas más rápido de lo que se reproducen.\n",
    "\n",
    "La lección importante es que **hay un límite máximo de explotación sostenible** (rK/4). Si lo superas, no es solo que tengas menos recursos, es que **pierdes el recurso completamente**. Por eso en gestión ambiental siempre se trabaja con cuotas muy por debajo del máximo teórico, para tener margen de error y garantizar la sostenibilidad a largo plazo."
   ]
  },
  {
   "cell_type": "markdown",
   "id": "f3500953",
   "metadata": {},
   "source": [
    "### 5. Relaciona estos resultados con el concepto de **estabilidad** estudiado en teoría. ¿Cuál de los equilibrios es estable y cuál inestable?\n",
    "\n",
    "**Respuesta:**\n",
    "\n",
    "Vamos a analizar la estabilidad de los equilibrios en cada caso usando la teoría que hemos visto en clase:\n",
    "\n",
    "**Caso u = 0 (sin cosecha):**\n",
    "- **Equilibrio N* = K:** ESTABLE. Si te alejas un poco de K, las fuerzas del sistema te devuelven a K. Si N > K, hay sobrepoblación y dN/dt < 0 (la población decrece). Si N < K, hay espacio para crecer y dN/dt > 0.\n",
    "- **Equilibrio N* = 0:** INESTABLE. Si hay aunque sea un par de individuos, la población crece y se aleja del cero.\n",
    "\n",
    "**Caso 0 < u < rK/4 (cosecha moderada):**\n",
    "Aquí hay dos equilibrios, que salen de resolver la ecuación cuadrática:\n",
    "- **Equilibrio mayor (N* ≈ K/2 o más):** ESTABLE. Si te desvías un poco, vuelves a él. Es el que se observa en las simulaciones.\n",
    "- **Equilibrio menor (N* pequeño):** INESTABLE. Si la población baja de este valor, colapsa hacia cero. Es como un \"umbral de viabilidad\": necesitas estar por encima de esta población mínima para sobrevivir con cosecha.\n",
    "\n",
    "**Caso u = rK/4 (caso crítico):**\n",
    "- **Equilibrio único N* = K/2:** SEMI-ESTABLE o marginalmente estable. Es un punto crítico donde los dos equilibrios anteriores se fusionan. En la práctica, es **inestable** porque cualquier perturbación te saca del equilibrio.\n",
    "\n",
    "**Caso u > rK/4 (cosecha excesiva):**\n",
    "- **No hay equilibrios reales positivos.** El único \"equilibrio\" es N* = 0 (extinción), que es estable en el sentido de que una vez llegas ahí, no sales (obvio, si no hay individuos no pueden reproducirse).\n",
    "\n",
    "**Conclusión sobre estabilidad:**\n",
    "\n",
    "Para que un equilibrio sea útil en la práctica, necesita ser **localmente estable** (también llamado atractor): perturbaciones pequeñas no deben sacarte de ahí. En nuestro modelo:\n",
    "- Los equilibrios grandes (cerca de K cuando u es pequeño) son estables y útiles.\n",
    "- Los equilibrios pequeños son inestables y peligrosos (representan umbrales de extinción).\n",
    "- El caso crítico es teóricamente un equilibrio pero prácticamente inútil por ser inestable.\n",
    "\n",
    "Esto conecta con lo visto en teoría sobre análisis de estabilidad mediante linealización: si la derivada de f(N) = rN(1-N/K) - u evaluada en el equilibrio es negativa, el equilibrio es estable; si es positiva, es inestable."
   ]
  },
  {
   "cell_type": "markdown",
   "id": "2e6a4ada",
   "metadata": {
    "id": "2e6a4ada"
   },
   "source": [
    "## Preguntas de reflexión\n",
    "\n",
    "1. ¿Qué ocurre con la población en ausencia de cosecha ($u=0$)? ¿Por qué tiende al valor $K$?  \n",
    "2. Para una cosecha moderada ($0 < u < rK/4$), ¿por qué se alcanza un equilibrio distinto de $K$? ¿Cuál es su interpretación biológica?  \n",
    "3. En el caso crítico ($u = rK/4$), ¿qué sucede con la dinámica poblacional?  \n",
    "4. Para una cosecha excesiva ($u > rK/4$), ¿por qué la población colapsa? ¿Cuál es la interpretación práctica de este resultado en términos de sostenibilidad?  \n",
    "5. Relaciona estos resultados con el concepto de **estabilidad** estudiado en teoría. ¿Cuál de los equilibrios es estable y cuál inestable?"
   ]
  }
 ],
 "metadata": {
  "colab": {
   "provenance": []
  },
  "kernelspec": {
   "display_name": "Python 3",
   "name": "python3"
  },
  "language_info": {
   "codemirror_mode": {
    "name": "ipython",
    "version": 3
   },
   "file_extension": ".py",
   "mimetype": "text/x-python",
   "name": "python",
   "nbconvert_exporter": "python",
   "pygments_lexer": "ipython3",
   "version": "3.13.9"
  }
 },
 "nbformat": 4,
 "nbformat_minor": 5
}
