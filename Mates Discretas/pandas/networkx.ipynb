{
 "cells": [
  {
   "cell_type": "markdown",
   "source": [
    "# JORDI BLASCO LOZANO"
   ],
   "metadata": {
    "collapsed": false
   },
   "id": "7ef8a38d4251580a"
  },
  {
   "cell_type": "markdown",
   "source": [
    "# 9.0 NetworkX\n",
    "## 9.1, 9.2 Instalacion y Importaciones de paquetes"
   ],
   "metadata": {
    "collapsed": false
   },
   "id": "e0af8b09596dddbe"
  },
  {
   "cell_type": "code",
   "outputs": [
    {
     "data": {
      "text/plain": "   equipoID           nombreEq nombreJug1 nombreJug2  sets_ganados  \\\n0         1  electroingenieros       Juan    Pedrito            11   \n1         2    termonuecleares      Pedro     Adrian            11   \n2         3           ElPAPITO      Pablo      Elena             7   \n3         4           LosPibes      Elena     Blanca            12   \n4         5         herculanos     Carlos        Ana             9   \n5         6         Palilleros   Federico     Carlos            11   \n6         7         MaurosTeam      Mauro       Alex             5   \n7         8     ParricaElMejor      Parra     Teresa             7   \n8         9          Ganadores    Gonzalo       Paco             8   \n9        10          UltraTeam       Sara       Luis             7   \n\n   sets_perdidos  partidos_ganados  partidos_perdidos         enfrentamientos  \\\n0              7                 4                  3  [2, 4, 3, 10, 5, 7, 6]   \n1              7                 4                  3  [1, 8, 10, 7, 4, 6, 9]   \n2             10                 3                  4  [4, 9, 1, 6, 7, 5, 10]   \n3              5                 6                  1  [3, 1, 5, 8, 2, 10, 7]   \n4             10                 3                  4  [6, 10, 4, 9, 1, 3, 8]   \n5              7                 5                  2   [5, 7, 8, 3, 9, 2, 1]   \n6             11                 2                  5   [8, 6, 9, 2, 3, 1, 4]   \n7             11                 3                  4  [7, 2, 6, 4, 10, 9, 5]   \n8              9                 3                  4  [10, 3, 7, 5, 6, 8, 2]   \n9             11                 2                  5   [9, 5, 2, 1, 8, 4, 3]   \n\n   puntos           puntos_por_jornada  dineroGenerado  \\\n0       8     [0, 2, 2, 4, 4, 4, 6, 8]             650   \n1       8     [0, 0, 0, 2, 4, 4, 6, 8]             700   \n2       6     [0, 0, 2, 2, 2, 4, 4, 6]             600   \n3      12   [0, 2, 4, 6, 6, 8, 10, 12]            1200   \n4       6     [0, 0, 2, 2, 2, 4, 6, 6]             600   \n5      10  [0, 2, 4, 6, 8, 10, 10, 10]             950   \n6       4     [0, 0, 0, 2, 2, 2, 2, 4]             500   \n7       6     [0, 2, 4, 4, 6, 6, 6, 6]             600   \n8       6     [0, 2, 2, 2, 4, 4, 6, 6]            1150   \n9       4     [0, 0, 0, 0, 2, 4, 4, 4]             600   \n\n   mediaEspectadoresPorEquipo  entradasVendidasPorEquipo         pais  \n0                         550                        100       España  \n1                         405                         80         EEUU  \n2                         900                         90        China  \n3                         830                         70          URS  \n4                         450                        100        China  \n5                         670                         80        Nepal  \n6                         880                         90  R.D. Congo   \n7                         550                        100       España  \n8                         950                        120        China  \n9                         800                         80      Nigeria  ",
      "text/html": "<div>\n<style scoped>\n    .dataframe tbody tr th:only-of-type {\n        vertical-align: middle;\n    }\n\n    .dataframe tbody tr th {\n        vertical-align: top;\n    }\n\n    .dataframe thead th {\n        text-align: right;\n    }\n</style>\n<table border=\"1\" class=\"dataframe\">\n  <thead>\n    <tr style=\"text-align: right;\">\n      <th></th>\n      <th>equipoID</th>\n      <th>nombreEq</th>\n      <th>nombreJug1</th>\n      <th>nombreJug2</th>\n      <th>sets_ganados</th>\n      <th>sets_perdidos</th>\n      <th>partidos_ganados</th>\n      <th>partidos_perdidos</th>\n      <th>enfrentamientos</th>\n      <th>puntos</th>\n      <th>puntos_por_jornada</th>\n      <th>dineroGenerado</th>\n      <th>mediaEspectadoresPorEquipo</th>\n      <th>entradasVendidasPorEquipo</th>\n      <th>pais</th>\n    </tr>\n  </thead>\n  <tbody>\n    <tr>\n      <th>0</th>\n      <td>1</td>\n      <td>electroingenieros</td>\n      <td>Juan</td>\n      <td>Pedrito</td>\n      <td>11</td>\n      <td>7</td>\n      <td>4</td>\n      <td>3</td>\n      <td>[2, 4, 3, 10, 5, 7, 6]</td>\n      <td>8</td>\n      <td>[0, 2, 2, 4, 4, 4, 6, 8]</td>\n      <td>650</td>\n      <td>550</td>\n      <td>100</td>\n      <td>España</td>\n    </tr>\n    <tr>\n      <th>1</th>\n      <td>2</td>\n      <td>termonuecleares</td>\n      <td>Pedro</td>\n      <td>Adrian</td>\n      <td>11</td>\n      <td>7</td>\n      <td>4</td>\n      <td>3</td>\n      <td>[1, 8, 10, 7, 4, 6, 9]</td>\n      <td>8</td>\n      <td>[0, 0, 0, 2, 4, 4, 6, 8]</td>\n      <td>700</td>\n      <td>405</td>\n      <td>80</td>\n      <td>EEUU</td>\n    </tr>\n    <tr>\n      <th>2</th>\n      <td>3</td>\n      <td>ElPAPITO</td>\n      <td>Pablo</td>\n      <td>Elena</td>\n      <td>7</td>\n      <td>10</td>\n      <td>3</td>\n      <td>4</td>\n      <td>[4, 9, 1, 6, 7, 5, 10]</td>\n      <td>6</td>\n      <td>[0, 0, 2, 2, 2, 4, 4, 6]</td>\n      <td>600</td>\n      <td>900</td>\n      <td>90</td>\n      <td>China</td>\n    </tr>\n    <tr>\n      <th>3</th>\n      <td>4</td>\n      <td>LosPibes</td>\n      <td>Elena</td>\n      <td>Blanca</td>\n      <td>12</td>\n      <td>5</td>\n      <td>6</td>\n      <td>1</td>\n      <td>[3, 1, 5, 8, 2, 10, 7]</td>\n      <td>12</td>\n      <td>[0, 2, 4, 6, 6, 8, 10, 12]</td>\n      <td>1200</td>\n      <td>830</td>\n      <td>70</td>\n      <td>URS</td>\n    </tr>\n    <tr>\n      <th>4</th>\n      <td>5</td>\n      <td>herculanos</td>\n      <td>Carlos</td>\n      <td>Ana</td>\n      <td>9</td>\n      <td>10</td>\n      <td>3</td>\n      <td>4</td>\n      <td>[6, 10, 4, 9, 1, 3, 8]</td>\n      <td>6</td>\n      <td>[0, 0, 2, 2, 2, 4, 6, 6]</td>\n      <td>600</td>\n      <td>450</td>\n      <td>100</td>\n      <td>China</td>\n    </tr>\n    <tr>\n      <th>5</th>\n      <td>6</td>\n      <td>Palilleros</td>\n      <td>Federico</td>\n      <td>Carlos</td>\n      <td>11</td>\n      <td>7</td>\n      <td>5</td>\n      <td>2</td>\n      <td>[5, 7, 8, 3, 9, 2, 1]</td>\n      <td>10</td>\n      <td>[0, 2, 4, 6, 8, 10, 10, 10]</td>\n      <td>950</td>\n      <td>670</td>\n      <td>80</td>\n      <td>Nepal</td>\n    </tr>\n    <tr>\n      <th>6</th>\n      <td>7</td>\n      <td>MaurosTeam</td>\n      <td>Mauro</td>\n      <td>Alex</td>\n      <td>5</td>\n      <td>11</td>\n      <td>2</td>\n      <td>5</td>\n      <td>[8, 6, 9, 2, 3, 1, 4]</td>\n      <td>4</td>\n      <td>[0, 0, 0, 2, 2, 2, 2, 4]</td>\n      <td>500</td>\n      <td>880</td>\n      <td>90</td>\n      <td>R.D. Congo</td>\n    </tr>\n    <tr>\n      <th>7</th>\n      <td>8</td>\n      <td>ParricaElMejor</td>\n      <td>Parra</td>\n      <td>Teresa</td>\n      <td>7</td>\n      <td>11</td>\n      <td>3</td>\n      <td>4</td>\n      <td>[7, 2, 6, 4, 10, 9, 5]</td>\n      <td>6</td>\n      <td>[0, 2, 4, 4, 6, 6, 6, 6]</td>\n      <td>600</td>\n      <td>550</td>\n      <td>100</td>\n      <td>España</td>\n    </tr>\n    <tr>\n      <th>8</th>\n      <td>9</td>\n      <td>Ganadores</td>\n      <td>Gonzalo</td>\n      <td>Paco</td>\n      <td>8</td>\n      <td>9</td>\n      <td>3</td>\n      <td>4</td>\n      <td>[10, 3, 7, 5, 6, 8, 2]</td>\n      <td>6</td>\n      <td>[0, 2, 2, 2, 4, 4, 6, 6]</td>\n      <td>1150</td>\n      <td>950</td>\n      <td>120</td>\n      <td>China</td>\n    </tr>\n    <tr>\n      <th>9</th>\n      <td>10</td>\n      <td>UltraTeam</td>\n      <td>Sara</td>\n      <td>Luis</td>\n      <td>7</td>\n      <td>11</td>\n      <td>2</td>\n      <td>5</td>\n      <td>[9, 5, 2, 1, 8, 4, 3]</td>\n      <td>4</td>\n      <td>[0, 0, 0, 0, 2, 4, 4, 4]</td>\n      <td>600</td>\n      <td>800</td>\n      <td>80</td>\n      <td>Nigeria</td>\n    </tr>\n  </tbody>\n</table>\n</div>"
     },
     "execution_count": 61,
     "metadata": {},
     "output_type": "execute_result"
    }
   ],
   "source": [
    "# importamos todas la librerias que vayamos a usar y leemos el data set\n",
    "\n",
    "import networkx as nx\n",
    "import matplotlib.pyplot as plt\n",
    "import numpy as np\n",
    "import pandas as pd\n",
    "\n",
    "WPCdata = pd.read_csv('padelWorldCupDicc.csv')\n",
    "# muestro el data set para tener mas claro las columnas de la tabla y trabajar mejor\n",
    "WPCdata"
   ],
   "metadata": {
    "collapsed": true,
    "ExecuteTime": {
     "end_time": "2024-03-29T13:52:57.392106Z",
     "start_time": "2024-03-29T13:52:57.383233Z"
    }
   },
   "id": "initial_id",
   "execution_count": 61
  },
  {
   "cell_type": "markdown",
   "source": [
    "# 9.3 Creacion de un grafo\n",
    " creamos un grafo vacion con nx.Graph() "
   ],
   "metadata": {
    "collapsed": false
   },
   "id": "23e28d2e981f25a7"
  },
  {
   "cell_type": "code",
   "outputs": [
    {
     "name": "stdout",
     "output_type": "stream",
     "text": [
      "Graph with 0 nodes and 0 edges\n",
      "DiGraph with 0 nodes and 0 edges\n"
     ]
    }
   ],
   "source": [
    "G = nx.Graph() # grafo no dirigido\n",
    "print(G)\n",
    "G = nx.DiGraph() # grafo dirigido\n",
    "print(G)"
   ],
   "metadata": {
    "collapsed": false,
    "ExecuteTime": {
     "end_time": "2024-03-29T13:52:59.326202Z",
     "start_time": "2024-03-29T13:52:59.323765Z"
    }
   },
   "id": "9b5f52848fe4a19b",
   "execution_count": 62
  },
  {
   "cell_type": "markdown",
   "source": [
    "## 9.3.1 Creacion de un grafo desde una matriz numpy"
   ],
   "metadata": {
    "collapsed": false
   },
   "id": "d48cb2e84955a955"
  },
  {
   "cell_type": "code",
   "outputs": [
    {
     "name": "stdout",
     "output_type": "stream",
     "text": [
      "Graph with 3 nodes and 3 edges\n",
      "[0, 1, 2]\n",
      "[(0, 1), (0, 2), (1, 2)]\n",
      "[[0 1 1]\n",
      " [1 0 1]\n",
      " [1 1 0]]\n"
     ]
    }
   ],
   "source": [
    "G = nx.Graph(np.array([[0, 1, 1], [1, 0, 1], [0, 1, 0]])) # usamos una matriz de adyacencia para crear el grafo\n",
    "print(G)\n",
    "print(G.nodes) # mostramos los nodos del grafo\n",
    "print(G.edges) # mostramos las conexiones\n",
    "print(nx.adjacency_matrix(G).todense()) # mostramos la matriz de adyacencia"
   ],
   "metadata": {
    "collapsed": false,
    "ExecuteTime": {
     "end_time": "2024-03-29T13:53:00.409316Z",
     "start_time": "2024-03-29T13:53:00.404878Z"
    }
   },
   "id": "7c1e218973962f2c",
   "execution_count": 63
  },
  {
   "cell_type": "markdown",
   "source": [
    "## 9.3.2 Creacion de un grafo desde un pandas DataFrame\n",
    "Usaré una combinación de las dos maneras de crear un grafo de manera mas complicada, por lo que para la version facil de este apartado usare un pandas inventado y para la version complicada usare el data set de padelWoldCup "
   ],
   "metadata": {
    "collapsed": false
   },
   "id": "16c16054029eee1a"
  },
  {
   "cell_type": "code",
   "outputs": [
    {
     "name": "stdout",
     "output_type": "stream",
     "text": [
      "[1, 3, 2, 4]\n",
      "[(1, 3), (3, 2), (3, 4), (2, 4)]\n"
     ]
    }
   ],
   "source": [
    "df = pd.DataFrame({'from': [1, 2, 3, 4], 'to': [3, 3, 4, 2]}) # creamos un data frame con dos columnas from y to donde cada fila sera un nodo y con su conexion de la columna to\n",
    "G = nx.from_pandas_edgelist(df, 'from', 'to')\n",
    "print(G.nodes)\n",
    "print(G.edges)"
   ],
   "metadata": {
    "collapsed": false,
    "ExecuteTime": {
     "end_time": "2024-03-29T13:53:01.048941Z",
     "start_time": "2024-03-29T13:53:01.045070Z"
    }
   },
   "id": "ff01409d69dde63a",
   "execution_count": 64
  },
  {
   "cell_type": "markdown",
   "source": [
    "## 9.3.2.1 Creacion de un grafo desde un pandas DataFrame version compleja + \n",
    "### 9.3.3, 9.3.4 Añadir nodos y conexiones\n",
    "Para este apartado voy a definir primero las dos variables que necesito, (seran de tipo np.array). Primero definire todos los nodos ('equipoID') y despues las conexiones ('enfrentamientos'). Creare un grafo vacio no dirigido y añadire los nodos, por ultimo con dos bucles anidados añadire las conexiones que representaran los enfrentamientos de cada equipo."
   ],
   "metadata": {
    "collapsed": false
   },
   "id": "d588fd0bf711fc5d"
  },
  {
   "cell_type": "code",
   "outputs": [
    {
     "name": "stdout",
     "output_type": "stream",
     "text": [
      "[1, 2, 3, 4, 5, 6, 7, 8, 9, 10]\n",
      "[(1, 2), (1, 4), (1, 3), (1, 10), (1, 5), (1, 7), (1, 6), (2, 8), (2, 10), (2, 7), (2, 4), (2, 6), (2, 9), (3, 4), (3, 9), (3, 6), (3, 7), (3, 5), (3, 10), (4, 5), (4, 8), (4, 10), (4, 7), (5, 6), (5, 10), (5, 9), (5, 8), (6, 7), (6, 8), (6, 9), (7, 8), (7, 9), (8, 10), (8, 9), (9, 10)]\n"
     ]
    }
   ],
   "source": [
    "\n",
    "equipoID = np.array(WPCdata['equipoID']) # seleccionamos la columna equipoID y la convertimos en un array\n",
    "enfrentamientos = np.array(WPCdata['enfrentamientos'].apply(eval).tolist()) # seleccionamos la columna enfrentamientos del PD y antes de convertirla en un array la convertimos en una lista quitandole las comillas y los corchetes con la funcion eval para que no usemos strings\n",
    "\n",
    "\n",
    "G = nx.Graph() # creamos un grafo vacio no dirigido\n",
    "G.add_nodes_from(equipoID) # con la funcion add_nodes_from añadimos los nodos al grafo, en este caso en forma de array, pero podria ser una lista normal, un unico nodo, etc\n",
    "\n",
    "\n",
    "for equipo in equipoID: # usamos un bucle que recorra cada equipo en la lista de equipos\n",
    "    for j in range(len(enfrentamientos[equipo-1])): # como tenemos las conexiones guardadas en una lista de la siguiente forma '[[1,2,3],[2,3,4]]' usamos un bucle que recorra cada enfrentamiento de cada equipo de forma que cada j será un enfrentamiento del equipo i contra el equipo j\n",
    "        G.add_edge(equipo,enfrentamientos[equipo-1][j]) # añadimos las conexiones al grafo con la funcion add_edge que añadira una conexion entre el equipo i y el equipo j que se encuentre en la lista de enfrentamientos del equipo i\n",
    "\n",
    "print(G.nodes) # mostraremos los nodos del grafo\n",
    "print(G.edges) # y tambien las conexiones que concordaran con los enfrentamientos de cada equipo\n",
    "\n",
    "   "
   ],
   "metadata": {
    "collapsed": false,
    "ExecuteTime": {
     "end_time": "2024-03-29T13:53:01.735036Z",
     "start_time": "2024-03-29T13:53:01.730165Z"
    }
   },
   "id": "1e43076ca9929666",
   "execution_count": 65
  },
  {
   "cell_type": "markdown",
   "source": [
    "## 9.3.3, 9.3.4 Atributos de los nodos y las conexiones"
   ],
   "metadata": {
    "collapsed": false
   },
   "id": "c8ebf3616d0011bf"
  },
  {
   "cell_type": "code",
   "outputs": [
    {
     "name": "stdout",
     "output_type": "stream",
     "text": [
      "1 {'partidos_ganados': 4, 'nombreEq': 'electroingenieros'}\n",
      "2 {'partidos_ganados': 4, 'nombreEq': 'termonuecleares'}\n",
      "3 {'partidos_ganados': 3, 'nombreEq': 'ElPAPITO'}\n",
      "4 {'partidos_ganados': 6, 'nombreEq': 'LosPibes'}\n",
      "5 {'partidos_ganados': 3, 'nombreEq': 'herculanos'}\n",
      "6 {'partidos_ganados': 5, 'nombreEq': 'Palilleros'}\n",
      "7 {'partidos_ganados': 2, 'nombreEq': 'MaurosTeam'}\n",
      "8 {'partidos_ganados': 3, 'nombreEq': 'ParricaElMejor'}\n",
      "9 {'partidos_ganados': 3, 'nombreEq': 'Ganadores'}\n",
      "10 {'partidos_ganados': 2, 'nombreEq': 'UltraTeam'}\n"
     ]
    }
   ],
   "source": [
    "# atributos de los nodos\n",
    "\n",
    "partidos_ganados = dict(zip(equipoID, WPCdata['partidos_ganados'])) # creamos un diccionario con los equipos como clave y el numero de partidos ganados como valor\n",
    "nx.set_node_attributes(G, partidos_ganados, 'partidos_ganados') # añadimos un atributo a los nodos que sera el numero de partidos ganados\n",
    "\n",
    "nombres = dict(zip(equipoID, WPCdata['nombreEq'])) # elegimos otro atributo para los nodos que sera el nombre del equipo\n",
    "nx.set_node_attributes(G, nombres, 'nombreEq') # lo añadimos al grafo\n",
    "\n",
    "for i in equipoID:\n",
    "    print(equipoID[i-1], G.nodes[i]) # mostramos los nodos con sus atributos\n"
   ],
   "metadata": {
    "collapsed": false,
    "ExecuteTime": {
     "end_time": "2024-03-29T13:53:02.464184Z",
     "start_time": "2024-03-29T13:53:02.460275Z"
    }
   },
   "id": "8f5b6d1b2d58315d",
   "execution_count": 66
  },
  {
   "cell_type": "code",
   "outputs": [
    {
     "name": "stdout",
     "output_type": "stream",
     "text": [
      "[(1, 2, {'entradas_vendidas_part': 631, 'sets_jugados': 3}), (1, 4, {'entradas_vendidas_part': 604, 'sets_jugados': 2}), (1, 3, {'entradas_vendidas_part': 385, 'sets_jugados': 2}), (1, 10, {'entradas_vendidas_part': 452, 'sets_jugados': 3}), (1, 5, {'entradas_vendidas_part': 595, 'sets_jugados': 2}), (1, 7, {'entradas_vendidas_part': 521, 'sets_jugados': 3}), (1, 6, {'entradas_vendidas_part': 205, 'sets_jugados': 2}), (2, 8, {'entradas_vendidas_part': 655, 'sets_jugados': 2}), (2, 10, {'entradas_vendidas_part': 367, 'sets_jugados': 3}), (2, 7, {'entradas_vendidas_part': 526, 'sets_jugados': 2}), (2, 4, {'entradas_vendidas_part': 508, 'sets_jugados': 3}), (2, 6, {'entradas_vendidas_part': 262, 'sets_jugados': 3}), (2, 9, {'entradas_vendidas_part': 292, 'sets_jugados': 3}), (3, 4, {'entradas_vendidas_part': 202, 'sets_jugados': 3}), (3, 9, {'entradas_vendidas_part': 441, 'sets_jugados': 2}), (3, 6, {'entradas_vendidas_part': 390, 'sets_jugados': 3}), (3, 7, {'entradas_vendidas_part': 598, 'sets_jugados': 3}), (3, 5, {'entradas_vendidas_part': 231, 'sets_jugados': 2}), (3, 10, {'entradas_vendidas_part': 331, 'sets_jugados': 3}), (4, 5, {'entradas_vendidas_part': 240, 'sets_jugados': 2}), (4, 8, {'entradas_vendidas_part': 306, 'sets_jugados': 3}), (4, 10, {'entradas_vendidas_part': 206, 'sets_jugados': 2}), (4, 7, {'entradas_vendidas_part': 248, 'sets_jugados': 2}), (5, 6, {'entradas_vendidas_part': 670, 'sets_jugados': 2}), (5, 10, {'entradas_vendidas_part': 612, 'sets_jugados': 3}), (5, 9, {'entradas_vendidas_part': 472, 'sets_jugados': 2}), (5, 8, {'entradas_vendidas_part': 591, 'sets_jugados': 3}), (6, 7, {'entradas_vendidas_part': 263, 'sets_jugados': 2}), (6, 8, {'entradas_vendidas_part': 420, 'sets_jugados': 2}), (6, 9, {'entradas_vendidas_part': 569, 'sets_jugados': 3}), (7, 8, {'entradas_vendidas_part': 298, 'sets_jugados': 3}), (7, 9, {'entradas_vendidas_part': 342, 'sets_jugados': 3}), (8, 10, {'entradas_vendidas_part': 664, 'sets_jugados': 2}), (8, 9, {'entradas_vendidas_part': 522, 'sets_jugados': 3}), (9, 10, {'entradas_vendidas_part': 488, 'sets_jugados': 3})]\n"
     ]
    }
   ],
   "source": [
    "# atributos de las conexiones\n",
    "\n",
    "# nos inventamos un atributo para cada partido como por ejemplo el numero de entradas vendidas de cada partido\n",
    "\n",
    "entradas = dict(zip(G.edges, np.random.randint(200, 700, len(G.edges)))) # volvemos a usar un diccionario con las conexiones como clave y el numero de entradas vendidas como valor\n",
    "nx.set_edge_attributes(G, entradas, 'entradas_vendidas_part') # añadimos un atributo a las conexiones que sera el numero de entradas vendidas\n",
    "\n",
    "sets = dict(zip(G.edges, np.random.randint(2, 4, len(G.edges)))) # nos inventamos otro atributo para cada partido como por ejemplo el numero de sets jugados\n",
    "nx.set_edge_attributes(G, sets, 'sets_jugados') # añadimos un atributo a las conexiones que sera el numero de sets jugados de cada partido\n",
    "\n",
    "print(G.edges(data=True)) # y mostramos todos los partidos con sus entradas y sus sets judados\n"
   ],
   "metadata": {
    "collapsed": false,
    "ExecuteTime": {
     "end_time": "2024-03-29T13:53:02.806045Z",
     "start_time": "2024-03-29T13:53:02.802806Z"
    }
   },
   "id": "4989a945e3b80f43",
   "execution_count": 67
  },
  {
   "cell_type": "markdown",
   "source": [
    "## 9.3.5 Eliminacion de nodos y conexiones"
   ],
   "metadata": {
    "collapsed": false
   },
   "id": "458d253460b22810"
  },
  {
   "cell_type": "code",
   "outputs": [
    {
     "name": "stdout",
     "output_type": "stream",
     "text": [
      "Graph with 9 nodes and 27 edges\n",
      "[2, 3, 4, 5, 6, 7, 8, 9, 10]\n",
      "[(2, 8), (2, 10), (2, 7), (2, 4), (2, 6), (2, 9), (3, 9), (3, 6), (3, 7), (3, 5), (3, 10), (4, 5), (4, 8), (4, 10), (4, 7), (5, 6), (5, 10), (5, 9), (5, 8), (6, 7), (6, 8), (6, 9), (7, 8), (7, 9), (8, 10), (8, 9), (9, 10)]\n",
      "Graph with 6 nodes and 9 edges\n",
      "[5, 6, 7, 8, 9, 10]\n",
      "[(5, 6), (5, 10), (5, 9), (5, 8), (6, 7), (6, 9), (7, 9), (8, 9), (9, 10)]\n"
     ]
    }
   ],
   "source": [
    "T = G.copy() # copiamos el grafo G en T para asi poder eliminar nodos y conexiones sin perder el grafo original\n",
    "\n",
    "T.remove_node(1) # eliminamos el nodo 1\n",
    "T.remove_edge(3,4) # eliminamos la conexion entre el nodo 2 y el nodo 3\n",
    "print(T) # mostramos el grafo T que sera el grafo G pero sin el nodo 1 y sus 7 conexiones y sin la conexion entre el nodo 3 y el nodo 4 por lo que tendra 9 nodos y 27 conexiones\n",
    "print(T.nodes)\n",
    "print(T.edges)\n",
    "\n",
    "# tambien podemos eliminar varios nodos y conexiones a la vez\n",
    "T.remove_nodes_from([2,3,4]) # eliminamos los nodos que pasemos en forma de lista\n",
    "T.remove_edges_from([(7,8),(6,8),(8,10)]) # y eliminamos las conexiones que pasemos en forma de lista\n",
    "print(T) \n",
    "print(T.nodes)\n",
    "print(T.edges)"
   ],
   "metadata": {
    "collapsed": false,
    "ExecuteTime": {
     "end_time": "2024-03-29T13:53:03.494061Z",
     "start_time": "2024-03-29T13:53:03.490481Z"
    }
   },
   "id": "db6d6896778d9390",
   "execution_count": 68
  },
  {
   "cell_type": "markdown",
   "source": [
    "## 9.3.6, 9.3.7 Acceso a los nodos, las conexiones y sus atributos"
   ],
   "metadata": {
    "collapsed": false
   },
   "id": "54b0a2bff840016e"
  },
  {
   "cell_type": "code",
   "outputs": [
    {
     "name": "stdout",
     "output_type": "stream",
     "text": [
      "[1, 2, 3, 4, 5, 6, 7, 8, 9, 10]\n",
      "[(1, 2), (1, 4), (1, 3), (1, 10), (1, 5), (1, 7), (1, 6), (2, 8), (2, 10), (2, 7), (2, 4), (2, 6), (2, 9), (3, 4), (3, 9), (3, 6), (3, 7), (3, 5), (3, 10), (4, 5), (4, 8), (4, 10), (4, 7), (5, 6), (5, 10), (5, 9), (5, 8), (6, 7), (6, 8), (6, 9), (7, 8), (7, 9), (8, 10), (8, 9), (9, 10)]\n",
      "{'partidos_ganados': 4, 'nombreEq': 'electroingenieros'}\n",
      "{'entradas_vendidas_part': 631, 'sets_jugados': 3}\n",
      "\n",
      "[(1, 2), (1, 4), (1, 3), (1, 10), (1, 5), (1, 7), (1, 6)]\n",
      "\n",
      "{'entradas_vendidas_part': 631, 'sets_jugados': 3}\n",
      "{'entradas_vendidas_part': 604, 'sets_jugados': 2}\n",
      "{'entradas_vendidas_part': 385, 'sets_jugados': 2}\n",
      "{'entradas_vendidas_part': 452, 'sets_jugados': 3}\n",
      "{'entradas_vendidas_part': 595, 'sets_jugados': 2}\n",
      "{'entradas_vendidas_part': 521, 'sets_jugados': 3}\n",
      "{'entradas_vendidas_part': 205, 'sets_jugados': 2}\n"
     ]
    }
   ],
   "source": [
    "print(G.nodes) # muestra los nodos del grafo\n",
    "print(G.edges) # muestra las conexiones del grafo\n",
    "\n",
    "print(G.nodes[1]) # muestra los atributos del nodo 1\n",
    "print(G.edges[(1,2)]) # muestra los atributos de la conexion entre el nodo 1 y el nodo 2\n",
    "\n",
    "# si por ejemplo quisieramos saber que equipos han jugado contra el equipo electroingenieros podriamos hacer lo siguiente\n",
    "print()\n",
    "for i in G.nodes:\n",
    "    if 'electroingenieros' == G.nodes[i]['nombreEq']:\n",
    "        print(G.edges(i)) # mostrara el ID del equipo ('electroingenieros') y los ID de los equipos con los que ha jugado\n",
    "\n",
    "# si ahora quisieramos saber la informacion de cada partido jugado por el equipo 1 podriamos hacer lo siguiente:\n",
    "print()\n",
    "for i in G.edges:\n",
    "    if 1 in i:\n",
    "        print(G.edges[i]) \n"
   ],
   "metadata": {
    "collapsed": false,
    "ExecuteTime": {
     "end_time": "2024-03-29T13:53:04.168917Z",
     "start_time": "2024-03-29T13:53:04.164992Z"
    }
   },
   "id": "db48fa95b3b50861",
   "execution_count": 69
  },
  {
   "cell_type": "markdown",
   "source": [
    "## 9.3.8 Acceso a los vecinos de un nodo"
   ],
   "metadata": {
    "collapsed": false
   },
   "id": "d59db9d1194f298a"
  },
  {
   "cell_type": "code",
   "outputs": [
    {
     "name": "stdout",
     "output_type": "stream",
     "text": [
      "[2, 4, 3, 10, 5, 7, 6]\n"
     ]
    }
   ],
   "source": [
    "# para saber los vecinos de un nodo usamos la funcion neighbors\n",
    "# asi nos es mas facil saber contra que equipos ha jugado el equipo 1 ya que simplemente nos pasa una lista con los ID de los equipos con los que ha jugado\n",
    "\n",
    "print(list(G.neighbors(1))) \n"
   ],
   "metadata": {
    "collapsed": false,
    "ExecuteTime": {
     "end_time": "2024-03-29T13:53:04.830123Z",
     "start_time": "2024-03-29T13:53:04.827424Z"
    }
   },
   "id": "e7266e269fed88fa",
   "execution_count": 70
  },
  {
   "cell_type": "markdown",
   "source": [
    "## 9.3.9 Acceso al grado de un nodo"
   ],
   "metadata": {
    "collapsed": false
   },
   "id": "17cc3605e19cafa8"
  },
  {
   "cell_type": "code",
   "outputs": [
    {
     "name": "stdout",
     "output_type": "stream",
     "text": [
      "7\n"
     ]
    }
   ],
   "source": [
    "# para saber el grado de un nodo usamos la funcion degree\n",
    "# en este caso sabemos que el equipo 1 ha jugado 7 partidos por lo que su grado sera 7\n",
    "print(G.degree(1))"
   ],
   "metadata": {
    "collapsed": false,
    "ExecuteTime": {
     "end_time": "2024-03-29T13:53:05.796625Z",
     "start_time": "2024-03-29T13:53:05.793628Z"
    }
   },
   "id": "56ef622f090bff89",
   "execution_count": 71
  },
  {
   "cell_type": "markdown",
   "source": [
    "## 9.3.10 Acceso al numero de nodos y conexiones"
   ],
   "metadata": {
    "collapsed": false
   },
   "id": "3e36a5f8f53adf73"
  },
  {
   "cell_type": "code",
   "outputs": [
    {
     "name": "stdout",
     "output_type": "stream",
     "text": [
      "Graph with 10 nodes and 35 edges\n",
      "10\n",
      "35\n"
     ]
    }
   ],
   "source": [
    "# ya vimos que con la funcion print('Grafo') nos mostraba el numero de nodos y conexiones\n",
    "# si saber el numero de nodos o conexiones por separado y en forma de entero usamos la funcion number_of_nodes y number_of_edges\n",
    "print(G)\n",
    "print(G.number_of_nodes())\n",
    "print(G.number_of_edges())"
   ],
   "metadata": {
    "collapsed": false,
    "ExecuteTime": {
     "end_time": "2024-03-29T13:53:06.663688Z",
     "start_time": "2024-03-29T13:53:06.660796Z"
    }
   },
   "id": "bd47f2c703010605",
   "execution_count": 72
  },
  {
   "cell_type": "markdown",
   "source": [
    "## 9.3.11 Acceso la matriz de adyacencia de un grafo"
   ],
   "metadata": {
    "collapsed": false
   },
   "id": "b8fd5f0a8c90eab9"
  },
  {
   "cell_type": "code",
   "outputs": [
    {
     "name": "stdout",
     "output_type": "stream",
     "text": [
      "[[0 1 1 1 1 1 1 0 0 1]\n",
      " [1 0 0 1 0 1 1 1 1 1]\n",
      " [1 0 0 1 1 1 1 0 1 1]\n",
      " [1 1 1 0 1 0 1 1 0 1]\n",
      " [1 0 1 1 0 1 0 1 1 1]\n",
      " [1 1 1 0 1 0 1 1 1 0]\n",
      " [1 1 1 1 0 1 0 1 1 0]\n",
      " [0 1 0 1 1 1 1 0 1 1]\n",
      " [0 1 1 0 1 1 1 1 0 1]\n",
      " [1 1 1 1 1 0 0 1 1 0]]\n"
     ]
    }
   ],
   "source": [
    "# para acceder a la matriz de adyacencia de un grafo usamos la funcion adjacency_matrix\n",
    "# sera una matriz cuadrada donde las filas y las columnas seran los nodos y los valores seran 1 si ha habido un partido jugado entre los dos equipos y 0 si no\n",
    "\n",
    "print(nx.adjacency_matrix(G).todense())"
   ],
   "metadata": {
    "collapsed": false,
    "ExecuteTime": {
     "end_time": "2024-03-29T13:53:07.685147Z",
     "start_time": "2024-03-29T13:53:07.681866Z"
    }
   },
   "id": "27ed62d23f61d943",
   "execution_count": 73
  },
  {
   "cell_type": "markdown",
   "source": [
    "## 9.3.12 Acceso a la matriz de grado de un grafo"
   ],
   "metadata": {
    "collapsed": false
   },
   "id": "419ebeffa03db27d"
  },
  {
   "cell_type": "code",
   "outputs": [
    {
     "ename": "AttributeError",
     "evalue": "module 'networkx' has no attribute 'degree_matrix'",
     "output_type": "error",
     "traceback": [
      "\u001B[1;31m---------------------------------------------------------------------------\u001B[0m",
      "\u001B[1;31mAttributeError\u001B[0m                            Traceback (most recent call last)",
      "Cell \u001B[1;32mIn[74], line 3\u001B[0m\n\u001B[0;32m      1\u001B[0m \u001B[38;5;66;03m# para acceder a la matriz de grado de un grafo usamos la funcion degree_matrix\u001B[39;00m\n\u001B[0;32m      2\u001B[0m \u001B[38;5;66;03m# sera una matriz donde en la diagonal apareceran la cantidad de partidos jugados por cada equipo y el resto de valores seran 0\u001B[39;00m\n\u001B[1;32m----> 3\u001B[0m \u001B[38;5;28mprint\u001B[39m(\u001B[43mnx\u001B[49m\u001B[38;5;241;43m.\u001B[39;49m\u001B[43mdegree_matrix\u001B[49m(G)\u001B[38;5;241m.\u001B[39mtodense())\n",
      "\u001B[1;31mAttributeError\u001B[0m: module 'networkx' has no attribute 'degree_matrix'"
     ]
    }
   ],
   "source": [
    "# para acceder a la matriz de grado de un grafo usamos la funcion degree_matrix\n",
    "# sera una matriz donde en la diagonal apareceran la cantidad de partidos jugados por cada equipo y el resto de valores seran 0\n",
    "print(nx.degree_matrix(G).todense())"
   ],
   "metadata": {
    "collapsed": false,
    "ExecuteTime": {
     "end_time": "2024-03-29T13:53:08.582533Z",
     "start_time": "2024-03-29T13:53:08.572913Z"
    }
   },
   "id": "7ba69f9b8929f9c3",
   "execution_count": 74
  },
  {
   "cell_type": "code",
   "outputs": [],
   "source": [],
   "metadata": {
    "collapsed": false
   },
   "id": "f6207fae89954855"
  }
 ],
 "metadata": {
  "kernelspec": {
   "display_name": "Python 3",
   "language": "python",
   "name": "python3"
  },
  "language_info": {
   "codemirror_mode": {
    "name": "ipython",
    "version": 2
   },
   "file_extension": ".py",
   "mimetype": "text/x-python",
   "name": "python",
   "nbconvert_exporter": "python",
   "pygments_lexer": "ipython2",
   "version": "2.7.6"
  }
 },
 "nbformat": 4,
 "nbformat_minor": 5
}
