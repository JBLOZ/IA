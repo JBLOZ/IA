{
 "cells": [
  {
   "cell_type": "markdown",
   "id": "2b8c1db909e5435e",
   "metadata": {
    "collapsed": false
   },
   "source": [
    "# Jordi Blasco Lozano\n",
    "## 6.0 Pandas"
   ]
  },
  {
   "cell_type": "code",
   "execution_count": 2,
   "id": "c0b868644575b05a",
   "metadata": {
    "collapsed": false,
    "ExecuteTime": {
     "end_time": "2024-03-30T14:42:08.213101Z",
     "start_time": "2024-03-30T14:42:08.210677Z"
    }
   },
   "outputs": [],
   "source": [
    "import pandas as pd"
   ]
  },
  {
   "cell_type": "markdown",
   "id": "ffabc80742c1168e",
   "metadata": {
    "collapsed": false
   },
   "source": [
    "## 6.1 Creacion de DataFrames\n",
    "   ### 6.1.1. Creacion de un DataFrame a partir de un diccionario:"
   ]
  },
  {
   "cell_type": "code",
   "execution_count": 3,
   "id": "6f20845268eb690b",
   "metadata": {
    "collapsed": false,
    "ExecuteTime": {
     "end_time": "2024-03-30T14:42:08.355892Z",
     "start_time": "2024-03-30T14:42:08.339217Z"
    }
   },
   "outputs": [
    {
     "data": {
      "text/plain": "   equipoID           nombreEq nombreJug1 nombreJug2  sets_ganados  \\\n0         1  electroingenieros       Juan    Pedrito            11   \n1         2    termonuecleares      Pedro     Adrian            11   \n2         3           ElPAPITO      Pablo      Elena             7   \n3         4           LosPibes      Elena     Blanca            12   \n4         5         herculanos     Carlos        Ana             9   \n5         6         Palilleros   Federico     Carlos            11   \n6         7         MaurosTeam      Mauro       Alex             5   \n7         8     ParricaElMejor      Parra     Teresa             7   \n8         9          Ganadores    Gonzalo       Paco             8   \n9        10          UltraTeam       Sara       Luis             7   \n\n   sets_perdidos  partidos_ganados  partidos_perdidos         enfrentamientos  \\\n0              7                 4                  3  [2, 4, 3, 10, 5, 7, 6]   \n1              7                 4                  3  [1, 8, 10, 7, 4, 6, 9]   \n2             10                 3                  4  [4, 9, 1, 6, 7, 5, 10]   \n3              5                 6                  1  [3, 1, 5, 8, 2, 10, 7]   \n4             10                 3                  4  [6, 10, 4, 9, 1, 3, 8]   \n5              7                 5                  2   [5, 7, 8, 3, 9, 2, 1]   \n6             11                 2                  5   [8, 6, 9, 2, 3, 1, 4]   \n7             11                 3                  4  [7, 2, 6, 4, 10, 9, 5]   \n8              9                 3                  4  [10, 3, 7, 5, 6, 8, 2]   \n9             11                 2                  5   [9, 5, 2, 1, 8, 4, 3]   \n\n   puntos           puntos_por_jornada  dineroGenerado  \\\n0       8     [0, 2, 2, 4, 4, 4, 6, 8]             650   \n1       8     [0, 0, 0, 2, 4, 4, 6, 8]             700   \n2       6     [0, 0, 2, 2, 2, 4, 4, 6]             600   \n3      12   [0, 2, 4, 6, 6, 8, 10, 12]            1200   \n4       6     [0, 0, 2, 2, 2, 4, 6, 6]             600   \n5      10  [0, 2, 4, 6, 8, 10, 10, 10]             950   \n6       4     [0, 0, 0, 2, 2, 2, 2, 4]             500   \n7       6     [0, 2, 4, 4, 6, 6, 6, 6]             600   \n8       6     [0, 2, 2, 2, 4, 4, 6, 6]            1150   \n9       4     [0, 0, 0, 0, 2, 4, 4, 4]             600   \n\n   mediaEspectadoresPorEquipo  entradasVendidasPorEquipo  \n0                         550                        100  \n1                         405                         80  \n2                         900                         90  \n3                         830                         70  \n4                         450                        100  \n5                         670                         80  \n6                         880                         90  \n7                         550                        100  \n8                         950                        120  \n9                         800                         80  ",
      "text/html": "<div>\n<style scoped>\n    .dataframe tbody tr th:only-of-type {\n        vertical-align: middle;\n    }\n\n    .dataframe tbody tr th {\n        vertical-align: top;\n    }\n\n    .dataframe thead th {\n        text-align: right;\n    }\n</style>\n<table border=\"1\" class=\"dataframe\">\n  <thead>\n    <tr style=\"text-align: right;\">\n      <th></th>\n      <th>equipoID</th>\n      <th>nombreEq</th>\n      <th>nombreJug1</th>\n      <th>nombreJug2</th>\n      <th>sets_ganados</th>\n      <th>sets_perdidos</th>\n      <th>partidos_ganados</th>\n      <th>partidos_perdidos</th>\n      <th>enfrentamientos</th>\n      <th>puntos</th>\n      <th>puntos_por_jornada</th>\n      <th>dineroGenerado</th>\n      <th>mediaEspectadoresPorEquipo</th>\n      <th>entradasVendidasPorEquipo</th>\n    </tr>\n  </thead>\n  <tbody>\n    <tr>\n      <th>0</th>\n      <td>1</td>\n      <td>electroingenieros</td>\n      <td>Juan</td>\n      <td>Pedrito</td>\n      <td>11</td>\n      <td>7</td>\n      <td>4</td>\n      <td>3</td>\n      <td>[2, 4, 3, 10, 5, 7, 6]</td>\n      <td>8</td>\n      <td>[0, 2, 2, 4, 4, 4, 6, 8]</td>\n      <td>650</td>\n      <td>550</td>\n      <td>100</td>\n    </tr>\n    <tr>\n      <th>1</th>\n      <td>2</td>\n      <td>termonuecleares</td>\n      <td>Pedro</td>\n      <td>Adrian</td>\n      <td>11</td>\n      <td>7</td>\n      <td>4</td>\n      <td>3</td>\n      <td>[1, 8, 10, 7, 4, 6, 9]</td>\n      <td>8</td>\n      <td>[0, 0, 0, 2, 4, 4, 6, 8]</td>\n      <td>700</td>\n      <td>405</td>\n      <td>80</td>\n    </tr>\n    <tr>\n      <th>2</th>\n      <td>3</td>\n      <td>ElPAPITO</td>\n      <td>Pablo</td>\n      <td>Elena</td>\n      <td>7</td>\n      <td>10</td>\n      <td>3</td>\n      <td>4</td>\n      <td>[4, 9, 1, 6, 7, 5, 10]</td>\n      <td>6</td>\n      <td>[0, 0, 2, 2, 2, 4, 4, 6]</td>\n      <td>600</td>\n      <td>900</td>\n      <td>90</td>\n    </tr>\n    <tr>\n      <th>3</th>\n      <td>4</td>\n      <td>LosPibes</td>\n      <td>Elena</td>\n      <td>Blanca</td>\n      <td>12</td>\n      <td>5</td>\n      <td>6</td>\n      <td>1</td>\n      <td>[3, 1, 5, 8, 2, 10, 7]</td>\n      <td>12</td>\n      <td>[0, 2, 4, 6, 6, 8, 10, 12]</td>\n      <td>1200</td>\n      <td>830</td>\n      <td>70</td>\n    </tr>\n    <tr>\n      <th>4</th>\n      <td>5</td>\n      <td>herculanos</td>\n      <td>Carlos</td>\n      <td>Ana</td>\n      <td>9</td>\n      <td>10</td>\n      <td>3</td>\n      <td>4</td>\n      <td>[6, 10, 4, 9, 1, 3, 8]</td>\n      <td>6</td>\n      <td>[0, 0, 2, 2, 2, 4, 6, 6]</td>\n      <td>600</td>\n      <td>450</td>\n      <td>100</td>\n    </tr>\n    <tr>\n      <th>5</th>\n      <td>6</td>\n      <td>Palilleros</td>\n      <td>Federico</td>\n      <td>Carlos</td>\n      <td>11</td>\n      <td>7</td>\n      <td>5</td>\n      <td>2</td>\n      <td>[5, 7, 8, 3, 9, 2, 1]</td>\n      <td>10</td>\n      <td>[0, 2, 4, 6, 8, 10, 10, 10]</td>\n      <td>950</td>\n      <td>670</td>\n      <td>80</td>\n    </tr>\n    <tr>\n      <th>6</th>\n      <td>7</td>\n      <td>MaurosTeam</td>\n      <td>Mauro</td>\n      <td>Alex</td>\n      <td>5</td>\n      <td>11</td>\n      <td>2</td>\n      <td>5</td>\n      <td>[8, 6, 9, 2, 3, 1, 4]</td>\n      <td>4</td>\n      <td>[0, 0, 0, 2, 2, 2, 2, 4]</td>\n      <td>500</td>\n      <td>880</td>\n      <td>90</td>\n    </tr>\n    <tr>\n      <th>7</th>\n      <td>8</td>\n      <td>ParricaElMejor</td>\n      <td>Parra</td>\n      <td>Teresa</td>\n      <td>7</td>\n      <td>11</td>\n      <td>3</td>\n      <td>4</td>\n      <td>[7, 2, 6, 4, 10, 9, 5]</td>\n      <td>6</td>\n      <td>[0, 2, 4, 4, 6, 6, 6, 6]</td>\n      <td>600</td>\n      <td>550</td>\n      <td>100</td>\n    </tr>\n    <tr>\n      <th>8</th>\n      <td>9</td>\n      <td>Ganadores</td>\n      <td>Gonzalo</td>\n      <td>Paco</td>\n      <td>8</td>\n      <td>9</td>\n      <td>3</td>\n      <td>4</td>\n      <td>[10, 3, 7, 5, 6, 8, 2]</td>\n      <td>6</td>\n      <td>[0, 2, 2, 2, 4, 4, 6, 6]</td>\n      <td>1150</td>\n      <td>950</td>\n      <td>120</td>\n    </tr>\n    <tr>\n      <th>9</th>\n      <td>10</td>\n      <td>UltraTeam</td>\n      <td>Sara</td>\n      <td>Luis</td>\n      <td>7</td>\n      <td>11</td>\n      <td>2</td>\n      <td>5</td>\n      <td>[9, 5, 2, 1, 8, 4, 3]</td>\n      <td>4</td>\n      <td>[0, 0, 0, 0, 2, 4, 4, 4]</td>\n      <td>600</td>\n      <td>800</td>\n      <td>80</td>\n    </tr>\n  </tbody>\n</table>\n</div>"
     },
     "execution_count": 3,
     "metadata": {},
     "output_type": "execute_result"
    }
   ],
   "source": [
    "padelWorldCupDicc = {\n",
    "    'equipoID':     [1,2,3,4,5,6,7,8,9,10],\n",
    "    'nombreEq':     ['electroingenieros','termonuecleares','ElPAPITO','LosPibes','herculanos','Palilleros','MaurosTeam','ParricaElMejor', 'Ganadores','UltraTeam'],\n",
    "    'nombreJug1':   ['Juan','Pedro','Pablo','Elena','Carlos','Federico','Mauro','Parra','Gonzalo','Sara'],\n",
    "    'nombreJug2':   ['Pedrito','Adrian','Elena','Blanca','Ana','Carlos','Alex','Teresa','Paco','Luis'],\n",
    "    'sets_ganados': [11, 11, 7, 12, 9, 11, 5, 7, 8, 7],\n",
    "    'sets_perdidos': [7, 7, 10, 5, 10, 7, 11, 11, 9, 11],\n",
    "    'partidos_ganados': [4, 4, 3, 6, 3, 5, 2, 3, 3, 2],\n",
    "    'partidos_perdidos': [3, 3, 4, 1, 4, 2, 5, 4, 4, 5],\n",
    "    'enfrentamientos': [[2, 4, 3, 10, 5, 7, 6], \n",
    "                   [1, 8, 10, 7, 4, 6, 9],\n",
    "                   [4, 9, 1, 6, 7, 5, 10],\n",
    "                   [3, 1, 5, 8, 2, 10, 7],\n",
    "                   [6, 10, 4, 9, 1, 3, 8],\n",
    "                   [5, 7, 8, 3, 9, 2, 1],\n",
    "                   [8, 6, 9, 2, 3, 1, 4],\n",
    "                   [7, 2, 6, 4, 10, 9, 5],\n",
    "                   [10, 3, 7, 5, 6, 8, 2],\n",
    "                   [9, 5, 2, 1, 8, 4, 3]],\n",
    "    'puntos': [8, 8, 6, 12, 6, 10, 4, 6, 6, 4], \n",
    "    'puntos_por_jornada':[[0, 2, 2, 4, 4, 4, 6, 8],\n",
    "                    [0, 0, 0, 2, 4, 4, 6, 8],\n",
    "                    [0, 0, 2, 2, 2, 4, 4, 6],\n",
    "                    [0, 2, 4, 6, 6, 8, 10, 12],\n",
    "                    [0, 0, 2, 2, 2, 4, 6, 6],\n",
    "                    [0, 2, 4, 6, 8, 10, 10, 10],\n",
    "                    [0, 0, 0, 2, 2, 2, 2, 4],\n",
    "                    [0, 2, 4, 4, 6, 6, 6, 6],\n",
    "                    [0, 2, 2, 2, 4, 4, 6, 6],\n",
    "                    [0, 0, 0, 0, 2, 4, 4, 4]],\n",
    "    'dineroGenerado': [650, 700, 600, 1200, 600, 950, 500, 600, 1150, 600], \n",
    "    'mediaEspectadoresPorEquipo': [550, 405, 900, 830, 450, 670, 880, 550, 950, 800], #se calcula dividiendo entre 2 el total de espectadores de los enfrentamientos de cada equipo\n",
    "    'entradasVendidasPorEquipo': [100, 80, 90, 70, 100, 80, 90, 100, 120, 80], #se calcula dividiendo entre 2 el total de entradas vendidas de los enfrentamientos de cada equipo\n",
    "}\n",
    "\n",
    "dfPadelWorldCupDicc = pd.DataFrame(padelWorldCupDicc)\n",
    "dfPadelWorldCupDicc"
   ]
  },
  {
   "cell_type": "markdown",
   "id": "d7b7c985544a3f44",
   "metadata": {
    "collapsed": false
   },
   "source": [
    "### 6.1.2. Creacion de un DataFrame a partir de una lista de diccionarios:"
   ]
  },
  {
   "cell_type": "code",
   "execution_count": 4,
   "id": "3af121e6ea243727",
   "metadata": {
    "collapsed": false,
    "ExecuteTime": {
     "end_time": "2024-03-30T14:42:08.369280Z",
     "start_time": "2024-03-30T14:42:08.356895Z"
    }
   },
   "outputs": [
    {
     "data": {
      "text/plain": "   equipoID           nombreEq nombreJug1 nombreJug2  sets_ganados  \\\n0         1  electroingenieros       Juan    Pedrito             8   \n1         2    termonuecleares      Pedro     Adrian             8   \n2         3           ElPAPITO      Pablo      Elena             7   \n3         4           LosPibes      Elena     Blanca            12   \n4         5         herculanos     Carlos        Ana             9   \n5         6         Palilleros   Federico     Carlos            11   \n6         7         MaurosTeam      Mauro       Alex             5   \n7         8     ParricaElMejor      Parra     Teresa             7   \n8         9          Ganadores    Gonzalo       Paco             8   \n9        10          UltraTeam     Ulises       Luis             7   \n\n   sets_perdidos  partidos_ganados  partidos_perdidos         enfrentamientos  \\\n0              4                 4                  3  [2, 4, 3, 10, 5, 7, 6]   \n1              4                 4                  3  [1, 8, 10, 7, 4, 6, 9]   \n2             10                 3                  4  [4, 9, 1, 6, 7, 5, 10]   \n3              5                 6                  1  [3, 1, 5, 8, 2, 10, 7]   \n4             10                 3                  4  [6, 10, 4, 9, 1, 3, 8]   \n5              7                 5                  2   [5, 7, 8, 3, 9, 2, 1]   \n6             11                 2                  5   [8, 6, 9, 2, 3, 1, 4]   \n7             11                 3                  4  [7, 2, 6, 4, 10, 9, 5]   \n8              9                 3                  4  [10, 3, 7, 5, 6, 8, 2]   \n9             11                 2                  5   [9, 5, 2, 1, 8, 4, 3]   \n\n   puntos  dineroGenerado  mediaEspectadoresPorEquipo  \\\n0       8             300                        1000   \n1       8             200                         800   \n2       6             250                         900   \n3      12             150                         700   \n4       6             300                        1000   \n5      10             200                         800   \n6       4             250                         900   \n7       6             300                        1000   \n8       6             400                        1200   \n9       4             200                         800   \n\n   entradasVendidasPorEquipo  \n0                        100  \n1                         80  \n2                         90  \n3                         70  \n4                        100  \n5                         80  \n6                         90  \n7                        100  \n8                        120  \n9                         80  ",
      "text/html": "<div>\n<style scoped>\n    .dataframe tbody tr th:only-of-type {\n        vertical-align: middle;\n    }\n\n    .dataframe tbody tr th {\n        vertical-align: top;\n    }\n\n    .dataframe thead th {\n        text-align: right;\n    }\n</style>\n<table border=\"1\" class=\"dataframe\">\n  <thead>\n    <tr style=\"text-align: right;\">\n      <th></th>\n      <th>equipoID</th>\n      <th>nombreEq</th>\n      <th>nombreJug1</th>\n      <th>nombreJug2</th>\n      <th>sets_ganados</th>\n      <th>sets_perdidos</th>\n      <th>partidos_ganados</th>\n      <th>partidos_perdidos</th>\n      <th>enfrentamientos</th>\n      <th>puntos</th>\n      <th>dineroGenerado</th>\n      <th>mediaEspectadoresPorEquipo</th>\n      <th>entradasVendidasPorEquipo</th>\n    </tr>\n  </thead>\n  <tbody>\n    <tr>\n      <th>0</th>\n      <td>1</td>\n      <td>electroingenieros</td>\n      <td>Juan</td>\n      <td>Pedrito</td>\n      <td>8</td>\n      <td>4</td>\n      <td>4</td>\n      <td>3</td>\n      <td>[2, 4, 3, 10, 5, 7, 6]</td>\n      <td>8</td>\n      <td>300</td>\n      <td>1000</td>\n      <td>100</td>\n    </tr>\n    <tr>\n      <th>1</th>\n      <td>2</td>\n      <td>termonuecleares</td>\n      <td>Pedro</td>\n      <td>Adrian</td>\n      <td>8</td>\n      <td>4</td>\n      <td>4</td>\n      <td>3</td>\n      <td>[1, 8, 10, 7, 4, 6, 9]</td>\n      <td>8</td>\n      <td>200</td>\n      <td>800</td>\n      <td>80</td>\n    </tr>\n    <tr>\n      <th>2</th>\n      <td>3</td>\n      <td>ElPAPITO</td>\n      <td>Pablo</td>\n      <td>Elena</td>\n      <td>7</td>\n      <td>10</td>\n      <td>3</td>\n      <td>4</td>\n      <td>[4, 9, 1, 6, 7, 5, 10]</td>\n      <td>6</td>\n      <td>250</td>\n      <td>900</td>\n      <td>90</td>\n    </tr>\n    <tr>\n      <th>3</th>\n      <td>4</td>\n      <td>LosPibes</td>\n      <td>Elena</td>\n      <td>Blanca</td>\n      <td>12</td>\n      <td>5</td>\n      <td>6</td>\n      <td>1</td>\n      <td>[3, 1, 5, 8, 2, 10, 7]</td>\n      <td>12</td>\n      <td>150</td>\n      <td>700</td>\n      <td>70</td>\n    </tr>\n    <tr>\n      <th>4</th>\n      <td>5</td>\n      <td>herculanos</td>\n      <td>Carlos</td>\n      <td>Ana</td>\n      <td>9</td>\n      <td>10</td>\n      <td>3</td>\n      <td>4</td>\n      <td>[6, 10, 4, 9, 1, 3, 8]</td>\n      <td>6</td>\n      <td>300</td>\n      <td>1000</td>\n      <td>100</td>\n    </tr>\n    <tr>\n      <th>5</th>\n      <td>6</td>\n      <td>Palilleros</td>\n      <td>Federico</td>\n      <td>Carlos</td>\n      <td>11</td>\n      <td>7</td>\n      <td>5</td>\n      <td>2</td>\n      <td>[5, 7, 8, 3, 9, 2, 1]</td>\n      <td>10</td>\n      <td>200</td>\n      <td>800</td>\n      <td>80</td>\n    </tr>\n    <tr>\n      <th>6</th>\n      <td>7</td>\n      <td>MaurosTeam</td>\n      <td>Mauro</td>\n      <td>Alex</td>\n      <td>5</td>\n      <td>11</td>\n      <td>2</td>\n      <td>5</td>\n      <td>[8, 6, 9, 2, 3, 1, 4]</td>\n      <td>4</td>\n      <td>250</td>\n      <td>900</td>\n      <td>90</td>\n    </tr>\n    <tr>\n      <th>7</th>\n      <td>8</td>\n      <td>ParricaElMejor</td>\n      <td>Parra</td>\n      <td>Teresa</td>\n      <td>7</td>\n      <td>11</td>\n      <td>3</td>\n      <td>4</td>\n      <td>[7, 2, 6, 4, 10, 9, 5]</td>\n      <td>6</td>\n      <td>300</td>\n      <td>1000</td>\n      <td>100</td>\n    </tr>\n    <tr>\n      <th>8</th>\n      <td>9</td>\n      <td>Ganadores</td>\n      <td>Gonzalo</td>\n      <td>Paco</td>\n      <td>8</td>\n      <td>9</td>\n      <td>3</td>\n      <td>4</td>\n      <td>[10, 3, 7, 5, 6, 8, 2]</td>\n      <td>6</td>\n      <td>400</td>\n      <td>1200</td>\n      <td>120</td>\n    </tr>\n    <tr>\n      <th>9</th>\n      <td>10</td>\n      <td>UltraTeam</td>\n      <td>Ulises</td>\n      <td>Luis</td>\n      <td>7</td>\n      <td>11</td>\n      <td>2</td>\n      <td>5</td>\n      <td>[9, 5, 2, 1, 8, 4, 3]</td>\n      <td>4</td>\n      <td>200</td>\n      <td>800</td>\n      <td>80</td>\n    </tr>\n  </tbody>\n</table>\n</div>"
     },
     "execution_count": 4,
     "metadata": {},
     "output_type": "execute_result"
    }
   ],
   "source": [
    "padelWorldCupListDicc = [\n",
    "    {'equipoID': 1, 'nombreEq': 'electroingenieros', 'nombreJug1': 'Juan', 'nombreJug2': 'Pedrito', 'sets_ganados': 8, 'sets_perdidos': 4, 'partidos_ganados': 4, 'partidos_perdidos': 3, 'enfrentamientos': [2, 4, 3, 10, 5, 7, 6], 'puntos': 8, 'dineroGenerado': 300, 'mediaEspectadoresPorEquipo': 1000, 'entradasVendidasPorEquipo': 100},\n",
    "    {'equipoID': 2, 'nombreEq': 'termonuecleares', 'nombreJug1': 'Pedro', 'nombreJug2': 'Adrian', 'sets_ganados': 8, 'sets_perdidos': 4, 'partidos_ganados': 4, 'partidos_perdidos': 3, 'enfrentamientos': [1, 8, 10, 7, 4, 6, 9], 'puntos': 8, 'dineroGenerado': 200, 'mediaEspectadoresPorEquipo': 800, 'entradasVendidasPorEquipo': 80},\n",
    "    {'equipoID': 3, 'nombreEq': 'ElPAPITO', 'nombreJug1': 'Pablo', 'nombreJug2': 'Elena', 'sets_ganados': 7, 'sets_perdidos': 10, 'partidos_ganados': 3, 'partidos_perdidos': 4, 'enfrentamientos': [4, 9, 1, 6, 7, 5, 10], 'puntos': 6, 'dineroGenerado': 250, 'mediaEspectadoresPorEquipo': 900, 'entradasVendidasPorEquipo': 90},\n",
    "    {'equipoID': 4, 'nombreEq': 'LosPibes', 'nombreJug1': 'Elena', 'nombreJug2': 'Blanca', 'sets_ganados': 12, 'sets_perdidos': 5, 'partidos_ganados': 6, 'partidos_perdidos': 1, 'enfrentamientos': [3, 1, 5, 8, 2, 10, 7], 'puntos': 12, 'dineroGenerado': 150, 'mediaEspectadoresPorEquipo': 700, 'entradasVendidasPorEquipo': 70},\n",
    "    {'equipoID': 5, 'nombreEq': 'herculanos', 'nombreJug1': 'Carlos', 'nombreJug2': 'Ana', 'sets_ganados': 9, 'sets_perdidos': 10, 'partidos_ganados': 3, 'partidos_perdidos': 4, 'enfrentamientos': [6, 10, 4, 9, 1, 3, 8], 'puntos': 6, 'dineroGenerado': 300, 'mediaEspectadoresPorEquipo': 1000, 'entradasVendidasPorEquipo': 100},\n",
    "    {'equipoID': 6, 'nombreEq': 'Palilleros', 'nombreJug1': 'Federico', 'nombreJug2': 'Carlos', 'sets_ganados': 11, 'sets_perdidos': 7, 'partidos_ganados': 5, 'partidos_perdidos': 2, 'enfrentamientos': [5, 7, 8, 3, 9, 2, 1], 'puntos': 10, 'dineroGenerado': 200, 'mediaEspectadoresPorEquipo': 800, 'entradasVendidasPorEquipo': 80},\n",
    "    {'equipoID': 7, 'nombreEq': 'MaurosTeam', 'nombreJug1': 'Mauro', 'nombreJug2': 'Alex', 'sets_ganados': 5, 'sets_perdidos': 11, 'partidos_ganados': 2, 'partidos_perdidos': 5, 'enfrentamientos': [8, 6, 9, 2, 3, 1, 4], 'puntos': 4, 'dineroGenerado': 250, 'mediaEspectadoresPorEquipo': 900, 'entradasVendidasPorEquipo': 90},\n",
    "    {'equipoID': 8, 'nombreEq': 'ParricaElMejor', 'nombreJug1': 'Parra', 'nombreJug2': 'Teresa', 'sets_ganados': 7, 'sets_perdidos': 11, 'partidos_ganados': 3, 'partidos_perdidos': 4, 'enfrentamientos': [7, 2, 6, 4, 10, 9, 5], 'puntos': 6, 'dineroGenerado': 300, 'mediaEspectadoresPorEquipo': 1000, 'entradasVendidasPorEquipo': 100},\n",
    "    {'equipoID': 9, 'nombreEq': 'Ganadores', 'nombreJug1': 'Gonzalo', 'nombreJug2': 'Paco', 'sets_ganados': 8, 'sets_perdidos': 9, 'partidos_ganados': 3, 'partidos_perdidos': 4, 'enfrentamientos': [10, 3, 7, 5, 6, 8, 2], 'puntos': 6, 'dineroGenerado': 400, 'mediaEspectadoresPorEquipo': 1200, 'entradasVendidasPorEquipo': 120},\n",
    "    {'equipoID': 10, 'nombreEq': 'UltraTeam', 'nombreJug1': 'Ulises', 'nombreJug2': 'Luis', 'sets_ganados': 7, 'sets_perdidos': 11, 'partidos_ganados': 2, 'partidos_perdidos': 5, 'enfrentamientos': [9, 5, 2, 1, 8, 4, 3], 'puntos': 4, 'dineroGenerado': 200, 'mediaEspectadoresPorEquipo': 800, 'entradasVendidasPorEquipo': 80}\n",
    "]\n",
    "dfPadelWorldCupListDicc = pd.DataFrame(padelWorldCupListDicc)\n",
    "dfPadelWorldCupListDicc\n"
   ]
  },
  {
   "cell_type": "markdown",
   "id": "ae5bc106f274ea00",
   "metadata": {
    "collapsed": false
   },
   "source": [
    "### 6.1.3. Creacion de un DataFrame a partir de un lista de listas:\n",
    "para crear el DataFrame a partir de una lista de listas, primero se crea la lista de listas y luego se crea el DataFrame con la lista de listas como argumento del constructor de DataFrame."
   ]
  },
  {
   "cell_type": "code",
   "execution_count": 5,
   "id": "de63eedd73c02c60",
   "metadata": {
    "collapsed": false,
    "ExecuteTime": {
     "end_time": "2024-03-30T14:42:08.379843Z",
     "start_time": "2024-03-30T14:42:08.369280Z"
    }
   },
   "outputs": [
    {
     "data": {
      "text/plain": "   equipoID           nombreEq nombreJug1 nombreJug2  sets_ganados  \\\n0         1  electroingenieros       Juan    Pedrito             8   \n1         2    termonuecleares      Pedro     Adrian             8   \n2         3           ElPAPITO      Pablo      Elena             7   \n3         4           LosPibes      Elena     Blanca            12   \n4         5         herculanos     Carlos        Ana             9   \n5         6         Palilleros   Federico     Carlos            11   \n6         7         MaurosTeam      Mauro       Alex             5   \n7         8     ParricaElMejor      Parra     Teresa             7   \n8         9          Ganadores    Gonzalo       Paco             8   \n9        10          UltraTeam     Ulises       Luis             7   \n\n   sets_perdidos  partidos_ganados  partidos_perdidos         enfrentamientos  \\\n0              4                 4                  3  [2, 4, 3, 10, 5, 7, 6]   \n1              4                 4                  3  [1, 8, 10, 7, 4, 6, 9]   \n2             10                 3                  4  [4, 9, 1, 6, 7, 5, 10]   \n3              5                 6                  1  [3, 1, 5, 8, 2, 10, 7]   \n4             10                 3                  4  [6, 10, 4, 9, 1, 3, 8]   \n5              7                 5                  2   [5, 7, 8, 3, 9, 2, 1]   \n6             11                 2                  5   [8, 6, 9, 2, 3, 1, 4]   \n7             11                 3                  4  [7, 2, 6, 4, 10, 9, 5]   \n8              9                 3                  4  [10, 3, 7, 5, 6, 8, 2]   \n9             11                 2                  5   [9, 5, 2, 1, 8, 4, 3]   \n\n   puntos  dineroGenerado  mediaEspectadoresPorEquipo  \\\n0       8             300                        1000   \n1       8             200                         800   \n2       6             250                         900   \n3      12             150                         700   \n4       6             300                        1000   \n5      10             200                         800   \n6       4             250                         900   \n7       6             300                        1000   \n8       6             400                        1200   \n9       4             200                         800   \n\n   entradasVendidasPorEquipo  \n0                        100  \n1                         80  \n2                         90  \n3                         70  \n4                        100  \n5                         80  \n6                         90  \n7                        100  \n8                        120  \n9                         80  ",
      "text/html": "<div>\n<style scoped>\n    .dataframe tbody tr th:only-of-type {\n        vertical-align: middle;\n    }\n\n    .dataframe tbody tr th {\n        vertical-align: top;\n    }\n\n    .dataframe thead th {\n        text-align: right;\n    }\n</style>\n<table border=\"1\" class=\"dataframe\">\n  <thead>\n    <tr style=\"text-align: right;\">\n      <th></th>\n      <th>equipoID</th>\n      <th>nombreEq</th>\n      <th>nombreJug1</th>\n      <th>nombreJug2</th>\n      <th>sets_ganados</th>\n      <th>sets_perdidos</th>\n      <th>partidos_ganados</th>\n      <th>partidos_perdidos</th>\n      <th>enfrentamientos</th>\n      <th>puntos</th>\n      <th>dineroGenerado</th>\n      <th>mediaEspectadoresPorEquipo</th>\n      <th>entradasVendidasPorEquipo</th>\n    </tr>\n  </thead>\n  <tbody>\n    <tr>\n      <th>0</th>\n      <td>1</td>\n      <td>electroingenieros</td>\n      <td>Juan</td>\n      <td>Pedrito</td>\n      <td>8</td>\n      <td>4</td>\n      <td>4</td>\n      <td>3</td>\n      <td>[2, 4, 3, 10, 5, 7, 6]</td>\n      <td>8</td>\n      <td>300</td>\n      <td>1000</td>\n      <td>100</td>\n    </tr>\n    <tr>\n      <th>1</th>\n      <td>2</td>\n      <td>termonuecleares</td>\n      <td>Pedro</td>\n      <td>Adrian</td>\n      <td>8</td>\n      <td>4</td>\n      <td>4</td>\n      <td>3</td>\n      <td>[1, 8, 10, 7, 4, 6, 9]</td>\n      <td>8</td>\n      <td>200</td>\n      <td>800</td>\n      <td>80</td>\n    </tr>\n    <tr>\n      <th>2</th>\n      <td>3</td>\n      <td>ElPAPITO</td>\n      <td>Pablo</td>\n      <td>Elena</td>\n      <td>7</td>\n      <td>10</td>\n      <td>3</td>\n      <td>4</td>\n      <td>[4, 9, 1, 6, 7, 5, 10]</td>\n      <td>6</td>\n      <td>250</td>\n      <td>900</td>\n      <td>90</td>\n    </tr>\n    <tr>\n      <th>3</th>\n      <td>4</td>\n      <td>LosPibes</td>\n      <td>Elena</td>\n      <td>Blanca</td>\n      <td>12</td>\n      <td>5</td>\n      <td>6</td>\n      <td>1</td>\n      <td>[3, 1, 5, 8, 2, 10, 7]</td>\n      <td>12</td>\n      <td>150</td>\n      <td>700</td>\n      <td>70</td>\n    </tr>\n    <tr>\n      <th>4</th>\n      <td>5</td>\n      <td>herculanos</td>\n      <td>Carlos</td>\n      <td>Ana</td>\n      <td>9</td>\n      <td>10</td>\n      <td>3</td>\n      <td>4</td>\n      <td>[6, 10, 4, 9, 1, 3, 8]</td>\n      <td>6</td>\n      <td>300</td>\n      <td>1000</td>\n      <td>100</td>\n    </tr>\n    <tr>\n      <th>5</th>\n      <td>6</td>\n      <td>Palilleros</td>\n      <td>Federico</td>\n      <td>Carlos</td>\n      <td>11</td>\n      <td>7</td>\n      <td>5</td>\n      <td>2</td>\n      <td>[5, 7, 8, 3, 9, 2, 1]</td>\n      <td>10</td>\n      <td>200</td>\n      <td>800</td>\n      <td>80</td>\n    </tr>\n    <tr>\n      <th>6</th>\n      <td>7</td>\n      <td>MaurosTeam</td>\n      <td>Mauro</td>\n      <td>Alex</td>\n      <td>5</td>\n      <td>11</td>\n      <td>2</td>\n      <td>5</td>\n      <td>[8, 6, 9, 2, 3, 1, 4]</td>\n      <td>4</td>\n      <td>250</td>\n      <td>900</td>\n      <td>90</td>\n    </tr>\n    <tr>\n      <th>7</th>\n      <td>8</td>\n      <td>ParricaElMejor</td>\n      <td>Parra</td>\n      <td>Teresa</td>\n      <td>7</td>\n      <td>11</td>\n      <td>3</td>\n      <td>4</td>\n      <td>[7, 2, 6, 4, 10, 9, 5]</td>\n      <td>6</td>\n      <td>300</td>\n      <td>1000</td>\n      <td>100</td>\n    </tr>\n    <tr>\n      <th>8</th>\n      <td>9</td>\n      <td>Ganadores</td>\n      <td>Gonzalo</td>\n      <td>Paco</td>\n      <td>8</td>\n      <td>9</td>\n      <td>3</td>\n      <td>4</td>\n      <td>[10, 3, 7, 5, 6, 8, 2]</td>\n      <td>6</td>\n      <td>400</td>\n      <td>1200</td>\n      <td>120</td>\n    </tr>\n    <tr>\n      <th>9</th>\n      <td>10</td>\n      <td>UltraTeam</td>\n      <td>Ulises</td>\n      <td>Luis</td>\n      <td>7</td>\n      <td>11</td>\n      <td>2</td>\n      <td>5</td>\n      <td>[9, 5, 2, 1, 8, 4, 3]</td>\n      <td>4</td>\n      <td>200</td>\n      <td>800</td>\n      <td>80</td>\n    </tr>\n  </tbody>\n</table>\n</div>"
     },
     "execution_count": 5,
     "metadata": {},
     "output_type": "execute_result"
    }
   ],
   "source": [
    "padelWorldCupListOfList = [\n",
    "    [1, 'electroingenieros', 'Juan', 'Pedrito', 8, 4, 4, 3, [2, 4, 3, 10, 5, 7, 6], 8, 300, 1000, 100],\n",
    "    [2, 'termonuecleares', 'Pedro', 'Adrian', 8, 4, 4, 3, [1, 8, 10, 7, 4, 6, 9], 8, 200, 800, 80],\n",
    "    [3, 'ElPAPITO', 'Pablo', 'Elena', 7, 10, 3, 4, [4, 9, 1, 6, 7, 5, 10], 6, 250, 900, 90],\n",
    "    [4, 'LosPibes', 'Elena', 'Blanca', 12, 5, 6, 1, [3, 1, 5, 8, 2, 10, 7], 12, 150, 700, 70],\n",
    "    [5, 'herculanos', 'Carlos', 'Ana', 9, 10, 3, 4, [6, 10, 4, 9, 1, 3, 8], 6, 300, 1000, 100],\n",
    "    [6, 'Palilleros', 'Federico', 'Carlos', 11, 7, 5, 2, [5, 7, 8, 3, 9, 2, 1], 10, 200, 800, 80],\n",
    "    [7, 'MaurosTeam', 'Mauro', 'Alex', 5, 11, 2, 5, [8, 6, 9, 2, 3, 1, 4], 4, 250, 900, 90],\n",
    "    [8, 'ParricaElMejor', 'Parra', 'Teresa', 7, 11, 3, 4, [7, 2, 6, 4, 10, 9, 5], 6, 300, 1000, 100],\n",
    "    [9, 'Ganadores', 'Gonzalo', 'Paco', 8, 9, 3, 4, [10, 3, 7, 5, 6, 8, 2], 6, 400, 1200, 120],\n",
    "    [10, 'UltraTeam', 'Ulises', 'Luis', 7, 11, 2, 5, [9, 5, 2, 1, 8, 4, 3], 4, 200, 800, 80]]\n",
    "\n",
    "dfPadelWorldCupListOfList = pd.DataFrame(padelWorldCupListOfList, columns=['equipoID', 'nombreEq', 'nombreJug1', 'nombreJug2', 'sets_ganados', 'sets_perdidos', 'partidos_ganados', 'partidos_perdidos', 'enfrentamientos', 'puntos', 'dineroGenerado', 'mediaEspectadoresPorEquipo', 'entradasVendidasPorEquipo'])\n",
    "dfPadelWorldCupListOfList\n",
    "\n"
   ]
  },
  {
   "cell_type": "markdown",
   "id": "c8e509351e779a9b",
   "metadata": {
    "collapsed": false
   },
   "source": [
    "## 6.2. Acceso a los elementos de un DataFrame\n",
    "### 6.2.1. Acceso a las columnas de un DataFrame\n",
    "columna individal:"
   ]
  },
  {
   "cell_type": "code",
   "execution_count": 6,
   "id": "a22906606ad6bbc0",
   "metadata": {
    "collapsed": false,
    "ExecuteTime": {
     "end_time": "2024-03-30T14:42:08.383819Z",
     "start_time": "2024-03-30T14:42:08.380846Z"
    }
   },
   "outputs": [
    {
     "data": {
      "text/plain": "0    electroingenieros\n1      termonuecleares\n2             ElPAPITO\n3             LosPibes\n4           herculanos\n5           Palilleros\n6           MaurosTeam\n7       ParricaElMejor\n8            Ganadores\n9            UltraTeam\nName: nombreEq, dtype: object"
     },
     "execution_count": 6,
     "metadata": {},
     "output_type": "execute_result"
    }
   ],
   "source": [
    "dfPadelWorldCupDicc['nombreEq']"
   ]
  },
  {
   "cell_type": "markdown",
   "id": "39cf356690a3bbc8",
   "metadata": {
    "collapsed": false
   },
   "source": [
    "columnas multiples:"
   ]
  },
  {
   "cell_type": "code",
   "execution_count": 7,
   "id": "910bf810d9260ee6",
   "metadata": {
    "collapsed": false,
    "ExecuteTime": {
     "end_time": "2024-03-30T14:42:08.389242Z",
     "start_time": "2024-03-30T14:42:08.383819Z"
    }
   },
   "outputs": [
    {
     "data": {
      "text/plain": "            nombreEq nombreJug1 nombreJug2  puntos\n0  electroingenieros       Juan    Pedrito       8\n1    termonuecleares      Pedro     Adrian       8\n2           ElPAPITO      Pablo      Elena       6\n3           LosPibes      Elena     Blanca      12\n4         herculanos     Carlos        Ana       6\n5         Palilleros   Federico     Carlos      10\n6         MaurosTeam      Mauro       Alex       4\n7     ParricaElMejor      Parra     Teresa       6\n8          Ganadores    Gonzalo       Paco       6\n9          UltraTeam       Sara       Luis       4",
      "text/html": "<div>\n<style scoped>\n    .dataframe tbody tr th:only-of-type {\n        vertical-align: middle;\n    }\n\n    .dataframe tbody tr th {\n        vertical-align: top;\n    }\n\n    .dataframe thead th {\n        text-align: right;\n    }\n</style>\n<table border=\"1\" class=\"dataframe\">\n  <thead>\n    <tr style=\"text-align: right;\">\n      <th></th>\n      <th>nombreEq</th>\n      <th>nombreJug1</th>\n      <th>nombreJug2</th>\n      <th>puntos</th>\n    </tr>\n  </thead>\n  <tbody>\n    <tr>\n      <th>0</th>\n      <td>electroingenieros</td>\n      <td>Juan</td>\n      <td>Pedrito</td>\n      <td>8</td>\n    </tr>\n    <tr>\n      <th>1</th>\n      <td>termonuecleares</td>\n      <td>Pedro</td>\n      <td>Adrian</td>\n      <td>8</td>\n    </tr>\n    <tr>\n      <th>2</th>\n      <td>ElPAPITO</td>\n      <td>Pablo</td>\n      <td>Elena</td>\n      <td>6</td>\n    </tr>\n    <tr>\n      <th>3</th>\n      <td>LosPibes</td>\n      <td>Elena</td>\n      <td>Blanca</td>\n      <td>12</td>\n    </tr>\n    <tr>\n      <th>4</th>\n      <td>herculanos</td>\n      <td>Carlos</td>\n      <td>Ana</td>\n      <td>6</td>\n    </tr>\n    <tr>\n      <th>5</th>\n      <td>Palilleros</td>\n      <td>Federico</td>\n      <td>Carlos</td>\n      <td>10</td>\n    </tr>\n    <tr>\n      <th>6</th>\n      <td>MaurosTeam</td>\n      <td>Mauro</td>\n      <td>Alex</td>\n      <td>4</td>\n    </tr>\n    <tr>\n      <th>7</th>\n      <td>ParricaElMejor</td>\n      <td>Parra</td>\n      <td>Teresa</td>\n      <td>6</td>\n    </tr>\n    <tr>\n      <th>8</th>\n      <td>Ganadores</td>\n      <td>Gonzalo</td>\n      <td>Paco</td>\n      <td>6</td>\n    </tr>\n    <tr>\n      <th>9</th>\n      <td>UltraTeam</td>\n      <td>Sara</td>\n      <td>Luis</td>\n      <td>4</td>\n    </tr>\n  </tbody>\n</table>\n</div>"
     },
     "execution_count": 7,
     "metadata": {},
     "output_type": "execute_result"
    }
   ],
   "source": [
    "dfPadelWorldCupDicc[['nombreEq', 'nombreJug1', 'nombreJug2', 'puntos']]"
   ]
  },
  {
   "cell_type": "markdown",
   "id": "ec9bcee8392f6603",
   "metadata": {
    "collapsed": false
   },
   "source": [
    "### 6.2.2. Acceso a las filas de un DataFrame\n",
    "    fila individual:"
   ]
  },
  {
   "cell_type": "code",
   "execution_count": 8,
   "id": "485d22e0a5061899",
   "metadata": {
    "collapsed": false,
    "ExecuteTime": {
     "end_time": "2024-03-30T14:42:08.393024Z",
     "start_time": "2024-03-30T14:42:08.389242Z"
    }
   },
   "outputs": [
    {
     "data": {
      "text/plain": "equipoID                                             1\nnombreEq                             electroingenieros\nnombreJug1                                        Juan\nnombreJug2                                     Pedrito\nsets_ganados                                        11\nsets_perdidos                                        7\npartidos_ganados                                     4\npartidos_perdidos                                    3\nenfrentamientos                 [2, 4, 3, 10, 5, 7, 6]\npuntos                                               8\npuntos_por_jornada            [0, 2, 2, 4, 4, 4, 6, 8]\ndineroGenerado                                     650\nmediaEspectadoresPorEquipo                         550\nentradasVendidasPorEquipo                          100\nName: 0, dtype: object"
     },
     "execution_count": 8,
     "metadata": {},
     "output_type": "execute_result"
    }
   ],
   "source": [
    "dfPadelWorldCupDicc.iloc[0]"
   ]
  },
  {
   "cell_type": "markdown",
   "id": "8f404611828a7fd9",
   "metadata": {
    "collapsed": false
   },
   "source": [
    "    filas multiples:"
   ]
  },
  {
   "cell_type": "code",
   "execution_count": 9,
   "id": "b404ad48581b6816",
   "metadata": {
    "collapsed": false,
    "ExecuteTime": {
     "end_time": "2024-03-30T14:42:08.399569Z",
     "start_time": "2024-03-30T14:42:08.393024Z"
    }
   },
   "outputs": [
    {
     "data": {
      "text/plain": "   equipoID           nombreEq nombreJug1 nombreJug2  sets_ganados  \\\n0         1  electroingenieros       Juan    Pedrito            11   \n1         2    termonuecleares      Pedro     Adrian            11   \n2         3           ElPAPITO      Pablo      Elena             7   \n\n   sets_perdidos  partidos_ganados  partidos_perdidos         enfrentamientos  \\\n0              7                 4                  3  [2, 4, 3, 10, 5, 7, 6]   \n1              7                 4                  3  [1, 8, 10, 7, 4, 6, 9]   \n2             10                 3                  4  [4, 9, 1, 6, 7, 5, 10]   \n\n   puntos        puntos_por_jornada  dineroGenerado  \\\n0       8  [0, 2, 2, 4, 4, 4, 6, 8]             650   \n1       8  [0, 0, 0, 2, 4, 4, 6, 8]             700   \n2       6  [0, 0, 2, 2, 2, 4, 4, 6]             600   \n\n   mediaEspectadoresPorEquipo  entradasVendidasPorEquipo  \n0                         550                        100  \n1                         405                         80  \n2                         900                         90  ",
      "text/html": "<div>\n<style scoped>\n    .dataframe tbody tr th:only-of-type {\n        vertical-align: middle;\n    }\n\n    .dataframe tbody tr th {\n        vertical-align: top;\n    }\n\n    .dataframe thead th {\n        text-align: right;\n    }\n</style>\n<table border=\"1\" class=\"dataframe\">\n  <thead>\n    <tr style=\"text-align: right;\">\n      <th></th>\n      <th>equipoID</th>\n      <th>nombreEq</th>\n      <th>nombreJug1</th>\n      <th>nombreJug2</th>\n      <th>sets_ganados</th>\n      <th>sets_perdidos</th>\n      <th>partidos_ganados</th>\n      <th>partidos_perdidos</th>\n      <th>enfrentamientos</th>\n      <th>puntos</th>\n      <th>puntos_por_jornada</th>\n      <th>dineroGenerado</th>\n      <th>mediaEspectadoresPorEquipo</th>\n      <th>entradasVendidasPorEquipo</th>\n    </tr>\n  </thead>\n  <tbody>\n    <tr>\n      <th>0</th>\n      <td>1</td>\n      <td>electroingenieros</td>\n      <td>Juan</td>\n      <td>Pedrito</td>\n      <td>11</td>\n      <td>7</td>\n      <td>4</td>\n      <td>3</td>\n      <td>[2, 4, 3, 10, 5, 7, 6]</td>\n      <td>8</td>\n      <td>[0, 2, 2, 4, 4, 4, 6, 8]</td>\n      <td>650</td>\n      <td>550</td>\n      <td>100</td>\n    </tr>\n    <tr>\n      <th>1</th>\n      <td>2</td>\n      <td>termonuecleares</td>\n      <td>Pedro</td>\n      <td>Adrian</td>\n      <td>11</td>\n      <td>7</td>\n      <td>4</td>\n      <td>3</td>\n      <td>[1, 8, 10, 7, 4, 6, 9]</td>\n      <td>8</td>\n      <td>[0, 0, 0, 2, 4, 4, 6, 8]</td>\n      <td>700</td>\n      <td>405</td>\n      <td>80</td>\n    </tr>\n    <tr>\n      <th>2</th>\n      <td>3</td>\n      <td>ElPAPITO</td>\n      <td>Pablo</td>\n      <td>Elena</td>\n      <td>7</td>\n      <td>10</td>\n      <td>3</td>\n      <td>4</td>\n      <td>[4, 9, 1, 6, 7, 5, 10]</td>\n      <td>6</td>\n      <td>[0, 0, 2, 2, 2, 4, 4, 6]</td>\n      <td>600</td>\n      <td>900</td>\n      <td>90</td>\n    </tr>\n  </tbody>\n</table>\n</div>"
     },
     "execution_count": 9,
     "metadata": {},
     "output_type": "execute_result"
    }
   ],
   "source": [
    "dfPadelWorldCupDicc.iloc[0:3]"
   ]
  },
  {
   "cell_type": "markdown",
   "id": "1bd84f62555302ee",
   "metadata": {
    "collapsed": false
   },
   "source": [
    "## 6.3. Operaciones con DataFrames\n",
    "### 6.3.1. Filtrado"
   ]
  },
  {
   "cell_type": "code",
   "outputs": [
    {
     "data": {
      "text/plain": "   equipoID           nombreEq nombreJug1 nombreJug2  sets_ganados  \\\n0         1  electroingenieros       Juan    Pedrito            11   \n1         2    termonuecleares      Pedro     Adrian            11   \n2         3           ElPAPITO      Pablo      Elena             7   \n3         4           LosPibes      Elena     Blanca            12   \n4         5         herculanos     Carlos        Ana             9   \n5         6         Palilleros   Federico     Carlos            11   \n6         7         MaurosTeam      Mauro       Alex             5   \n7         8     ParricaElMejor      Parra     Teresa             7   \n8         9          Ganadores    Gonzalo       Paco             8   \n9        10          UltraTeam       Sara       Luis             7   \n\n   sets_perdidos  partidos_ganados  partidos_perdidos         enfrentamientos  \\\n0              7                 4                  3  [2, 4, 3, 10, 5, 7, 6]   \n1              7                 4                  3  [1, 8, 10, 7, 4, 6, 9]   \n2             10                 3                  4  [4, 9, 1, 6, 7, 5, 10]   \n3              5                 6                  1  [3, 1, 5, 8, 2, 10, 7]   \n4             10                 3                  4  [6, 10, 4, 9, 1, 3, 8]   \n5              7                 5                  2   [5, 7, 8, 3, 9, 2, 1]   \n6             11                 2                  5   [8, 6, 9, 2, 3, 1, 4]   \n7             11                 3                  4  [7, 2, 6, 4, 10, 9, 5]   \n8              9                 3                  4  [10, 3, 7, 5, 6, 8, 2]   \n9             11                 2                  5   [9, 5, 2, 1, 8, 4, 3]   \n\n   puntos           puntos_por_jornada  dineroGenerado  \\\n0       8     [0, 2, 2, 4, 4, 4, 6, 8]             650   \n1       8     [0, 0, 0, 2, 4, 4, 6, 8]             700   \n2       6     [0, 0, 2, 2, 2, 4, 4, 6]             600   \n3      12   [0, 2, 4, 6, 6, 8, 10, 12]            1200   \n4       6     [0, 0, 2, 2, 2, 4, 6, 6]             600   \n5      10  [0, 2, 4, 6, 8, 10, 10, 10]             950   \n6       4     [0, 0, 0, 2, 2, 2, 2, 4]             500   \n7       6     [0, 2, 4, 4, 6, 6, 6, 6]             600   \n8       6     [0, 2, 2, 2, 4, 4, 6, 6]            1150   \n9       4     [0, 0, 0, 0, 2, 4, 4, 4]             600   \n\n   mediaEspectadoresPorEquipo  entradasVendidasPorEquipo  \n0                         550                        100  \n1                         405                         80  \n2                         900                         90  \n3                         830                         70  \n4                         450                        100  \n5                         670                         80  \n6                         880                         90  \n7                         550                        100  \n8                         950                        120  \n9                         800                         80  ",
      "text/html": "<div>\n<style scoped>\n    .dataframe tbody tr th:only-of-type {\n        vertical-align: middle;\n    }\n\n    .dataframe tbody tr th {\n        vertical-align: top;\n    }\n\n    .dataframe thead th {\n        text-align: right;\n    }\n</style>\n<table border=\"1\" class=\"dataframe\">\n  <thead>\n    <tr style=\"text-align: right;\">\n      <th></th>\n      <th>equipoID</th>\n      <th>nombreEq</th>\n      <th>nombreJug1</th>\n      <th>nombreJug2</th>\n      <th>sets_ganados</th>\n      <th>sets_perdidos</th>\n      <th>partidos_ganados</th>\n      <th>partidos_perdidos</th>\n      <th>enfrentamientos</th>\n      <th>puntos</th>\n      <th>puntos_por_jornada</th>\n      <th>dineroGenerado</th>\n      <th>mediaEspectadoresPorEquipo</th>\n      <th>entradasVendidasPorEquipo</th>\n    </tr>\n  </thead>\n  <tbody>\n    <tr>\n      <th>0</th>\n      <td>1</td>\n      <td>electroingenieros</td>\n      <td>Juan</td>\n      <td>Pedrito</td>\n      <td>11</td>\n      <td>7</td>\n      <td>4</td>\n      <td>3</td>\n      <td>[2, 4, 3, 10, 5, 7, 6]</td>\n      <td>8</td>\n      <td>[0, 2, 2, 4, 4, 4, 6, 8]</td>\n      <td>650</td>\n      <td>550</td>\n      <td>100</td>\n    </tr>\n    <tr>\n      <th>1</th>\n      <td>2</td>\n      <td>termonuecleares</td>\n      <td>Pedro</td>\n      <td>Adrian</td>\n      <td>11</td>\n      <td>7</td>\n      <td>4</td>\n      <td>3</td>\n      <td>[1, 8, 10, 7, 4, 6, 9]</td>\n      <td>8</td>\n      <td>[0, 0, 0, 2, 4, 4, 6, 8]</td>\n      <td>700</td>\n      <td>405</td>\n      <td>80</td>\n    </tr>\n    <tr>\n      <th>2</th>\n      <td>3</td>\n      <td>ElPAPITO</td>\n      <td>Pablo</td>\n      <td>Elena</td>\n      <td>7</td>\n      <td>10</td>\n      <td>3</td>\n      <td>4</td>\n      <td>[4, 9, 1, 6, 7, 5, 10]</td>\n      <td>6</td>\n      <td>[0, 0, 2, 2, 2, 4, 4, 6]</td>\n      <td>600</td>\n      <td>900</td>\n      <td>90</td>\n    </tr>\n    <tr>\n      <th>3</th>\n      <td>4</td>\n      <td>LosPibes</td>\n      <td>Elena</td>\n      <td>Blanca</td>\n      <td>12</td>\n      <td>5</td>\n      <td>6</td>\n      <td>1</td>\n      <td>[3, 1, 5, 8, 2, 10, 7]</td>\n      <td>12</td>\n      <td>[0, 2, 4, 6, 6, 8, 10, 12]</td>\n      <td>1200</td>\n      <td>830</td>\n      <td>70</td>\n    </tr>\n    <tr>\n      <th>4</th>\n      <td>5</td>\n      <td>herculanos</td>\n      <td>Carlos</td>\n      <td>Ana</td>\n      <td>9</td>\n      <td>10</td>\n      <td>3</td>\n      <td>4</td>\n      <td>[6, 10, 4, 9, 1, 3, 8]</td>\n      <td>6</td>\n      <td>[0, 0, 2, 2, 2, 4, 6, 6]</td>\n      <td>600</td>\n      <td>450</td>\n      <td>100</td>\n    </tr>\n    <tr>\n      <th>5</th>\n      <td>6</td>\n      <td>Palilleros</td>\n      <td>Federico</td>\n      <td>Carlos</td>\n      <td>11</td>\n      <td>7</td>\n      <td>5</td>\n      <td>2</td>\n      <td>[5, 7, 8, 3, 9, 2, 1]</td>\n      <td>10</td>\n      <td>[0, 2, 4, 6, 8, 10, 10, 10]</td>\n      <td>950</td>\n      <td>670</td>\n      <td>80</td>\n    </tr>\n    <tr>\n      <th>6</th>\n      <td>7</td>\n      <td>MaurosTeam</td>\n      <td>Mauro</td>\n      <td>Alex</td>\n      <td>5</td>\n      <td>11</td>\n      <td>2</td>\n      <td>5</td>\n      <td>[8, 6, 9, 2, 3, 1, 4]</td>\n      <td>4</td>\n      <td>[0, 0, 0, 2, 2, 2, 2, 4]</td>\n      <td>500</td>\n      <td>880</td>\n      <td>90</td>\n    </tr>\n    <tr>\n      <th>7</th>\n      <td>8</td>\n      <td>ParricaElMejor</td>\n      <td>Parra</td>\n      <td>Teresa</td>\n      <td>7</td>\n      <td>11</td>\n      <td>3</td>\n      <td>4</td>\n      <td>[7, 2, 6, 4, 10, 9, 5]</td>\n      <td>6</td>\n      <td>[0, 2, 4, 4, 6, 6, 6, 6]</td>\n      <td>600</td>\n      <td>550</td>\n      <td>100</td>\n    </tr>\n    <tr>\n      <th>8</th>\n      <td>9</td>\n      <td>Ganadores</td>\n      <td>Gonzalo</td>\n      <td>Paco</td>\n      <td>8</td>\n      <td>9</td>\n      <td>3</td>\n      <td>4</td>\n      <td>[10, 3, 7, 5, 6, 8, 2]</td>\n      <td>6</td>\n      <td>[0, 2, 2, 2, 4, 4, 6, 6]</td>\n      <td>1150</td>\n      <td>950</td>\n      <td>120</td>\n    </tr>\n    <tr>\n      <th>9</th>\n      <td>10</td>\n      <td>UltraTeam</td>\n      <td>Sara</td>\n      <td>Luis</td>\n      <td>7</td>\n      <td>11</td>\n      <td>2</td>\n      <td>5</td>\n      <td>[9, 5, 2, 1, 8, 4, 3]</td>\n      <td>4</td>\n      <td>[0, 0, 0, 0, 2, 4, 4, 4]</td>\n      <td>600</td>\n      <td>800</td>\n      <td>80</td>\n    </tr>\n  </tbody>\n</table>\n</div>"
     },
     "execution_count": 10,
     "metadata": {},
     "output_type": "execute_result"
    }
   ],
   "source": [
    "dfPadelWorldCupDicc[dfPadelWorldCupDicc['partidos_ganados'] >= 2]"
   ],
   "metadata": {
    "collapsed": false,
    "ExecuteTime": {
     "end_time": "2024-03-30T14:42:08.418946Z",
     "start_time": "2024-03-30T14:42:08.409580Z"
    }
   },
   "id": "bc5edccdd3e8f4c0",
   "execution_count": 10
  },
  {
   "cell_type": "code",
   "outputs": [
    {
     "data": {
      "text/plain": "            nombreEq nombreJug1 nombreJug2  partidos_ganados\n0  electroingenieros       Juan    Pedrito                 4\n1    termonuecleares      Pedro     Adrian                 4\n2           ElPAPITO      Pablo      Elena                 3\n3           LosPibes      Elena     Blanca                 6\n4         herculanos     Carlos        Ana                 3\n5         Palilleros   Federico     Carlos                 5\n6         MaurosTeam      Mauro       Alex                 2\n7     ParricaElMejor      Parra     Teresa                 3\n8          Ganadores    Gonzalo       Paco                 3\n9          UltraTeam       Sara       Luis                 2",
      "text/html": "<div>\n<style scoped>\n    .dataframe tbody tr th:only-of-type {\n        vertical-align: middle;\n    }\n\n    .dataframe tbody tr th {\n        vertical-align: top;\n    }\n\n    .dataframe thead th {\n        text-align: right;\n    }\n</style>\n<table border=\"1\" class=\"dataframe\">\n  <thead>\n    <tr style=\"text-align: right;\">\n      <th></th>\n      <th>nombreEq</th>\n      <th>nombreJug1</th>\n      <th>nombreJug2</th>\n      <th>partidos_ganados</th>\n    </tr>\n  </thead>\n  <tbody>\n    <tr>\n      <th>0</th>\n      <td>electroingenieros</td>\n      <td>Juan</td>\n      <td>Pedrito</td>\n      <td>4</td>\n    </tr>\n    <tr>\n      <th>1</th>\n      <td>termonuecleares</td>\n      <td>Pedro</td>\n      <td>Adrian</td>\n      <td>4</td>\n    </tr>\n    <tr>\n      <th>2</th>\n      <td>ElPAPITO</td>\n      <td>Pablo</td>\n      <td>Elena</td>\n      <td>3</td>\n    </tr>\n    <tr>\n      <th>3</th>\n      <td>LosPibes</td>\n      <td>Elena</td>\n      <td>Blanca</td>\n      <td>6</td>\n    </tr>\n    <tr>\n      <th>4</th>\n      <td>herculanos</td>\n      <td>Carlos</td>\n      <td>Ana</td>\n      <td>3</td>\n    </tr>\n    <tr>\n      <th>5</th>\n      <td>Palilleros</td>\n      <td>Federico</td>\n      <td>Carlos</td>\n      <td>5</td>\n    </tr>\n    <tr>\n      <th>6</th>\n      <td>MaurosTeam</td>\n      <td>Mauro</td>\n      <td>Alex</td>\n      <td>2</td>\n    </tr>\n    <tr>\n      <th>7</th>\n      <td>ParricaElMejor</td>\n      <td>Parra</td>\n      <td>Teresa</td>\n      <td>3</td>\n    </tr>\n    <tr>\n      <th>8</th>\n      <td>Ganadores</td>\n      <td>Gonzalo</td>\n      <td>Paco</td>\n      <td>3</td>\n    </tr>\n    <tr>\n      <th>9</th>\n      <td>UltraTeam</td>\n      <td>Sara</td>\n      <td>Luis</td>\n      <td>2</td>\n    </tr>\n  </tbody>\n</table>\n</div>"
     },
     "execution_count": 11,
     "metadata": {},
     "output_type": "execute_result"
    }
   ],
   "source": [
    "dfPadelWorldCupDicc.query(\"partidos_ganados >= 2\")[['nombreEq', 'nombreJug1', 'nombreJug2', 'partidos_ganados']] #usamos query para filtrar y seleccionar columnas de manera simultanea "
   ],
   "metadata": {
    "collapsed": false,
    "ExecuteTime": {
     "end_time": "2024-03-30T14:42:08.441103Z",
     "start_time": "2024-03-30T14:42:08.432960Z"
    }
   },
   "id": "746b06387b9f161f",
   "execution_count": 11
  },
  {
   "cell_type": "markdown",
   "source": [
    "### 6.3.2. Ordenacion"
   ],
   "metadata": {
    "collapsed": false
   },
   "id": "1c369ad481a48033"
  },
  {
   "cell_type": "code",
   "execution_count": 12,
   "id": "2541d13c-0652-4c95-8aea-c32c494ae0da",
   "metadata": {
    "ExecuteTime": {
     "end_time": "2024-03-30T14:42:08.502254Z",
     "start_time": "2024-03-30T14:42:08.496154Z"
    }
   },
   "outputs": [
    {
     "data": {
      "text/plain": "            nombreEq nombreJug1 nombreJug2  puntos\n3           LosPibes      Elena     Blanca      12\n5         Palilleros   Federico     Carlos      10\n0  electroingenieros       Juan    Pedrito       8\n1    termonuecleares      Pedro     Adrian       8\n2           ElPAPITO      Pablo      Elena       6",
      "text/html": "<div>\n<style scoped>\n    .dataframe tbody tr th:only-of-type {\n        vertical-align: middle;\n    }\n\n    .dataframe tbody tr th {\n        vertical-align: top;\n    }\n\n    .dataframe thead th {\n        text-align: right;\n    }\n</style>\n<table border=\"1\" class=\"dataframe\">\n  <thead>\n    <tr style=\"text-align: right;\">\n      <th></th>\n      <th>nombreEq</th>\n      <th>nombreJug1</th>\n      <th>nombreJug2</th>\n      <th>puntos</th>\n    </tr>\n  </thead>\n  <tbody>\n    <tr>\n      <th>3</th>\n      <td>LosPibes</td>\n      <td>Elena</td>\n      <td>Blanca</td>\n      <td>12</td>\n    </tr>\n    <tr>\n      <th>5</th>\n      <td>Palilleros</td>\n      <td>Federico</td>\n      <td>Carlos</td>\n      <td>10</td>\n    </tr>\n    <tr>\n      <th>0</th>\n      <td>electroingenieros</td>\n      <td>Juan</td>\n      <td>Pedrito</td>\n      <td>8</td>\n    </tr>\n    <tr>\n      <th>1</th>\n      <td>termonuecleares</td>\n      <td>Pedro</td>\n      <td>Adrian</td>\n      <td>8</td>\n    </tr>\n    <tr>\n      <th>2</th>\n      <td>ElPAPITO</td>\n      <td>Pablo</td>\n      <td>Elena</td>\n      <td>6</td>\n    </tr>\n  </tbody>\n</table>\n</div>"
     },
     "execution_count": 12,
     "metadata": {},
     "output_type": "execute_result"
    }
   ],
   "source": [
    "dfPadelWorldCupDicc.sort_values(by='puntos', ascending=False)[0:5][['nombreEq', 'nombreJug1', 'nombreJug2', 'puntos']] "
   ]
  },
  {
   "cell_type": "code",
   "outputs": [
    {
     "data": {
      "text/plain": "            nombreEq nombreJug1 nombreJug2  dineroGenerado\n3           LosPibes      Elena     Blanca            1200\n8          Ganadores    Gonzalo       Paco            1150\n5         Palilleros   Federico     Carlos             950\n1    termonuecleares      Pedro     Adrian             700\n0  electroingenieros       Juan    Pedrito             650",
      "text/html": "<div>\n<style scoped>\n    .dataframe tbody tr th:only-of-type {\n        vertical-align: middle;\n    }\n\n    .dataframe tbody tr th {\n        vertical-align: top;\n    }\n\n    .dataframe thead th {\n        text-align: right;\n    }\n</style>\n<table border=\"1\" class=\"dataframe\">\n  <thead>\n    <tr style=\"text-align: right;\">\n      <th></th>\n      <th>nombreEq</th>\n      <th>nombreJug1</th>\n      <th>nombreJug2</th>\n      <th>dineroGenerado</th>\n    </tr>\n  </thead>\n  <tbody>\n    <tr>\n      <th>3</th>\n      <td>LosPibes</td>\n      <td>Elena</td>\n      <td>Blanca</td>\n      <td>1200</td>\n    </tr>\n    <tr>\n      <th>8</th>\n      <td>Ganadores</td>\n      <td>Gonzalo</td>\n      <td>Paco</td>\n      <td>1150</td>\n    </tr>\n    <tr>\n      <th>5</th>\n      <td>Palilleros</td>\n      <td>Federico</td>\n      <td>Carlos</td>\n      <td>950</td>\n    </tr>\n    <tr>\n      <th>1</th>\n      <td>termonuecleares</td>\n      <td>Pedro</td>\n      <td>Adrian</td>\n      <td>700</td>\n    </tr>\n    <tr>\n      <th>0</th>\n      <td>electroingenieros</td>\n      <td>Juan</td>\n      <td>Pedrito</td>\n      <td>650</td>\n    </tr>\n  </tbody>\n</table>\n</div>"
     },
     "execution_count": 13,
     "metadata": {},
     "output_type": "execute_result"
    }
   ],
   "source": [
    "dfPadelWorldCupDicc.sort_values(by='dineroGenerado', ascending=False)[0:5][['nombreEq', 'nombreJug1', 'nombreJug2', 'dineroGenerado']] #ordenamos, seleccionamos las 5 primeras filas y seleccionamos columnas que deseamos de manera simultanea"
   ],
   "metadata": {
    "collapsed": false,
    "ExecuteTime": {
     "end_time": "2024-03-30T14:42:08.566444Z",
     "start_time": "2024-03-30T14:42:08.560308Z"
    }
   },
   "id": "34eb96415d59593d",
   "execution_count": 13
  },
  {
   "cell_type": "markdown",
   "source": [
    "### 6.3.3. Estadisticas y calculos con DataFrames"
   ],
   "metadata": {
    "collapsed": false
   },
   "id": "4e03cdb4721566f4"
  },
  {
   "cell_type": "code",
   "outputs": [
    {
     "name": "stdout",
     "output_type": "stream",
     "text": [
      "7550\n",
      "755.0\n",
      "1200\n",
      "500\n",
      "251.05333651990722\n",
      "count      10.000000\n",
      "mean      755.000000\n",
      "std       251.053337\n",
      "min       500.000000\n",
      "25%       600.000000\n",
      "50%       625.000000\n",
      "75%       887.500000\n",
      "max      1200.000000\n",
      "Name: dineroGenerado, dtype: float64\n"
     ]
    }
   ],
   "source": [
    "print(dfPadelWorldCupDicc['dineroGenerado'].sum()) #suma\n",
    "print(dfPadelWorldCupDicc['dineroGenerado'].mean()) #media\n",
    "print(dfPadelWorldCupDicc['dineroGenerado'].max()) #maximo\n",
    "print(dfPadelWorldCupDicc['dineroGenerado'].min()) #minimo\n",
    "print(dfPadelWorldCupDicc['dineroGenerado'].std()) #desviacion estandar\n",
    "\n",
    "print(dfPadelWorldCupDicc['dineroGenerado'].describe()) #resumen estadistico"
   ],
   "metadata": {
    "collapsed": false,
    "ExecuteTime": {
     "end_time": "2024-03-30T14:42:08.675901Z",
     "start_time": "2024-03-30T14:42:08.670540Z"
    }
   },
   "id": "71a745bdc89c6573",
   "execution_count": 14
  },
  {
   "cell_type": "markdown",
   "source": [
    "## 6.4. Modificacion de DataFrames\n",
    "### 6.4.1. Añadir columnas"
   ],
   "metadata": {
    "collapsed": false
   },
   "id": "3b730834cc115b5b"
  },
  {
   "cell_type": "code",
   "outputs": [
    {
     "data": {
      "text/plain": "            nombreEq         pais\n0  electroingenieros       España\n1    termonuecleares         EEUU\n2           ElPAPITO        China\n3           LosPibes          URS\n4         herculanos        China\n5         Palilleros        Nepal\n6         MaurosTeam  R.D. Congo \n7     ParricaElMejor       España\n8          Ganadores        China\n9          UltraTeam      Nigeria",
      "text/html": "<div>\n<style scoped>\n    .dataframe tbody tr th:only-of-type {\n        vertical-align: middle;\n    }\n\n    .dataframe tbody tr th {\n        vertical-align: top;\n    }\n\n    .dataframe thead th {\n        text-align: right;\n    }\n</style>\n<table border=\"1\" class=\"dataframe\">\n  <thead>\n    <tr style=\"text-align: right;\">\n      <th></th>\n      <th>nombreEq</th>\n      <th>pais</th>\n    </tr>\n  </thead>\n  <tbody>\n    <tr>\n      <th>0</th>\n      <td>electroingenieros</td>\n      <td>España</td>\n    </tr>\n    <tr>\n      <th>1</th>\n      <td>termonuecleares</td>\n      <td>EEUU</td>\n    </tr>\n    <tr>\n      <th>2</th>\n      <td>ElPAPITO</td>\n      <td>China</td>\n    </tr>\n    <tr>\n      <th>3</th>\n      <td>LosPibes</td>\n      <td>URS</td>\n    </tr>\n    <tr>\n      <th>4</th>\n      <td>herculanos</td>\n      <td>China</td>\n    </tr>\n    <tr>\n      <th>5</th>\n      <td>Palilleros</td>\n      <td>Nepal</td>\n    </tr>\n    <tr>\n      <th>6</th>\n      <td>MaurosTeam</td>\n      <td>R.D. Congo</td>\n    </tr>\n    <tr>\n      <th>7</th>\n      <td>ParricaElMejor</td>\n      <td>España</td>\n    </tr>\n    <tr>\n      <th>8</th>\n      <td>Ganadores</td>\n      <td>China</td>\n    </tr>\n    <tr>\n      <th>9</th>\n      <td>UltraTeam</td>\n      <td>Nigeria</td>\n    </tr>\n  </tbody>\n</table>\n</div>"
     },
     "execution_count": 15,
     "metadata": {},
     "output_type": "execute_result"
    }
   ],
   "source": [
    "\n",
    "dfPadelWorldCupDicc['pais'] = ['España','EEUU','China','URS','China','Nepal','R.D. Congo ','España','China','Nigeria']\n",
    "\n",
    "\n",
    "dfPadelWorldCupDicc[['nombreEq', 'pais']]"
   ],
   "metadata": {
    "collapsed": false,
    "ExecuteTime": {
     "end_time": "2024-03-30T14:42:08.808260Z",
     "start_time": "2024-03-30T14:42:08.803017Z"
    }
   },
   "id": "a7de66df82abe750",
   "execution_count": 15
  },
  {
   "cell_type": "markdown",
   "source": [
    "### 6.4.2. Eliminar columnas"
   ],
   "metadata": {
    "collapsed": false
   },
   "id": "2be677f3261892e7"
  },
  {
   "cell_type": "code",
   "outputs": [
    {
     "data": {
      "text/plain": "   equipoID           nombreEq nombreJug1 nombreJug2  sets_ganados  \\\n0         1  electroingenieros       Juan    Pedrito            11   \n1         2    termonuecleares      Pedro     Adrian            11   \n2         3           ElPAPITO      Pablo      Elena             7   \n3         4           LosPibes      Elena     Blanca            12   \n4         5         herculanos     Carlos        Ana             9   \n5         6         Palilleros   Federico     Carlos            11   \n6         7         MaurosTeam      Mauro       Alex             5   \n7         8     ParricaElMejor      Parra     Teresa             7   \n8         9          Ganadores    Gonzalo       Paco             8   \n9        10          UltraTeam       Sara       Luis             7   \n\n   sets_perdidos  partidos_ganados  partidos_perdidos         enfrentamientos  \\\n0              7                 4                  3  [2, 4, 3, 10, 5, 7, 6]   \n1              7                 4                  3  [1, 8, 10, 7, 4, 6, 9]   \n2             10                 3                  4  [4, 9, 1, 6, 7, 5, 10]   \n3              5                 6                  1  [3, 1, 5, 8, 2, 10, 7]   \n4             10                 3                  4  [6, 10, 4, 9, 1, 3, 8]   \n5              7                 5                  2   [5, 7, 8, 3, 9, 2, 1]   \n6             11                 2                  5   [8, 6, 9, 2, 3, 1, 4]   \n7             11                 3                  4  [7, 2, 6, 4, 10, 9, 5]   \n8              9                 3                  4  [10, 3, 7, 5, 6, 8, 2]   \n9             11                 2                  5   [9, 5, 2, 1, 8, 4, 3]   \n\n   puntos           puntos_por_jornada  dineroGenerado  \\\n0       8     [0, 2, 2, 4, 4, 4, 6, 8]             650   \n1       8     [0, 0, 0, 2, 4, 4, 6, 8]             700   \n2       6     [0, 0, 2, 2, 2, 4, 4, 6]             600   \n3      12   [0, 2, 4, 6, 6, 8, 10, 12]            1200   \n4       6     [0, 0, 2, 2, 2, 4, 6, 6]             600   \n5      10  [0, 2, 4, 6, 8, 10, 10, 10]             950   \n6       4     [0, 0, 0, 2, 2, 2, 2, 4]             500   \n7       6     [0, 2, 4, 4, 6, 6, 6, 6]             600   \n8       6     [0, 2, 2, 2, 4, 4, 6, 6]            1150   \n9       4     [0, 0, 0, 0, 2, 4, 4, 4]             600   \n\n   mediaEspectadoresPorEquipo  entradasVendidasPorEquipo  \n0                         550                        100  \n1                         405                         80  \n2                         900                         90  \n3                         830                         70  \n4                         450                        100  \n5                         670                         80  \n6                         880                         90  \n7                         550                        100  \n8                         950                        120  \n9                         800                         80  ",
      "text/html": "<div>\n<style scoped>\n    .dataframe tbody tr th:only-of-type {\n        vertical-align: middle;\n    }\n\n    .dataframe tbody tr th {\n        vertical-align: top;\n    }\n\n    .dataframe thead th {\n        text-align: right;\n    }\n</style>\n<table border=\"1\" class=\"dataframe\">\n  <thead>\n    <tr style=\"text-align: right;\">\n      <th></th>\n      <th>equipoID</th>\n      <th>nombreEq</th>\n      <th>nombreJug1</th>\n      <th>nombreJug2</th>\n      <th>sets_ganados</th>\n      <th>sets_perdidos</th>\n      <th>partidos_ganados</th>\n      <th>partidos_perdidos</th>\n      <th>enfrentamientos</th>\n      <th>puntos</th>\n      <th>puntos_por_jornada</th>\n      <th>dineroGenerado</th>\n      <th>mediaEspectadoresPorEquipo</th>\n      <th>entradasVendidasPorEquipo</th>\n    </tr>\n  </thead>\n  <tbody>\n    <tr>\n      <th>0</th>\n      <td>1</td>\n      <td>electroingenieros</td>\n      <td>Juan</td>\n      <td>Pedrito</td>\n      <td>11</td>\n      <td>7</td>\n      <td>4</td>\n      <td>3</td>\n      <td>[2, 4, 3, 10, 5, 7, 6]</td>\n      <td>8</td>\n      <td>[0, 2, 2, 4, 4, 4, 6, 8]</td>\n      <td>650</td>\n      <td>550</td>\n      <td>100</td>\n    </tr>\n    <tr>\n      <th>1</th>\n      <td>2</td>\n      <td>termonuecleares</td>\n      <td>Pedro</td>\n      <td>Adrian</td>\n      <td>11</td>\n      <td>7</td>\n      <td>4</td>\n      <td>3</td>\n      <td>[1, 8, 10, 7, 4, 6, 9]</td>\n      <td>8</td>\n      <td>[0, 0, 0, 2, 4, 4, 6, 8]</td>\n      <td>700</td>\n      <td>405</td>\n      <td>80</td>\n    </tr>\n    <tr>\n      <th>2</th>\n      <td>3</td>\n      <td>ElPAPITO</td>\n      <td>Pablo</td>\n      <td>Elena</td>\n      <td>7</td>\n      <td>10</td>\n      <td>3</td>\n      <td>4</td>\n      <td>[4, 9, 1, 6, 7, 5, 10]</td>\n      <td>6</td>\n      <td>[0, 0, 2, 2, 2, 4, 4, 6]</td>\n      <td>600</td>\n      <td>900</td>\n      <td>90</td>\n    </tr>\n    <tr>\n      <th>3</th>\n      <td>4</td>\n      <td>LosPibes</td>\n      <td>Elena</td>\n      <td>Blanca</td>\n      <td>12</td>\n      <td>5</td>\n      <td>6</td>\n      <td>1</td>\n      <td>[3, 1, 5, 8, 2, 10, 7]</td>\n      <td>12</td>\n      <td>[0, 2, 4, 6, 6, 8, 10, 12]</td>\n      <td>1200</td>\n      <td>830</td>\n      <td>70</td>\n    </tr>\n    <tr>\n      <th>4</th>\n      <td>5</td>\n      <td>herculanos</td>\n      <td>Carlos</td>\n      <td>Ana</td>\n      <td>9</td>\n      <td>10</td>\n      <td>3</td>\n      <td>4</td>\n      <td>[6, 10, 4, 9, 1, 3, 8]</td>\n      <td>6</td>\n      <td>[0, 0, 2, 2, 2, 4, 6, 6]</td>\n      <td>600</td>\n      <td>450</td>\n      <td>100</td>\n    </tr>\n    <tr>\n      <th>5</th>\n      <td>6</td>\n      <td>Palilleros</td>\n      <td>Federico</td>\n      <td>Carlos</td>\n      <td>11</td>\n      <td>7</td>\n      <td>5</td>\n      <td>2</td>\n      <td>[5, 7, 8, 3, 9, 2, 1]</td>\n      <td>10</td>\n      <td>[0, 2, 4, 6, 8, 10, 10, 10]</td>\n      <td>950</td>\n      <td>670</td>\n      <td>80</td>\n    </tr>\n    <tr>\n      <th>6</th>\n      <td>7</td>\n      <td>MaurosTeam</td>\n      <td>Mauro</td>\n      <td>Alex</td>\n      <td>5</td>\n      <td>11</td>\n      <td>2</td>\n      <td>5</td>\n      <td>[8, 6, 9, 2, 3, 1, 4]</td>\n      <td>4</td>\n      <td>[0, 0, 0, 2, 2, 2, 2, 4]</td>\n      <td>500</td>\n      <td>880</td>\n      <td>90</td>\n    </tr>\n    <tr>\n      <th>7</th>\n      <td>8</td>\n      <td>ParricaElMejor</td>\n      <td>Parra</td>\n      <td>Teresa</td>\n      <td>7</td>\n      <td>11</td>\n      <td>3</td>\n      <td>4</td>\n      <td>[7, 2, 6, 4, 10, 9, 5]</td>\n      <td>6</td>\n      <td>[0, 2, 4, 4, 6, 6, 6, 6]</td>\n      <td>600</td>\n      <td>550</td>\n      <td>100</td>\n    </tr>\n    <tr>\n      <th>8</th>\n      <td>9</td>\n      <td>Ganadores</td>\n      <td>Gonzalo</td>\n      <td>Paco</td>\n      <td>8</td>\n      <td>9</td>\n      <td>3</td>\n      <td>4</td>\n      <td>[10, 3, 7, 5, 6, 8, 2]</td>\n      <td>6</td>\n      <td>[0, 2, 2, 2, 4, 4, 6, 6]</td>\n      <td>1150</td>\n      <td>950</td>\n      <td>120</td>\n    </tr>\n    <tr>\n      <th>9</th>\n      <td>10</td>\n      <td>UltraTeam</td>\n      <td>Sara</td>\n      <td>Luis</td>\n      <td>7</td>\n      <td>11</td>\n      <td>2</td>\n      <td>5</td>\n      <td>[9, 5, 2, 1, 8, 4, 3]</td>\n      <td>4</td>\n      <td>[0, 0, 0, 0, 2, 4, 4, 4]</td>\n      <td>600</td>\n      <td>800</td>\n      <td>80</td>\n    </tr>\n  </tbody>\n</table>\n</div>"
     },
     "execution_count": 16,
     "metadata": {},
     "output_type": "execute_result"
    }
   ],
   "source": [
    "dfPadelWorldCupDicc.drop(['pais',], axis=1)\n",
    "# en este caso solo he eliminado la columna pais de la muestra, pero no del DataFrame original, ya que la columna pais la usaremos en ejemplos posteriores, pero seria tan facil como asignar el resultado de la operacion a la variable dfPadelWorldCupDicc"
   ],
   "metadata": {
    "collapsed": false,
    "ExecuteTime": {
     "end_time": "2024-03-30T14:42:08.906132Z",
     "start_time": "2024-03-30T14:42:08.896342Z"
    }
   },
   "id": "8a50dc51fc33d73c",
   "execution_count": 16
  },
  {
   "cell_type": "markdown",
   "source": [
    "### 6.4.3. Añadir filas"
   ],
   "metadata": {
    "collapsed": false
   },
   "id": "8ce597cb87264ef0"
  },
  {
   "cell_type": "code",
   "outputs": [],
   "source": [
    "dfPadelWorldCupDicc.loc[10] = [11,'TT','Pepito','Helen',4,4,2,0,[2,3,5,3],4,[0,0,0,2,4,4],100,700,102, 'España']"
   ],
   "metadata": {
    "collapsed": false,
    "ExecuteTime": {
     "end_time": "2024-03-30T14:42:08.998642Z",
     "start_time": "2024-03-30T14:42:08.994213Z"
    }
   },
   "id": "ee4b5a4317526037",
   "execution_count": 17
  },
  {
   "cell_type": "code",
   "outputs": [
    {
     "data": {
      "text/plain": "    equipoID           nombreEq nombreJug1 nombreJug2  sets_ganados  \\\n10        11                 TT     Pepito      Helen             4   \n9         10          UltraTeam       Sara       Luis             7   \n8          9          Ganadores    Gonzalo       Paco             8   \n7          8     ParricaElMejor      Parra     Teresa             7   \n6          7         MaurosTeam      Mauro       Alex             5   \n5          6         Palilleros   Federico     Carlos            11   \n4          5         herculanos     Carlos        Ana             9   \n3          4           LosPibes      Elena     Blanca            12   \n2          3           ElPAPITO      Pablo      Elena             7   \n1          2    termonuecleares      Pedro     Adrian            11   \n0          1  electroingenieros       Juan    Pedrito            11   \n\n    sets_perdidos  partidos_ganados  partidos_perdidos  \\\n10              4                 2                  0   \n9              11                 2                  5   \n8               9                 3                  4   \n7              11                 3                  4   \n6              11                 2                  5   \n5               7                 5                  2   \n4              10                 3                  4   \n3               5                 6                  1   \n2              10                 3                  4   \n1               7                 4                  3   \n0               7                 4                  3   \n\n           enfrentamientos  puntos           puntos_por_jornada  \\\n10            [2, 3, 5, 3]       4           [0, 0, 0, 2, 4, 4]   \n9    [9, 5, 2, 1, 8, 4, 3]       4     [0, 0, 0, 0, 2, 4, 4, 4]   \n8   [10, 3, 7, 5, 6, 8, 2]       6     [0, 2, 2, 2, 4, 4, 6, 6]   \n7   [7, 2, 6, 4, 10, 9, 5]       6     [0, 2, 4, 4, 6, 6, 6, 6]   \n6    [8, 6, 9, 2, 3, 1, 4]       4     [0, 0, 0, 2, 2, 2, 2, 4]   \n5    [5, 7, 8, 3, 9, 2, 1]      10  [0, 2, 4, 6, 8, 10, 10, 10]   \n4   [6, 10, 4, 9, 1, 3, 8]       6     [0, 0, 2, 2, 2, 4, 6, 6]   \n3   [3, 1, 5, 8, 2, 10, 7]      12   [0, 2, 4, 6, 6, 8, 10, 12]   \n2   [4, 9, 1, 6, 7, 5, 10]       6     [0, 0, 2, 2, 2, 4, 4, 6]   \n1   [1, 8, 10, 7, 4, 6, 9]       8     [0, 0, 0, 2, 4, 4, 6, 8]   \n0   [2, 4, 3, 10, 5, 7, 6]       8     [0, 2, 2, 4, 4, 4, 6, 8]   \n\n    dineroGenerado  mediaEspectadoresPorEquipo  entradasVendidasPorEquipo  \\\n10             100                         700                        102   \n9              600                         800                         80   \n8             1150                         950                        120   \n7              600                         550                        100   \n6              500                         880                         90   \n5              950                         670                         80   \n4              600                         450                        100   \n3             1200                         830                         70   \n2              600                         900                         90   \n1              700                         405                         80   \n0              650                         550                        100   \n\n           pais  \n10       España  \n9       Nigeria  \n8         China  \n7        España  \n6   R.D. Congo   \n5         Nepal  \n4         China  \n3           URS  \n2         China  \n1          EEUU  \n0        España  ",
      "text/html": "<div>\n<style scoped>\n    .dataframe tbody tr th:only-of-type {\n        vertical-align: middle;\n    }\n\n    .dataframe tbody tr th {\n        vertical-align: top;\n    }\n\n    .dataframe thead th {\n        text-align: right;\n    }\n</style>\n<table border=\"1\" class=\"dataframe\">\n  <thead>\n    <tr style=\"text-align: right;\">\n      <th></th>\n      <th>equipoID</th>\n      <th>nombreEq</th>\n      <th>nombreJug1</th>\n      <th>nombreJug2</th>\n      <th>sets_ganados</th>\n      <th>sets_perdidos</th>\n      <th>partidos_ganados</th>\n      <th>partidos_perdidos</th>\n      <th>enfrentamientos</th>\n      <th>puntos</th>\n      <th>puntos_por_jornada</th>\n      <th>dineroGenerado</th>\n      <th>mediaEspectadoresPorEquipo</th>\n      <th>entradasVendidasPorEquipo</th>\n      <th>pais</th>\n    </tr>\n  </thead>\n  <tbody>\n    <tr>\n      <th>10</th>\n      <td>11</td>\n      <td>TT</td>\n      <td>Pepito</td>\n      <td>Helen</td>\n      <td>4</td>\n      <td>4</td>\n      <td>2</td>\n      <td>0</td>\n      <td>[2, 3, 5, 3]</td>\n      <td>4</td>\n      <td>[0, 0, 0, 2, 4, 4]</td>\n      <td>100</td>\n      <td>700</td>\n      <td>102</td>\n      <td>España</td>\n    </tr>\n    <tr>\n      <th>9</th>\n      <td>10</td>\n      <td>UltraTeam</td>\n      <td>Sara</td>\n      <td>Luis</td>\n      <td>7</td>\n      <td>11</td>\n      <td>2</td>\n      <td>5</td>\n      <td>[9, 5, 2, 1, 8, 4, 3]</td>\n      <td>4</td>\n      <td>[0, 0, 0, 0, 2, 4, 4, 4]</td>\n      <td>600</td>\n      <td>800</td>\n      <td>80</td>\n      <td>Nigeria</td>\n    </tr>\n    <tr>\n      <th>8</th>\n      <td>9</td>\n      <td>Ganadores</td>\n      <td>Gonzalo</td>\n      <td>Paco</td>\n      <td>8</td>\n      <td>9</td>\n      <td>3</td>\n      <td>4</td>\n      <td>[10, 3, 7, 5, 6, 8, 2]</td>\n      <td>6</td>\n      <td>[0, 2, 2, 2, 4, 4, 6, 6]</td>\n      <td>1150</td>\n      <td>950</td>\n      <td>120</td>\n      <td>China</td>\n    </tr>\n    <tr>\n      <th>7</th>\n      <td>8</td>\n      <td>ParricaElMejor</td>\n      <td>Parra</td>\n      <td>Teresa</td>\n      <td>7</td>\n      <td>11</td>\n      <td>3</td>\n      <td>4</td>\n      <td>[7, 2, 6, 4, 10, 9, 5]</td>\n      <td>6</td>\n      <td>[0, 2, 4, 4, 6, 6, 6, 6]</td>\n      <td>600</td>\n      <td>550</td>\n      <td>100</td>\n      <td>España</td>\n    </tr>\n    <tr>\n      <th>6</th>\n      <td>7</td>\n      <td>MaurosTeam</td>\n      <td>Mauro</td>\n      <td>Alex</td>\n      <td>5</td>\n      <td>11</td>\n      <td>2</td>\n      <td>5</td>\n      <td>[8, 6, 9, 2, 3, 1, 4]</td>\n      <td>4</td>\n      <td>[0, 0, 0, 2, 2, 2, 2, 4]</td>\n      <td>500</td>\n      <td>880</td>\n      <td>90</td>\n      <td>R.D. Congo</td>\n    </tr>\n    <tr>\n      <th>5</th>\n      <td>6</td>\n      <td>Palilleros</td>\n      <td>Federico</td>\n      <td>Carlos</td>\n      <td>11</td>\n      <td>7</td>\n      <td>5</td>\n      <td>2</td>\n      <td>[5, 7, 8, 3, 9, 2, 1]</td>\n      <td>10</td>\n      <td>[0, 2, 4, 6, 8, 10, 10, 10]</td>\n      <td>950</td>\n      <td>670</td>\n      <td>80</td>\n      <td>Nepal</td>\n    </tr>\n    <tr>\n      <th>4</th>\n      <td>5</td>\n      <td>herculanos</td>\n      <td>Carlos</td>\n      <td>Ana</td>\n      <td>9</td>\n      <td>10</td>\n      <td>3</td>\n      <td>4</td>\n      <td>[6, 10, 4, 9, 1, 3, 8]</td>\n      <td>6</td>\n      <td>[0, 0, 2, 2, 2, 4, 6, 6]</td>\n      <td>600</td>\n      <td>450</td>\n      <td>100</td>\n      <td>China</td>\n    </tr>\n    <tr>\n      <th>3</th>\n      <td>4</td>\n      <td>LosPibes</td>\n      <td>Elena</td>\n      <td>Blanca</td>\n      <td>12</td>\n      <td>5</td>\n      <td>6</td>\n      <td>1</td>\n      <td>[3, 1, 5, 8, 2, 10, 7]</td>\n      <td>12</td>\n      <td>[0, 2, 4, 6, 6, 8, 10, 12]</td>\n      <td>1200</td>\n      <td>830</td>\n      <td>70</td>\n      <td>URS</td>\n    </tr>\n    <tr>\n      <th>2</th>\n      <td>3</td>\n      <td>ElPAPITO</td>\n      <td>Pablo</td>\n      <td>Elena</td>\n      <td>7</td>\n      <td>10</td>\n      <td>3</td>\n      <td>4</td>\n      <td>[4, 9, 1, 6, 7, 5, 10]</td>\n      <td>6</td>\n      <td>[0, 0, 2, 2, 2, 4, 4, 6]</td>\n      <td>600</td>\n      <td>900</td>\n      <td>90</td>\n      <td>China</td>\n    </tr>\n    <tr>\n      <th>1</th>\n      <td>2</td>\n      <td>termonuecleares</td>\n      <td>Pedro</td>\n      <td>Adrian</td>\n      <td>11</td>\n      <td>7</td>\n      <td>4</td>\n      <td>3</td>\n      <td>[1, 8, 10, 7, 4, 6, 9]</td>\n      <td>8</td>\n      <td>[0, 0, 0, 2, 4, 4, 6, 8]</td>\n      <td>700</td>\n      <td>405</td>\n      <td>80</td>\n      <td>EEUU</td>\n    </tr>\n    <tr>\n      <th>0</th>\n      <td>1</td>\n      <td>electroingenieros</td>\n      <td>Juan</td>\n      <td>Pedrito</td>\n      <td>11</td>\n      <td>7</td>\n      <td>4</td>\n      <td>3</td>\n      <td>[2, 4, 3, 10, 5, 7, 6]</td>\n      <td>8</td>\n      <td>[0, 2, 2, 4, 4, 4, 6, 8]</td>\n      <td>650</td>\n      <td>550</td>\n      <td>100</td>\n      <td>España</td>\n    </tr>\n  </tbody>\n</table>\n</div>"
     },
     "execution_count": 18,
     "metadata": {},
     "output_type": "execute_result"
    }
   ],
   "source": [
    "dfPadelWorldCupDicc.sort_values(by='equipoID',ascending=False)"
   ],
   "metadata": {
    "collapsed": false,
    "ExecuteTime": {
     "end_time": "2024-03-30T14:42:09.042634Z",
     "start_time": "2024-03-30T14:42:09.031674Z"
    }
   },
   "id": "b62c7ec4e1b3c402",
   "execution_count": 18
  },
  {
   "cell_type": "markdown",
   "source": [
    "### 6.4.4. Eliminar filas"
   ],
   "metadata": {
    "collapsed": false
   },
   "id": "1b16ea585abd067f"
  },
  {
   "cell_type": "code",
   "outputs": [
    {
     "data": {
      "text/plain": "   equipoID           nombreEq nombreJug1 nombreJug2  sets_ganados  \\\n9        10          UltraTeam       Sara       Luis             7   \n8         9          Ganadores    Gonzalo       Paco             8   \n7         8     ParricaElMejor      Parra     Teresa             7   \n6         7         MaurosTeam      Mauro       Alex             5   \n5         6         Palilleros   Federico     Carlos            11   \n4         5         herculanos     Carlos        Ana             9   \n3         4           LosPibes      Elena     Blanca            12   \n2         3           ElPAPITO      Pablo      Elena             7   \n1         2    termonuecleares      Pedro     Adrian            11   \n0         1  electroingenieros       Juan    Pedrito            11   \n\n   sets_perdidos  partidos_ganados  partidos_perdidos         enfrentamientos  \\\n9             11                 2                  5   [9, 5, 2, 1, 8, 4, 3]   \n8              9                 3                  4  [10, 3, 7, 5, 6, 8, 2]   \n7             11                 3                  4  [7, 2, 6, 4, 10, 9, 5]   \n6             11                 2                  5   [8, 6, 9, 2, 3, 1, 4]   \n5              7                 5                  2   [5, 7, 8, 3, 9, 2, 1]   \n4             10                 3                  4  [6, 10, 4, 9, 1, 3, 8]   \n3              5                 6                  1  [3, 1, 5, 8, 2, 10, 7]   \n2             10                 3                  4  [4, 9, 1, 6, 7, 5, 10]   \n1              7                 4                  3  [1, 8, 10, 7, 4, 6, 9]   \n0              7                 4                  3  [2, 4, 3, 10, 5, 7, 6]   \n\n   puntos           puntos_por_jornada  dineroGenerado  \\\n9       4     [0, 0, 0, 0, 2, 4, 4, 4]             600   \n8       6     [0, 2, 2, 2, 4, 4, 6, 6]            1150   \n7       6     [0, 2, 4, 4, 6, 6, 6, 6]             600   \n6       4     [0, 0, 0, 2, 2, 2, 2, 4]             500   \n5      10  [0, 2, 4, 6, 8, 10, 10, 10]             950   \n4       6     [0, 0, 2, 2, 2, 4, 6, 6]             600   \n3      12   [0, 2, 4, 6, 6, 8, 10, 12]            1200   \n2       6     [0, 0, 2, 2, 2, 4, 4, 6]             600   \n1       8     [0, 0, 0, 2, 4, 4, 6, 8]             700   \n0       8     [0, 2, 2, 4, 4, 4, 6, 8]             650   \n\n   mediaEspectadoresPorEquipo  entradasVendidasPorEquipo         pais  \n9                         800                         80      Nigeria  \n8                         950                        120        China  \n7                         550                        100       España  \n6                         880                         90  R.D. Congo   \n5                         670                         80        Nepal  \n4                         450                        100        China  \n3                         830                         70          URS  \n2                         900                         90        China  \n1                         405                         80         EEUU  \n0                         550                        100       España  ",
      "text/html": "<div>\n<style scoped>\n    .dataframe tbody tr th:only-of-type {\n        vertical-align: middle;\n    }\n\n    .dataframe tbody tr th {\n        vertical-align: top;\n    }\n\n    .dataframe thead th {\n        text-align: right;\n    }\n</style>\n<table border=\"1\" class=\"dataframe\">\n  <thead>\n    <tr style=\"text-align: right;\">\n      <th></th>\n      <th>equipoID</th>\n      <th>nombreEq</th>\n      <th>nombreJug1</th>\n      <th>nombreJug2</th>\n      <th>sets_ganados</th>\n      <th>sets_perdidos</th>\n      <th>partidos_ganados</th>\n      <th>partidos_perdidos</th>\n      <th>enfrentamientos</th>\n      <th>puntos</th>\n      <th>puntos_por_jornada</th>\n      <th>dineroGenerado</th>\n      <th>mediaEspectadoresPorEquipo</th>\n      <th>entradasVendidasPorEquipo</th>\n      <th>pais</th>\n    </tr>\n  </thead>\n  <tbody>\n    <tr>\n      <th>9</th>\n      <td>10</td>\n      <td>UltraTeam</td>\n      <td>Sara</td>\n      <td>Luis</td>\n      <td>7</td>\n      <td>11</td>\n      <td>2</td>\n      <td>5</td>\n      <td>[9, 5, 2, 1, 8, 4, 3]</td>\n      <td>4</td>\n      <td>[0, 0, 0, 0, 2, 4, 4, 4]</td>\n      <td>600</td>\n      <td>800</td>\n      <td>80</td>\n      <td>Nigeria</td>\n    </tr>\n    <tr>\n      <th>8</th>\n      <td>9</td>\n      <td>Ganadores</td>\n      <td>Gonzalo</td>\n      <td>Paco</td>\n      <td>8</td>\n      <td>9</td>\n      <td>3</td>\n      <td>4</td>\n      <td>[10, 3, 7, 5, 6, 8, 2]</td>\n      <td>6</td>\n      <td>[0, 2, 2, 2, 4, 4, 6, 6]</td>\n      <td>1150</td>\n      <td>950</td>\n      <td>120</td>\n      <td>China</td>\n    </tr>\n    <tr>\n      <th>7</th>\n      <td>8</td>\n      <td>ParricaElMejor</td>\n      <td>Parra</td>\n      <td>Teresa</td>\n      <td>7</td>\n      <td>11</td>\n      <td>3</td>\n      <td>4</td>\n      <td>[7, 2, 6, 4, 10, 9, 5]</td>\n      <td>6</td>\n      <td>[0, 2, 4, 4, 6, 6, 6, 6]</td>\n      <td>600</td>\n      <td>550</td>\n      <td>100</td>\n      <td>España</td>\n    </tr>\n    <tr>\n      <th>6</th>\n      <td>7</td>\n      <td>MaurosTeam</td>\n      <td>Mauro</td>\n      <td>Alex</td>\n      <td>5</td>\n      <td>11</td>\n      <td>2</td>\n      <td>5</td>\n      <td>[8, 6, 9, 2, 3, 1, 4]</td>\n      <td>4</td>\n      <td>[0, 0, 0, 2, 2, 2, 2, 4]</td>\n      <td>500</td>\n      <td>880</td>\n      <td>90</td>\n      <td>R.D. Congo</td>\n    </tr>\n    <tr>\n      <th>5</th>\n      <td>6</td>\n      <td>Palilleros</td>\n      <td>Federico</td>\n      <td>Carlos</td>\n      <td>11</td>\n      <td>7</td>\n      <td>5</td>\n      <td>2</td>\n      <td>[5, 7, 8, 3, 9, 2, 1]</td>\n      <td>10</td>\n      <td>[0, 2, 4, 6, 8, 10, 10, 10]</td>\n      <td>950</td>\n      <td>670</td>\n      <td>80</td>\n      <td>Nepal</td>\n    </tr>\n    <tr>\n      <th>4</th>\n      <td>5</td>\n      <td>herculanos</td>\n      <td>Carlos</td>\n      <td>Ana</td>\n      <td>9</td>\n      <td>10</td>\n      <td>3</td>\n      <td>4</td>\n      <td>[6, 10, 4, 9, 1, 3, 8]</td>\n      <td>6</td>\n      <td>[0, 0, 2, 2, 2, 4, 6, 6]</td>\n      <td>600</td>\n      <td>450</td>\n      <td>100</td>\n      <td>China</td>\n    </tr>\n    <tr>\n      <th>3</th>\n      <td>4</td>\n      <td>LosPibes</td>\n      <td>Elena</td>\n      <td>Blanca</td>\n      <td>12</td>\n      <td>5</td>\n      <td>6</td>\n      <td>1</td>\n      <td>[3, 1, 5, 8, 2, 10, 7]</td>\n      <td>12</td>\n      <td>[0, 2, 4, 6, 6, 8, 10, 12]</td>\n      <td>1200</td>\n      <td>830</td>\n      <td>70</td>\n      <td>URS</td>\n    </tr>\n    <tr>\n      <th>2</th>\n      <td>3</td>\n      <td>ElPAPITO</td>\n      <td>Pablo</td>\n      <td>Elena</td>\n      <td>7</td>\n      <td>10</td>\n      <td>3</td>\n      <td>4</td>\n      <td>[4, 9, 1, 6, 7, 5, 10]</td>\n      <td>6</td>\n      <td>[0, 0, 2, 2, 2, 4, 4, 6]</td>\n      <td>600</td>\n      <td>900</td>\n      <td>90</td>\n      <td>China</td>\n    </tr>\n    <tr>\n      <th>1</th>\n      <td>2</td>\n      <td>termonuecleares</td>\n      <td>Pedro</td>\n      <td>Adrian</td>\n      <td>11</td>\n      <td>7</td>\n      <td>4</td>\n      <td>3</td>\n      <td>[1, 8, 10, 7, 4, 6, 9]</td>\n      <td>8</td>\n      <td>[0, 0, 0, 2, 4, 4, 6, 8]</td>\n      <td>700</td>\n      <td>405</td>\n      <td>80</td>\n      <td>EEUU</td>\n    </tr>\n    <tr>\n      <th>0</th>\n      <td>1</td>\n      <td>electroingenieros</td>\n      <td>Juan</td>\n      <td>Pedrito</td>\n      <td>11</td>\n      <td>7</td>\n      <td>4</td>\n      <td>3</td>\n      <td>[2, 4, 3, 10, 5, 7, 6]</td>\n      <td>8</td>\n      <td>[0, 2, 2, 4, 4, 4, 6, 8]</td>\n      <td>650</td>\n      <td>550</td>\n      <td>100</td>\n      <td>España</td>\n    </tr>\n  </tbody>\n</table>\n</div>"
     },
     "execution_count": 19,
     "metadata": {},
     "output_type": "execute_result"
    }
   ],
   "source": [
    "dfPadelWorldCupDicc = dfPadelWorldCupDicc.drop([10])\n",
    "dfPadelWorldCupDicc.sort_values(by='equipoID',ascending=False)"
   ],
   "metadata": {
    "collapsed": false,
    "ExecuteTime": {
     "end_time": "2024-03-30T14:42:09.091492Z",
     "start_time": "2024-03-30T14:42:09.080670Z"
    }
   },
   "id": "3cf42a70d9e97967",
   "execution_count": 19
  },
  {
   "cell_type": "markdown",
   "source": [
    "## 6.5. Iteracion sobre DataFrames\n",
    "### 6.5.1. Iteracion sobre filas"
   ],
   "metadata": {
    "collapsed": false
   },
   "id": "6e0c99f1cb3d3155"
  },
  {
   "cell_type": "code",
   "outputs": [
    {
     "name": "stdout",
     "output_type": "stream",
     "text": [
      "electroingenieros : Juan , Pedrito\n",
      "termonuecleares : Pedro , Adrian\n",
      "ElPAPITO : Pablo , Elena\n",
      "LosPibes : Elena , Blanca\n",
      "herculanos : Carlos , Ana\n",
      "Palilleros : Federico , Carlos\n",
      "MaurosTeam : Mauro , Alex\n",
      "ParricaElMejor : Parra , Teresa\n",
      "Ganadores : Gonzalo , Paco\n",
      "UltraTeam : Sara , Luis\n"
     ]
    }
   ],
   "source": [
    "for index, row in dfPadelWorldCupDicc.iterrows():\n",
    "    print(row['nombreEq'],':', row['nombreJug1'],',', row['nombreJug2'])"
   ],
   "metadata": {
    "collapsed": false,
    "ExecuteTime": {
     "end_time": "2024-03-30T14:42:09.108814Z",
     "start_time": "2024-03-30T14:42:09.105506Z"
    }
   },
   "id": "a014c88d0a8150ce",
   "execution_count": 20
  },
  {
   "cell_type": "markdown",
   "source": [
    "### 6.5.2. Iteracion sobre columnas"
   ],
   "metadata": {
    "collapsed": false
   },
   "id": "7d29ba7258b5074c"
  },
  {
   "cell_type": "code",
   "outputs": [
    {
     "name": "stdout",
     "output_type": "stream",
     "text": [
      "equipoID [ 1  2  3  4  5  6  7  8  9 10]\n",
      "nombreEq ['electroingenieros' 'termonuecleares' 'ElPAPITO' 'LosPibes' 'herculanos'\n",
      " 'Palilleros' 'MaurosTeam' 'ParricaElMejor' 'Ganadores' 'UltraTeam']\n",
      "nombreJug1 ['Juan' 'Pedro' 'Pablo' 'Elena' 'Carlos' 'Federico' 'Mauro' 'Parra'\n",
      " 'Gonzalo' 'Sara']\n",
      "nombreJug2 ['Pedrito' 'Adrian' 'Elena' 'Blanca' 'Ana' 'Carlos' 'Alex' 'Teresa' 'Paco'\n",
      " 'Luis']\n",
      "sets_ganados [11 11  7 12  9 11  5  7  8  7]\n",
      "sets_perdidos [ 7  7 10  5 10  7 11 11  9 11]\n",
      "partidos_ganados [4 4 3 6 3 5 2 3 3 2]\n",
      "partidos_perdidos [3 3 4 1 4 2 5 4 4 5]\n",
      "enfrentamientos [list([2, 4, 3, 10, 5, 7, 6]) list([1, 8, 10, 7, 4, 6, 9])\n",
      " list([4, 9, 1, 6, 7, 5, 10]) list([3, 1, 5, 8, 2, 10, 7])\n",
      " list([6, 10, 4, 9, 1, 3, 8]) list([5, 7, 8, 3, 9, 2, 1])\n",
      " list([8, 6, 9, 2, 3, 1, 4]) list([7, 2, 6, 4, 10, 9, 5])\n",
      " list([10, 3, 7, 5, 6, 8, 2]) list([9, 5, 2, 1, 8, 4, 3])]\n",
      "puntos [ 8  8  6 12  6 10  4  6  6  4]\n",
      "puntos_por_jornada [list([0, 2, 2, 4, 4, 4, 6, 8]) list([0, 0, 0, 2, 4, 4, 6, 8])\n",
      " list([0, 0, 2, 2, 2, 4, 4, 6]) list([0, 2, 4, 6, 6, 8, 10, 12])\n",
      " list([0, 0, 2, 2, 2, 4, 6, 6]) list([0, 2, 4, 6, 8, 10, 10, 10])\n",
      " list([0, 0, 0, 2, 2, 2, 2, 4]) list([0, 2, 4, 4, 6, 6, 6, 6])\n",
      " list([0, 2, 2, 2, 4, 4, 6, 6]) list([0, 0, 0, 0, 2, 4, 4, 4])]\n",
      "dineroGenerado [ 650  700  600 1200  600  950  500  600 1150  600]\n",
      "mediaEspectadoresPorEquipo [550 405 900 830 450 670 880 550 950 800]\n",
      "entradasVendidasPorEquipo [100  80  90  70 100  80  90 100 120  80]\n",
      "pais ['España' 'EEUU' 'China' 'URS' 'China' 'Nepal' 'R.D. Congo ' 'España'\n",
      " 'China' 'Nigeria']\n"
     ]
    }
   ],
   "source": [
    "for column, values in dfPadelWorldCupDicc.items():\n",
    "    print(column, values.values)"
   ],
   "metadata": {
    "collapsed": false,
    "ExecuteTime": {
     "end_time": "2024-03-30T14:42:09.180378Z",
     "start_time": "2024-03-30T14:42:09.176877Z"
    }
   },
   "id": "f73b528e0226b3d5",
   "execution_count": 21
  },
  {
   "cell_type": "markdown",
   "source": [
    "## 6.6. Union de DataFrames\n",
    "### 6.6.1. Union de dos DataFrames\n",
    "el metodo merge permite unir dos DataFrames en base a una columna en comun"
   ],
   "metadata": {
    "collapsed": false
   },
   "id": "3d39314ae68e3500"
  },
  {
   "cell_type": "code",
   "outputs": [
    {
     "data": {
      "text/plain": "   equipoID    nombreEq nombreJug1 nombreJug2     ciudad        DNI\n0         4    LosPibes      Elena     Blanca     Madrid  12345678A\n1         5  herculanos     Carlos        Ana  Barcelona  87654321B",
      "text/html": "<div>\n<style scoped>\n    .dataframe tbody tr th:only-of-type {\n        vertical-align: middle;\n    }\n\n    .dataframe tbody tr th {\n        vertical-align: top;\n    }\n\n    .dataframe thead th {\n        text-align: right;\n    }\n</style>\n<table border=\"1\" class=\"dataframe\">\n  <thead>\n    <tr style=\"text-align: right;\">\n      <th></th>\n      <th>equipoID</th>\n      <th>nombreEq</th>\n      <th>nombreJug1</th>\n      <th>nombreJug2</th>\n      <th>ciudad</th>\n      <th>DNI</th>\n    </tr>\n  </thead>\n  <tbody>\n    <tr>\n      <th>0</th>\n      <td>4</td>\n      <td>LosPibes</td>\n      <td>Elena</td>\n      <td>Blanca</td>\n      <td>Madrid</td>\n      <td>12345678A</td>\n    </tr>\n    <tr>\n      <th>1</th>\n      <td>5</td>\n      <td>herculanos</td>\n      <td>Carlos</td>\n      <td>Ana</td>\n      <td>Barcelona</td>\n      <td>87654321B</td>\n    </tr>\n  </tbody>\n</table>\n</div>"
     },
     "execution_count": 22,
     "metadata": {},
     "output_type": "execute_result"
    }
   ],
   "source": [
    "dfPadelWorldCupDicc1 = dfPadelWorldCupDicc[0:5][['equipoID', 'nombreEq', 'nombreJug1', 'nombreJug2']]\n",
    "\n",
    "wpDicc = {\n",
    "    'nombreEq':     ['LosPibes','herculanos','Palilleros'],\n",
    "    'ciudad':       ['Madrid','Barcelona','Valencia'],\n",
    "    'DNI':        ['12345678A','87654321B','12348765C'],\n",
    "}\n",
    "\n",
    "dfPadelWorldCupDicc2 = pd.DataFrame(wpDicc)\n",
    "\n",
    "df_nuevo = pd.merge(dfPadelWorldCupDicc1, dfPadelWorldCupDicc2, on='nombreEq')\n",
    "df_nuevo\n"
   ],
   "metadata": {
    "collapsed": false,
    "ExecuteTime": {
     "end_time": "2024-03-30T14:42:09.238751Z",
     "start_time": "2024-03-30T14:42:09.230425Z"
    }
   },
   "id": "c22393f3676ebce8",
   "execution_count": 22
  },
  {
   "cell_type": "markdown",
   "source": [
    "### 6.6.2. Union de varios DataFrames"
   ],
   "metadata": {
    "collapsed": false
   },
   "id": "55c2e203d9f575ce"
  },
  {
   "cell_type": "code",
   "outputs": [
    {
     "data": {
      "text/plain": "   equipoID    nombreEq nombreJug1 nombreJug2     ciudad        DNI  \\\n0         4    LosPibes      Elena     Blanca     Madrid  12345678A   \n1         5  herculanos     Carlos        Ana  Barcelona  87654321B   \n\n   numeroSocios     numTel  \n0           100  123456789  \n1           200  987654321  ",
      "text/html": "<div>\n<style scoped>\n    .dataframe tbody tr th:only-of-type {\n        vertical-align: middle;\n    }\n\n    .dataframe tbody tr th {\n        vertical-align: top;\n    }\n\n    .dataframe thead th {\n        text-align: right;\n    }\n</style>\n<table border=\"1\" class=\"dataframe\">\n  <thead>\n    <tr style=\"text-align: right;\">\n      <th></th>\n      <th>equipoID</th>\n      <th>nombreEq</th>\n      <th>nombreJug1</th>\n      <th>nombreJug2</th>\n      <th>ciudad</th>\n      <th>DNI</th>\n      <th>numeroSocios</th>\n      <th>numTel</th>\n    </tr>\n  </thead>\n  <tbody>\n    <tr>\n      <th>0</th>\n      <td>4</td>\n      <td>LosPibes</td>\n      <td>Elena</td>\n      <td>Blanca</td>\n      <td>Madrid</td>\n      <td>12345678A</td>\n      <td>100</td>\n      <td>123456789</td>\n    </tr>\n    <tr>\n      <th>1</th>\n      <td>5</td>\n      <td>herculanos</td>\n      <td>Carlos</td>\n      <td>Ana</td>\n      <td>Barcelona</td>\n      <td>87654321B</td>\n      <td>200</td>\n      <td>987654321</td>\n    </tr>\n  </tbody>\n</table>\n</div>"
     },
     "execution_count": 23,
     "metadata": {},
     "output_type": "execute_result"
    }
   ],
   "source": [
    "#Ejecutar el codigo de la celda anterior antes de ejecutar este\n",
    "\n",
    "wpDicc2 = {\n",
    "    'nombreEq':     ['LosPibes','herculanos','Palilleros'],\n",
    "    'numeroSocios': [100, 200, 300],\n",
    "    'numTel':       ['123456789','987654321','12348765'],\n",
    "}\n",
    "\n",
    "dfPadelWorldCupDicc3 = pd.DataFrame(wpDicc2)\n",
    "df_nuevo = pd.merge(dfPadelWorldCupDicc1, dfPadelWorldCupDicc2, on='nombreEq')\n",
    "df_nuevo = pd.merge(df_nuevo, dfPadelWorldCupDicc3, on='nombreEq')\n",
    "df_nuevo\n"
   ],
   "metadata": {
    "collapsed": false,
    "ExecuteTime": {
     "end_time": "2024-03-30T14:42:09.323818Z",
     "start_time": "2024-03-30T14:42:09.315822Z"
    }
   },
   "id": "9c2693e7602bd31a",
   "execution_count": 23
  },
  {
   "cell_type": "markdown",
   "source": [
    "## 6.7. Agrupacion y agregacion de DataFrames\n",
    "### 6.7.1. Agrupacion y agregacion de DataFrames por una columna"
   ],
   "metadata": {
    "collapsed": false
   },
   "id": "1f54b2c353647079"
  },
  {
   "cell_type": "code",
   "outputs": [
    {
     "data": {
      "text/plain": "             dineroGenerado  mediaEspectadoresPorEquipo  \\\npais                                                      \nChina                  2350                  766.666667   \nEEUU                    700                  405.000000   \nEspaña                 1250                  550.000000   \nNepal                   950                  670.000000   \nNigeria                 600                  800.000000   \nR.D. Congo              500                  880.000000   \nURS                    1200                  830.000000   \n\n             entradasVendidasPorEquipo  \npais                                    \nChina                              310  \nEEUU                                80  \nEspaña                             200  \nNepal                               80  \nNigeria                             80  \nR.D. Congo                          90  \nURS                                 70  ",
      "text/html": "<div>\n<style scoped>\n    .dataframe tbody tr th:only-of-type {\n        vertical-align: middle;\n    }\n\n    .dataframe tbody tr th {\n        vertical-align: top;\n    }\n\n    .dataframe thead th {\n        text-align: right;\n    }\n</style>\n<table border=\"1\" class=\"dataframe\">\n  <thead>\n    <tr style=\"text-align: right;\">\n      <th></th>\n      <th>dineroGenerado</th>\n      <th>mediaEspectadoresPorEquipo</th>\n      <th>entradasVendidasPorEquipo</th>\n    </tr>\n    <tr>\n      <th>pais</th>\n      <th></th>\n      <th></th>\n      <th></th>\n    </tr>\n  </thead>\n  <tbody>\n    <tr>\n      <th>China</th>\n      <td>2350</td>\n      <td>766.666667</td>\n      <td>310</td>\n    </tr>\n    <tr>\n      <th>EEUU</th>\n      <td>700</td>\n      <td>405.000000</td>\n      <td>80</td>\n    </tr>\n    <tr>\n      <th>España</th>\n      <td>1250</td>\n      <td>550.000000</td>\n      <td>200</td>\n    </tr>\n    <tr>\n      <th>Nepal</th>\n      <td>950</td>\n      <td>670.000000</td>\n      <td>80</td>\n    </tr>\n    <tr>\n      <th>Nigeria</th>\n      <td>600</td>\n      <td>800.000000</td>\n      <td>80</td>\n    </tr>\n    <tr>\n      <th>R.D. Congo</th>\n      <td>500</td>\n      <td>880.000000</td>\n      <td>90</td>\n    </tr>\n    <tr>\n      <th>URS</th>\n      <td>1200</td>\n      <td>830.000000</td>\n      <td>70</td>\n    </tr>\n  </tbody>\n</table>\n</div>"
     },
     "execution_count": 24,
     "metadata": {},
     "output_type": "execute_result"
    }
   ],
   "source": [
    "#Ejecutar el codigo de la celta 6.4.1 antes de ejecutar este\n",
    "\n",
    "dfPadelWorldCupDicc.groupby('pais').agg({'dineroGenerado': 'sum', 'mediaEspectadoresPorEquipo': 'mean', 'entradasVendidasPorEquipo': 'sum'})"
   ],
   "metadata": {
    "collapsed": false,
    "ExecuteTime": {
     "end_time": "2024-03-30T14:42:09.332408Z",
     "start_time": "2024-03-30T14:42:09.325822Z"
    }
   },
   "id": "ddd6349b21e8192",
   "execution_count": 24
  },
  {
   "cell_type": "markdown",
   "source": [
    "### 6.7.2. Agrupacion y agregacion de DataFrames por varias columnas"
   ],
   "metadata": {
    "collapsed": false
   },
   "id": "204a22373a747d17"
  },
  {
   "cell_type": "code",
   "outputs": [
    {
     "data": {
      "text/plain": "                            dineroGenerado  mediaEspectadoresPorEquipo  \\\npais        dineroGenerado                                               \nChina       600                       1200                       675.0   \n            1150                      1150                       950.0   \nEEUU        700                        700                       405.0   \nEspaña      600                        600                       550.0   \n            650                        650                       550.0   \nNepal       950                        950                       670.0   \nNigeria     600                        600                       800.0   \nR.D. Congo  500                        500                       880.0   \nURS         1200                      1200                       830.0   \n\n                            entradasVendidasPorEquipo  \npais        dineroGenerado                             \nChina       600                                   190  \n            1150                                  120  \nEEUU        700                                    80  \nEspaña      600                                   100  \n            650                                   100  \nNepal       950                                    80  \nNigeria     600                                    80  \nR.D. Congo  500                                    90  \nURS         1200                                   70  ",
      "text/html": "<div>\n<style scoped>\n    .dataframe tbody tr th:only-of-type {\n        vertical-align: middle;\n    }\n\n    .dataframe tbody tr th {\n        vertical-align: top;\n    }\n\n    .dataframe thead th {\n        text-align: right;\n    }\n</style>\n<table border=\"1\" class=\"dataframe\">\n  <thead>\n    <tr style=\"text-align: right;\">\n      <th></th>\n      <th></th>\n      <th>dineroGenerado</th>\n      <th>mediaEspectadoresPorEquipo</th>\n      <th>entradasVendidasPorEquipo</th>\n    </tr>\n    <tr>\n      <th>pais</th>\n      <th>dineroGenerado</th>\n      <th></th>\n      <th></th>\n      <th></th>\n    </tr>\n  </thead>\n  <tbody>\n    <tr>\n      <th rowspan=\"2\" valign=\"top\">China</th>\n      <th>600</th>\n      <td>1200</td>\n      <td>675.0</td>\n      <td>190</td>\n    </tr>\n    <tr>\n      <th>1150</th>\n      <td>1150</td>\n      <td>950.0</td>\n      <td>120</td>\n    </tr>\n    <tr>\n      <th>EEUU</th>\n      <th>700</th>\n      <td>700</td>\n      <td>405.0</td>\n      <td>80</td>\n    </tr>\n    <tr>\n      <th rowspan=\"2\" valign=\"top\">España</th>\n      <th>600</th>\n      <td>600</td>\n      <td>550.0</td>\n      <td>100</td>\n    </tr>\n    <tr>\n      <th>650</th>\n      <td>650</td>\n      <td>550.0</td>\n      <td>100</td>\n    </tr>\n    <tr>\n      <th>Nepal</th>\n      <th>950</th>\n      <td>950</td>\n      <td>670.0</td>\n      <td>80</td>\n    </tr>\n    <tr>\n      <th>Nigeria</th>\n      <th>600</th>\n      <td>600</td>\n      <td>800.0</td>\n      <td>80</td>\n    </tr>\n    <tr>\n      <th>R.D. Congo</th>\n      <th>500</th>\n      <td>500</td>\n      <td>880.0</td>\n      <td>90</td>\n    </tr>\n    <tr>\n      <th>URS</th>\n      <th>1200</th>\n      <td>1200</td>\n      <td>830.0</td>\n      <td>70</td>\n    </tr>\n  </tbody>\n</table>\n</div>"
     },
     "execution_count": 25,
     "metadata": {},
     "output_type": "execute_result"
    }
   ],
   "source": [
    "dfPadelWorldCupDicc.groupby(['pais', 'dineroGenerado']).agg({'dineroGenerado': 'sum', 'mediaEspectadoresPorEquipo': 'mean', 'entradasVendidasPorEquipo': 'sum'})\n",
    "\n",
    "#nos damos cuenta de que china tiene 3 equipos que han generado distintas cantidades de dinero, mientras que españa tiene 2 equipos que han generado la misma cantidad de dinero"
   ],
   "metadata": {
    "collapsed": false,
    "ExecuteTime": {
     "end_time": "2024-03-30T14:42:09.354219Z",
     "start_time": "2024-03-30T14:42:09.346423Z"
    }
   },
   "id": "5c949fc5c1e5d5ee",
   "execution_count": 25
  },
  {
   "cell_type": "markdown",
   "source": [
    "## 6.8. Lectura y escritura de DataFrames\n",
    "### 6.8.1. Escritura de DataFrames desde un fichero CSV"
   ],
   "metadata": {
    "collapsed": false
   },
   "id": "d68e88988a82102c"
  },
  {
   "cell_type": "code",
   "outputs": [],
   "source": [
    "#Escribiremos el DataFrame dfPadelWorldCupDicc en un fichero CSV antes de leerlo porque si no el ejemplo no tendria sentido\n",
    "\n",
    "dfPadelWorldCupDicc.to_csv('padelWorldCupDicc.csv', index=False)\n"
   ],
   "metadata": {
    "collapsed": false,
    "ExecuteTime": {
     "end_time": "2024-03-30T14:42:09.413754Z",
     "start_time": "2024-03-30T14:42:09.408269Z"
    }
   },
   "id": "831cc69b743d7ea5",
   "execution_count": 26
  },
  {
   "cell_type": "markdown",
   "source": [
    "### 6.8.2. Lectura de DataFrames desde un fichero CSV"
   ],
   "metadata": {
    "collapsed": false
   },
   "id": "a31ae7e9bc6ffa31"
  },
  {
   "cell_type": "code",
   "outputs": [
    {
     "data": {
      "text/plain": "   equipoID           nombreEq nombreJug1 nombreJug2  sets_ganados  \\\n0         1  electroingenieros       Juan    Pedrito            11   \n1         2    termonuecleares      Pedro     Adrian            11   \n2         3           ElPAPITO      Pablo      Elena             7   \n3         4           LosPibes      Elena     Blanca            12   \n4         5         herculanos     Carlos        Ana             9   \n5         6         Palilleros   Federico     Carlos            11   \n6         7         MaurosTeam      Mauro       Alex             5   \n7         8     ParricaElMejor      Parra     Teresa             7   \n8         9          Ganadores    Gonzalo       Paco             8   \n9        10          UltraTeam       Sara       Luis             7   \n\n   sets_perdidos  partidos_ganados  partidos_perdidos         enfrentamientos  \\\n0              7                 4                  3  [2, 4, 3, 10, 5, 7, 6]   \n1              7                 4                  3  [1, 8, 10, 7, 4, 6, 9]   \n2             10                 3                  4  [4, 9, 1, 6, 7, 5, 10]   \n3              5                 6                  1  [3, 1, 5, 8, 2, 10, 7]   \n4             10                 3                  4  [6, 10, 4, 9, 1, 3, 8]   \n5              7                 5                  2   [5, 7, 8, 3, 9, 2, 1]   \n6             11                 2                  5   [8, 6, 9, 2, 3, 1, 4]   \n7             11                 3                  4  [7, 2, 6, 4, 10, 9, 5]   \n8              9                 3                  4  [10, 3, 7, 5, 6, 8, 2]   \n9             11                 2                  5   [9, 5, 2, 1, 8, 4, 3]   \n\n   puntos           puntos_por_jornada  dineroGenerado  \\\n0       8     [0, 2, 2, 4, 4, 4, 6, 8]             650   \n1       8     [0, 0, 0, 2, 4, 4, 6, 8]             700   \n2       6     [0, 0, 2, 2, 2, 4, 4, 6]             600   \n3      12   [0, 2, 4, 6, 6, 8, 10, 12]            1200   \n4       6     [0, 0, 2, 2, 2, 4, 6, 6]             600   \n5      10  [0, 2, 4, 6, 8, 10, 10, 10]             950   \n6       4     [0, 0, 0, 2, 2, 2, 2, 4]             500   \n7       6     [0, 2, 4, 4, 6, 6, 6, 6]             600   \n8       6     [0, 2, 2, 2, 4, 4, 6, 6]            1150   \n9       4     [0, 0, 0, 0, 2, 4, 4, 4]             600   \n\n   mediaEspectadoresPorEquipo  entradasVendidasPorEquipo         pais  \n0                         550                        100       España  \n1                         405                         80         EEUU  \n2                         900                         90        China  \n3                         830                         70          URS  \n4                         450                        100        China  \n5                         670                         80        Nepal  \n6                         880                         90  R.D. Congo   \n7                         550                        100       España  \n8                         950                        120        China  \n9                         800                         80      Nigeria  ",
      "text/html": "<div>\n<style scoped>\n    .dataframe tbody tr th:only-of-type {\n        vertical-align: middle;\n    }\n\n    .dataframe tbody tr th {\n        vertical-align: top;\n    }\n\n    .dataframe thead th {\n        text-align: right;\n    }\n</style>\n<table border=\"1\" class=\"dataframe\">\n  <thead>\n    <tr style=\"text-align: right;\">\n      <th></th>\n      <th>equipoID</th>\n      <th>nombreEq</th>\n      <th>nombreJug1</th>\n      <th>nombreJug2</th>\n      <th>sets_ganados</th>\n      <th>sets_perdidos</th>\n      <th>partidos_ganados</th>\n      <th>partidos_perdidos</th>\n      <th>enfrentamientos</th>\n      <th>puntos</th>\n      <th>puntos_por_jornada</th>\n      <th>dineroGenerado</th>\n      <th>mediaEspectadoresPorEquipo</th>\n      <th>entradasVendidasPorEquipo</th>\n      <th>pais</th>\n    </tr>\n  </thead>\n  <tbody>\n    <tr>\n      <th>0</th>\n      <td>1</td>\n      <td>electroingenieros</td>\n      <td>Juan</td>\n      <td>Pedrito</td>\n      <td>11</td>\n      <td>7</td>\n      <td>4</td>\n      <td>3</td>\n      <td>[2, 4, 3, 10, 5, 7, 6]</td>\n      <td>8</td>\n      <td>[0, 2, 2, 4, 4, 4, 6, 8]</td>\n      <td>650</td>\n      <td>550</td>\n      <td>100</td>\n      <td>España</td>\n    </tr>\n    <tr>\n      <th>1</th>\n      <td>2</td>\n      <td>termonuecleares</td>\n      <td>Pedro</td>\n      <td>Adrian</td>\n      <td>11</td>\n      <td>7</td>\n      <td>4</td>\n      <td>3</td>\n      <td>[1, 8, 10, 7, 4, 6, 9]</td>\n      <td>8</td>\n      <td>[0, 0, 0, 2, 4, 4, 6, 8]</td>\n      <td>700</td>\n      <td>405</td>\n      <td>80</td>\n      <td>EEUU</td>\n    </tr>\n    <tr>\n      <th>2</th>\n      <td>3</td>\n      <td>ElPAPITO</td>\n      <td>Pablo</td>\n      <td>Elena</td>\n      <td>7</td>\n      <td>10</td>\n      <td>3</td>\n      <td>4</td>\n      <td>[4, 9, 1, 6, 7, 5, 10]</td>\n      <td>6</td>\n      <td>[0, 0, 2, 2, 2, 4, 4, 6]</td>\n      <td>600</td>\n      <td>900</td>\n      <td>90</td>\n      <td>China</td>\n    </tr>\n    <tr>\n      <th>3</th>\n      <td>4</td>\n      <td>LosPibes</td>\n      <td>Elena</td>\n      <td>Blanca</td>\n      <td>12</td>\n      <td>5</td>\n      <td>6</td>\n      <td>1</td>\n      <td>[3, 1, 5, 8, 2, 10, 7]</td>\n      <td>12</td>\n      <td>[0, 2, 4, 6, 6, 8, 10, 12]</td>\n      <td>1200</td>\n      <td>830</td>\n      <td>70</td>\n      <td>URS</td>\n    </tr>\n    <tr>\n      <th>4</th>\n      <td>5</td>\n      <td>herculanos</td>\n      <td>Carlos</td>\n      <td>Ana</td>\n      <td>9</td>\n      <td>10</td>\n      <td>3</td>\n      <td>4</td>\n      <td>[6, 10, 4, 9, 1, 3, 8]</td>\n      <td>6</td>\n      <td>[0, 0, 2, 2, 2, 4, 6, 6]</td>\n      <td>600</td>\n      <td>450</td>\n      <td>100</td>\n      <td>China</td>\n    </tr>\n    <tr>\n      <th>5</th>\n      <td>6</td>\n      <td>Palilleros</td>\n      <td>Federico</td>\n      <td>Carlos</td>\n      <td>11</td>\n      <td>7</td>\n      <td>5</td>\n      <td>2</td>\n      <td>[5, 7, 8, 3, 9, 2, 1]</td>\n      <td>10</td>\n      <td>[0, 2, 4, 6, 8, 10, 10, 10]</td>\n      <td>950</td>\n      <td>670</td>\n      <td>80</td>\n      <td>Nepal</td>\n    </tr>\n    <tr>\n      <th>6</th>\n      <td>7</td>\n      <td>MaurosTeam</td>\n      <td>Mauro</td>\n      <td>Alex</td>\n      <td>5</td>\n      <td>11</td>\n      <td>2</td>\n      <td>5</td>\n      <td>[8, 6, 9, 2, 3, 1, 4]</td>\n      <td>4</td>\n      <td>[0, 0, 0, 2, 2, 2, 2, 4]</td>\n      <td>500</td>\n      <td>880</td>\n      <td>90</td>\n      <td>R.D. Congo</td>\n    </tr>\n    <tr>\n      <th>7</th>\n      <td>8</td>\n      <td>ParricaElMejor</td>\n      <td>Parra</td>\n      <td>Teresa</td>\n      <td>7</td>\n      <td>11</td>\n      <td>3</td>\n      <td>4</td>\n      <td>[7, 2, 6, 4, 10, 9, 5]</td>\n      <td>6</td>\n      <td>[0, 2, 4, 4, 6, 6, 6, 6]</td>\n      <td>600</td>\n      <td>550</td>\n      <td>100</td>\n      <td>España</td>\n    </tr>\n    <tr>\n      <th>8</th>\n      <td>9</td>\n      <td>Ganadores</td>\n      <td>Gonzalo</td>\n      <td>Paco</td>\n      <td>8</td>\n      <td>9</td>\n      <td>3</td>\n      <td>4</td>\n      <td>[10, 3, 7, 5, 6, 8, 2]</td>\n      <td>6</td>\n      <td>[0, 2, 2, 2, 4, 4, 6, 6]</td>\n      <td>1150</td>\n      <td>950</td>\n      <td>120</td>\n      <td>China</td>\n    </tr>\n    <tr>\n      <th>9</th>\n      <td>10</td>\n      <td>UltraTeam</td>\n      <td>Sara</td>\n      <td>Luis</td>\n      <td>7</td>\n      <td>11</td>\n      <td>2</td>\n      <td>5</td>\n      <td>[9, 5, 2, 1, 8, 4, 3]</td>\n      <td>4</td>\n      <td>[0, 0, 0, 0, 2, 4, 4, 4]</td>\n      <td>600</td>\n      <td>800</td>\n      <td>80</td>\n      <td>Nigeria</td>\n    </tr>\n  </tbody>\n</table>\n</div>"
     },
     "execution_count": 27,
     "metadata": {},
     "output_type": "execute_result"
    }
   ],
   "source": [
    "dfCSV = pd.read_csv('padelWorldCupDicc.csv')\n",
    "dfCSV"
   ],
   "metadata": {
    "collapsed": false,
    "ExecuteTime": {
     "end_time": "2024-03-30T14:42:09.506759Z",
     "start_time": "2024-03-30T14:42:09.493828Z"
    }
   },
   "id": "a98e764ec606da96",
   "execution_count": 27
  },
  {
   "cell_type": "markdown",
   "source": [
    "### 6.8.3. Escritura de DataFrames desde un fichero Excel"
   ],
   "metadata": {
    "collapsed": false
   },
   "id": "2c2cf312a761c5f4"
  },
  {
   "cell_type": "code",
   "outputs": [],
   "source": [
    "dfPadelWorldCupDicc.to_excel('padelWorldCupDicc.xlsx', index=False)"
   ],
   "metadata": {
    "collapsed": false,
    "ExecuteTime": {
     "end_time": "2024-03-30T14:42:09.824872Z",
     "start_time": "2024-03-30T14:42:09.587834Z"
    }
   },
   "id": "78ddcb5dae30073",
   "execution_count": 28
  },
  {
   "cell_type": "markdown",
   "source": [
    "### 6.8.4. Lectura de DataFrames desde un fichero Excel"
   ],
   "metadata": {
    "collapsed": false
   },
   "id": "2ee6b544ecc41795"
  },
  {
   "cell_type": "code",
   "outputs": [
    {
     "data": {
      "text/plain": "   equipoID           nombreEq nombreJug1 nombreJug2  sets_ganados  \\\n0         1  electroingenieros       Juan    Pedrito            11   \n1         2    termonuecleares      Pedro     Adrian            11   \n2         3           ElPAPITO      Pablo      Elena             7   \n3         4           LosPibes      Elena     Blanca            12   \n4         5         herculanos     Carlos        Ana             9   \n5         6         Palilleros   Federico     Carlos            11   \n6         7         MaurosTeam      Mauro       Alex             5   \n7         8     ParricaElMejor      Parra     Teresa             7   \n8         9          Ganadores    Gonzalo       Paco             8   \n9        10          UltraTeam       Sara       Luis             7   \n\n   sets_perdidos  partidos_ganados  partidos_perdidos         enfrentamientos  \\\n0              7                 4                  3  [2, 4, 3, 10, 5, 7, 6]   \n1              7                 4                  3  [1, 8, 10, 7, 4, 6, 9]   \n2             10                 3                  4  [4, 9, 1, 6, 7, 5, 10]   \n3              5                 6                  1  [3, 1, 5, 8, 2, 10, 7]   \n4             10                 3                  4  [6, 10, 4, 9, 1, 3, 8]   \n5              7                 5                  2   [5, 7, 8, 3, 9, 2, 1]   \n6             11                 2                  5   [8, 6, 9, 2, 3, 1, 4]   \n7             11                 3                  4  [7, 2, 6, 4, 10, 9, 5]   \n8              9                 3                  4  [10, 3, 7, 5, 6, 8, 2]   \n9             11                 2                  5   [9, 5, 2, 1, 8, 4, 3]   \n\n   puntos           puntos_por_jornada  dineroGenerado  \\\n0       8     [0, 2, 2, 4, 4, 4, 6, 8]             650   \n1       8     [0, 0, 0, 2, 4, 4, 6, 8]             700   \n2       6     [0, 0, 2, 2, 2, 4, 4, 6]             600   \n3      12   [0, 2, 4, 6, 6, 8, 10, 12]            1200   \n4       6     [0, 0, 2, 2, 2, 4, 6, 6]             600   \n5      10  [0, 2, 4, 6, 8, 10, 10, 10]             950   \n6       4     [0, 0, 0, 2, 2, 2, 2, 4]             500   \n7       6     [0, 2, 4, 4, 6, 6, 6, 6]             600   \n8       6     [0, 2, 2, 2, 4, 4, 6, 6]            1150   \n9       4     [0, 0, 0, 0, 2, 4, 4, 4]             600   \n\n   mediaEspectadoresPorEquipo  entradasVendidasPorEquipo         pais  \n0                         550                        100       España  \n1                         405                         80         EEUU  \n2                         900                         90        China  \n3                         830                         70          URS  \n4                         450                        100        China  \n5                         670                         80        Nepal  \n6                         880                         90  R.D. Congo   \n7                         550                        100       España  \n8                         950                        120        China  \n9                         800                         80      Nigeria  ",
      "text/html": "<div>\n<style scoped>\n    .dataframe tbody tr th:only-of-type {\n        vertical-align: middle;\n    }\n\n    .dataframe tbody tr th {\n        vertical-align: top;\n    }\n\n    .dataframe thead th {\n        text-align: right;\n    }\n</style>\n<table border=\"1\" class=\"dataframe\">\n  <thead>\n    <tr style=\"text-align: right;\">\n      <th></th>\n      <th>equipoID</th>\n      <th>nombreEq</th>\n      <th>nombreJug1</th>\n      <th>nombreJug2</th>\n      <th>sets_ganados</th>\n      <th>sets_perdidos</th>\n      <th>partidos_ganados</th>\n      <th>partidos_perdidos</th>\n      <th>enfrentamientos</th>\n      <th>puntos</th>\n      <th>puntos_por_jornada</th>\n      <th>dineroGenerado</th>\n      <th>mediaEspectadoresPorEquipo</th>\n      <th>entradasVendidasPorEquipo</th>\n      <th>pais</th>\n    </tr>\n  </thead>\n  <tbody>\n    <tr>\n      <th>0</th>\n      <td>1</td>\n      <td>electroingenieros</td>\n      <td>Juan</td>\n      <td>Pedrito</td>\n      <td>11</td>\n      <td>7</td>\n      <td>4</td>\n      <td>3</td>\n      <td>[2, 4, 3, 10, 5, 7, 6]</td>\n      <td>8</td>\n      <td>[0, 2, 2, 4, 4, 4, 6, 8]</td>\n      <td>650</td>\n      <td>550</td>\n      <td>100</td>\n      <td>España</td>\n    </tr>\n    <tr>\n      <th>1</th>\n      <td>2</td>\n      <td>termonuecleares</td>\n      <td>Pedro</td>\n      <td>Adrian</td>\n      <td>11</td>\n      <td>7</td>\n      <td>4</td>\n      <td>3</td>\n      <td>[1, 8, 10, 7, 4, 6, 9]</td>\n      <td>8</td>\n      <td>[0, 0, 0, 2, 4, 4, 6, 8]</td>\n      <td>700</td>\n      <td>405</td>\n      <td>80</td>\n      <td>EEUU</td>\n    </tr>\n    <tr>\n      <th>2</th>\n      <td>3</td>\n      <td>ElPAPITO</td>\n      <td>Pablo</td>\n      <td>Elena</td>\n      <td>7</td>\n      <td>10</td>\n      <td>3</td>\n      <td>4</td>\n      <td>[4, 9, 1, 6, 7, 5, 10]</td>\n      <td>6</td>\n      <td>[0, 0, 2, 2, 2, 4, 4, 6]</td>\n      <td>600</td>\n      <td>900</td>\n      <td>90</td>\n      <td>China</td>\n    </tr>\n    <tr>\n      <th>3</th>\n      <td>4</td>\n      <td>LosPibes</td>\n      <td>Elena</td>\n      <td>Blanca</td>\n      <td>12</td>\n      <td>5</td>\n      <td>6</td>\n      <td>1</td>\n      <td>[3, 1, 5, 8, 2, 10, 7]</td>\n      <td>12</td>\n      <td>[0, 2, 4, 6, 6, 8, 10, 12]</td>\n      <td>1200</td>\n      <td>830</td>\n      <td>70</td>\n      <td>URS</td>\n    </tr>\n    <tr>\n      <th>4</th>\n      <td>5</td>\n      <td>herculanos</td>\n      <td>Carlos</td>\n      <td>Ana</td>\n      <td>9</td>\n      <td>10</td>\n      <td>3</td>\n      <td>4</td>\n      <td>[6, 10, 4, 9, 1, 3, 8]</td>\n      <td>6</td>\n      <td>[0, 0, 2, 2, 2, 4, 6, 6]</td>\n      <td>600</td>\n      <td>450</td>\n      <td>100</td>\n      <td>China</td>\n    </tr>\n    <tr>\n      <th>5</th>\n      <td>6</td>\n      <td>Palilleros</td>\n      <td>Federico</td>\n      <td>Carlos</td>\n      <td>11</td>\n      <td>7</td>\n      <td>5</td>\n      <td>2</td>\n      <td>[5, 7, 8, 3, 9, 2, 1]</td>\n      <td>10</td>\n      <td>[0, 2, 4, 6, 8, 10, 10, 10]</td>\n      <td>950</td>\n      <td>670</td>\n      <td>80</td>\n      <td>Nepal</td>\n    </tr>\n    <tr>\n      <th>6</th>\n      <td>7</td>\n      <td>MaurosTeam</td>\n      <td>Mauro</td>\n      <td>Alex</td>\n      <td>5</td>\n      <td>11</td>\n      <td>2</td>\n      <td>5</td>\n      <td>[8, 6, 9, 2, 3, 1, 4]</td>\n      <td>4</td>\n      <td>[0, 0, 0, 2, 2, 2, 2, 4]</td>\n      <td>500</td>\n      <td>880</td>\n      <td>90</td>\n      <td>R.D. Congo</td>\n    </tr>\n    <tr>\n      <th>7</th>\n      <td>8</td>\n      <td>ParricaElMejor</td>\n      <td>Parra</td>\n      <td>Teresa</td>\n      <td>7</td>\n      <td>11</td>\n      <td>3</td>\n      <td>4</td>\n      <td>[7, 2, 6, 4, 10, 9, 5]</td>\n      <td>6</td>\n      <td>[0, 2, 4, 4, 6, 6, 6, 6]</td>\n      <td>600</td>\n      <td>550</td>\n      <td>100</td>\n      <td>España</td>\n    </tr>\n    <tr>\n      <th>8</th>\n      <td>9</td>\n      <td>Ganadores</td>\n      <td>Gonzalo</td>\n      <td>Paco</td>\n      <td>8</td>\n      <td>9</td>\n      <td>3</td>\n      <td>4</td>\n      <td>[10, 3, 7, 5, 6, 8, 2]</td>\n      <td>6</td>\n      <td>[0, 2, 2, 2, 4, 4, 6, 6]</td>\n      <td>1150</td>\n      <td>950</td>\n      <td>120</td>\n      <td>China</td>\n    </tr>\n    <tr>\n      <th>9</th>\n      <td>10</td>\n      <td>UltraTeam</td>\n      <td>Sara</td>\n      <td>Luis</td>\n      <td>7</td>\n      <td>11</td>\n      <td>2</td>\n      <td>5</td>\n      <td>[9, 5, 2, 1, 8, 4, 3]</td>\n      <td>4</td>\n      <td>[0, 0, 0, 0, 2, 4, 4, 4]</td>\n      <td>600</td>\n      <td>800</td>\n      <td>80</td>\n      <td>Nigeria</td>\n    </tr>\n  </tbody>\n</table>\n</div>"
     },
     "execution_count": 29,
     "metadata": {},
     "output_type": "execute_result"
    }
   ],
   "source": [
    "dfExcel = pd.read_excel('padelWorldCupDicc.xlsx')\n",
    "dfExcel"
   ],
   "metadata": {
    "collapsed": false,
    "ExecuteTime": {
     "end_time": "2024-03-30T14:42:09.846186Z",
     "start_time": "2024-03-30T14:42:09.825874Z"
    }
   },
   "id": "59ec11e7678ca122",
   "execution_count": 29
  },
  {
   "cell_type": "markdown",
   "source": [
    "# 6.9. Conclusiones\n",
    "\n",
    "En esta sesion hemos visto como usar pandas para crear diferentes tipos de DataFrames y como accederr a ellos para manejar la informacion que contienen. Esto resulta muy util para aplicaciones a la inteligencia artificial donde el filtrado de datos es muy importante.\n"
   ],
   "metadata": {
    "collapsed": false
   },
   "id": "bc7912fa1e2cae7f"
  },
  {
   "cell_type": "markdown",
   "source": [],
   "metadata": {
    "collapsed": false
   },
   "id": "ffd3127857aaca69"
  }
 ],
 "metadata": {
  "kernelspec": {
   "display_name": "Python 3 (ipykernel)",
   "language": "python",
   "name": "python3"
  },
  "language_info": {
   "codemirror_mode": {
    "name": "ipython",
    "version": 3
   },
   "file_extension": ".py",
   "mimetype": "text/x-python",
   "name": "python",
   "nbconvert_exporter": "python",
   "pygments_lexer": "ipython3",
   "version": "3.12.0"
  }
 },
 "nbformat": 4,
 "nbformat_minor": 5
}
