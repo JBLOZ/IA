{
 "cells": [
  {
   "cell_type": "markdown",
   "id": "2b8c1db909e5435e",
   "metadata": {
    "collapsed": false
   },
   "source": [
    "# Jordi Blasco Lozano"
   ]
  },
  {
   "cell_type": "code",
   "execution_count": 2,
   "id": "c0b868644575b05a",
   "metadata": {
    "collapsed": false,
    "ExecuteTime": {
     "end_time": "2024-03-09T19:28:30.160009Z",
     "start_time": "2024-03-09T19:28:30.157182Z"
    }
   },
   "outputs": [],
   "source": [
    "import pandas as pd"
   ]
  },
  {
   "cell_type": "markdown",
   "id": "ffabc80742c1168e",
   "metadata": {
    "collapsed": false
   },
   "source": [
    "## 6.1 Creacion de DataFrames\n",
    "   ### 6.1.1. Creacion de un DataFrame a partir de un diccionario:"
   ]
  },
  {
   "cell_type": "code",
   "execution_count": 47,
   "id": "6f20845268eb690b",
   "metadata": {
    "collapsed": false,
    "ExecuteTime": {
     "end_time": "2024-03-09T20:30:42.113758Z",
     "start_time": "2024-03-09T20:30:42.102592Z"
    }
   },
   "outputs": [
    {
     "data": {
      "text/plain": "   equipoID           nombreEq nombreJug1 nombreJug2  sets_ganados  \\\n0         1  electroingenieros       Juan    Pedrito            11   \n1         2    termonuecleares      Pedro     Adrian            11   \n2         3           ElPAPITO      Pablo      Elena             7   \n3         4           LosPibes      Elena     Blanca            12   \n4         5         herculanos     Carlos        Ana             9   \n5         6         Palilleros   Federico     Carlos            11   \n6         7         MaurosTeam      Mauro       Alex             5   \n7         8     ParricaElMejor      Parra     Teresa             7   \n8         9          Ganadores    Gonzalo       Paco             8   \n9        10          UltraTeam     Ulises       Luis             7   \n\n   sets_perdidos  partidos_ganados  partidos_perdidos         enfrentamientos  \\\n0              7                 4                  3  [2, 4, 3, 10, 5, 7, 6]   \n1              7                 4                  3  [1, 8, 10, 7, 4, 6, 9]   \n2             10                 3                  4  [4, 9, 1, 6, 7, 5, 10]   \n3              5                 6                  1  [3, 1, 5, 8, 2, 10, 7]   \n4             10                 3                  4  [6, 10, 4, 9, 1, 3, 8]   \n5              7                 5                  2   [5, 7, 8, 3, 9, 2, 1]   \n6             11                 2                  5   [8, 6, 9, 2, 3, 1, 4]   \n7             11                 3                  4  [7, 2, 6, 4, 10, 9, 5]   \n8              9                 3                  4  [10, 3, 7, 5, 6, 8, 2]   \n9             11                 2                  5   [9, 5, 2, 1, 8, 4, 3]   \n\n   puntos  dineroGenerado  mediaEspectadoresPorEquipo  \\\n0       8             650                         550   \n1       8             700                         405   \n2       6             600                         900   \n3      12            1200                         830   \n4       6             600                         450   \n5      10             950                         670   \n6       4             500                         880   \n7       6             600                         550   \n8       6             800                        1220   \n9       4             600                         800   \n\n   entradasVendidasPorEquipo  \n0                        100  \n1                         80  \n2                         90  \n3                         70  \n4                        100  \n5                         80  \n6                         90  \n7                        100  \n8                        120  \n9                         80  ",
      "text/html": "<div>\n<style scoped>\n    .dataframe tbody tr th:only-of-type {\n        vertical-align: middle;\n    }\n\n    .dataframe tbody tr th {\n        vertical-align: top;\n    }\n\n    .dataframe thead th {\n        text-align: right;\n    }\n</style>\n<table border=\"1\" class=\"dataframe\">\n  <thead>\n    <tr style=\"text-align: right;\">\n      <th></th>\n      <th>equipoID</th>\n      <th>nombreEq</th>\n      <th>nombreJug1</th>\n      <th>nombreJug2</th>\n      <th>sets_ganados</th>\n      <th>sets_perdidos</th>\n      <th>partidos_ganados</th>\n      <th>partidos_perdidos</th>\n      <th>enfrentamientos</th>\n      <th>puntos</th>\n      <th>dineroGenerado</th>\n      <th>mediaEspectadoresPorEquipo</th>\n      <th>entradasVendidasPorEquipo</th>\n    </tr>\n  </thead>\n  <tbody>\n    <tr>\n      <th>0</th>\n      <td>1</td>\n      <td>electroingenieros</td>\n      <td>Juan</td>\n      <td>Pedrito</td>\n      <td>11</td>\n      <td>7</td>\n      <td>4</td>\n      <td>3</td>\n      <td>[2, 4, 3, 10, 5, 7, 6]</td>\n      <td>8</td>\n      <td>650</td>\n      <td>550</td>\n      <td>100</td>\n    </tr>\n    <tr>\n      <th>1</th>\n      <td>2</td>\n      <td>termonuecleares</td>\n      <td>Pedro</td>\n      <td>Adrian</td>\n      <td>11</td>\n      <td>7</td>\n      <td>4</td>\n      <td>3</td>\n      <td>[1, 8, 10, 7, 4, 6, 9]</td>\n      <td>8</td>\n      <td>700</td>\n      <td>405</td>\n      <td>80</td>\n    </tr>\n    <tr>\n      <th>2</th>\n      <td>3</td>\n      <td>ElPAPITO</td>\n      <td>Pablo</td>\n      <td>Elena</td>\n      <td>7</td>\n      <td>10</td>\n      <td>3</td>\n      <td>4</td>\n      <td>[4, 9, 1, 6, 7, 5, 10]</td>\n      <td>6</td>\n      <td>600</td>\n      <td>900</td>\n      <td>90</td>\n    </tr>\n    <tr>\n      <th>3</th>\n      <td>4</td>\n      <td>LosPibes</td>\n      <td>Elena</td>\n      <td>Blanca</td>\n      <td>12</td>\n      <td>5</td>\n      <td>6</td>\n      <td>1</td>\n      <td>[3, 1, 5, 8, 2, 10, 7]</td>\n      <td>12</td>\n      <td>1200</td>\n      <td>830</td>\n      <td>70</td>\n    </tr>\n    <tr>\n      <th>4</th>\n      <td>5</td>\n      <td>herculanos</td>\n      <td>Carlos</td>\n      <td>Ana</td>\n      <td>9</td>\n      <td>10</td>\n      <td>3</td>\n      <td>4</td>\n      <td>[6, 10, 4, 9, 1, 3, 8]</td>\n      <td>6</td>\n      <td>600</td>\n      <td>450</td>\n      <td>100</td>\n    </tr>\n    <tr>\n      <th>5</th>\n      <td>6</td>\n      <td>Palilleros</td>\n      <td>Federico</td>\n      <td>Carlos</td>\n      <td>11</td>\n      <td>7</td>\n      <td>5</td>\n      <td>2</td>\n      <td>[5, 7, 8, 3, 9, 2, 1]</td>\n      <td>10</td>\n      <td>950</td>\n      <td>670</td>\n      <td>80</td>\n    </tr>\n    <tr>\n      <th>6</th>\n      <td>7</td>\n      <td>MaurosTeam</td>\n      <td>Mauro</td>\n      <td>Alex</td>\n      <td>5</td>\n      <td>11</td>\n      <td>2</td>\n      <td>5</td>\n      <td>[8, 6, 9, 2, 3, 1, 4]</td>\n      <td>4</td>\n      <td>500</td>\n      <td>880</td>\n      <td>90</td>\n    </tr>\n    <tr>\n      <th>7</th>\n      <td>8</td>\n      <td>ParricaElMejor</td>\n      <td>Parra</td>\n      <td>Teresa</td>\n      <td>7</td>\n      <td>11</td>\n      <td>3</td>\n      <td>4</td>\n      <td>[7, 2, 6, 4, 10, 9, 5]</td>\n      <td>6</td>\n      <td>600</td>\n      <td>550</td>\n      <td>100</td>\n    </tr>\n    <tr>\n      <th>8</th>\n      <td>9</td>\n      <td>Ganadores</td>\n      <td>Gonzalo</td>\n      <td>Paco</td>\n      <td>8</td>\n      <td>9</td>\n      <td>3</td>\n      <td>4</td>\n      <td>[10, 3, 7, 5, 6, 8, 2]</td>\n      <td>6</td>\n      <td>800</td>\n      <td>1220</td>\n      <td>120</td>\n    </tr>\n    <tr>\n      <th>9</th>\n      <td>10</td>\n      <td>UltraTeam</td>\n      <td>Ulises</td>\n      <td>Luis</td>\n      <td>7</td>\n      <td>11</td>\n      <td>2</td>\n      <td>5</td>\n      <td>[9, 5, 2, 1, 8, 4, 3]</td>\n      <td>4</td>\n      <td>600</td>\n      <td>800</td>\n      <td>80</td>\n    </tr>\n  </tbody>\n</table>\n</div>"
     },
     "execution_count": 47,
     "metadata": {},
     "output_type": "execute_result"
    }
   ],
   "source": [
    "padelWorldCupDicc = {\n",
    "    'equipoID':     [1,2,3,4,5,6,7,8,9,10],\n",
    "    'nombreEq':     ['electroingenieros','termonuecleares','ElPAPITO','LosPibes','herculanos','Palilleros','MaurosTeam','ParricaElMejor', 'Ganadores','UltraTeam'],\n",
    "    'nombreJug1':   ['Juan','Pedro','Pablo','Elena','Carlos','Federico','Mauro','Parra','Gonzalo','Ulises'],\n",
    "    'nombreJug2':   ['Pedrito','Adrian','Elena','Blanca','Ana','Carlos','Alex','Teresa','Paco','Luis'],\n",
    "    'sets_ganados': [11, 11, 7, 12, 9, 11, 5, 7, 8, 7],\n",
    "    'sets_perdidos': [7, 7, 10, 5, 10, 7, 11, 11, 9, 11],\n",
    "    'partidos_ganados': [4, 4, 3, 6, 3, 5, 2, 3, 3, 2],\n",
    "    'partidos_perdidos': [3, 3, 4, 1, 4, 2, 5, 4, 4, 5],\n",
    "    'enfrentamientos': [[2, 4, 3, 10, 5, 7, 6], \n",
    "                   [1, 8, 10, 7, 4, 6, 9],\n",
    "                   [4, 9, 1, 6, 7, 5, 10],\n",
    "                   [3, 1, 5, 8, 2, 10, 7],\n",
    "                   [6, 10, 4, 9, 1, 3, 8],\n",
    "                   [5, 7, 8, 3, 9, 2, 1],\n",
    "                   [8, 6, 9, 2, 3, 1, 4],\n",
    "                   [7, 2, 6, 4, 10, 9, 5],\n",
    "                   [10, 3, 7, 5, 6, 8, 2],\n",
    "                   [9, 5, 2, 1, 8, 4, 3]],\n",
    "    'puntos': [8, 8, 6, 12, 6, 10, 4, 6, 6, 4], \n",
    "    'dineroGenerado': [650, 700, 600, 1200, 600, 950, 500, 600, 800, 600], \n",
    "    'mediaEspectadoresPorEquipo': [550, 405, 900, 830, 450, 670, 880, 550, 1220, 800], #se calcula dividiendo entre 2 el total de espectadores de los enfrentamientos de cada equipo\n",
    "    'entradasVendidasPorEquipo': [100, 80, 90, 70, 100, 80, 90, 100, 120, 80], #se calcula dividiendo entre 2 el total de entradas vendidas de los enfrentamientos de cada equipo\n",
    "}\n",
    "\n",
    "dfPadelWorldCupDicc = pd.DataFrame(padelWorldCupDicc)\n",
    "dfPadelWorldCupDicc"
   ]
  },
  {
   "cell_type": "markdown",
   "id": "d7b7c985544a3f44",
   "metadata": {
    "collapsed": false
   },
   "source": [
    "### 6.1.2. Creacion de un DataFrame a partir de una lista de diccionarios:"
   ]
  },
  {
   "cell_type": "code",
   "execution_count": 9,
   "id": "3af121e6ea243727",
   "metadata": {
    "collapsed": false,
    "ExecuteTime": {
     "end_time": "2024-03-09T19:32:15.574269Z",
     "start_time": "2024-03-09T19:32:15.560990Z"
    }
   },
   "outputs": [
    {
     "data": {
      "text/plain": "   equipoID           nombreEq nombreJug1 nombreJug2  sets_ganados  \\\n0         1  electroingenieros       Juan    Pedrito             8   \n1         2    termonuecleares      Pedro     Adrian             8   \n2         3           ElPAPITO      Pablo      Elena             7   \n3         4           LosPibes      Elena     Blanca            12   \n4         5         herculanos     Carlos        Ana             9   \n5         6         Palilleros   Federico     Carlos            11   \n6         7         MaurosTeam      Mauro       Alex             5   \n7         8     ParricaElMejor      Parra     Teresa             7   \n8         9          Ganadores    Gonzalo       Paco             8   \n9        10          UltraTeam     Ulises       Luis             7   \n\n   sets_perdidos  partidos_ganados  partidos_perdidos         enfrentamientos  \\\n0              4                 4                  3  [2, 4, 3, 10, 5, 7, 6]   \n1              4                 4                  3  [1, 8, 10, 7, 4, 6, 9]   \n2             10                 3                  4  [4, 9, 1, 6, 7, 5, 10]   \n3              5                 6                  1  [3, 1, 5, 8, 2, 10, 7]   \n4             10                 3                  4  [6, 10, 4, 9, 1, 3, 8]   \n5              7                 5                  2   [5, 7, 8, 3, 9, 2, 1]   \n6             11                 2                  5   [8, 6, 9, 2, 3, 1, 4]   \n7             11                 3                  4  [7, 2, 6, 4, 10, 9, 5]   \n8              9                 3                  4  [10, 3, 7, 5, 6, 8, 2]   \n9             11                 2                  5   [9, 5, 2, 1, 8, 4, 3]   \n\n   puntos  dineroGenerado  mediaEspectadoresPorEquipo  \\\n0       8             300                        1000   \n1       8             200                         800   \n2       6             250                         900   \n3      12             150                         700   \n4       6             300                        1000   \n5      10             200                         800   \n6       4             250                         900   \n7       6             300                        1000   \n8       6             400                        1200   \n9       4             200                         800   \n\n   entradasVendidasPorEquipo  \n0                        100  \n1                         80  \n2                         90  \n3                         70  \n4                        100  \n5                         80  \n6                         90  \n7                        100  \n8                        120  \n9                         80  ",
      "text/html": "<div>\n<style scoped>\n    .dataframe tbody tr th:only-of-type {\n        vertical-align: middle;\n    }\n\n    .dataframe tbody tr th {\n        vertical-align: top;\n    }\n\n    .dataframe thead th {\n        text-align: right;\n    }\n</style>\n<table border=\"1\" class=\"dataframe\">\n  <thead>\n    <tr style=\"text-align: right;\">\n      <th></th>\n      <th>equipoID</th>\n      <th>nombreEq</th>\n      <th>nombreJug1</th>\n      <th>nombreJug2</th>\n      <th>sets_ganados</th>\n      <th>sets_perdidos</th>\n      <th>partidos_ganados</th>\n      <th>partidos_perdidos</th>\n      <th>enfrentamientos</th>\n      <th>puntos</th>\n      <th>dineroGenerado</th>\n      <th>mediaEspectadoresPorEquipo</th>\n      <th>entradasVendidasPorEquipo</th>\n    </tr>\n  </thead>\n  <tbody>\n    <tr>\n      <th>0</th>\n      <td>1</td>\n      <td>electroingenieros</td>\n      <td>Juan</td>\n      <td>Pedrito</td>\n      <td>8</td>\n      <td>4</td>\n      <td>4</td>\n      <td>3</td>\n      <td>[2, 4, 3, 10, 5, 7, 6]</td>\n      <td>8</td>\n      <td>300</td>\n      <td>1000</td>\n      <td>100</td>\n    </tr>\n    <tr>\n      <th>1</th>\n      <td>2</td>\n      <td>termonuecleares</td>\n      <td>Pedro</td>\n      <td>Adrian</td>\n      <td>8</td>\n      <td>4</td>\n      <td>4</td>\n      <td>3</td>\n      <td>[1, 8, 10, 7, 4, 6, 9]</td>\n      <td>8</td>\n      <td>200</td>\n      <td>800</td>\n      <td>80</td>\n    </tr>\n    <tr>\n      <th>2</th>\n      <td>3</td>\n      <td>ElPAPITO</td>\n      <td>Pablo</td>\n      <td>Elena</td>\n      <td>7</td>\n      <td>10</td>\n      <td>3</td>\n      <td>4</td>\n      <td>[4, 9, 1, 6, 7, 5, 10]</td>\n      <td>6</td>\n      <td>250</td>\n      <td>900</td>\n      <td>90</td>\n    </tr>\n    <tr>\n      <th>3</th>\n      <td>4</td>\n      <td>LosPibes</td>\n      <td>Elena</td>\n      <td>Blanca</td>\n      <td>12</td>\n      <td>5</td>\n      <td>6</td>\n      <td>1</td>\n      <td>[3, 1, 5, 8, 2, 10, 7]</td>\n      <td>12</td>\n      <td>150</td>\n      <td>700</td>\n      <td>70</td>\n    </tr>\n    <tr>\n      <th>4</th>\n      <td>5</td>\n      <td>herculanos</td>\n      <td>Carlos</td>\n      <td>Ana</td>\n      <td>9</td>\n      <td>10</td>\n      <td>3</td>\n      <td>4</td>\n      <td>[6, 10, 4, 9, 1, 3, 8]</td>\n      <td>6</td>\n      <td>300</td>\n      <td>1000</td>\n      <td>100</td>\n    </tr>\n    <tr>\n      <th>5</th>\n      <td>6</td>\n      <td>Palilleros</td>\n      <td>Federico</td>\n      <td>Carlos</td>\n      <td>11</td>\n      <td>7</td>\n      <td>5</td>\n      <td>2</td>\n      <td>[5, 7, 8, 3, 9, 2, 1]</td>\n      <td>10</td>\n      <td>200</td>\n      <td>800</td>\n      <td>80</td>\n    </tr>\n    <tr>\n      <th>6</th>\n      <td>7</td>\n      <td>MaurosTeam</td>\n      <td>Mauro</td>\n      <td>Alex</td>\n      <td>5</td>\n      <td>11</td>\n      <td>2</td>\n      <td>5</td>\n      <td>[8, 6, 9, 2, 3, 1, 4]</td>\n      <td>4</td>\n      <td>250</td>\n      <td>900</td>\n      <td>90</td>\n    </tr>\n    <tr>\n      <th>7</th>\n      <td>8</td>\n      <td>ParricaElMejor</td>\n      <td>Parra</td>\n      <td>Teresa</td>\n      <td>7</td>\n      <td>11</td>\n      <td>3</td>\n      <td>4</td>\n      <td>[7, 2, 6, 4, 10, 9, 5]</td>\n      <td>6</td>\n      <td>300</td>\n      <td>1000</td>\n      <td>100</td>\n    </tr>\n    <tr>\n      <th>8</th>\n      <td>9</td>\n      <td>Ganadores</td>\n      <td>Gonzalo</td>\n      <td>Paco</td>\n      <td>8</td>\n      <td>9</td>\n      <td>3</td>\n      <td>4</td>\n      <td>[10, 3, 7, 5, 6, 8, 2]</td>\n      <td>6</td>\n      <td>400</td>\n      <td>1200</td>\n      <td>120</td>\n    </tr>\n    <tr>\n      <th>9</th>\n      <td>10</td>\n      <td>UltraTeam</td>\n      <td>Ulises</td>\n      <td>Luis</td>\n      <td>7</td>\n      <td>11</td>\n      <td>2</td>\n      <td>5</td>\n      <td>[9, 5, 2, 1, 8, 4, 3]</td>\n      <td>4</td>\n      <td>200</td>\n      <td>800</td>\n      <td>80</td>\n    </tr>\n  </tbody>\n</table>\n</div>"
     },
     "execution_count": 9,
     "metadata": {},
     "output_type": "execute_result"
    }
   ],
   "source": [
    "padelWorldCupListDicc = [\n",
    "    {'equipoID': 1, 'nombreEq': 'electroingenieros', 'nombreJug1': 'Juan', 'nombreJug2': 'Pedrito', 'sets_ganados': 8, 'sets_perdidos': 4, 'partidos_ganados': 4, 'partidos_perdidos': 3, 'enfrentamientos': [2, 4, 3, 10, 5, 7, 6], 'puntos': 8, 'dineroGenerado': 300, 'mediaEspectadoresPorEquipo': 1000, 'entradasVendidasPorEquipo': 100},\n",
    "    {'equipoID': 2, 'nombreEq': 'termonuecleares', 'nombreJug1': 'Pedro', 'nombreJug2': 'Adrian', 'sets_ganados': 8, 'sets_perdidos': 4, 'partidos_ganados': 4, 'partidos_perdidos': 3, 'enfrentamientos': [1, 8, 10, 7, 4, 6, 9], 'puntos': 8, 'dineroGenerado': 200, 'mediaEspectadoresPorEquipo': 800, 'entradasVendidasPorEquipo': 80},\n",
    "    {'equipoID': 3, 'nombreEq': 'ElPAPITO', 'nombreJug1': 'Pablo', 'nombreJug2': 'Elena', 'sets_ganados': 7, 'sets_perdidos': 10, 'partidos_ganados': 3, 'partidos_perdidos': 4, 'enfrentamientos': [4, 9, 1, 6, 7, 5, 10], 'puntos': 6, 'dineroGenerado': 250, 'mediaEspectadoresPorEquipo': 900, 'entradasVendidasPorEquipo': 90},\n",
    "    {'equipoID': 4, 'nombreEq': 'LosPibes', 'nombreJug1': 'Elena', 'nombreJug2': 'Blanca', 'sets_ganados': 12, 'sets_perdidos': 5, 'partidos_ganados': 6, 'partidos_perdidos': 1, 'enfrentamientos': [3, 1, 5, 8, 2, 10, 7], 'puntos': 12, 'dineroGenerado': 150, 'mediaEspectadoresPorEquipo': 700, 'entradasVendidasPorEquipo': 70},\n",
    "    {'equipoID': 5, 'nombreEq': 'herculanos', 'nombreJug1': 'Carlos', 'nombreJug2': 'Ana', 'sets_ganados': 9, 'sets_perdidos': 10, 'partidos_ganados': 3, 'partidos_perdidos': 4, 'enfrentamientos': [6, 10, 4, 9, 1, 3, 8], 'puntos': 6, 'dineroGenerado': 300, 'mediaEspectadoresPorEquipo': 1000, 'entradasVendidasPorEquipo': 100},\n",
    "    {'equipoID': 6, 'nombreEq': 'Palilleros', 'nombreJug1': 'Federico', 'nombreJug2': 'Carlos', 'sets_ganados': 11, 'sets_perdidos': 7, 'partidos_ganados': 5, 'partidos_perdidos': 2, 'enfrentamientos': [5, 7, 8, 3, 9, 2, 1], 'puntos': 10, 'dineroGenerado': 200, 'mediaEspectadoresPorEquipo': 800, 'entradasVendidasPorEquipo': 80},\n",
    "    {'equipoID': 7, 'nombreEq': 'MaurosTeam', 'nombreJug1': 'Mauro', 'nombreJug2': 'Alex', 'sets_ganados': 5, 'sets_perdidos': 11, 'partidos_ganados': 2, 'partidos_perdidos': 5, 'enfrentamientos': [8, 6, 9, 2, 3, 1, 4], 'puntos': 4, 'dineroGenerado': 250, 'mediaEspectadoresPorEquipo': 900, 'entradasVendidasPorEquipo': 90},\n",
    "    {'equipoID': 8, 'nombreEq': 'ParricaElMejor', 'nombreJug1': 'Parra', 'nombreJug2': 'Teresa', 'sets_ganados': 7, 'sets_perdidos': 11, 'partidos_ganados': 3, 'partidos_perdidos': 4, 'enfrentamientos': [7, 2, 6, 4, 10, 9, 5], 'puntos': 6, 'dineroGenerado': 300, 'mediaEspectadoresPorEquipo': 1000, 'entradasVendidasPorEquipo': 100},\n",
    "    {'equipoID': 9, 'nombreEq': 'Ganadores', 'nombreJug1': 'Gonzalo', 'nombreJug2': 'Paco', 'sets_ganados': 8, 'sets_perdidos': 9, 'partidos_ganados': 3, 'partidos_perdidos': 4, 'enfrentamientos': [10, 3, 7, 5, 6, 8, 2], 'puntos': 6, 'dineroGenerado': 400, 'mediaEspectadoresPorEquipo': 1200, 'entradasVendidasPorEquipo': 120},\n",
    "    {'equipoID': 10, 'nombreEq': 'UltraTeam', 'nombreJug1': 'Ulises', 'nombreJug2': 'Luis', 'sets_ganados': 7, 'sets_perdidos': 11, 'partidos_ganados': 2, 'partidos_perdidos': 5, 'enfrentamientos': [9, 5, 2, 1, 8, 4, 3], 'puntos': 4, 'dineroGenerado': 200, 'mediaEspectadoresPorEquipo': 800, 'entradasVendidasPorEquipo': 80}\n",
    "]\n",
    "dfPadelWorldCupListDicc = pd.DataFrame(padelWorldCupListDicc)\n",
    "dfPadelWorldCupListDicc\n"
   ]
  },
  {
   "cell_type": "markdown",
   "id": "ae5bc106f274ea00",
   "metadata": {
    "collapsed": false
   },
   "source": [
    "### 6.1.3. Creacion de un DataFrame a partir de un lista de listas:\n",
    "para crear el DataFrame a partir de una lista de listas, primero se crea la lista de listas y luego se crea el DataFrame con la lista de listas como argumento del constructor de DataFrame."
   ]
  },
  {
   "cell_type": "code",
   "execution_count": 11,
   "id": "de63eedd73c02c60",
   "metadata": {
    "collapsed": false,
    "ExecuteTime": {
     "end_time": "2024-03-09T19:33:17.142519Z",
     "start_time": "2024-03-09T19:33:17.131718Z"
    }
   },
   "outputs": [
    {
     "data": {
      "text/plain": "   equipoID           nombreEq nombreJug1 nombreJug2  sets_ganados  \\\n0         1  electroingenieros       Juan    Pedrito             8   \n1         2    termonuecleares      Pedro     Adrian             8   \n2         3           ElPAPITO      Pablo      Elena             7   \n3         4           LosPibes      Elena     Blanca            12   \n4         5         herculanos     Carlos        Ana             9   \n5         6         Palilleros   Federico     Carlos            11   \n6         7         MaurosTeam      Mauro       Alex             5   \n7         8     ParricaElMejor      Parra     Teresa             7   \n8         9          Ganadores    Gonzalo       Paco             8   \n9        10          UltraTeam     Ulises       Luis             7   \n\n   sets_perdidos  partidos_ganados  partidos_perdidos         enfrentamientos  \\\n0              4                 4                  3  [2, 4, 3, 10, 5, 7, 6]   \n1              4                 4                  3  [1, 8, 10, 7, 4, 6, 9]   \n2             10                 3                  4  [4, 9, 1, 6, 7, 5, 10]   \n3              5                 6                  1  [3, 1, 5, 8, 2, 10, 7]   \n4             10                 3                  4  [6, 10, 4, 9, 1, 3, 8]   \n5              7                 5                  2   [5, 7, 8, 3, 9, 2, 1]   \n6             11                 2                  5   [8, 6, 9, 2, 3, 1, 4]   \n7             11                 3                  4  [7, 2, 6, 4, 10, 9, 5]   \n8              9                 3                  4  [10, 3, 7, 5, 6, 8, 2]   \n9             11                 2                  5   [9, 5, 2, 1, 8, 4, 3]   \n\n   puntos  dineroGenerado  mediaEspectadoresPorEquipo  \\\n0       8             300                        1000   \n1       8             200                         800   \n2       6             250                         900   \n3      12             150                         700   \n4       6             300                        1000   \n5      10             200                         800   \n6       4             250                         900   \n7       6             300                        1000   \n8       6             400                        1200   \n9       4             200                         800   \n\n   entradasVendidasPorEquipo  \n0                        100  \n1                         80  \n2                         90  \n3                         70  \n4                        100  \n5                         80  \n6                         90  \n7                        100  \n8                        120  \n9                         80  ",
      "text/html": "<div>\n<style scoped>\n    .dataframe tbody tr th:only-of-type {\n        vertical-align: middle;\n    }\n\n    .dataframe tbody tr th {\n        vertical-align: top;\n    }\n\n    .dataframe thead th {\n        text-align: right;\n    }\n</style>\n<table border=\"1\" class=\"dataframe\">\n  <thead>\n    <tr style=\"text-align: right;\">\n      <th></th>\n      <th>equipoID</th>\n      <th>nombreEq</th>\n      <th>nombreJug1</th>\n      <th>nombreJug2</th>\n      <th>sets_ganados</th>\n      <th>sets_perdidos</th>\n      <th>partidos_ganados</th>\n      <th>partidos_perdidos</th>\n      <th>enfrentamientos</th>\n      <th>puntos</th>\n      <th>dineroGenerado</th>\n      <th>mediaEspectadoresPorEquipo</th>\n      <th>entradasVendidasPorEquipo</th>\n    </tr>\n  </thead>\n  <tbody>\n    <tr>\n      <th>0</th>\n      <td>1</td>\n      <td>electroingenieros</td>\n      <td>Juan</td>\n      <td>Pedrito</td>\n      <td>8</td>\n      <td>4</td>\n      <td>4</td>\n      <td>3</td>\n      <td>[2, 4, 3, 10, 5, 7, 6]</td>\n      <td>8</td>\n      <td>300</td>\n      <td>1000</td>\n      <td>100</td>\n    </tr>\n    <tr>\n      <th>1</th>\n      <td>2</td>\n      <td>termonuecleares</td>\n      <td>Pedro</td>\n      <td>Adrian</td>\n      <td>8</td>\n      <td>4</td>\n      <td>4</td>\n      <td>3</td>\n      <td>[1, 8, 10, 7, 4, 6, 9]</td>\n      <td>8</td>\n      <td>200</td>\n      <td>800</td>\n      <td>80</td>\n    </tr>\n    <tr>\n      <th>2</th>\n      <td>3</td>\n      <td>ElPAPITO</td>\n      <td>Pablo</td>\n      <td>Elena</td>\n      <td>7</td>\n      <td>10</td>\n      <td>3</td>\n      <td>4</td>\n      <td>[4, 9, 1, 6, 7, 5, 10]</td>\n      <td>6</td>\n      <td>250</td>\n      <td>900</td>\n      <td>90</td>\n    </tr>\n    <tr>\n      <th>3</th>\n      <td>4</td>\n      <td>LosPibes</td>\n      <td>Elena</td>\n      <td>Blanca</td>\n      <td>12</td>\n      <td>5</td>\n      <td>6</td>\n      <td>1</td>\n      <td>[3, 1, 5, 8, 2, 10, 7]</td>\n      <td>12</td>\n      <td>150</td>\n      <td>700</td>\n      <td>70</td>\n    </tr>\n    <tr>\n      <th>4</th>\n      <td>5</td>\n      <td>herculanos</td>\n      <td>Carlos</td>\n      <td>Ana</td>\n      <td>9</td>\n      <td>10</td>\n      <td>3</td>\n      <td>4</td>\n      <td>[6, 10, 4, 9, 1, 3, 8]</td>\n      <td>6</td>\n      <td>300</td>\n      <td>1000</td>\n      <td>100</td>\n    </tr>\n    <tr>\n      <th>5</th>\n      <td>6</td>\n      <td>Palilleros</td>\n      <td>Federico</td>\n      <td>Carlos</td>\n      <td>11</td>\n      <td>7</td>\n      <td>5</td>\n      <td>2</td>\n      <td>[5, 7, 8, 3, 9, 2, 1]</td>\n      <td>10</td>\n      <td>200</td>\n      <td>800</td>\n      <td>80</td>\n    </tr>\n    <tr>\n      <th>6</th>\n      <td>7</td>\n      <td>MaurosTeam</td>\n      <td>Mauro</td>\n      <td>Alex</td>\n      <td>5</td>\n      <td>11</td>\n      <td>2</td>\n      <td>5</td>\n      <td>[8, 6, 9, 2, 3, 1, 4]</td>\n      <td>4</td>\n      <td>250</td>\n      <td>900</td>\n      <td>90</td>\n    </tr>\n    <tr>\n      <th>7</th>\n      <td>8</td>\n      <td>ParricaElMejor</td>\n      <td>Parra</td>\n      <td>Teresa</td>\n      <td>7</td>\n      <td>11</td>\n      <td>3</td>\n      <td>4</td>\n      <td>[7, 2, 6, 4, 10, 9, 5]</td>\n      <td>6</td>\n      <td>300</td>\n      <td>1000</td>\n      <td>100</td>\n    </tr>\n    <tr>\n      <th>8</th>\n      <td>9</td>\n      <td>Ganadores</td>\n      <td>Gonzalo</td>\n      <td>Paco</td>\n      <td>8</td>\n      <td>9</td>\n      <td>3</td>\n      <td>4</td>\n      <td>[10, 3, 7, 5, 6, 8, 2]</td>\n      <td>6</td>\n      <td>400</td>\n      <td>1200</td>\n      <td>120</td>\n    </tr>\n    <tr>\n      <th>9</th>\n      <td>10</td>\n      <td>UltraTeam</td>\n      <td>Ulises</td>\n      <td>Luis</td>\n      <td>7</td>\n      <td>11</td>\n      <td>2</td>\n      <td>5</td>\n      <td>[9, 5, 2, 1, 8, 4, 3]</td>\n      <td>4</td>\n      <td>200</td>\n      <td>800</td>\n      <td>80</td>\n    </tr>\n  </tbody>\n</table>\n</div>"
     },
     "execution_count": 11,
     "metadata": {},
     "output_type": "execute_result"
    }
   ],
   "source": [
    "padelWorldCupListOfList = [\n",
    "    [1, 'electroingenieros', 'Juan', 'Pedrito', 8, 4, 4, 3, [2, 4, 3, 10, 5, 7, 6], 8, 300, 1000, 100],\n",
    "    [2, 'termonuecleares', 'Pedro', 'Adrian', 8, 4, 4, 3, [1, 8, 10, 7, 4, 6, 9], 8, 200, 800, 80],\n",
    "    [3, 'ElPAPITO', 'Pablo', 'Elena', 7, 10, 3, 4, [4, 9, 1, 6, 7, 5, 10], 6, 250, 900, 90],\n",
    "    [4, 'LosPibes', 'Elena', 'Blanca', 12, 5, 6, 1, [3, 1, 5, 8, 2, 10, 7], 12, 150, 700, 70],\n",
    "    [5, 'herculanos', 'Carlos', 'Ana', 9, 10, 3, 4, [6, 10, 4, 9, 1, 3, 8], 6, 300, 1000, 100],\n",
    "    [6, 'Palilleros', 'Federico', 'Carlos', 11, 7, 5, 2, [5, 7, 8, 3, 9, 2, 1], 10, 200, 800, 80],\n",
    "    [7, 'MaurosTeam', 'Mauro', 'Alex', 5, 11, 2, 5, [8, 6, 9, 2, 3, 1, 4], 4, 250, 900, 90],\n",
    "    [8, 'ParricaElMejor', 'Parra', 'Teresa', 7, 11, 3, 4, [7, 2, 6, 4, 10, 9, 5], 6, 300, 1000, 100],\n",
    "    [9, 'Ganadores', 'Gonzalo', 'Paco', 8, 9, 3, 4, [10, 3, 7, 5, 6, 8, 2], 6, 400, 1200, 120],\n",
    "    [10, 'UltraTeam', 'Ulises', 'Luis', 7, 11, 2, 5, [9, 5, 2, 1, 8, 4, 3], 4, 200, 800, 80]]\n",
    "\n",
    "dfPadelWorldCupListOfList = pd.DataFrame(padelWorldCupListOfList, columns=['equipoID', 'nombreEq', 'nombreJug1', 'nombreJug2', 'sets_ganados', 'sets_perdidos', 'partidos_ganados', 'partidos_perdidos', 'enfrentamientos', 'puntos', 'dineroGenerado', 'mediaEspectadoresPorEquipo', 'entradasVendidasPorEquipo'])\n",
    "dfPadelWorldCupListOfList\n",
    "\n"
   ]
  },
  {
   "cell_type": "markdown",
   "id": "c8e509351e779a9b",
   "metadata": {
    "collapsed": false
   },
   "source": [
    "## 6.2. Acceso a los elementos de un DataFrame\n",
    "### 6.2.1. Acceso a las columnas de un DataFrame\n",
    "columna individal:"
   ]
  },
  {
   "cell_type": "code",
   "execution_count": 12,
   "id": "a22906606ad6bbc0",
   "metadata": {
    "collapsed": false,
    "ExecuteTime": {
     "end_time": "2024-03-09T19:33:29.744051Z",
     "start_time": "2024-03-09T19:33:29.740124Z"
    }
   },
   "outputs": [
    {
     "data": {
      "text/plain": "0    electroingenieros\n1      termonuecleares\n2             ElPAPITO\n3             LosPibes\n4           herculanos\n5           Palilleros\n6           MaurosTeam\n7       ParricaElMejor\n8            Ganadores\n9            UltraTeam\nName: nombreEq, dtype: object"
     },
     "execution_count": 12,
     "metadata": {},
     "output_type": "execute_result"
    }
   ],
   "source": [
    "dfPadelWorldCupDicc['nombreEq']"
   ]
  },
  {
   "cell_type": "markdown",
   "id": "39cf356690a3bbc8",
   "metadata": {
    "collapsed": false
   },
   "source": [
    "columnas multiples:"
   ]
  },
  {
   "cell_type": "code",
   "execution_count": 13,
   "id": "910bf810d9260ee6",
   "metadata": {
    "collapsed": false,
    "ExecuteTime": {
     "end_time": "2024-03-09T19:33:53.578806Z",
     "start_time": "2024-03-09T19:33:53.573825Z"
    }
   },
   "outputs": [
    {
     "data": {
      "text/plain": "            nombreEq nombreJug1 nombreJug2  puntos\n0  electroingenieros       Juan    Pedrito       8\n1    termonuecleares      Pedro     Adrian       8\n2           ElPAPITO      Pablo      Elena       6\n3           LosPibes      Elena     Blanca      12\n4         herculanos     Carlos        Ana       6\n5         Palilleros   Federico     Carlos      10\n6         MaurosTeam      Mauro       Alex       4\n7     ParricaElMejor      Parra     Teresa       6\n8          Ganadores    Gonzalo       Paco       6\n9          UltraTeam     Ulises       Luis       4",
      "text/html": "<div>\n<style scoped>\n    .dataframe tbody tr th:only-of-type {\n        vertical-align: middle;\n    }\n\n    .dataframe tbody tr th {\n        vertical-align: top;\n    }\n\n    .dataframe thead th {\n        text-align: right;\n    }\n</style>\n<table border=\"1\" class=\"dataframe\">\n  <thead>\n    <tr style=\"text-align: right;\">\n      <th></th>\n      <th>nombreEq</th>\n      <th>nombreJug1</th>\n      <th>nombreJug2</th>\n      <th>puntos</th>\n    </tr>\n  </thead>\n  <tbody>\n    <tr>\n      <th>0</th>\n      <td>electroingenieros</td>\n      <td>Juan</td>\n      <td>Pedrito</td>\n      <td>8</td>\n    </tr>\n    <tr>\n      <th>1</th>\n      <td>termonuecleares</td>\n      <td>Pedro</td>\n      <td>Adrian</td>\n      <td>8</td>\n    </tr>\n    <tr>\n      <th>2</th>\n      <td>ElPAPITO</td>\n      <td>Pablo</td>\n      <td>Elena</td>\n      <td>6</td>\n    </tr>\n    <tr>\n      <th>3</th>\n      <td>LosPibes</td>\n      <td>Elena</td>\n      <td>Blanca</td>\n      <td>12</td>\n    </tr>\n    <tr>\n      <th>4</th>\n      <td>herculanos</td>\n      <td>Carlos</td>\n      <td>Ana</td>\n      <td>6</td>\n    </tr>\n    <tr>\n      <th>5</th>\n      <td>Palilleros</td>\n      <td>Federico</td>\n      <td>Carlos</td>\n      <td>10</td>\n    </tr>\n    <tr>\n      <th>6</th>\n      <td>MaurosTeam</td>\n      <td>Mauro</td>\n      <td>Alex</td>\n      <td>4</td>\n    </tr>\n    <tr>\n      <th>7</th>\n      <td>ParricaElMejor</td>\n      <td>Parra</td>\n      <td>Teresa</td>\n      <td>6</td>\n    </tr>\n    <tr>\n      <th>8</th>\n      <td>Ganadores</td>\n      <td>Gonzalo</td>\n      <td>Paco</td>\n      <td>6</td>\n    </tr>\n    <tr>\n      <th>9</th>\n      <td>UltraTeam</td>\n      <td>Ulises</td>\n      <td>Luis</td>\n      <td>4</td>\n    </tr>\n  </tbody>\n</table>\n</div>"
     },
     "execution_count": 13,
     "metadata": {},
     "output_type": "execute_result"
    }
   ],
   "source": [
    "dfPadelWorldCupDicc[['nombreEq', 'nombreJug1', 'nombreJug2', 'puntos']]"
   ]
  },
  {
   "cell_type": "markdown",
   "id": "ec9bcee8392f6603",
   "metadata": {
    "collapsed": false
   },
   "source": [
    "### 6.2.2. Acceso a las filas de un DataFrame\n",
    "    fila individual:"
   ]
  },
  {
   "cell_type": "code",
   "execution_count": 14,
   "id": "485d22e0a5061899",
   "metadata": {
    "collapsed": false,
    "ExecuteTime": {
     "end_time": "2024-03-09T19:34:00.766780Z",
     "start_time": "2024-03-09T19:34:00.763169Z"
    }
   },
   "outputs": [
    {
     "data": {
      "text/plain": "equipoID                                           1\nnombreEq                           electroingenieros\nnombreJug1                                      Juan\nnombreJug2                                   Pedrito\nsets_ganados                                      11\nsets_perdidos                                      7\npartidos_ganados                                   4\npartidos_perdidos                                  3\nenfrentamientos               [2, 4, 3, 10, 5, 7, 6]\npuntos                                             8\ndineroGenerado                                   300\nmediaEspectadoresPorEquipo                      1000\nentradasVendidasPorEquipo                        100\nName: 0, dtype: object"
     },
     "execution_count": 14,
     "metadata": {},
     "output_type": "execute_result"
    }
   ],
   "source": [
    "dfPadelWorldCupDicc.iloc[0]"
   ]
  },
  {
   "cell_type": "markdown",
   "id": "8f404611828a7fd9",
   "metadata": {
    "collapsed": false
   },
   "source": [
    "    filas multiples:"
   ]
  },
  {
   "cell_type": "code",
   "execution_count": 15,
   "id": "b404ad48581b6816",
   "metadata": {
    "collapsed": false,
    "ExecuteTime": {
     "end_time": "2024-03-09T19:34:15.184228Z",
     "start_time": "2024-03-09T19:34:15.177459Z"
    }
   },
   "outputs": [
    {
     "data": {
      "text/plain": "   equipoID           nombreEq nombreJug1 nombreJug2  sets_ganados  \\\n0         1  electroingenieros       Juan    Pedrito            11   \n1         2    termonuecleares      Pedro     Adrian            11   \n2         3           ElPAPITO      Pablo      Elena             7   \n\n   sets_perdidos  partidos_ganados  partidos_perdidos         enfrentamientos  \\\n0              7                 4                  3  [2, 4, 3, 10, 5, 7, 6]   \n1              7                 4                  3  [1, 8, 10, 7, 4, 6, 9]   \n2             10                 3                  4  [4, 9, 1, 6, 7, 5, 10]   \n\n   puntos  dineroGenerado  mediaEspectadoresPorEquipo  \\\n0       8             300                        1000   \n1       8             200                         800   \n2       6             250                         900   \n\n   entradasVendidasPorEquipo  \n0                        100  \n1                         80  \n2                         90  ",
      "text/html": "<div>\n<style scoped>\n    .dataframe tbody tr th:only-of-type {\n        vertical-align: middle;\n    }\n\n    .dataframe tbody tr th {\n        vertical-align: top;\n    }\n\n    .dataframe thead th {\n        text-align: right;\n    }\n</style>\n<table border=\"1\" class=\"dataframe\">\n  <thead>\n    <tr style=\"text-align: right;\">\n      <th></th>\n      <th>equipoID</th>\n      <th>nombreEq</th>\n      <th>nombreJug1</th>\n      <th>nombreJug2</th>\n      <th>sets_ganados</th>\n      <th>sets_perdidos</th>\n      <th>partidos_ganados</th>\n      <th>partidos_perdidos</th>\n      <th>enfrentamientos</th>\n      <th>puntos</th>\n      <th>dineroGenerado</th>\n      <th>mediaEspectadoresPorEquipo</th>\n      <th>entradasVendidasPorEquipo</th>\n    </tr>\n  </thead>\n  <tbody>\n    <tr>\n      <th>0</th>\n      <td>1</td>\n      <td>electroingenieros</td>\n      <td>Juan</td>\n      <td>Pedrito</td>\n      <td>11</td>\n      <td>7</td>\n      <td>4</td>\n      <td>3</td>\n      <td>[2, 4, 3, 10, 5, 7, 6]</td>\n      <td>8</td>\n      <td>300</td>\n      <td>1000</td>\n      <td>100</td>\n    </tr>\n    <tr>\n      <th>1</th>\n      <td>2</td>\n      <td>termonuecleares</td>\n      <td>Pedro</td>\n      <td>Adrian</td>\n      <td>11</td>\n      <td>7</td>\n      <td>4</td>\n      <td>3</td>\n      <td>[1, 8, 10, 7, 4, 6, 9]</td>\n      <td>8</td>\n      <td>200</td>\n      <td>800</td>\n      <td>80</td>\n    </tr>\n    <tr>\n      <th>2</th>\n      <td>3</td>\n      <td>ElPAPITO</td>\n      <td>Pablo</td>\n      <td>Elena</td>\n      <td>7</td>\n      <td>10</td>\n      <td>3</td>\n      <td>4</td>\n      <td>[4, 9, 1, 6, 7, 5, 10]</td>\n      <td>6</td>\n      <td>250</td>\n      <td>900</td>\n      <td>90</td>\n    </tr>\n  </tbody>\n</table>\n</div>"
     },
     "execution_count": 15,
     "metadata": {},
     "output_type": "execute_result"
    }
   ],
   "source": [
    "dfPadelWorldCupDicc.iloc[0:3]"
   ]
  },
  {
   "cell_type": "markdown",
   "id": "1bd84f62555302ee",
   "metadata": {
    "collapsed": false
   },
   "source": [
    "## 6.3. Operaciones con DataFrames\n",
    "### 6.3.1. Filtrado"
   ]
  },
  {
   "cell_type": "code",
   "outputs": [
    {
     "data": {
      "text/plain": "   equipoID           nombreEq nombreJug1 nombreJug2  sets_ganados  \\\n0         1  electroingenieros       Juan    Pedrito            11   \n1         2    termonuecleares      Pedro     Adrian            11   \n2         3           ElPAPITO      Pablo      Elena             7   \n3         4           LosPibes      Elena     Blanca            12   \n4         5         herculanos     Carlos        Ana             9   \n5         6         Palilleros   Federico     Carlos            11   \n6         7         MaurosTeam      Mauro       Alex             5   \n7         8     ParricaElMejor      Parra     Teresa             7   \n8         9          Ganadores    Gonzalo       Paco             8   \n9        10          UltraTeam     Ulises       Luis             7   \n\n   sets_perdidos  partidos_ganados  partidos_perdidos         enfrentamientos  \\\n0              7                 4                  3  [2, 4, 3, 10, 5, 7, 6]   \n1              7                 4                  3  [1, 8, 10, 7, 4, 6, 9]   \n2             10                 3                  4  [4, 9, 1, 6, 7, 5, 10]   \n3              5                 6                  1  [3, 1, 5, 8, 2, 10, 7]   \n4             10                 3                  4  [6, 10, 4, 9, 1, 3, 8]   \n5              7                 5                  2   [5, 7, 8, 3, 9, 2, 1]   \n6             11                 2                  5   [8, 6, 9, 2, 3, 1, 4]   \n7             11                 3                  4  [7, 2, 6, 4, 10, 9, 5]   \n8              9                 3                  4  [10, 3, 7, 5, 6, 8, 2]   \n9             11                 2                  5   [9, 5, 2, 1, 8, 4, 3]   \n\n   puntos  dineroGenerado  mediaEspectadoresPorEquipo  \\\n0       8             300                        1000   \n1       8             200                         800   \n2       6             250                         900   \n3      12             150                         700   \n4       6             300                        1000   \n5      10             200                         800   \n6       4             250                         900   \n7       6             300                        1000   \n8       6             400                        1200   \n9       4             200                         800   \n\n   entradasVendidasPorEquipo  \n0                        100  \n1                         80  \n2                         90  \n3                         70  \n4                        100  \n5                         80  \n6                         90  \n7                        100  \n8                        120  \n9                         80  ",
      "text/html": "<div>\n<style scoped>\n    .dataframe tbody tr th:only-of-type {\n        vertical-align: middle;\n    }\n\n    .dataframe tbody tr th {\n        vertical-align: top;\n    }\n\n    .dataframe thead th {\n        text-align: right;\n    }\n</style>\n<table border=\"1\" class=\"dataframe\">\n  <thead>\n    <tr style=\"text-align: right;\">\n      <th></th>\n      <th>equipoID</th>\n      <th>nombreEq</th>\n      <th>nombreJug1</th>\n      <th>nombreJug2</th>\n      <th>sets_ganados</th>\n      <th>sets_perdidos</th>\n      <th>partidos_ganados</th>\n      <th>partidos_perdidos</th>\n      <th>enfrentamientos</th>\n      <th>puntos</th>\n      <th>dineroGenerado</th>\n      <th>mediaEspectadoresPorEquipo</th>\n      <th>entradasVendidasPorEquipo</th>\n    </tr>\n  </thead>\n  <tbody>\n    <tr>\n      <th>0</th>\n      <td>1</td>\n      <td>electroingenieros</td>\n      <td>Juan</td>\n      <td>Pedrito</td>\n      <td>11</td>\n      <td>7</td>\n      <td>4</td>\n      <td>3</td>\n      <td>[2, 4, 3, 10, 5, 7, 6]</td>\n      <td>8</td>\n      <td>300</td>\n      <td>1000</td>\n      <td>100</td>\n    </tr>\n    <tr>\n      <th>1</th>\n      <td>2</td>\n      <td>termonuecleares</td>\n      <td>Pedro</td>\n      <td>Adrian</td>\n      <td>11</td>\n      <td>7</td>\n      <td>4</td>\n      <td>3</td>\n      <td>[1, 8, 10, 7, 4, 6, 9]</td>\n      <td>8</td>\n      <td>200</td>\n      <td>800</td>\n      <td>80</td>\n    </tr>\n    <tr>\n      <th>2</th>\n      <td>3</td>\n      <td>ElPAPITO</td>\n      <td>Pablo</td>\n      <td>Elena</td>\n      <td>7</td>\n      <td>10</td>\n      <td>3</td>\n      <td>4</td>\n      <td>[4, 9, 1, 6, 7, 5, 10]</td>\n      <td>6</td>\n      <td>250</td>\n      <td>900</td>\n      <td>90</td>\n    </tr>\n    <tr>\n      <th>3</th>\n      <td>4</td>\n      <td>LosPibes</td>\n      <td>Elena</td>\n      <td>Blanca</td>\n      <td>12</td>\n      <td>5</td>\n      <td>6</td>\n      <td>1</td>\n      <td>[3, 1, 5, 8, 2, 10, 7]</td>\n      <td>12</td>\n      <td>150</td>\n      <td>700</td>\n      <td>70</td>\n    </tr>\n    <tr>\n      <th>4</th>\n      <td>5</td>\n      <td>herculanos</td>\n      <td>Carlos</td>\n      <td>Ana</td>\n      <td>9</td>\n      <td>10</td>\n      <td>3</td>\n      <td>4</td>\n      <td>[6, 10, 4, 9, 1, 3, 8]</td>\n      <td>6</td>\n      <td>300</td>\n      <td>1000</td>\n      <td>100</td>\n    </tr>\n    <tr>\n      <th>5</th>\n      <td>6</td>\n      <td>Palilleros</td>\n      <td>Federico</td>\n      <td>Carlos</td>\n      <td>11</td>\n      <td>7</td>\n      <td>5</td>\n      <td>2</td>\n      <td>[5, 7, 8, 3, 9, 2, 1]</td>\n      <td>10</td>\n      <td>200</td>\n      <td>800</td>\n      <td>80</td>\n    </tr>\n    <tr>\n      <th>6</th>\n      <td>7</td>\n      <td>MaurosTeam</td>\n      <td>Mauro</td>\n      <td>Alex</td>\n      <td>5</td>\n      <td>11</td>\n      <td>2</td>\n      <td>5</td>\n      <td>[8, 6, 9, 2, 3, 1, 4]</td>\n      <td>4</td>\n      <td>250</td>\n      <td>900</td>\n      <td>90</td>\n    </tr>\n    <tr>\n      <th>7</th>\n      <td>8</td>\n      <td>ParricaElMejor</td>\n      <td>Parra</td>\n      <td>Teresa</td>\n      <td>7</td>\n      <td>11</td>\n      <td>3</td>\n      <td>4</td>\n      <td>[7, 2, 6, 4, 10, 9, 5]</td>\n      <td>6</td>\n      <td>300</td>\n      <td>1000</td>\n      <td>100</td>\n    </tr>\n    <tr>\n      <th>8</th>\n      <td>9</td>\n      <td>Ganadores</td>\n      <td>Gonzalo</td>\n      <td>Paco</td>\n      <td>8</td>\n      <td>9</td>\n      <td>3</td>\n      <td>4</td>\n      <td>[10, 3, 7, 5, 6, 8, 2]</td>\n      <td>6</td>\n      <td>400</td>\n      <td>1200</td>\n      <td>120</td>\n    </tr>\n    <tr>\n      <th>9</th>\n      <td>10</td>\n      <td>UltraTeam</td>\n      <td>Ulises</td>\n      <td>Luis</td>\n      <td>7</td>\n      <td>11</td>\n      <td>2</td>\n      <td>5</td>\n      <td>[9, 5, 2, 1, 8, 4, 3]</td>\n      <td>4</td>\n      <td>200</td>\n      <td>800</td>\n      <td>80</td>\n    </tr>\n  </tbody>\n</table>\n</div>"
     },
     "execution_count": 19,
     "metadata": {},
     "output_type": "execute_result"
    }
   ],
   "source": [
    "dfPadelWorldCupDicc[dfPadelWorldCupDicc['partidos_ganados'] >= 2]"
   ],
   "metadata": {
    "collapsed": false,
    "ExecuteTime": {
     "end_time": "2024-03-09T19:35:51.944547Z",
     "start_time": "2024-03-09T19:35:51.936638Z"
    }
   },
   "id": "bc5edccdd3e8f4c0",
   "execution_count": 19
  },
  {
   "cell_type": "code",
   "outputs": [
    {
     "data": {
      "text/plain": "            nombreEq nombreJug1 nombreJug2  partidos_ganados\n0  electroingenieros       Juan    Pedrito                 4\n1    termonuecleares      Pedro     Adrian                 4\n2           ElPAPITO      Pablo      Elena                 3\n3           LosPibes      Elena     Blanca                 6\n4         herculanos     Carlos        Ana                 3\n5         Palilleros   Federico     Carlos                 5\n6         MaurosTeam      Mauro       Alex                 2\n7     ParricaElMejor      Parra     Teresa                 3\n8          Ganadores    Gonzalo       Paco                 3\n9          UltraTeam     Ulises       Luis                 2",
      "text/html": "<div>\n<style scoped>\n    .dataframe tbody tr th:only-of-type {\n        vertical-align: middle;\n    }\n\n    .dataframe tbody tr th {\n        vertical-align: top;\n    }\n\n    .dataframe thead th {\n        text-align: right;\n    }\n</style>\n<table border=\"1\" class=\"dataframe\">\n  <thead>\n    <tr style=\"text-align: right;\">\n      <th></th>\n      <th>nombreEq</th>\n      <th>nombreJug1</th>\n      <th>nombreJug2</th>\n      <th>partidos_ganados</th>\n    </tr>\n  </thead>\n  <tbody>\n    <tr>\n      <th>0</th>\n      <td>electroingenieros</td>\n      <td>Juan</td>\n      <td>Pedrito</td>\n      <td>4</td>\n    </tr>\n    <tr>\n      <th>1</th>\n      <td>termonuecleares</td>\n      <td>Pedro</td>\n      <td>Adrian</td>\n      <td>4</td>\n    </tr>\n    <tr>\n      <th>2</th>\n      <td>ElPAPITO</td>\n      <td>Pablo</td>\n      <td>Elena</td>\n      <td>3</td>\n    </tr>\n    <tr>\n      <th>3</th>\n      <td>LosPibes</td>\n      <td>Elena</td>\n      <td>Blanca</td>\n      <td>6</td>\n    </tr>\n    <tr>\n      <th>4</th>\n      <td>herculanos</td>\n      <td>Carlos</td>\n      <td>Ana</td>\n      <td>3</td>\n    </tr>\n    <tr>\n      <th>5</th>\n      <td>Palilleros</td>\n      <td>Federico</td>\n      <td>Carlos</td>\n      <td>5</td>\n    </tr>\n    <tr>\n      <th>6</th>\n      <td>MaurosTeam</td>\n      <td>Mauro</td>\n      <td>Alex</td>\n      <td>2</td>\n    </tr>\n    <tr>\n      <th>7</th>\n      <td>ParricaElMejor</td>\n      <td>Parra</td>\n      <td>Teresa</td>\n      <td>3</td>\n    </tr>\n    <tr>\n      <th>8</th>\n      <td>Ganadores</td>\n      <td>Gonzalo</td>\n      <td>Paco</td>\n      <td>3</td>\n    </tr>\n    <tr>\n      <th>9</th>\n      <td>UltraTeam</td>\n      <td>Ulises</td>\n      <td>Luis</td>\n      <td>2</td>\n    </tr>\n  </tbody>\n</table>\n</div>"
     },
     "execution_count": 20,
     "metadata": {},
     "output_type": "execute_result"
    }
   ],
   "source": [
    "dfPadelWorldCupDicc.query(\"partidos_ganados >= 2\")[['nombreEq', 'nombreJug1', 'nombreJug2', 'partidos_ganados']] #usamos query para filtrar y seleccionar columnas de manera simultanea "
   ],
   "metadata": {
    "collapsed": false,
    "ExecuteTime": {
     "end_time": "2024-03-09T19:35:53.323006Z",
     "start_time": "2024-03-09T19:35:53.315549Z"
    }
   },
   "id": "746b06387b9f161f",
   "execution_count": 20
  },
  {
   "cell_type": "markdown",
   "source": [
    "### 6.3.2. Ordenacion"
   ],
   "metadata": {
    "collapsed": false
   },
   "id": "1c369ad481a48033"
  },
  {
   "cell_type": "code",
   "execution_count": 21,
   "id": "2541d13c-0652-4c95-8aea-c32c494ae0da",
   "metadata": {
    "ExecuteTime": {
     "end_time": "2024-03-09T19:35:54.845107Z",
     "start_time": "2024-03-09T19:35:54.838985Z"
    }
   },
   "outputs": [
    {
     "data": {
      "text/plain": "            nombreEq nombreJug1 nombreJug2  puntos\n3           LosPibes      Elena     Blanca      12\n5         Palilleros   Federico     Carlos      10\n0  electroingenieros       Juan    Pedrito       8\n1    termonuecleares      Pedro     Adrian       8\n2           ElPAPITO      Pablo      Elena       6",
      "text/html": "<div>\n<style scoped>\n    .dataframe tbody tr th:only-of-type {\n        vertical-align: middle;\n    }\n\n    .dataframe tbody tr th {\n        vertical-align: top;\n    }\n\n    .dataframe thead th {\n        text-align: right;\n    }\n</style>\n<table border=\"1\" class=\"dataframe\">\n  <thead>\n    <tr style=\"text-align: right;\">\n      <th></th>\n      <th>nombreEq</th>\n      <th>nombreJug1</th>\n      <th>nombreJug2</th>\n      <th>puntos</th>\n    </tr>\n  </thead>\n  <tbody>\n    <tr>\n      <th>3</th>\n      <td>LosPibes</td>\n      <td>Elena</td>\n      <td>Blanca</td>\n      <td>12</td>\n    </tr>\n    <tr>\n      <th>5</th>\n      <td>Palilleros</td>\n      <td>Federico</td>\n      <td>Carlos</td>\n      <td>10</td>\n    </tr>\n    <tr>\n      <th>0</th>\n      <td>electroingenieros</td>\n      <td>Juan</td>\n      <td>Pedrito</td>\n      <td>8</td>\n    </tr>\n    <tr>\n      <th>1</th>\n      <td>termonuecleares</td>\n      <td>Pedro</td>\n      <td>Adrian</td>\n      <td>8</td>\n    </tr>\n    <tr>\n      <th>2</th>\n      <td>ElPAPITO</td>\n      <td>Pablo</td>\n      <td>Elena</td>\n      <td>6</td>\n    </tr>\n  </tbody>\n</table>\n</div>"
     },
     "execution_count": 21,
     "metadata": {},
     "output_type": "execute_result"
    }
   ],
   "source": [
    "dfPadelWorldCupDicc.sort_values(by='puntos', ascending=False)[0:5][['nombreEq', 'nombreJug1', 'nombreJug2', 'puntos']] "
   ]
  },
  {
   "cell_type": "code",
   "outputs": [
    {
     "data": {
      "text/plain": "            nombreEq nombreJug1 nombreJug2  dineroGenerado\n8          Ganadores    Gonzalo       Paco             400\n0  electroingenieros       Juan    Pedrito             300\n4         herculanos     Carlos        Ana             300\n7     ParricaElMejor      Parra     Teresa             300\n2           ElPAPITO      Pablo      Elena             250",
      "text/html": "<div>\n<style scoped>\n    .dataframe tbody tr th:only-of-type {\n        vertical-align: middle;\n    }\n\n    .dataframe tbody tr th {\n        vertical-align: top;\n    }\n\n    .dataframe thead th {\n        text-align: right;\n    }\n</style>\n<table border=\"1\" class=\"dataframe\">\n  <thead>\n    <tr style=\"text-align: right;\">\n      <th></th>\n      <th>nombreEq</th>\n      <th>nombreJug1</th>\n      <th>nombreJug2</th>\n      <th>dineroGenerado</th>\n    </tr>\n  </thead>\n  <tbody>\n    <tr>\n      <th>8</th>\n      <td>Ganadores</td>\n      <td>Gonzalo</td>\n      <td>Paco</td>\n      <td>400</td>\n    </tr>\n    <tr>\n      <th>0</th>\n      <td>electroingenieros</td>\n      <td>Juan</td>\n      <td>Pedrito</td>\n      <td>300</td>\n    </tr>\n    <tr>\n      <th>4</th>\n      <td>herculanos</td>\n      <td>Carlos</td>\n      <td>Ana</td>\n      <td>300</td>\n    </tr>\n    <tr>\n      <th>7</th>\n      <td>ParricaElMejor</td>\n      <td>Parra</td>\n      <td>Teresa</td>\n      <td>300</td>\n    </tr>\n    <tr>\n      <th>2</th>\n      <td>ElPAPITO</td>\n      <td>Pablo</td>\n      <td>Elena</td>\n      <td>250</td>\n    </tr>\n  </tbody>\n</table>\n</div>"
     },
     "execution_count": 22,
     "metadata": {},
     "output_type": "execute_result"
    }
   ],
   "source": [
    "dfPadelWorldCupDicc.sort_values(by='dineroGenerado', ascending=False)[0:5][['nombreEq', 'nombreJug1', 'nombreJug2', 'dineroGenerado']] #ordenamos, seleccionamos las 5 primeras filas y seleccionamos columnas que deseamos de manera simultanea"
   ],
   "metadata": {
    "collapsed": false,
    "ExecuteTime": {
     "end_time": "2024-03-09T19:35:55.606400Z",
     "start_time": "2024-03-09T19:35:55.600352Z"
    }
   },
   "id": "34eb96415d59593d",
   "execution_count": 22
  },
  {
   "cell_type": "markdown",
   "source": [
    "### 6.3.3. Estadisticas y calculos con DataFrames"
   ],
   "metadata": {
    "collapsed": false
   },
   "id": "4e03cdb4721566f4"
  },
  {
   "cell_type": "code",
   "outputs": [
    {
     "name": "stdout",
     "output_type": "stream",
     "text": [
      "2550\n",
      "255.0\n",
      "400\n",
      "150\n",
      "72.4568837309472\n",
      "count     10.000000\n",
      "mean     255.000000\n",
      "std       72.456884\n",
      "min      150.000000\n",
      "25%      200.000000\n",
      "50%      250.000000\n",
      "75%      300.000000\n",
      "max      400.000000\n",
      "Name: dineroGenerado, dtype: float64\n"
     ]
    }
   ],
   "source": [
    "print(dfPadelWorldCupDicc['dineroGenerado'].sum()) #suma\n",
    "print(dfPadelWorldCupDicc['dineroGenerado'].mean()) #media\n",
    "print(dfPadelWorldCupDicc['dineroGenerado'].max()) #maximo\n",
    "print(dfPadelWorldCupDicc['dineroGenerado'].min()) #minimo\n",
    "print(dfPadelWorldCupDicc['dineroGenerado'].std()) #desviacion estandar\n",
    "\n",
    "print(dfPadelWorldCupDicc['dineroGenerado'].describe()) #resumen estadistico"
   ],
   "metadata": {
    "collapsed": false,
    "ExecuteTime": {
     "end_time": "2024-03-09T19:35:58.199573Z",
     "start_time": "2024-03-09T19:35:58.194308Z"
    }
   },
   "id": "71a745bdc89c6573",
   "execution_count": 23
  },
  {
   "cell_type": "markdown",
   "source": [
    "## 6.4. Modificacion de DataFrames\n",
    "### 6.4.1. Añadir columnas"
   ],
   "metadata": {
    "collapsed": false
   },
   "id": "3b730834cc115b5b"
  },
  {
   "cell_type": "code",
   "outputs": [
    {
     "data": {
      "text/plain": "            nombreEq                              pais\n0  electroingenieros                            España\n1    termonuecleares                              EEUU\n2           ElPAPITO                             China\n3           LosPibes                               URS\n4         herculanos                             China\n5         Palilleros                             Nepal\n6         MaurosTeam  Republica Democratica del Congo \n7     ParricaElMejor                            España\n8          Ganadores                             China\n9          UltraTeam                           Nigeria",
      "text/html": "<div>\n<style scoped>\n    .dataframe tbody tr th:only-of-type {\n        vertical-align: middle;\n    }\n\n    .dataframe tbody tr th {\n        vertical-align: top;\n    }\n\n    .dataframe thead th {\n        text-align: right;\n    }\n</style>\n<table border=\"1\" class=\"dataframe\">\n  <thead>\n    <tr style=\"text-align: right;\">\n      <th></th>\n      <th>nombreEq</th>\n      <th>pais</th>\n    </tr>\n  </thead>\n  <tbody>\n    <tr>\n      <th>0</th>\n      <td>electroingenieros</td>\n      <td>España</td>\n    </tr>\n    <tr>\n      <th>1</th>\n      <td>termonuecleares</td>\n      <td>EEUU</td>\n    </tr>\n    <tr>\n      <th>2</th>\n      <td>ElPAPITO</td>\n      <td>China</td>\n    </tr>\n    <tr>\n      <th>3</th>\n      <td>LosPibes</td>\n      <td>URS</td>\n    </tr>\n    <tr>\n      <th>4</th>\n      <td>herculanos</td>\n      <td>China</td>\n    </tr>\n    <tr>\n      <th>5</th>\n      <td>Palilleros</td>\n      <td>Nepal</td>\n    </tr>\n    <tr>\n      <th>6</th>\n      <td>MaurosTeam</td>\n      <td>Republica Democratica del Congo</td>\n    </tr>\n    <tr>\n      <th>7</th>\n      <td>ParricaElMejor</td>\n      <td>España</td>\n    </tr>\n    <tr>\n      <th>8</th>\n      <td>Ganadores</td>\n      <td>China</td>\n    </tr>\n    <tr>\n      <th>9</th>\n      <td>UltraTeam</td>\n      <td>Nigeria</td>\n    </tr>\n  </tbody>\n</table>\n</div>"
     },
     "execution_count": 24,
     "metadata": {},
     "output_type": "execute_result"
    }
   ],
   "source": [
    "\n",
    "dfPadelWorldCupDicc['pais'] = ['España','EEUU','China','URS','China','Nepal','Republica Democratica del Congo ','España','China','Nigeria']\n",
    "\n",
    "\n",
    "dfPadelWorldCupDicc[['nombreEq', 'pais']]"
   ],
   "metadata": {
    "collapsed": false,
    "ExecuteTime": {
     "end_time": "2024-03-09T19:36:05.757758Z",
     "start_time": "2024-03-09T19:36:05.752653Z"
    }
   },
   "id": "a7de66df82abe750",
   "execution_count": 24
  },
  {
   "cell_type": "markdown",
   "source": [
    "### 6.4.2. Eliminar columnas"
   ],
   "metadata": {
    "collapsed": false
   },
   "id": "2be677f3261892e7"
  },
  {
   "cell_type": "code",
   "outputs": [
    {
     "data": {
      "text/plain": "   equipoID           nombreEq nombreJug1 nombreJug2  sets_ganados  \\\n0         1  electroingenieros       Juan    Pedrito            11   \n1         2    termonuecleares      Pedro     Adrian            11   \n2         3           ElPAPITO      Pablo      Elena             7   \n3         4           LosPibes      Elena     Blanca            12   \n4         5         herculanos     Carlos        Ana             9   \n5         6         Palilleros   Federico     Carlos            11   \n6         7         MaurosTeam      Mauro       Alex             5   \n7         8     ParricaElMejor      Parra     Teresa             7   \n8         9          Ganadores    Gonzalo       Paco             8   \n9        10          UltraTeam     Ulises       Luis             7   \n\n   sets_perdidos  partidos_ganados  partidos_perdidos         enfrentamientos  \\\n0              7                 4                  3  [2, 4, 3, 10, 5, 7, 6]   \n1              7                 4                  3  [1, 8, 10, 7, 4, 6, 9]   \n2             10                 3                  4  [4, 9, 1, 6, 7, 5, 10]   \n3              5                 6                  1  [3, 1, 5, 8, 2, 10, 7]   \n4             10                 3                  4  [6, 10, 4, 9, 1, 3, 8]   \n5              7                 5                  2   [5, 7, 8, 3, 9, 2, 1]   \n6             11                 2                  5   [8, 6, 9, 2, 3, 1, 4]   \n7             11                 3                  4  [7, 2, 6, 4, 10, 9, 5]   \n8              9                 3                  4  [10, 3, 7, 5, 6, 8, 2]   \n9             11                 2                  5   [9, 5, 2, 1, 8, 4, 3]   \n\n   puntos  dineroGenerado  mediaEspectadoresPorEquipo  \\\n0       8             300                        1000   \n1       8             200                         800   \n2       6             250                         900   \n3      12             150                         700   \n4       6             300                        1000   \n5      10             200                         800   \n6       4             250                         900   \n7       6             300                        1000   \n8       6             400                        1200   \n9       4             200                         800   \n\n   entradasVendidasPorEquipo  \n0                        100  \n1                         80  \n2                         90  \n3                         70  \n4                        100  \n5                         80  \n6                         90  \n7                        100  \n8                        120  \n9                         80  ",
      "text/html": "<div>\n<style scoped>\n    .dataframe tbody tr th:only-of-type {\n        vertical-align: middle;\n    }\n\n    .dataframe tbody tr th {\n        vertical-align: top;\n    }\n\n    .dataframe thead th {\n        text-align: right;\n    }\n</style>\n<table border=\"1\" class=\"dataframe\">\n  <thead>\n    <tr style=\"text-align: right;\">\n      <th></th>\n      <th>equipoID</th>\n      <th>nombreEq</th>\n      <th>nombreJug1</th>\n      <th>nombreJug2</th>\n      <th>sets_ganados</th>\n      <th>sets_perdidos</th>\n      <th>partidos_ganados</th>\n      <th>partidos_perdidos</th>\n      <th>enfrentamientos</th>\n      <th>puntos</th>\n      <th>dineroGenerado</th>\n      <th>mediaEspectadoresPorEquipo</th>\n      <th>entradasVendidasPorEquipo</th>\n    </tr>\n  </thead>\n  <tbody>\n    <tr>\n      <th>0</th>\n      <td>1</td>\n      <td>electroingenieros</td>\n      <td>Juan</td>\n      <td>Pedrito</td>\n      <td>11</td>\n      <td>7</td>\n      <td>4</td>\n      <td>3</td>\n      <td>[2, 4, 3, 10, 5, 7, 6]</td>\n      <td>8</td>\n      <td>300</td>\n      <td>1000</td>\n      <td>100</td>\n    </tr>\n    <tr>\n      <th>1</th>\n      <td>2</td>\n      <td>termonuecleares</td>\n      <td>Pedro</td>\n      <td>Adrian</td>\n      <td>11</td>\n      <td>7</td>\n      <td>4</td>\n      <td>3</td>\n      <td>[1, 8, 10, 7, 4, 6, 9]</td>\n      <td>8</td>\n      <td>200</td>\n      <td>800</td>\n      <td>80</td>\n    </tr>\n    <tr>\n      <th>2</th>\n      <td>3</td>\n      <td>ElPAPITO</td>\n      <td>Pablo</td>\n      <td>Elena</td>\n      <td>7</td>\n      <td>10</td>\n      <td>3</td>\n      <td>4</td>\n      <td>[4, 9, 1, 6, 7, 5, 10]</td>\n      <td>6</td>\n      <td>250</td>\n      <td>900</td>\n      <td>90</td>\n    </tr>\n    <tr>\n      <th>3</th>\n      <td>4</td>\n      <td>LosPibes</td>\n      <td>Elena</td>\n      <td>Blanca</td>\n      <td>12</td>\n      <td>5</td>\n      <td>6</td>\n      <td>1</td>\n      <td>[3, 1, 5, 8, 2, 10, 7]</td>\n      <td>12</td>\n      <td>150</td>\n      <td>700</td>\n      <td>70</td>\n    </tr>\n    <tr>\n      <th>4</th>\n      <td>5</td>\n      <td>herculanos</td>\n      <td>Carlos</td>\n      <td>Ana</td>\n      <td>9</td>\n      <td>10</td>\n      <td>3</td>\n      <td>4</td>\n      <td>[6, 10, 4, 9, 1, 3, 8]</td>\n      <td>6</td>\n      <td>300</td>\n      <td>1000</td>\n      <td>100</td>\n    </tr>\n    <tr>\n      <th>5</th>\n      <td>6</td>\n      <td>Palilleros</td>\n      <td>Federico</td>\n      <td>Carlos</td>\n      <td>11</td>\n      <td>7</td>\n      <td>5</td>\n      <td>2</td>\n      <td>[5, 7, 8, 3, 9, 2, 1]</td>\n      <td>10</td>\n      <td>200</td>\n      <td>800</td>\n      <td>80</td>\n    </tr>\n    <tr>\n      <th>6</th>\n      <td>7</td>\n      <td>MaurosTeam</td>\n      <td>Mauro</td>\n      <td>Alex</td>\n      <td>5</td>\n      <td>11</td>\n      <td>2</td>\n      <td>5</td>\n      <td>[8, 6, 9, 2, 3, 1, 4]</td>\n      <td>4</td>\n      <td>250</td>\n      <td>900</td>\n      <td>90</td>\n    </tr>\n    <tr>\n      <th>7</th>\n      <td>8</td>\n      <td>ParricaElMejor</td>\n      <td>Parra</td>\n      <td>Teresa</td>\n      <td>7</td>\n      <td>11</td>\n      <td>3</td>\n      <td>4</td>\n      <td>[7, 2, 6, 4, 10, 9, 5]</td>\n      <td>6</td>\n      <td>300</td>\n      <td>1000</td>\n      <td>100</td>\n    </tr>\n    <tr>\n      <th>8</th>\n      <td>9</td>\n      <td>Ganadores</td>\n      <td>Gonzalo</td>\n      <td>Paco</td>\n      <td>8</td>\n      <td>9</td>\n      <td>3</td>\n      <td>4</td>\n      <td>[10, 3, 7, 5, 6, 8, 2]</td>\n      <td>6</td>\n      <td>400</td>\n      <td>1200</td>\n      <td>120</td>\n    </tr>\n    <tr>\n      <th>9</th>\n      <td>10</td>\n      <td>UltraTeam</td>\n      <td>Ulises</td>\n      <td>Luis</td>\n      <td>7</td>\n      <td>11</td>\n      <td>2</td>\n      <td>5</td>\n      <td>[9, 5, 2, 1, 8, 4, 3]</td>\n      <td>4</td>\n      <td>200</td>\n      <td>800</td>\n      <td>80</td>\n    </tr>\n  </tbody>\n</table>\n</div>"
     },
     "execution_count": 26,
     "metadata": {},
     "output_type": "execute_result"
    }
   ],
   "source": [
    "dfPadelWorldCupDicc.drop(['pais',], axis=1)\n",
    "# en este caso solo he eliminado la columna pais de la muestra, pero no del DataFrame original, ya que la columna pais la usaremos en ejemplos posteriores, pero seria tan facil como asignar el resultado de la operacion a la variable dfPadelWorldCupDicc"
   ],
   "metadata": {
    "collapsed": false,
    "ExecuteTime": {
     "end_time": "2024-03-09T19:36:33.923896Z",
     "start_time": "2024-03-09T19:36:33.915413Z"
    }
   },
   "id": "8a50dc51fc33d73c",
   "execution_count": 26
  },
  {
   "cell_type": "markdown",
   "source": [
    "### 6.4.3. Añadir filas"
   ],
   "metadata": {
    "collapsed": false
   },
   "id": "8ce597cb87264ef0"
  },
  {
   "cell_type": "code",
   "outputs": [],
   "source": [
    "dfPadelWorldCupDicc.loc[10] = [11,'TT','Pepito','Helen',4,4,2,0,[2,3,5,3],4,100,700,102, 'España']"
   ],
   "metadata": {
    "collapsed": false,
    "ExecuteTime": {
     "end_time": "2024-03-09T19:38:17.311380Z",
     "start_time": "2024-03-09T19:38:17.307361Z"
    }
   },
   "id": "ee4b5a4317526037",
   "execution_count": 33
  },
  {
   "cell_type": "code",
   "outputs": [
    {
     "data": {
      "text/plain": "    equipoID           nombreEq nombreJug1 nombreJug2  sets_ganados  \\\n10        11                 TT     Pepito      Helen             4   \n9         10          UltraTeam     Ulises       Luis             7   \n8          9          Ganadores    Gonzalo       Paco             8   \n7          8     ParricaElMejor      Parra     Teresa             7   \n6          7         MaurosTeam      Mauro       Alex             5   \n5          6         Palilleros   Federico     Carlos            11   \n4          5         herculanos     Carlos        Ana             9   \n3          4           LosPibes      Elena     Blanca            12   \n2          3           ElPAPITO      Pablo      Elena             7   \n1          2    termonuecleares      Pedro     Adrian            11   \n0          1  electroingenieros       Juan    Pedrito            11   \n\n    sets_perdidos  partidos_ganados  partidos_perdidos  \\\n10              4                 2                  0   \n9              11                 2                  5   \n8               9                 3                  4   \n7              11                 3                  4   \n6              11                 2                  5   \n5               7                 5                  2   \n4              10                 3                  4   \n3               5                 6                  1   \n2              10                 3                  4   \n1               7                 4                  3   \n0               7                 4                  3   \n\n           enfrentamientos puntos  dineroGenerado  mediaEspectadoresPorEquipo  \\\n10            [2, 3, 5, 3]      4             100                         700   \n9    [9, 5, 2, 1, 8, 4, 3]      4             200                         800   \n8   [10, 3, 7, 5, 6, 8, 2]      6             400                        1200   \n7   [7, 2, 6, 4, 10, 9, 5]      6             300                        1000   \n6    [8, 6, 9, 2, 3, 1, 4]      4             250                         900   \n5    [5, 7, 8, 3, 9, 2, 1]     10             200                         800   \n4   [6, 10, 4, 9, 1, 3, 8]      6             300                        1000   \n3   [3, 1, 5, 8, 2, 10, 7]     12             150                         700   \n2   [4, 9, 1, 6, 7, 5, 10]      6             250                         900   \n1   [1, 8, 10, 7, 4, 6, 9]      8             200                         800   \n0   [2, 4, 3, 10, 5, 7, 6]      8             300                        1000   \n\n    entradasVendidasPorEquipo                              pais  \n10                        102                            España  \n9                          80                           Nigeria  \n8                         120                             China  \n7                         100                            España  \n6                          90  Republica Democratica del Congo   \n5                          80                             Nepal  \n4                         100                             China  \n3                          70                               URS  \n2                          90                             China  \n1                          80                              EEUU  \n0                         100                            España  ",
      "text/html": "<div>\n<style scoped>\n    .dataframe tbody tr th:only-of-type {\n        vertical-align: middle;\n    }\n\n    .dataframe tbody tr th {\n        vertical-align: top;\n    }\n\n    .dataframe thead th {\n        text-align: right;\n    }\n</style>\n<table border=\"1\" class=\"dataframe\">\n  <thead>\n    <tr style=\"text-align: right;\">\n      <th></th>\n      <th>equipoID</th>\n      <th>nombreEq</th>\n      <th>nombreJug1</th>\n      <th>nombreJug2</th>\n      <th>sets_ganados</th>\n      <th>sets_perdidos</th>\n      <th>partidos_ganados</th>\n      <th>partidos_perdidos</th>\n      <th>enfrentamientos</th>\n      <th>puntos</th>\n      <th>dineroGenerado</th>\n      <th>mediaEspectadoresPorEquipo</th>\n      <th>entradasVendidasPorEquipo</th>\n      <th>pais</th>\n    </tr>\n  </thead>\n  <tbody>\n    <tr>\n      <th>10</th>\n      <td>11</td>\n      <td>TT</td>\n      <td>Pepito</td>\n      <td>Helen</td>\n      <td>4</td>\n      <td>4</td>\n      <td>2</td>\n      <td>0</td>\n      <td>[2, 3, 5, 3]</td>\n      <td>4</td>\n      <td>100</td>\n      <td>700</td>\n      <td>102</td>\n      <td>España</td>\n    </tr>\n    <tr>\n      <th>9</th>\n      <td>10</td>\n      <td>UltraTeam</td>\n      <td>Ulises</td>\n      <td>Luis</td>\n      <td>7</td>\n      <td>11</td>\n      <td>2</td>\n      <td>5</td>\n      <td>[9, 5, 2, 1, 8, 4, 3]</td>\n      <td>4</td>\n      <td>200</td>\n      <td>800</td>\n      <td>80</td>\n      <td>Nigeria</td>\n    </tr>\n    <tr>\n      <th>8</th>\n      <td>9</td>\n      <td>Ganadores</td>\n      <td>Gonzalo</td>\n      <td>Paco</td>\n      <td>8</td>\n      <td>9</td>\n      <td>3</td>\n      <td>4</td>\n      <td>[10, 3, 7, 5, 6, 8, 2]</td>\n      <td>6</td>\n      <td>400</td>\n      <td>1200</td>\n      <td>120</td>\n      <td>China</td>\n    </tr>\n    <tr>\n      <th>7</th>\n      <td>8</td>\n      <td>ParricaElMejor</td>\n      <td>Parra</td>\n      <td>Teresa</td>\n      <td>7</td>\n      <td>11</td>\n      <td>3</td>\n      <td>4</td>\n      <td>[7, 2, 6, 4, 10, 9, 5]</td>\n      <td>6</td>\n      <td>300</td>\n      <td>1000</td>\n      <td>100</td>\n      <td>España</td>\n    </tr>\n    <tr>\n      <th>6</th>\n      <td>7</td>\n      <td>MaurosTeam</td>\n      <td>Mauro</td>\n      <td>Alex</td>\n      <td>5</td>\n      <td>11</td>\n      <td>2</td>\n      <td>5</td>\n      <td>[8, 6, 9, 2, 3, 1, 4]</td>\n      <td>4</td>\n      <td>250</td>\n      <td>900</td>\n      <td>90</td>\n      <td>Republica Democratica del Congo</td>\n    </tr>\n    <tr>\n      <th>5</th>\n      <td>6</td>\n      <td>Palilleros</td>\n      <td>Federico</td>\n      <td>Carlos</td>\n      <td>11</td>\n      <td>7</td>\n      <td>5</td>\n      <td>2</td>\n      <td>[5, 7, 8, 3, 9, 2, 1]</td>\n      <td>10</td>\n      <td>200</td>\n      <td>800</td>\n      <td>80</td>\n      <td>Nepal</td>\n    </tr>\n    <tr>\n      <th>4</th>\n      <td>5</td>\n      <td>herculanos</td>\n      <td>Carlos</td>\n      <td>Ana</td>\n      <td>9</td>\n      <td>10</td>\n      <td>3</td>\n      <td>4</td>\n      <td>[6, 10, 4, 9, 1, 3, 8]</td>\n      <td>6</td>\n      <td>300</td>\n      <td>1000</td>\n      <td>100</td>\n      <td>China</td>\n    </tr>\n    <tr>\n      <th>3</th>\n      <td>4</td>\n      <td>LosPibes</td>\n      <td>Elena</td>\n      <td>Blanca</td>\n      <td>12</td>\n      <td>5</td>\n      <td>6</td>\n      <td>1</td>\n      <td>[3, 1, 5, 8, 2, 10, 7]</td>\n      <td>12</td>\n      <td>150</td>\n      <td>700</td>\n      <td>70</td>\n      <td>URS</td>\n    </tr>\n    <tr>\n      <th>2</th>\n      <td>3</td>\n      <td>ElPAPITO</td>\n      <td>Pablo</td>\n      <td>Elena</td>\n      <td>7</td>\n      <td>10</td>\n      <td>3</td>\n      <td>4</td>\n      <td>[4, 9, 1, 6, 7, 5, 10]</td>\n      <td>6</td>\n      <td>250</td>\n      <td>900</td>\n      <td>90</td>\n      <td>China</td>\n    </tr>\n    <tr>\n      <th>1</th>\n      <td>2</td>\n      <td>termonuecleares</td>\n      <td>Pedro</td>\n      <td>Adrian</td>\n      <td>11</td>\n      <td>7</td>\n      <td>4</td>\n      <td>3</td>\n      <td>[1, 8, 10, 7, 4, 6, 9]</td>\n      <td>8</td>\n      <td>200</td>\n      <td>800</td>\n      <td>80</td>\n      <td>EEUU</td>\n    </tr>\n    <tr>\n      <th>0</th>\n      <td>1</td>\n      <td>electroingenieros</td>\n      <td>Juan</td>\n      <td>Pedrito</td>\n      <td>11</td>\n      <td>7</td>\n      <td>4</td>\n      <td>3</td>\n      <td>[2, 4, 3, 10, 5, 7, 6]</td>\n      <td>8</td>\n      <td>300</td>\n      <td>1000</td>\n      <td>100</td>\n      <td>España</td>\n    </tr>\n  </tbody>\n</table>\n</div>"
     },
     "execution_count": 34,
     "metadata": {},
     "output_type": "execute_result"
    }
   ],
   "source": [
    "dfPadelWorldCupDicc.sort_values(by='equipoID',ascending=False)"
   ],
   "metadata": {
    "collapsed": false,
    "ExecuteTime": {
     "end_time": "2024-03-09T19:38:18.521654Z",
     "start_time": "2024-03-09T19:38:18.513337Z"
    }
   },
   "id": "b62c7ec4e1b3c402",
   "execution_count": 34
  },
  {
   "cell_type": "markdown",
   "source": [
    "### 6.4.4. Eliminar filas"
   ],
   "metadata": {
    "collapsed": false
   },
   "id": "1b16ea585abd067f"
  },
  {
   "cell_type": "code",
   "outputs": [
    {
     "data": {
      "text/plain": "   equipoID           nombreEq nombreJug1 nombreJug2  sets_ganados  \\\n9        10          UltraTeam     Ulises       Luis             7   \n8         9          Ganadores    Gonzalo       Paco             8   \n7         8     ParricaElMejor      Parra     Teresa             7   \n6         7         MaurosTeam      Mauro       Alex             5   \n5         6         Palilleros   Federico     Carlos            11   \n4         5         herculanos     Carlos        Ana             9   \n3         4           LosPibes      Elena     Blanca            12   \n2         3           ElPAPITO      Pablo      Elena             7   \n1         2    termonuecleares      Pedro     Adrian            11   \n0         1  electroingenieros       Juan    Pedrito            11   \n\n   sets_perdidos  partidos_ganados  partidos_perdidos         enfrentamientos  \\\n9             11                 2                  5   [9, 5, 2, 1, 8, 4, 3]   \n8              9                 3                  4  [10, 3, 7, 5, 6, 8, 2]   \n7             11                 3                  4  [7, 2, 6, 4, 10, 9, 5]   \n6             11                 2                  5   [8, 6, 9, 2, 3, 1, 4]   \n5              7                 5                  2   [5, 7, 8, 3, 9, 2, 1]   \n4             10                 3                  4  [6, 10, 4, 9, 1, 3, 8]   \n3              5                 6                  1  [3, 1, 5, 8, 2, 10, 7]   \n2             10                 3                  4  [4, 9, 1, 6, 7, 5, 10]   \n1              7                 4                  3  [1, 8, 10, 7, 4, 6, 9]   \n0              7                 4                  3  [2, 4, 3, 10, 5, 7, 6]   \n\n  puntos  dineroGenerado  mediaEspectadoresPorEquipo  \\\n9      4             200                         800   \n8      6             400                        1200   \n7      6             300                        1000   \n6      4             250                         900   \n5     10             200                         800   \n4      6             300                        1000   \n3     12             150                         700   \n2      6             250                         900   \n1      8             200                         800   \n0      8             300                        1000   \n\n   entradasVendidasPorEquipo                              pais  \n9                         80                           Nigeria  \n8                        120                             China  \n7                        100                            España  \n6                         90  Republica Democratica del Congo   \n5                         80                             Nepal  \n4                        100                             China  \n3                         70                               URS  \n2                         90                             China  \n1                         80                              EEUU  \n0                        100                            España  ",
      "text/html": "<div>\n<style scoped>\n    .dataframe tbody tr th:only-of-type {\n        vertical-align: middle;\n    }\n\n    .dataframe tbody tr th {\n        vertical-align: top;\n    }\n\n    .dataframe thead th {\n        text-align: right;\n    }\n</style>\n<table border=\"1\" class=\"dataframe\">\n  <thead>\n    <tr style=\"text-align: right;\">\n      <th></th>\n      <th>equipoID</th>\n      <th>nombreEq</th>\n      <th>nombreJug1</th>\n      <th>nombreJug2</th>\n      <th>sets_ganados</th>\n      <th>sets_perdidos</th>\n      <th>partidos_ganados</th>\n      <th>partidos_perdidos</th>\n      <th>enfrentamientos</th>\n      <th>puntos</th>\n      <th>dineroGenerado</th>\n      <th>mediaEspectadoresPorEquipo</th>\n      <th>entradasVendidasPorEquipo</th>\n      <th>pais</th>\n    </tr>\n  </thead>\n  <tbody>\n    <tr>\n      <th>9</th>\n      <td>10</td>\n      <td>UltraTeam</td>\n      <td>Ulises</td>\n      <td>Luis</td>\n      <td>7</td>\n      <td>11</td>\n      <td>2</td>\n      <td>5</td>\n      <td>[9, 5, 2, 1, 8, 4, 3]</td>\n      <td>4</td>\n      <td>200</td>\n      <td>800</td>\n      <td>80</td>\n      <td>Nigeria</td>\n    </tr>\n    <tr>\n      <th>8</th>\n      <td>9</td>\n      <td>Ganadores</td>\n      <td>Gonzalo</td>\n      <td>Paco</td>\n      <td>8</td>\n      <td>9</td>\n      <td>3</td>\n      <td>4</td>\n      <td>[10, 3, 7, 5, 6, 8, 2]</td>\n      <td>6</td>\n      <td>400</td>\n      <td>1200</td>\n      <td>120</td>\n      <td>China</td>\n    </tr>\n    <tr>\n      <th>7</th>\n      <td>8</td>\n      <td>ParricaElMejor</td>\n      <td>Parra</td>\n      <td>Teresa</td>\n      <td>7</td>\n      <td>11</td>\n      <td>3</td>\n      <td>4</td>\n      <td>[7, 2, 6, 4, 10, 9, 5]</td>\n      <td>6</td>\n      <td>300</td>\n      <td>1000</td>\n      <td>100</td>\n      <td>España</td>\n    </tr>\n    <tr>\n      <th>6</th>\n      <td>7</td>\n      <td>MaurosTeam</td>\n      <td>Mauro</td>\n      <td>Alex</td>\n      <td>5</td>\n      <td>11</td>\n      <td>2</td>\n      <td>5</td>\n      <td>[8, 6, 9, 2, 3, 1, 4]</td>\n      <td>4</td>\n      <td>250</td>\n      <td>900</td>\n      <td>90</td>\n      <td>Republica Democratica del Congo</td>\n    </tr>\n    <tr>\n      <th>5</th>\n      <td>6</td>\n      <td>Palilleros</td>\n      <td>Federico</td>\n      <td>Carlos</td>\n      <td>11</td>\n      <td>7</td>\n      <td>5</td>\n      <td>2</td>\n      <td>[5, 7, 8, 3, 9, 2, 1]</td>\n      <td>10</td>\n      <td>200</td>\n      <td>800</td>\n      <td>80</td>\n      <td>Nepal</td>\n    </tr>\n    <tr>\n      <th>4</th>\n      <td>5</td>\n      <td>herculanos</td>\n      <td>Carlos</td>\n      <td>Ana</td>\n      <td>9</td>\n      <td>10</td>\n      <td>3</td>\n      <td>4</td>\n      <td>[6, 10, 4, 9, 1, 3, 8]</td>\n      <td>6</td>\n      <td>300</td>\n      <td>1000</td>\n      <td>100</td>\n      <td>China</td>\n    </tr>\n    <tr>\n      <th>3</th>\n      <td>4</td>\n      <td>LosPibes</td>\n      <td>Elena</td>\n      <td>Blanca</td>\n      <td>12</td>\n      <td>5</td>\n      <td>6</td>\n      <td>1</td>\n      <td>[3, 1, 5, 8, 2, 10, 7]</td>\n      <td>12</td>\n      <td>150</td>\n      <td>700</td>\n      <td>70</td>\n      <td>URS</td>\n    </tr>\n    <tr>\n      <th>2</th>\n      <td>3</td>\n      <td>ElPAPITO</td>\n      <td>Pablo</td>\n      <td>Elena</td>\n      <td>7</td>\n      <td>10</td>\n      <td>3</td>\n      <td>4</td>\n      <td>[4, 9, 1, 6, 7, 5, 10]</td>\n      <td>6</td>\n      <td>250</td>\n      <td>900</td>\n      <td>90</td>\n      <td>China</td>\n    </tr>\n    <tr>\n      <th>1</th>\n      <td>2</td>\n      <td>termonuecleares</td>\n      <td>Pedro</td>\n      <td>Adrian</td>\n      <td>11</td>\n      <td>7</td>\n      <td>4</td>\n      <td>3</td>\n      <td>[1, 8, 10, 7, 4, 6, 9]</td>\n      <td>8</td>\n      <td>200</td>\n      <td>800</td>\n      <td>80</td>\n      <td>EEUU</td>\n    </tr>\n    <tr>\n      <th>0</th>\n      <td>1</td>\n      <td>electroingenieros</td>\n      <td>Juan</td>\n      <td>Pedrito</td>\n      <td>11</td>\n      <td>7</td>\n      <td>4</td>\n      <td>3</td>\n      <td>[2, 4, 3, 10, 5, 7, 6]</td>\n      <td>8</td>\n      <td>300</td>\n      <td>1000</td>\n      <td>100</td>\n      <td>España</td>\n    </tr>\n  </tbody>\n</table>\n</div>"
     },
     "execution_count": 35,
     "metadata": {},
     "output_type": "execute_result"
    }
   ],
   "source": [
    "dfPadelWorldCupDicc = dfPadelWorldCupDicc.drop([10])\n",
    "dfPadelWorldCupDicc.sort_values(by='equipoID',ascending=False)"
   ],
   "metadata": {
    "collapsed": false,
    "ExecuteTime": {
     "end_time": "2024-03-09T19:38:26.484334Z",
     "start_time": "2024-03-09T19:38:26.475497Z"
    }
   },
   "id": "3cf42a70d9e97967",
   "execution_count": 35
  },
  {
   "cell_type": "markdown",
   "source": [
    "## 6.5. Iteracion sobre DataFrames\n",
    "### 6.5.1. Iteracion sobre filas"
   ],
   "metadata": {
    "collapsed": false
   },
   "id": "6e0c99f1cb3d3155"
  },
  {
   "cell_type": "code",
   "outputs": [
    {
     "name": "stdout",
     "output_type": "stream",
     "text": [
      "electroingenieros : Juan , Pedrito\n",
      "termonuecleares : Pedro , Adrian\n",
      "ElPAPITO : Pablo , Elena\n",
      "LosPibes : Elena , Blanca\n",
      "herculanos : Carlos , Ana\n",
      "Palilleros : Federico , Carlos\n",
      "MaurosTeam : Mauro , Alex\n",
      "ParricaElMejor : Parra , Teresa\n",
      "Ganadores : Gonzalo , Paco\n",
      "UltraTeam : Ulises , Luis\n"
     ]
    }
   ],
   "source": [
    "for index, row in dfPadelWorldCupDicc.iterrows():\n",
    "    print(row['nombreEq'],':', row['nombreJug1'],',', row['nombreJug2'])"
   ],
   "metadata": {
    "collapsed": false,
    "ExecuteTime": {
     "end_time": "2024-03-09T19:38:30.967497Z",
     "start_time": "2024-03-09T19:38:30.963547Z"
    }
   },
   "id": "a014c88d0a8150ce",
   "execution_count": 36
  },
  {
   "cell_type": "markdown",
   "source": [
    "### 6.5.2. Iteracion sobre columnas"
   ],
   "metadata": {
    "collapsed": false
   },
   "id": "7d29ba7258b5074c"
  },
  {
   "cell_type": "code",
   "outputs": [
    {
     "name": "stdout",
     "output_type": "stream",
     "text": [
      "equipoID [ 1  2  3  4  5  6  7  8  9 10]\n",
      "nombreEq ['electroingenieros' 'termonuecleares' 'ElPAPITO' 'LosPibes' 'herculanos'\n",
      " 'Palilleros' 'MaurosTeam' 'ParricaElMejor' 'Ganadores' 'UltraTeam']\n",
      "nombreJug1 ['Juan' 'Pedro' 'Pablo' 'Elena' 'Carlos' 'Federico' 'Mauro' 'Parra'\n",
      " 'Gonzalo' 'Ulises']\n",
      "nombreJug2 ['Pedrito' 'Adrian' 'Elena' 'Blanca' 'Ana' 'Carlos' 'Alex' 'Teresa' 'Paco'\n",
      " 'Luis']\n",
      "sets_ganados [11 11  7 12  9 11  5  7  8  7]\n",
      "sets_perdidos [ 7  7 10  5 10  7 11 11  9 11]\n",
      "partidos_ganados [4 4 3 6 3 5 2 3 3 2]\n",
      "partidos_perdidos [3 3 4 1 4 2 5 4 4 5]\n",
      "enfrentamientos [list([2, 4, 3, 10, 5, 7, 6]) list([1, 8, 10, 7, 4, 6, 9])\n",
      " list([4, 9, 1, 6, 7, 5, 10]) list([3, 1, 5, 8, 2, 10, 7])\n",
      " list([6, 10, 4, 9, 1, 3, 8]) list([5, 7, 8, 3, 9, 2, 1])\n",
      " list([8, 6, 9, 2, 3, 1, 4]) list([7, 2, 6, 4, 10, 9, 5])\n",
      " list([10, 3, 7, 5, 6, 8, 2]) list([9, 5, 2, 1, 8, 4, 3])]\n",
      "puntos [8 8 6 12 6 10 4 6 6 4]\n",
      "dineroGenerado [300 200 250 150 300 200 250 300 400 200]\n",
      "mediaEspectadoresPorEquipo [1000  800  900  700 1000  800  900 1000 1200  800]\n",
      "entradasVendidasPorEquipo [100  80  90  70 100  80  90 100 120  80]\n",
      "pais ['España' 'EEUU' 'China' 'URS' 'China' 'Nepal'\n",
      " 'Republica Democratica del Congo ' 'España' 'China' 'Nigeria']\n"
     ]
    }
   ],
   "source": [
    "for column, values in dfPadelWorldCupDicc.items():\n",
    "    print(column, values.values)"
   ],
   "metadata": {
    "collapsed": false,
    "ExecuteTime": {
     "end_time": "2024-03-09T19:38:32.471883Z",
     "start_time": "2024-03-09T19:38:32.468408Z"
    }
   },
   "id": "f73b528e0226b3d5",
   "execution_count": 37
  },
  {
   "cell_type": "markdown",
   "source": [
    "## 6.6. Union de DataFrames\n",
    "### 6.6.1. Union de dos DataFrames\n",
    "el metodo merge permite unir dos DataFrames en base a una columna en comun"
   ],
   "metadata": {
    "collapsed": false
   },
   "id": "3d39314ae68e3500"
  },
  {
   "cell_type": "code",
   "outputs": [
    {
     "data": {
      "text/plain": "   equipoID    nombreEq nombreJug1 nombreJug2     ciudad        DNI\n0         4    LosPibes      Elena     Blanca     Madrid  12345678A\n1         5  herculanos     Carlos        Ana  Barcelona  87654321B",
      "text/html": "<div>\n<style scoped>\n    .dataframe tbody tr th:only-of-type {\n        vertical-align: middle;\n    }\n\n    .dataframe tbody tr th {\n        vertical-align: top;\n    }\n\n    .dataframe thead th {\n        text-align: right;\n    }\n</style>\n<table border=\"1\" class=\"dataframe\">\n  <thead>\n    <tr style=\"text-align: right;\">\n      <th></th>\n      <th>equipoID</th>\n      <th>nombreEq</th>\n      <th>nombreJug1</th>\n      <th>nombreJug2</th>\n      <th>ciudad</th>\n      <th>DNI</th>\n    </tr>\n  </thead>\n  <tbody>\n    <tr>\n      <th>0</th>\n      <td>4</td>\n      <td>LosPibes</td>\n      <td>Elena</td>\n      <td>Blanca</td>\n      <td>Madrid</td>\n      <td>12345678A</td>\n    </tr>\n    <tr>\n      <th>1</th>\n      <td>5</td>\n      <td>herculanos</td>\n      <td>Carlos</td>\n      <td>Ana</td>\n      <td>Barcelona</td>\n      <td>87654321B</td>\n    </tr>\n  </tbody>\n</table>\n</div>"
     },
     "execution_count": 38,
     "metadata": {},
     "output_type": "execute_result"
    }
   ],
   "source": [
    "dfPadelWorldCupDicc1 = dfPadelWorldCupDicc[0:5][['equipoID', 'nombreEq', 'nombreJug1', 'nombreJug2']]\n",
    "\n",
    "wpDicc = {\n",
    "    'nombreEq':     ['LosPibes','herculanos','Palilleros'],\n",
    "    'ciudad':       ['Madrid','Barcelona','Valencia'],\n",
    "    'DNI':        ['12345678A','87654321B','12348765C'],\n",
    "}\n",
    "\n",
    "dfPadelWorldCupDicc2 = pd.DataFrame(wpDicc)\n",
    "\n",
    "df_nuevo = pd.merge(dfPadelWorldCupDicc1, dfPadelWorldCupDicc2, on='nombreEq')\n",
    "df_nuevo\n"
   ],
   "metadata": {
    "collapsed": false,
    "ExecuteTime": {
     "end_time": "2024-03-09T19:38:34.087919Z",
     "start_time": "2024-03-09T19:38:34.080355Z"
    }
   },
   "id": "c22393f3676ebce8",
   "execution_count": 38
  },
  {
   "cell_type": "markdown",
   "source": [
    "### 6.6.2. Union de varios DataFrames"
   ],
   "metadata": {
    "collapsed": false
   },
   "id": "55c2e203d9f575ce"
  },
  {
   "cell_type": "code",
   "outputs": [
    {
     "data": {
      "text/plain": "   equipoID    nombreEq nombreJug1 nombreJug2     ciudad        DNI  \\\n0         4    LosPibes      Elena     Blanca     Madrid  12345678A   \n1         5  herculanos     Carlos        Ana  Barcelona  87654321B   \n\n   numeroSocios     numTel  \n0           100  123456789  \n1           200  987654321  ",
      "text/html": "<div>\n<style scoped>\n    .dataframe tbody tr th:only-of-type {\n        vertical-align: middle;\n    }\n\n    .dataframe tbody tr th {\n        vertical-align: top;\n    }\n\n    .dataframe thead th {\n        text-align: right;\n    }\n</style>\n<table border=\"1\" class=\"dataframe\">\n  <thead>\n    <tr style=\"text-align: right;\">\n      <th></th>\n      <th>equipoID</th>\n      <th>nombreEq</th>\n      <th>nombreJug1</th>\n      <th>nombreJug2</th>\n      <th>ciudad</th>\n      <th>DNI</th>\n      <th>numeroSocios</th>\n      <th>numTel</th>\n    </tr>\n  </thead>\n  <tbody>\n    <tr>\n      <th>0</th>\n      <td>4</td>\n      <td>LosPibes</td>\n      <td>Elena</td>\n      <td>Blanca</td>\n      <td>Madrid</td>\n      <td>12345678A</td>\n      <td>100</td>\n      <td>123456789</td>\n    </tr>\n    <tr>\n      <th>1</th>\n      <td>5</td>\n      <td>herculanos</td>\n      <td>Carlos</td>\n      <td>Ana</td>\n      <td>Barcelona</td>\n      <td>87654321B</td>\n      <td>200</td>\n      <td>987654321</td>\n    </tr>\n  </tbody>\n</table>\n</div>"
     },
     "execution_count": 39,
     "metadata": {},
     "output_type": "execute_result"
    }
   ],
   "source": [
    "#Ejecutar el codigo de la celda anterior antes de ejecutar este\n",
    "\n",
    "wpDicc2 = {\n",
    "    'nombreEq':     ['LosPibes','herculanos','Palilleros'],\n",
    "    'numeroSocios': [100, 200, 300],\n",
    "    'numTel':       ['123456789','987654321','12348765'],\n",
    "}\n",
    "\n",
    "dfPadelWorldCupDicc3 = pd.DataFrame(wpDicc2)\n",
    "df_nuevo = pd.merge(dfPadelWorldCupDicc1, dfPadelWorldCupDicc2, on='nombreEq')\n",
    "df_nuevo = pd.merge(df_nuevo, dfPadelWorldCupDicc3, on='nombreEq')\n",
    "df_nuevo\n"
   ],
   "metadata": {
    "collapsed": false,
    "ExecuteTime": {
     "end_time": "2024-03-09T19:38:40.913216Z",
     "start_time": "2024-03-09T19:38:40.904459Z"
    }
   },
   "id": "9c2693e7602bd31a",
   "execution_count": 39
  },
  {
   "cell_type": "markdown",
   "source": [
    "## 6.7. Agrupacion y agregacion de DataFrames\n",
    "### 6.7.1. Agrupacion y agregacion de DataFrames por una columna"
   ],
   "metadata": {
    "collapsed": false
   },
   "id": "1f54b2c353647079"
  },
  {
   "cell_type": "code",
   "outputs": [
    {
     "data": {
      "text/plain": "                                  dineroGenerado  mediaEspectadoresPorEquipo  \\\npais                                                                           \nChina                                        950                 1033.333333   \nEEUU                                         200                  800.000000   \nEspaña                                       600                 1000.000000   \nNepal                                        200                  800.000000   \nNigeria                                      200                  800.000000   \nRepublica Democratica del Congo              250                  900.000000   \nURS                                          150                  700.000000   \n\n                                  entradasVendidasPorEquipo  \npais                                                         \nChina                                                   310  \nEEUU                                                     80  \nEspaña                                                  200  \nNepal                                                    80  \nNigeria                                                  80  \nRepublica Democratica del Congo                          90  \nURS                                                      70  ",
      "text/html": "<div>\n<style scoped>\n    .dataframe tbody tr th:only-of-type {\n        vertical-align: middle;\n    }\n\n    .dataframe tbody tr th {\n        vertical-align: top;\n    }\n\n    .dataframe thead th {\n        text-align: right;\n    }\n</style>\n<table border=\"1\" class=\"dataframe\">\n  <thead>\n    <tr style=\"text-align: right;\">\n      <th></th>\n      <th>dineroGenerado</th>\n      <th>mediaEspectadoresPorEquipo</th>\n      <th>entradasVendidasPorEquipo</th>\n    </tr>\n    <tr>\n      <th>pais</th>\n      <th></th>\n      <th></th>\n      <th></th>\n    </tr>\n  </thead>\n  <tbody>\n    <tr>\n      <th>China</th>\n      <td>950</td>\n      <td>1033.333333</td>\n      <td>310</td>\n    </tr>\n    <tr>\n      <th>EEUU</th>\n      <td>200</td>\n      <td>800.000000</td>\n      <td>80</td>\n    </tr>\n    <tr>\n      <th>España</th>\n      <td>600</td>\n      <td>1000.000000</td>\n      <td>200</td>\n    </tr>\n    <tr>\n      <th>Nepal</th>\n      <td>200</td>\n      <td>800.000000</td>\n      <td>80</td>\n    </tr>\n    <tr>\n      <th>Nigeria</th>\n      <td>200</td>\n      <td>800.000000</td>\n      <td>80</td>\n    </tr>\n    <tr>\n      <th>Republica Democratica del Congo</th>\n      <td>250</td>\n      <td>900.000000</td>\n      <td>90</td>\n    </tr>\n    <tr>\n      <th>URS</th>\n      <td>150</td>\n      <td>700.000000</td>\n      <td>70</td>\n    </tr>\n  </tbody>\n</table>\n</div>"
     },
     "execution_count": 40,
     "metadata": {},
     "output_type": "execute_result"
    }
   ],
   "source": [
    "#Ejecutar el codigo de la celta 6.4.1 antes de ejecutar este\n",
    "\n",
    "dfPadelWorldCupDicc.groupby('pais').agg({'dineroGenerado': 'sum', 'mediaEspectadoresPorEquipo': 'mean', 'entradasVendidasPorEquipo': 'sum'})"
   ],
   "metadata": {
    "collapsed": false,
    "ExecuteTime": {
     "end_time": "2024-03-09T19:38:44.018613Z",
     "start_time": "2024-03-09T19:38:44.012643Z"
    }
   },
   "id": "ddd6349b21e8192",
   "execution_count": 40
  },
  {
   "cell_type": "markdown",
   "source": [
    "### 6.7.2. Agrupacion y agregacion de DataFrames por varias columnas"
   ],
   "metadata": {
    "collapsed": false
   },
   "id": "204a22373a747d17"
  },
  {
   "cell_type": "code",
   "outputs": [
    {
     "data": {
      "text/plain": "                                                 dineroGenerado  \\\npais                             dineroGenerado                   \nChina                            250                        250   \n                                 300                        300   \n                                 400                        400   \nEEUU                             200                        200   \nEspaña                           300                        600   \nNepal                            200                        200   \nNigeria                          200                        200   \nRepublica Democratica del Congo  250                        250   \nURS                              150                        150   \n\n                                                 mediaEspectadoresPorEquipo  \\\npais                             dineroGenerado                               \nChina                            250                                  900.0   \n                                 300                                 1000.0   \n                                 400                                 1200.0   \nEEUU                             200                                  800.0   \nEspaña                           300                                 1000.0   \nNepal                            200                                  800.0   \nNigeria                          200                                  800.0   \nRepublica Democratica del Congo  250                                  900.0   \nURS                              150                                  700.0   \n\n                                                 entradasVendidasPorEquipo  \npais                             dineroGenerado                             \nChina                            250                                    90  \n                                 300                                   100  \n                                 400                                   120  \nEEUU                             200                                    80  \nEspaña                           300                                   200  \nNepal                            200                                    80  \nNigeria                          200                                    80  \nRepublica Democratica del Congo  250                                    90  \nURS                              150                                    70  ",
      "text/html": "<div>\n<style scoped>\n    .dataframe tbody tr th:only-of-type {\n        vertical-align: middle;\n    }\n\n    .dataframe tbody tr th {\n        vertical-align: top;\n    }\n\n    .dataframe thead th {\n        text-align: right;\n    }\n</style>\n<table border=\"1\" class=\"dataframe\">\n  <thead>\n    <tr style=\"text-align: right;\">\n      <th></th>\n      <th></th>\n      <th>dineroGenerado</th>\n      <th>mediaEspectadoresPorEquipo</th>\n      <th>entradasVendidasPorEquipo</th>\n    </tr>\n    <tr>\n      <th>pais</th>\n      <th>dineroGenerado</th>\n      <th></th>\n      <th></th>\n      <th></th>\n    </tr>\n  </thead>\n  <tbody>\n    <tr>\n      <th rowspan=\"3\" valign=\"top\">China</th>\n      <th>250</th>\n      <td>250</td>\n      <td>900.0</td>\n      <td>90</td>\n    </tr>\n    <tr>\n      <th>300</th>\n      <td>300</td>\n      <td>1000.0</td>\n      <td>100</td>\n    </tr>\n    <tr>\n      <th>400</th>\n      <td>400</td>\n      <td>1200.0</td>\n      <td>120</td>\n    </tr>\n    <tr>\n      <th>EEUU</th>\n      <th>200</th>\n      <td>200</td>\n      <td>800.0</td>\n      <td>80</td>\n    </tr>\n    <tr>\n      <th>España</th>\n      <th>300</th>\n      <td>600</td>\n      <td>1000.0</td>\n      <td>200</td>\n    </tr>\n    <tr>\n      <th>Nepal</th>\n      <th>200</th>\n      <td>200</td>\n      <td>800.0</td>\n      <td>80</td>\n    </tr>\n    <tr>\n      <th>Nigeria</th>\n      <th>200</th>\n      <td>200</td>\n      <td>800.0</td>\n      <td>80</td>\n    </tr>\n    <tr>\n      <th>Republica Democratica del Congo</th>\n      <th>250</th>\n      <td>250</td>\n      <td>900.0</td>\n      <td>90</td>\n    </tr>\n    <tr>\n      <th>URS</th>\n      <th>150</th>\n      <td>150</td>\n      <td>700.0</td>\n      <td>70</td>\n    </tr>\n  </tbody>\n</table>\n</div>"
     },
     "execution_count": 41,
     "metadata": {},
     "output_type": "execute_result"
    }
   ],
   "source": [
    "dfPadelWorldCupDicc.groupby(['pais', 'dineroGenerado']).agg({'dineroGenerado': 'sum', 'mediaEspectadoresPorEquipo': 'mean', 'entradasVendidasPorEquipo': 'sum'})\n",
    "\n",
    "#nos damos cuenta de que china tiene 3 equipos que han generado distintas cantidades de dinero, mientras que españa tiene 2 equipos que han generado la misma cantidad de dinero"
   ],
   "metadata": {
    "collapsed": false,
    "ExecuteTime": {
     "end_time": "2024-03-09T19:38:47.693072Z",
     "start_time": "2024-03-09T19:38:47.685968Z"
    }
   },
   "id": "5c949fc5c1e5d5ee",
   "execution_count": 41
  },
  {
   "cell_type": "markdown",
   "source": [
    "## 6.8. Lectura y escritura de DataFrames\n",
    "### 6.8.1. Escritura de DataFrames desde un fichero CSV"
   ],
   "metadata": {
    "collapsed": false
   },
   "id": "d68e88988a82102c"
  },
  {
   "cell_type": "code",
   "outputs": [],
   "source": [
    "#Escribiremos el DataFrame dfPadelWorldCupDicc en un fichero CSV antes de leerlo porque si no el ejemplo no tendria sentido\n",
    "\n",
    "dfPadelWorldCupDicc.to_csv('padelWorldCupDicc.csv', index=False)"
   ],
   "metadata": {
    "collapsed": false,
    "ExecuteTime": {
     "end_time": "2024-03-09T20:31:00.079677Z",
     "start_time": "2024-03-09T20:31:00.076525Z"
    }
   },
   "id": "831cc69b743d7ea5",
   "execution_count": 48
  },
  {
   "cell_type": "markdown",
   "source": [
    "### 6.8.2. Lectura de DataFrames desde un fichero CSV"
   ],
   "metadata": {
    "collapsed": false
   },
   "id": "a31ae7e9bc6ffa31"
  },
  {
   "cell_type": "code",
   "outputs": [
    {
     "data": {
      "text/plain": "   equipoID           nombreEq nombreJug1 nombreJug2  sets_ganados  \\\n0         1  electroingenieros       Juan    Pedrito            11   \n1         2    termonuecleares      Pedro     Adrian            11   \n2         3           ElPAPITO      Pablo      Elena             7   \n3         4           LosPibes      Elena     Blanca            12   \n4         5         herculanos     Carlos        Ana             9   \n5         6         Palilleros   Federico     Carlos            11   \n6         7         MaurosTeam      Mauro       Alex             5   \n7         8     ParricaElMejor      Parra     Teresa             7   \n8         9          Ganadores    Gonzalo       Paco             8   \n9        10          UltraTeam     Ulises       Luis             7   \n\n   sets_perdidos  partidos_ganados  partidos_perdidos         enfrentamientos  \\\n0              7                 4                  3  [2, 4, 3, 10, 5, 7, 6]   \n1              7                 4                  3  [1, 8, 10, 7, 4, 6, 9]   \n2             10                 3                  4  [4, 9, 1, 6, 7, 5, 10]   \n3              5                 6                  1  [3, 1, 5, 8, 2, 10, 7]   \n4             10                 3                  4  [6, 10, 4, 9, 1, 3, 8]   \n5              7                 5                  2   [5, 7, 8, 3, 9, 2, 1]   \n6             11                 2                  5   [8, 6, 9, 2, 3, 1, 4]   \n7             11                 3                  4  [7, 2, 6, 4, 10, 9, 5]   \n8              9                 3                  4  [10, 3, 7, 5, 6, 8, 2]   \n9             11                 2                  5   [9, 5, 2, 1, 8, 4, 3]   \n\n   puntos  dineroGenerado  mediaEspectadoresPorEquipo  \\\n0       8             650                         550   \n1       8             700                         405   \n2       6             600                         900   \n3      12            1200                         830   \n4       6             600                         450   \n5      10             950                         670   \n6       4             500                         880   \n7       6             600                         550   \n8       6             800                        1220   \n9       4             600                         800   \n\n   entradasVendidasPorEquipo  \n0                        100  \n1                         80  \n2                         90  \n3                         70  \n4                        100  \n5                         80  \n6                         90  \n7                        100  \n8                        120  \n9                         80  ",
      "text/html": "<div>\n<style scoped>\n    .dataframe tbody tr th:only-of-type {\n        vertical-align: middle;\n    }\n\n    .dataframe tbody tr th {\n        vertical-align: top;\n    }\n\n    .dataframe thead th {\n        text-align: right;\n    }\n</style>\n<table border=\"1\" class=\"dataframe\">\n  <thead>\n    <tr style=\"text-align: right;\">\n      <th></th>\n      <th>equipoID</th>\n      <th>nombreEq</th>\n      <th>nombreJug1</th>\n      <th>nombreJug2</th>\n      <th>sets_ganados</th>\n      <th>sets_perdidos</th>\n      <th>partidos_ganados</th>\n      <th>partidos_perdidos</th>\n      <th>enfrentamientos</th>\n      <th>puntos</th>\n      <th>dineroGenerado</th>\n      <th>mediaEspectadoresPorEquipo</th>\n      <th>entradasVendidasPorEquipo</th>\n    </tr>\n  </thead>\n  <tbody>\n    <tr>\n      <th>0</th>\n      <td>1</td>\n      <td>electroingenieros</td>\n      <td>Juan</td>\n      <td>Pedrito</td>\n      <td>11</td>\n      <td>7</td>\n      <td>4</td>\n      <td>3</td>\n      <td>[2, 4, 3, 10, 5, 7, 6]</td>\n      <td>8</td>\n      <td>650</td>\n      <td>550</td>\n      <td>100</td>\n    </tr>\n    <tr>\n      <th>1</th>\n      <td>2</td>\n      <td>termonuecleares</td>\n      <td>Pedro</td>\n      <td>Adrian</td>\n      <td>11</td>\n      <td>7</td>\n      <td>4</td>\n      <td>3</td>\n      <td>[1, 8, 10, 7, 4, 6, 9]</td>\n      <td>8</td>\n      <td>700</td>\n      <td>405</td>\n      <td>80</td>\n    </tr>\n    <tr>\n      <th>2</th>\n      <td>3</td>\n      <td>ElPAPITO</td>\n      <td>Pablo</td>\n      <td>Elena</td>\n      <td>7</td>\n      <td>10</td>\n      <td>3</td>\n      <td>4</td>\n      <td>[4, 9, 1, 6, 7, 5, 10]</td>\n      <td>6</td>\n      <td>600</td>\n      <td>900</td>\n      <td>90</td>\n    </tr>\n    <tr>\n      <th>3</th>\n      <td>4</td>\n      <td>LosPibes</td>\n      <td>Elena</td>\n      <td>Blanca</td>\n      <td>12</td>\n      <td>5</td>\n      <td>6</td>\n      <td>1</td>\n      <td>[3, 1, 5, 8, 2, 10, 7]</td>\n      <td>12</td>\n      <td>1200</td>\n      <td>830</td>\n      <td>70</td>\n    </tr>\n    <tr>\n      <th>4</th>\n      <td>5</td>\n      <td>herculanos</td>\n      <td>Carlos</td>\n      <td>Ana</td>\n      <td>9</td>\n      <td>10</td>\n      <td>3</td>\n      <td>4</td>\n      <td>[6, 10, 4, 9, 1, 3, 8]</td>\n      <td>6</td>\n      <td>600</td>\n      <td>450</td>\n      <td>100</td>\n    </tr>\n    <tr>\n      <th>5</th>\n      <td>6</td>\n      <td>Palilleros</td>\n      <td>Federico</td>\n      <td>Carlos</td>\n      <td>11</td>\n      <td>7</td>\n      <td>5</td>\n      <td>2</td>\n      <td>[5, 7, 8, 3, 9, 2, 1]</td>\n      <td>10</td>\n      <td>950</td>\n      <td>670</td>\n      <td>80</td>\n    </tr>\n    <tr>\n      <th>6</th>\n      <td>7</td>\n      <td>MaurosTeam</td>\n      <td>Mauro</td>\n      <td>Alex</td>\n      <td>5</td>\n      <td>11</td>\n      <td>2</td>\n      <td>5</td>\n      <td>[8, 6, 9, 2, 3, 1, 4]</td>\n      <td>4</td>\n      <td>500</td>\n      <td>880</td>\n      <td>90</td>\n    </tr>\n    <tr>\n      <th>7</th>\n      <td>8</td>\n      <td>ParricaElMejor</td>\n      <td>Parra</td>\n      <td>Teresa</td>\n      <td>7</td>\n      <td>11</td>\n      <td>3</td>\n      <td>4</td>\n      <td>[7, 2, 6, 4, 10, 9, 5]</td>\n      <td>6</td>\n      <td>600</td>\n      <td>550</td>\n      <td>100</td>\n    </tr>\n    <tr>\n      <th>8</th>\n      <td>9</td>\n      <td>Ganadores</td>\n      <td>Gonzalo</td>\n      <td>Paco</td>\n      <td>8</td>\n      <td>9</td>\n      <td>3</td>\n      <td>4</td>\n      <td>[10, 3, 7, 5, 6, 8, 2]</td>\n      <td>6</td>\n      <td>800</td>\n      <td>1220</td>\n      <td>120</td>\n    </tr>\n    <tr>\n      <th>9</th>\n      <td>10</td>\n      <td>UltraTeam</td>\n      <td>Ulises</td>\n      <td>Luis</td>\n      <td>7</td>\n      <td>11</td>\n      <td>2</td>\n      <td>5</td>\n      <td>[9, 5, 2, 1, 8, 4, 3]</td>\n      <td>4</td>\n      <td>600</td>\n      <td>800</td>\n      <td>80</td>\n    </tr>\n  </tbody>\n</table>\n</div>"
     },
     "execution_count": 49,
     "metadata": {},
     "output_type": "execute_result"
    }
   ],
   "source": [
    "dfCSV = pd.read_csv('padelWorldCupDicc.csv')\n",
    "dfCSV"
   ],
   "metadata": {
    "collapsed": false,
    "ExecuteTime": {
     "end_time": "2024-03-09T20:31:02.592180Z",
     "start_time": "2024-03-09T20:31:02.580673Z"
    }
   },
   "id": "a98e764ec606da96",
   "execution_count": 49
  },
  {
   "cell_type": "markdown",
   "source": [
    "### 6.8.3. Escritura de DataFrames desde un fichero Excel"
   ],
   "metadata": {
    "collapsed": false
   },
   "id": "2c2cf312a761c5f4"
  },
  {
   "cell_type": "code",
   "outputs": [],
   "source": [
    "dfPadelWorldCupDicc.to_excel('padelWorldCupDicc.xlsx', index=False)"
   ],
   "metadata": {
    "collapsed": false,
    "ExecuteTime": {
     "end_time": "2024-03-09T19:39:16.486662Z",
     "start_time": "2024-03-09T19:39:16.273452Z"
    }
   },
   "id": "78ddcb5dae30073",
   "execution_count": 45
  },
  {
   "cell_type": "markdown",
   "source": [
    "### 6.8.4. Lectura de DataFrames desde un fichero Excel"
   ],
   "metadata": {
    "collapsed": false
   },
   "id": "2ee6b544ecc41795"
  },
  {
   "cell_type": "code",
   "outputs": [
    {
     "data": {
      "text/plain": "   equipoID           nombreEq nombreJug1 nombreJug2  sets_ganados  \\\n0         1  electroingenieros       Juan    Pedrito            11   \n1         2    termonuecleares      Pedro     Adrian            11   \n2         3           ElPAPITO      Pablo      Elena             7   \n3         4           LosPibes      Elena     Blanca            12   \n4         5         herculanos     Carlos        Ana             9   \n5         6         Palilleros   Federico     Carlos            11   \n6         7         MaurosTeam      Mauro       Alex             5   \n7         8     ParricaElMejor      Parra     Teresa             7   \n8         9          Ganadores    Gonzalo       Paco             8   \n9        10          UltraTeam     Ulises       Luis             7   \n\n   sets_perdidos  partidos_ganados  partidos_perdidos         enfrentamientos  \\\n0              7                 4                  3  [2, 4, 3, 10, 5, 7, 6]   \n1              7                 4                  3  [1, 8, 10, 7, 4, 6, 9]   \n2             10                 3                  4  [4, 9, 1, 6, 7, 5, 10]   \n3              5                 6                  1  [3, 1, 5, 8, 2, 10, 7]   \n4             10                 3                  4  [6, 10, 4, 9, 1, 3, 8]   \n5              7                 5                  2   [5, 7, 8, 3, 9, 2, 1]   \n6             11                 2                  5   [8, 6, 9, 2, 3, 1, 4]   \n7             11                 3                  4  [7, 2, 6, 4, 10, 9, 5]   \n8              9                 3                  4  [10, 3, 7, 5, 6, 8, 2]   \n9             11                 2                  5   [9, 5, 2, 1, 8, 4, 3]   \n\n   puntos  dineroGenerado  mediaEspectadoresPorEquipo  \\\n0       8             300                        1000   \n1       8             200                         800   \n2       6             250                         900   \n3      12             150                         700   \n4       6             300                        1000   \n5      10             200                         800   \n6       4             250                         900   \n7       6             300                        1000   \n8       6             400                        1200   \n9       4             200                         800   \n\n   entradasVendidasPorEquipo                              pais  \n0                        100                            España  \n1                         80                              EEUU  \n2                         90                             China  \n3                         70                               URS  \n4                        100                             China  \n5                         80                             Nepal  \n6                         90  Republica Democratica del Congo   \n7                        100                            España  \n8                        120                             China  \n9                         80                           Nigeria  ",
      "text/html": "<div>\n<style scoped>\n    .dataframe tbody tr th:only-of-type {\n        vertical-align: middle;\n    }\n\n    .dataframe tbody tr th {\n        vertical-align: top;\n    }\n\n    .dataframe thead th {\n        text-align: right;\n    }\n</style>\n<table border=\"1\" class=\"dataframe\">\n  <thead>\n    <tr style=\"text-align: right;\">\n      <th></th>\n      <th>equipoID</th>\n      <th>nombreEq</th>\n      <th>nombreJug1</th>\n      <th>nombreJug2</th>\n      <th>sets_ganados</th>\n      <th>sets_perdidos</th>\n      <th>partidos_ganados</th>\n      <th>partidos_perdidos</th>\n      <th>enfrentamientos</th>\n      <th>puntos</th>\n      <th>dineroGenerado</th>\n      <th>mediaEspectadoresPorEquipo</th>\n      <th>entradasVendidasPorEquipo</th>\n      <th>pais</th>\n    </tr>\n  </thead>\n  <tbody>\n    <tr>\n      <th>0</th>\n      <td>1</td>\n      <td>electroingenieros</td>\n      <td>Juan</td>\n      <td>Pedrito</td>\n      <td>11</td>\n      <td>7</td>\n      <td>4</td>\n      <td>3</td>\n      <td>[2, 4, 3, 10, 5, 7, 6]</td>\n      <td>8</td>\n      <td>300</td>\n      <td>1000</td>\n      <td>100</td>\n      <td>España</td>\n    </tr>\n    <tr>\n      <th>1</th>\n      <td>2</td>\n      <td>termonuecleares</td>\n      <td>Pedro</td>\n      <td>Adrian</td>\n      <td>11</td>\n      <td>7</td>\n      <td>4</td>\n      <td>3</td>\n      <td>[1, 8, 10, 7, 4, 6, 9]</td>\n      <td>8</td>\n      <td>200</td>\n      <td>800</td>\n      <td>80</td>\n      <td>EEUU</td>\n    </tr>\n    <tr>\n      <th>2</th>\n      <td>3</td>\n      <td>ElPAPITO</td>\n      <td>Pablo</td>\n      <td>Elena</td>\n      <td>7</td>\n      <td>10</td>\n      <td>3</td>\n      <td>4</td>\n      <td>[4, 9, 1, 6, 7, 5, 10]</td>\n      <td>6</td>\n      <td>250</td>\n      <td>900</td>\n      <td>90</td>\n      <td>China</td>\n    </tr>\n    <tr>\n      <th>3</th>\n      <td>4</td>\n      <td>LosPibes</td>\n      <td>Elena</td>\n      <td>Blanca</td>\n      <td>12</td>\n      <td>5</td>\n      <td>6</td>\n      <td>1</td>\n      <td>[3, 1, 5, 8, 2, 10, 7]</td>\n      <td>12</td>\n      <td>150</td>\n      <td>700</td>\n      <td>70</td>\n      <td>URS</td>\n    </tr>\n    <tr>\n      <th>4</th>\n      <td>5</td>\n      <td>herculanos</td>\n      <td>Carlos</td>\n      <td>Ana</td>\n      <td>9</td>\n      <td>10</td>\n      <td>3</td>\n      <td>4</td>\n      <td>[6, 10, 4, 9, 1, 3, 8]</td>\n      <td>6</td>\n      <td>300</td>\n      <td>1000</td>\n      <td>100</td>\n      <td>China</td>\n    </tr>\n    <tr>\n      <th>5</th>\n      <td>6</td>\n      <td>Palilleros</td>\n      <td>Federico</td>\n      <td>Carlos</td>\n      <td>11</td>\n      <td>7</td>\n      <td>5</td>\n      <td>2</td>\n      <td>[5, 7, 8, 3, 9, 2, 1]</td>\n      <td>10</td>\n      <td>200</td>\n      <td>800</td>\n      <td>80</td>\n      <td>Nepal</td>\n    </tr>\n    <tr>\n      <th>6</th>\n      <td>7</td>\n      <td>MaurosTeam</td>\n      <td>Mauro</td>\n      <td>Alex</td>\n      <td>5</td>\n      <td>11</td>\n      <td>2</td>\n      <td>5</td>\n      <td>[8, 6, 9, 2, 3, 1, 4]</td>\n      <td>4</td>\n      <td>250</td>\n      <td>900</td>\n      <td>90</td>\n      <td>Republica Democratica del Congo</td>\n    </tr>\n    <tr>\n      <th>7</th>\n      <td>8</td>\n      <td>ParricaElMejor</td>\n      <td>Parra</td>\n      <td>Teresa</td>\n      <td>7</td>\n      <td>11</td>\n      <td>3</td>\n      <td>4</td>\n      <td>[7, 2, 6, 4, 10, 9, 5]</td>\n      <td>6</td>\n      <td>300</td>\n      <td>1000</td>\n      <td>100</td>\n      <td>España</td>\n    </tr>\n    <tr>\n      <th>8</th>\n      <td>9</td>\n      <td>Ganadores</td>\n      <td>Gonzalo</td>\n      <td>Paco</td>\n      <td>8</td>\n      <td>9</td>\n      <td>3</td>\n      <td>4</td>\n      <td>[10, 3, 7, 5, 6, 8, 2]</td>\n      <td>6</td>\n      <td>400</td>\n      <td>1200</td>\n      <td>120</td>\n      <td>China</td>\n    </tr>\n    <tr>\n      <th>9</th>\n      <td>10</td>\n      <td>UltraTeam</td>\n      <td>Ulises</td>\n      <td>Luis</td>\n      <td>7</td>\n      <td>11</td>\n      <td>2</td>\n      <td>5</td>\n      <td>[9, 5, 2, 1, 8, 4, 3]</td>\n      <td>4</td>\n      <td>200</td>\n      <td>800</td>\n      <td>80</td>\n      <td>Nigeria</td>\n    </tr>\n  </tbody>\n</table>\n</div>"
     },
     "execution_count": 46,
     "metadata": {},
     "output_type": "execute_result"
    }
   ],
   "source": [
    "dfExcel = pd.read_excel('padelWorldCupDicc.xlsx')\n",
    "dfExcel"
   ],
   "metadata": {
    "collapsed": false,
    "ExecuteTime": {
     "end_time": "2024-03-09T19:39:18.588746Z",
     "start_time": "2024-03-09T19:39:18.569893Z"
    }
   },
   "id": "59ec11e7678ca122",
   "execution_count": 46
  },
  {
   "cell_type": "code",
   "outputs": [],
   "source": [],
   "metadata": {
    "collapsed": false
   },
   "id": "e7024094ddd34e9"
  }
 ],
 "metadata": {
  "kernelspec": {
   "display_name": "Python 3 (ipykernel)",
   "language": "python",
   "name": "python3"
  },
  "language_info": {
   "codemirror_mode": {
    "name": "ipython",
    "version": 3
   },
   "file_extension": ".py",
   "mimetype": "text/x-python",
   "name": "python",
   "nbconvert_exporter": "python",
   "pygments_lexer": "ipython3",
   "version": "3.12.0"
  }
 },
 "nbformat": 4,
 "nbformat_minor": 5
}
