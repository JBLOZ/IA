{
 "cells": [
  {
   "cell_type": "code",
   "execution_count": null,
   "id": "initial_id",
   "metadata": {
    "collapsed": true
   },
   "outputs": [],
   "source": []
  },
  {
   "cell_type": "code",
   "outputs": [
    {
     "name": "stdout",
     "output_type": "stream",
     "text": [
      "   equipoID           nombreEq nombreJug1 nombreJug2  setsGanados  \\\n",
      "0         1  electroingenieros       Juan    Pedrito            8   \n",
      "1         2    termonuecleares      Pedro     Adrian            4   \n",
      "2         3           ElPAPITO      Pablo      Elena            6   \n",
      "3         4           LosPibes      Elena     Blanca            3   \n",
      "4         5         herculanos     Carlos        Ana            7   \n",
      "5         6         Palilleros   Federico     Carlos            4   \n",
      "6         7         MaurosTeam      Mauro       Alex            6   \n",
      "7         8     ParricaElMejor      Parra     Teresa            5   \n",
      "8         9          Ganadores    Gonzalo       Paco            9   \n",
      "9        10          UltraTeam     Ulises       Luis            4   \n",
      "\n",
      "   setsPerdidos  DifJuegos enfrentamientosJugados  \n",
      "0             4          4              [1, 2, 3]  \n",
      "1             8         -4              [5, 6, 7]  \n",
      "2             3          3              [1, 5, 9]  \n",
      "3             6         -3             [2, 6, 10]  \n",
      "4             3          4              [3, 7, 8]  \n",
      "5             6         -2              [4, 9, 5]  \n",
      "6             3          3              [6, 7, 8]  \n",
      "7             4          1             [1, 4, 10]  \n",
      "8             2          7              [2, 3, 9]  \n",
      "9             6         -2              [4, 5, 6]  \n"
     ]
    }
   ],
   "source": [
    "import pandas as pd\n",
    "\n",
    "\n",
    "grupo2Padel = {\n",
    "    'equipoID':     [        1,          2,          3,          4,          5,            6,            7,          8,          9,        10],\n",
    "    \n",
    "    'nombreEq':     ['electroingenieros', 'termonuecleares', 'ElPAPITO', 'LosPibes', 'herculanos', 'Palilleros', 'MaurosTeam', 'ParricaElMejor', 'Ganadores', 'UltraTeam'],\n",
    "    \n",
    "    'nombreJug1':   [   'Juan',   'Pedro',  'Pablo',   'Elena',     'Carlos',   'Federico',    'Mauro',    'Parra',    'Gonzalo',    'Ulises'],\n",
    "    \n",
    "    'nombreJug2':   [     'Pedrito',    'Adrian',  'Elena', 'Blanca',   'Ana',     'Carlos',   'Alex', 'Teresa', 'Paco', 'Luis'],\n",
    "    \n",
    "    'setsGanados':  [    8,         4,        6,       3,         7,       4,        6,          5,            9,           4],\n",
    "    \n",
    "    'setsPerdidos': [          4,        8,          3,       6,           3,            6,          3,         4,            2,           6],\n",
    "    'DifJuegos':    [         4,          -4,         3,     -3,        4,          -2,            3,            1,            7,          -2],\n",
    "    'enfrentamientosJugados':  [[1, 2, 3], [5, 6, 7], [1, 5, 9], [2, 6, 10], [3, 7, 8], [4, 9, 5], [6, 7, 8], [1, 4, 10], [2, 3, 9], [4, 5, 6]],\n",
    "\n",
    "}\n",
    "\n",
    "grupo2PadelDataframe = pd.DataFrame(grupo2Padel)\n",
    "                                    \n",
    "print(grupo2PadelDataframe)\n",
    "\n"
   ],
   "metadata": {
    "collapsed": false,
    "ExecuteTime": {
     "end_time": "2024-02-29T13:40:39.184705Z",
     "start_time": "2024-02-29T13:40:38.438971Z"
    }
   },
   "id": "6f20845268eb690b",
   "execution_count": 1
  },
  {
   "cell_type": "code",
   "outputs": [],
   "source": [],
   "metadata": {
    "collapsed": false
   },
   "id": "de63eedd73c02c60"
  }
 ],
 "metadata": {
  "kernelspec": {
   "display_name": "Python 3",
   "language": "python",
   "name": "python3"
  },
  "language_info": {
   "codemirror_mode": {
    "name": "ipython",
    "version": 2
   },
   "file_extension": ".py",
   "mimetype": "text/x-python",
   "name": "python",
   "nbconvert_exporter": "python",
   "pygments_lexer": "ipython2",
   "version": "2.7.6"
  }
 },
 "nbformat": 4,
 "nbformat_minor": 5
}
