{
 "cells": [
  {
   "cell_type": "raw",
   "source": [],
   "metadata": {
    "collapsed": false
   },
   "id": "69e2c5f695f50fc2"
  },
  {
   "cell_type": "markdown",
   "source": [
    "# Jordi Blasco Lozano"
   ],
   "metadata": {
    "collapsed": false
   },
   "id": "2b8c1db909e5435e"
  },
  {
   "cell_type": "code",
   "outputs": [],
   "source": [
    "import pandas as pd"
   ],
   "metadata": {
    "collapsed": false,
    "ExecuteTime": {
     "end_time": "2024-03-07T13:15:28.930388Z",
     "start_time": "2024-03-07T13:15:28.927381Z"
    }
   },
   "id": "c0b868644575b05a",
   "execution_count": 17
  },
  {
   "cell_type": "markdown",
   "source": [
    "## 6.1 Creacion de DataFrames\n",
    "   ### 6.1.1. Creacion de un DataFrame a partir de un diccionario:"
   ],
   "metadata": {
    "collapsed": false
   },
   "id": "ffabc80742c1168e"
  },
  {
   "cell_type": "code",
   "outputs": [
    {
     "name": "stdout",
     "output_type": "stream",
     "text": [
      "   equipoID           nombreEq nombreJug1 nombreJug2  setsGanados  \\\n",
      "0         1  electroingenieros       Juan    Pedrito            8   \n",
      "1         2    termonuecleares      Pedro     Adrian            4   \n",
      "2         3           ElPAPITO      Pablo      Elena            6   \n",
      "3         4           LosPibes      Elena     Blanca            3   \n",
      "4         5         herculanos     Carlos        Ana            7   \n",
      "5         6         Palilleros   Federico     Carlos            4   \n",
      "6         7         MaurosTeam      Mauro       Alex            6   \n",
      "7         8     ParricaElMejor      Parra     Teresa            5   \n",
      "8         9          Ganadores    Gonzalo       Paco            9   \n",
      "9        10          UltraTeam     Ulises       Luis            4   \n",
      "\n",
      "   setsPerdidos  DifJuegos  partidosGanados  dineroGenerado  \\\n",
      "0             4          4                2             300   \n",
      "1             8         -4                1             200   \n",
      "2             3          3                2             250   \n",
      "3             6         -3                1             150   \n",
      "4             3          4                2             300   \n",
      "5             6         -2                1             200   \n",
      "6             3          3                2             250   \n",
      "7             4          1                2             300   \n",
      "8             2          7                3             400   \n",
      "9             6         -2                1             200   \n",
      "\n",
      "   mediaEspectadoresPorEquipo  entradasVendidasPorEquipo  \\\n",
      "0                        1000                        100   \n",
      "1                         800                         80   \n",
      "2                         900                         90   \n",
      "3                         700                         70   \n",
      "4                        1000                        100   \n",
      "5                         800                         80   \n",
      "6                         900                         90   \n",
      "7                        1000                        100   \n",
      "8                        1200                        120   \n",
      "9                         800                         80   \n",
      "\n",
      "  enfrentamientosJugados  \n",
      "0              [1, 2, 3]  \n",
      "1              [5, 6, 7]  \n",
      "2              [1, 5, 9]  \n",
      "3             [2, 6, 10]  \n",
      "4              [3, 7, 8]  \n",
      "5              [4, 9, 5]  \n",
      "6              [6, 7, 8]  \n",
      "7             [1, 4, 10]  \n",
      "8              [2, 3, 9]  \n",
      "9              [4, 5, 6]  \n"
     ]
    }
   ],
   "source": [
    "padelWorldCupDicc = {\n",
    "    'equipoID':     [1,2,3,4,5,6,7,8,9,10],\n",
    "    'nombreEq':     ['electroingenieros','termonuecleares','ElPAPITO','LosPibes','herculanos','Palilleros','MaurosTeam','ParricaElMejor', 'Ganadores','UltraTeam'],\n",
    "    'nombreJug1':   ['Juan','Pedro','Pablo','Elena','Carlos','Federico','Mauro','Parra','Gonzalo','Ulises'],\n",
    "    'nombreJug2':   ['Pedrito','Adrian','Elena','Blanca','Ana','Carlos','Alex','Teresa','Paco','Luis'],\n",
    "    'setsGanados':  [8,4,6,3,7,4,6,5,9,4],\n",
    "    'setsPerdidos': [4,8,3,6,3,6,3,4,2,6],\n",
    "    'DifJuegos':    [4,-4,3,-3,4,-2,3,1,7,-2],\n",
    "    'partidosGanados': [2,1,2,1,2,1,2,2,3,1],\n",
    "    'dineroGenerado': [300, 200, 250, 150, 300, 200, 250, 300, 400, 200],\n",
    "    'mediaEspectadoresPorEquipo': [1000, 800, 900, 700, 1000, 800, 900, 1000, 1200, 800], #se calcula dividiendo entre 2 el total de espectadores de los enfrentamientos de cada equipo\n",
    "    'entradasVendidasPorEquipo': [100, 80, 90, 70, 100, 80, 90, 100, 120, 80], #se calcula dividiendo entre 2 el total de entradas vendidas de los enfrentamientos de cada equipo\n",
    "    'enfrentamientosJugados': [[1, 2, 3],[5, 6, 7],[1, 5, 9],[2, 6, 10],[3, 7, 8],[4, 9, 5],[6, 7, 8],[1, 4, 10],[2, 3, 9],[4, 5, 6]],\n",
    "}\n",
    "\n",
    "dfPadelWorldCupDicc = pd.DataFrame(padelWorldCupDicc)\n",
    "print(dfPadelWorldCupDicc)"
   ],
   "metadata": {
    "collapsed": false,
    "ExecuteTime": {
     "end_time": "2024-03-07T13:15:32.334311Z",
     "start_time": "2024-03-07T13:15:32.318373Z"
    }
   },
   "id": "6f20845268eb690b",
   "execution_count": 18
  },
  {
   "cell_type": "markdown",
   "source": [
    "### 6.1.2. Creacion de un DataFrame a partir de una lista de diccionarios:"
   ],
   "metadata": {
    "collapsed": false
   },
   "id": "d7b7c985544a3f44"
  },
  {
   "cell_type": "code",
   "outputs": [
    {
     "name": "stdout",
     "output_type": "stream",
     "text": [
      "   equipoID           nombreEq nombreJug1 nombreJug2  setsGanados  \\\n",
      "0         1  electroingenieros       Juan    Pedrito            8   \n",
      "1         2    termonuecleares      Pedro     Adrian            4   \n",
      "2         3           ElPAPITO      Pablo      Elena            6   \n",
      "3         4           LosPibes      Elena     Blanca            3   \n",
      "4         5         herculanos     Carlos        Ana            7   \n",
      "5         6         Palilleros   Federico     Carlos            4   \n",
      "6         7         MaurosTeam      Mauro       Alex            6   \n",
      "7         8     ParricaElMejor      Parra     Teresa            5   \n",
      "8         9          Ganadores    Gonzalo       Paco            9   \n",
      "9        10          UltraTeam     Ulises       Luis            4   \n",
      "\n",
      "   setsPerdidos  DifJuegos  partidosGanados  dineroGenerado  \\\n",
      "0             4          4                2             300   \n",
      "1             8         -4                1             200   \n",
      "2             3          3                2             250   \n",
      "3             6         -3                1             150   \n",
      "4             3          4                2             300   \n",
      "5             6         -2                1             200   \n",
      "6             3          3                2             250   \n",
      "7             4          1                2             300   \n",
      "8             2          7                3             400   \n",
      "9             6         -2                1             200   \n",
      "\n",
      "   mediaEspectadoresPorEquipo  entradasVendidasPorEquipo  \\\n",
      "0                        1000                        100   \n",
      "1                         800                         80   \n",
      "2                         900                         90   \n",
      "3                         700                         70   \n",
      "4                        1000                        100   \n",
      "5                         800                         80   \n",
      "6                         900                         90   \n",
      "7                        1000                        100   \n",
      "8                        1200                        120   \n",
      "9                         800                         80   \n",
      "\n",
      "  enfrentamientosJugados  \n",
      "0              [1, 2, 3]  \n",
      "1              [5, 6, 7]  \n",
      "2              [1, 5, 9]  \n",
      "3             [2, 6, 10]  \n",
      "4              [3, 7, 8]  \n",
      "5              [4, 9, 5]  \n",
      "6              [6, 7, 8]  \n",
      "7             [1, 4, 10]  \n",
      "8              [2, 3, 9]  \n",
      "9              [4, 5, 6]  \n"
     ]
    }
   ],
   "source": [
    "padelWorldCupListDicc = [\n",
    "    {'equipoID': 1, 'nombreEq': 'electroingenieros', 'nombreJug1': 'Juan', 'nombreJug2': 'Pedrito', 'setsGanados': 8, 'setsPerdidos': 4, 'DifJuegos': 4, 'partidosGanados': 2, 'dineroGenerado': 300, 'mediaEspectadoresPorEquipo': 1000, 'entradasVendidasPorEquipo': 100, 'enfrentamientosJugados': [1, 2, 3]},\n",
    "    {'equipoID': 2, 'nombreEq': 'termonuecleares', 'nombreJug1': 'Pedro', 'nombreJug2': 'Adrian', 'setsGanados': 4, 'setsPerdidos': 8, 'DifJuegos': -4, 'partidosGanados': 1, 'dineroGenerado': 200, 'mediaEspectadoresPorEquipo': 800, 'entradasVendidasPorEquipo': 80, 'enfrentamientosJugados': [5, 6, 7]},\n",
    "    {'equipoID': 3, 'nombreEq': 'ElPAPITO', 'nombreJug1': 'Pablo', 'nombreJug2': 'Elena', 'setsGanados': 6, 'setsPerdidos': 3, 'DifJuegos': 3, 'partidosGanados': 2, 'dineroGenerado': 250, 'mediaEspectadoresPorEquipo': 900, 'entradasVendidasPorEquipo': 90, 'enfrentamientosJugados': [1, 5, 9]},\n",
    "    {'equipoID': 4, 'nombreEq': 'LosPibes', 'nombreJug1': 'Elena', 'nombreJug2': 'Blanca', 'setsGanados': 3, 'setsPerdidos': 6, 'DifJuegos': -3, 'partidosGanados': 1, 'dineroGenerado': 150, 'mediaEspectadoresPorEquipo': 700, 'entradasVendidasPorEquipo': 70, 'enfrentamientosJugados': [2, 6, 10]},\n",
    "    {'equipoID': 5, 'nombreEq': 'herculanos', 'nombreJug1': 'Carlos', 'nombreJug2': 'Ana', 'setsGanados': 7, 'setsPerdidos': 3, 'DifJuegos': 4, 'partidosGanados': 2, 'dineroGenerado': 300, 'mediaEspectadoresPorEquipo': 1000, 'entradasVendidasPorEquipo': 100, 'enfrentamientosJugados': [3, 7, 8]},\n",
    "    {'equipoID': 6, 'nombreEq': 'Palilleros', 'nombreJug1': 'Federico', 'nombreJug2': 'Carlos', 'setsGanados': 4, 'setsPerdidos': 6, 'DifJuegos': -2, 'partidosGanados': 1, 'dineroGenerado': 200, 'mediaEspectadoresPorEquipo': 800, 'entradasVendidasPorEquipo': 80, 'enfrentamientosJugados': [4, 9, 5]},\n",
    "    {'equipoID': 7, 'nombreEq': 'MaurosTeam', 'nombreJug1': 'Mauro', 'nombreJug2': 'Alex', 'setsGanados': 6, 'setsPerdidos': 3, 'DifJuegos': 3, 'partidosGanados': 2, 'dineroGenerado': 250, 'mediaEspectadoresPorEquipo': 900, 'entradasVendidasPorEquipo': 90, 'enfrentamientosJugados': [6, 7, 8]},\n",
    "    {'equipoID': 8, 'nombreEq': 'ParricaElMejor', 'nombreJug1': 'Parra', 'nombreJug2': 'Teresa', 'setsGanados': 5, 'setsPerdidos': 4, 'DifJuegos': 1, 'partidosGanados': 2, 'dineroGenerado': 300, 'mediaEspectadoresPorEquipo': 1000, 'entradasVendidasPorEquipo': 100, 'enfrentamientosJugados': [1, 4, 10]},\n",
    "    {'equipoID': 9, 'nombreEq': 'Ganadores', 'nombreJug1': 'Gonzalo', 'nombreJug2': 'Paco', 'setsGanados': 9, 'setsPerdidos': 2, 'DifJuegos': 7, 'partidosGanados': 3, 'dineroGenerado': 400, 'mediaEspectadoresPorEquipo': 1200, 'entradasVendidasPorEquipo': 120, 'enfrentamientosJugados': [2, 3, 9]},\n",
    "    {'equipoID': 10, 'nombreEq': 'UltraTeam', 'nombreJug1': 'Ulises', 'nombreJug2': 'Luis', 'setsGanados': 4, 'setsPerdidos': 6, 'DifJuegos': -2, 'partidosGanados': 1, 'dineroGenerado': 200, 'mediaEspectadoresPorEquipo': 800, 'entradasVendidasPorEquipo': 80, 'enfrentamientosJugados': [4, 5, 6]}\n",
    "]\n",
    "dfPadelWorldCupListDicc = pd.DataFrame(padelWorldCupListDicc)\n",
    "print(dfPadelWorldCupListDicc)\n"
   ],
   "metadata": {
    "collapsed": false,
    "ExecuteTime": {
     "end_time": "2024-03-07T13:27:01.887855Z",
     "start_time": "2024-03-07T13:27:01.875603Z"
    }
   },
   "id": "3af121e6ea243727",
   "execution_count": 22
  },
  {
   "cell_type": "markdown",
   "source": [
    "### 6.1.3. Creacion de un DataFrame a partir de un lista de listas:\n",
    "para crear el DataFrame a partir de una lista de listas, primero se crea la lista de listas y luego se crea el DataFrame con la lista de listas como argumento del constructor de DataFrame."
   ],
   "metadata": {
    "collapsed": false
   },
   "id": "ae5bc106f274ea00"
  },
  {
   "cell_type": "code",
   "outputs": [
    {
     "name": "stdout",
     "output_type": "stream",
     "text": [
      "   equipoID           nombreEq nombreJug1 nombreJug2  setsGanados  \\\n",
      "0         1  electroingenieros       Juan    Pedrito            8   \n",
      "1         2    termonuecleares      Pedro     Adrian            4   \n",
      "2         3           ElPAPITO      Pablo      Elena            6   \n",
      "3         4           LosPibes      Elena     Blanca            3   \n",
      "4         5         herculanos     Carlos        Ana            7   \n",
      "5         6         Palilleros   Federico     Carlos            4   \n",
      "6         7         MaurosTeam      Mauro       Alex            6   \n",
      "7         8     ParricaElMejor      Parra     Teresa            5   \n",
      "8         9          Ganadores    Gonzalo       Paco            9   \n",
      "9        10          UltraTeam     Ulises       Luis            4   \n",
      "\n",
      "   setsPerdidos  DifJuegos  partidosGanados  dineroGenerado  \\\n",
      "0             4          4                2             300   \n",
      "1             8         -4                1             200   \n",
      "2             3          3                2             250   \n",
      "3             6         -3                1             150   \n",
      "4             3          4                2             300   \n",
      "5             6         -2                1             200   \n",
      "6             3          3                2             250   \n",
      "7             4          1                2             300   \n",
      "8             2          7                3             400   \n",
      "9             6         -2                1             200   \n",
      "\n",
      "   mediaEspectadoresPorEquipo  entradasVendidasPorEquipo  \\\n",
      "0                        1000                        100   \n",
      "1                         800                         80   \n",
      "2                         900                         90   \n",
      "3                         700                         70   \n",
      "4                        1000                        100   \n",
      "5                         800                         80   \n",
      "6                         900                         90   \n",
      "7                        1000                        100   \n",
      "8                        1200                        120   \n",
      "9                         800                         80   \n",
      "\n",
      "  enfrentamientosJugados  \n",
      "0              [1, 2, 3]  \n",
      "1              [5, 6, 7]  \n",
      "2              [1, 5, 9]  \n",
      "3             [2, 6, 10]  \n",
      "4              [3, 7, 8]  \n",
      "5              [4, 9, 5]  \n",
      "6              [6, 7, 8]  \n",
      "7             [1, 4, 10]  \n",
      "8              [2, 3, 9]  \n",
      "9              [4, 5, 6]  \n"
     ]
    }
   ],
   "source": [
    "padelWorldCupListOfList = [\n",
    "    [1, 'electroingenieros', 'Juan', 'Pedrito', 8, 4, 4, 2, 300, 1000, 100, [1, 2, 3]],\n",
    "    [2, 'termonuecleares', 'Pedro', 'Adrian', 4, 8, -4, 1, 200, 800, 80, [5, 6, 7]],\n",
    "    [3, 'ElPAPITO', 'Pablo', 'Elena', 6, 3, 3, 2, 250, 900, 90, [1, 5, 9]],\n",
    "    [4, 'LosPibes', 'Elena', 'Blanca', 3, 6, -3, 1, 150, 700, 70, [2, 6, 10]],\n",
    "    [5, 'herculanos', 'Carlos', 'Ana', 7, 3, 4, 2, 300, 1000, 100, [3, 7, 8]],\n",
    "    [6, 'Palilleros', 'Federico', 'Carlos', 4, 6, -2, 1, 200, 800, 80, [4, 9, 5]],\n",
    "    [7, 'MaurosTeam', 'Mauro', 'Alex', 6, 3, 3, 2, 250, 900, 90, [6, 7, 8]],\n",
    "    [8, 'ParricaElMejor', 'Parra', 'Teresa', 5, 4, 1, 2, 300, 1000, 100, [1, 4, 10]],\n",
    "    [9, 'Ganadores', 'Gonzalo', 'Paco', 9, 2, 7, 3, 400, 1200, 120, [2, 3, 9]],\n",
    "    [10, 'UltraTeam', 'Ulises', 'Luis', 4, 6, -2, 1, 200, 800, 80, [4, 5, 6]]]\n",
    "\n",
    "dfPadelWorldCupListOfList = pd.DataFrame(padelWorldCupListOfList, columns=['equipoID', 'nombreEq', 'nombreJug1', 'nombreJug2', 'setsGanados', 'setsPerdidos', 'DifJuegos', 'partidosGanados', 'dineroGenerado', 'mediaEspectadoresPorEquipo', 'entradasVendidasPorEquipo', 'enfrentamientosJugados'])\n",
    "print(dfPadelWorldCupListOfList)\n",
    "\n"
   ],
   "metadata": {
    "collapsed": false,
    "ExecuteTime": {
     "end_time": "2024-03-07T13:26:09.434975Z",
     "start_time": "2024-03-07T13:26:09.423934Z"
    }
   },
   "id": "de63eedd73c02c60",
   "execution_count": 21
  },
  {
   "cell_type": "markdown",
   "source": [
    "## 6.2. Acceso a los elementos de un DataFrame\n",
    "### 6.2.1. Acceso a las columnas de un DataFrame\n",
    "columna individal:"
   ],
   "metadata": {
    "collapsed": false
   },
   "id": "c8e509351e779a9b"
  },
  {
   "cell_type": "code",
   "outputs": [
    {
     "name": "stdout",
     "output_type": "stream",
     "text": [
      "0    electroingenieros\n",
      "1      termonuecleares\n",
      "2             ElPAPITO\n",
      "3             LosPibes\n",
      "4           herculanos\n",
      "5           Palilleros\n",
      "6           MaurosTeam\n",
      "7       ParricaElMejor\n",
      "8            Ganadores\n",
      "9            UltraTeam\n",
      "Name: nombreEq, dtype: object\n"
     ]
    }
   ],
   "source": [
    "print(dfPadelWorldCupDicc['nombreEq'])"
   ],
   "metadata": {
    "collapsed": false,
    "ExecuteTime": {
     "end_time": "2024-03-07T13:34:25.772018Z",
     "start_time": "2024-03-07T13:34:25.768672Z"
    }
   },
   "id": "a22906606ad6bbc0",
   "execution_count": 33
  },
  {
   "cell_type": "markdown",
   "source": [
    "columnas multiples:"
   ],
   "metadata": {
    "collapsed": false
   },
   "id": "39cf356690a3bbc8"
  },
  {
   "cell_type": "code",
   "outputs": [
    {
     "name": "stdout",
     "output_type": "stream",
     "text": [
      "            nombreEq nombreJug1 nombreJug2\n",
      "0  electroingenieros       Juan    Pedrito\n",
      "1    termonuecleares      Pedro     Adrian\n",
      "2           ElPAPITO      Pablo      Elena\n",
      "3           LosPibes      Elena     Blanca\n",
      "4         herculanos     Carlos        Ana\n",
      "5         Palilleros   Federico     Carlos\n",
      "6         MaurosTeam      Mauro       Alex\n",
      "7     ParricaElMejor      Parra     Teresa\n",
      "8          Ganadores    Gonzalo       Paco\n",
      "9          UltraTeam     Ulises       Luis\n"
     ]
    }
   ],
   "source": [
    "print(dfPadelWorldCupDicc[['nombreEq', 'nombreJug1', 'nombreJug2']])"
   ],
   "metadata": {
    "collapsed": false,
    "ExecuteTime": {
     "end_time": "2024-03-07T13:34:50.086186Z",
     "start_time": "2024-03-07T13:34:50.081149Z"
    }
   },
   "id": "910bf810d9260ee6",
   "execution_count": 34
  },
  {
   "cell_type": "markdown",
   "source": [
    "### 6.2.2. Acceso a las filas de un DataFrame\n",
    "fila individual:"
   ],
   "metadata": {
    "collapsed": false
   },
   "id": "ec9bcee8392f6603"
  },
  {
   "cell_type": "code",
   "outputs": [
    {
     "name": "stdout",
     "output_type": "stream",
     "text": [
      "equipoID                                      1\n",
      "nombreEq                      electroingenieros\n",
      "nombreJug1                                 Juan\n",
      "nombreJug2                              Pedrito\n",
      "setsGanados                                   8\n",
      "setsPerdidos                                  4\n",
      "DifJuegos                                     4\n",
      "partidosGanados                               2\n",
      "dineroGenerado                              300\n",
      "mediaEspectadoresPorEquipo                 1000\n",
      "entradasVendidasPorEquipo                   100\n",
      "enfrentamientosJugados                [1, 2, 3]\n",
      "Name: 0, dtype: object\n"
     ]
    }
   ],
   "source": [
    "print(dfPadelWorldCupDicc.iloc[0])"
   ],
   "metadata": {
    "collapsed": false,
    "ExecuteTime": {
     "end_time": "2024-03-07T13:38:06.482485Z",
     "start_time": "2024-03-07T13:38:06.478621Z"
    }
   },
   "id": "485d22e0a5061899",
   "execution_count": 35
  },
  {
   "cell_type": "markdown",
   "source": [
    "filas multiples:"
   ],
   "metadata": {
    "collapsed": false
   },
   "id": "8f404611828a7fd9"
  },
  {
   "cell_type": "code",
   "outputs": [
    {
     "name": "stdout",
     "output_type": "stream",
     "text": [
      "   equipoID           nombreEq nombreJug1 nombreJug2  setsGanados  \\\n",
      "0         1  electroingenieros       Juan    Pedrito            8   \n",
      "1         2    termonuecleares      Pedro     Adrian            4   \n",
      "2         3           ElPAPITO      Pablo      Elena            6   \n",
      "\n",
      "   setsPerdidos  DifJuegos  partidosGanados  dineroGenerado  \\\n",
      "0             4          4                2             300   \n",
      "1             8         -4                1             200   \n",
      "2             3          3                2             250   \n",
      "\n",
      "   mediaEspectadoresPorEquipo  entradasVendidasPorEquipo  \\\n",
      "0                        1000                        100   \n",
      "1                         800                         80   \n",
      "2                         900                         90   \n",
      "\n",
      "  enfrentamientosJugados  \n",
      "0              [1, 2, 3]  \n",
      "1              [5, 6, 7]  \n",
      "2              [1, 5, 9]  \n"
     ]
    }
   ],
   "source": [
    "print(dfPadelWorldCupDicc.iloc[0:3])"
   ],
   "metadata": {
    "collapsed": false,
    "ExecuteTime": {
     "end_time": "2024-03-07T13:45:08.068438Z",
     "start_time": "2024-03-07T13:45:08.060386Z"
    }
   },
   "id": "b404ad48581b6816",
   "execution_count": 40
  },
  {
   "cell_type": "markdown",
   "source": [
    "## 6.3. Operaciones con DataFrames\n"
   ],
   "metadata": {
    "collapsed": false
   },
   "id": "1bd84f62555302ee"
  },
  {
   "cell_type": "code",
   "outputs": [
    {
     "name": "stdout",
     "output_type": "stream",
     "text": [
      "255.0\n",
      "2550\n"
     ]
    }
   ],
   "source": [
    "print(dfPadelWorldCupDicc['dineroGenerado'].mean())\n",
    "print(dfPadelWorldCupDicc['dineroGenerado'].mean())\n",
    "print(dfPadelWorldCupDicc['dineroGenerado'].sum())"
   ],
   "metadata": {
    "collapsed": false,
    "ExecuteTime": {
     "end_time": "2024-03-07T13:45:10.800464Z",
     "start_time": "2024-03-07T13:45:10.795633Z"
    }
   },
   "id": "ca65c319e9a39da1",
   "execution_count": 41
  },
  {
   "cell_type": "code",
   "outputs": [],
   "source": [],
   "metadata": {
    "collapsed": false
   },
   "id": "355e9eae20e9419c"
  }
 ],
 "metadata": {
  "kernelspec": {
   "display_name": "Python 3",
   "language": "python",
   "name": "python3"
  },
  "language_info": {
   "codemirror_mode": {
    "name": "ipython",
    "version": 2
   },
   "file_extension": ".py",
   "mimetype": "text/x-python",
   "name": "python",
   "nbconvert_exporter": "python",
   "pygments_lexer": "ipython2",
   "version": "2.7.6"
  }
 },
 "nbformat": 4,
 "nbformat_minor": 5
}
