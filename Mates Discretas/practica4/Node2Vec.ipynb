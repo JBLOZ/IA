{
 "cells": [
  {
   "cell_type": "markdown",
   "source": [
    "## Jordi Blasco Lozano \n",
    "## 14. Grafos en la vida real"
   ],
   "metadata": {
    "collapsed": false
   },
   "id": "9ad1d51de8b3ddbd"
  },
  {
   "cell_type": "markdown",
   "source": [
    "### 14.1 Node2Vec"
   ],
   "metadata": {
    "collapsed": false
   },
   "id": "b80c90b32aae07ce"
  },
  {
   "metadata": {},
   "cell_type": "markdown",
   "source": "Node2Vec es un algoritmo de representación de un grafo en un espacio de dimensión reducida. La idea es que nodos que están cerca en el grafo original, estén cerca en el espacio de dimensión reducida. Para ello, se utiliza un algoritmo de random walk sesgado que permite recorrer el grafo y obtener las representaciones de los nodos en el espacio de dimensión reducida.",
   "id": "943c6e12c9f858e8"
  },
  {
   "cell_type": "markdown",
   "source": "### 14.1.1. Incrustaciones y word2vec ",
   "metadata": {
    "collapsed": false
   },
   "id": "47fc3a7dbb37cbd3"
  },
  {
   "metadata": {},
   "cell_type": "markdown",
   "source": [
    "- Las incrustaciones de los nodos en un gráfico son las representaciones de baja dimensión de los nodos en el gráfico. \n",
    "- Las incrustaciones de los nodos se pueden utilizar para realizar diversas tareas en el gráfico, como clasificación, agrupación y predicción de enlaces. \n",
    "- El algoritmo Node2Vec se basa en el algoritmo Word2Vec. Word2Vec es un algoritmo de aprendizaje de representación que se utiliza para aprender las incrustaciones de palabras en un texto."
   ],
   "id": "3e1ae69e54dee948"
  },
  {
   "cell_type": "code",
   "outputs": [],
   "source": [],
   "metadata": {
    "collapsed": false
   },
   "id": "8b06df4a57f9a6f",
   "execution_count": null
  }
 ],
 "metadata": {
  "kernelspec": {
   "display_name": "Python 3",
   "language": "python",
   "name": "python3"
  },
  "language_info": {
   "codemirror_mode": {
    "name": "ipython",
    "version": 2
   },
   "file_extension": ".py",
   "mimetype": "text/x-python",
   "name": "python",
   "nbconvert_exporter": "python",
   "pygments_lexer": "ipython2",
   "version": "2.7.6"
  }
 },
 "nbformat": 4,
 "nbformat_minor": 5
}
