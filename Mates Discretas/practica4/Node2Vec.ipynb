{
 "cells": [
  {
   "cell_type": "markdown",
   "source": [
    "## Jordi Blasco Lozano \n",
    "## 14. Grafos en la vida real"
   ],
   "metadata": {
    "collapsed": false
   },
   "id": "9ad1d51de8b3ddbd"
  },
  {
   "cell_type": "markdown",
   "source": [
    "### 14.1 Node2Vec"
   ],
   "metadata": {
    "collapsed": false
   },
   "id": "b80c90b32aae07ce"
  },
  {
   "cell_type": "markdown",
   "source": [],
   "metadata": {
    "collapsed": false
   },
   "id": "47fc3a7dbb37cbd3"
  },
  {
   "cell_type": "code",
   "outputs": [],
   "source": [],
   "metadata": {
    "collapsed": false
   },
   "id": "8b06df4a57f9a6f"
  }
 ],
 "metadata": {
  "kernelspec": {
   "display_name": "Python 3",
   "language": "python",
   "name": "python3"
  },
  "language_info": {
   "codemirror_mode": {
    "name": "ipython",
    "version": 2
   },
   "file_extension": ".py",
   "mimetype": "text/x-python",
   "name": "python",
   "nbconvert_exporter": "python",
   "pygments_lexer": "ipython2",
   "version": "2.7.6"
  }
 },
 "nbformat": 4,
 "nbformat_minor": 5
}
