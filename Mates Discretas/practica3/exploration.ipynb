{
 "cells": [
  {
   "cell_type": "code",
   "id": "initial_id",
   "metadata": {
    "collapsed": true,
    "ExecuteTime": {
     "end_time": "2024-04-28T16:30:06.358197Z",
     "start_time": "2024-04-28T16:30:05.346268Z"
    }
   },
   "source": [
    "import networkx as nx\n",
    "import matplotlib as plt\n",
    "import numpy as np\n",
    "import matplotlib.pyplot as pyt"
   ],
   "outputs": [],
   "execution_count": 1
  },
  {
   "cell_type": "markdown",
   "source": [
    "Creamos los graficos que necesitemos"
   ],
   "metadata": {
    "collapsed": false
   },
   "id": "10cfaf5c841199f6"
  },
  {
   "cell_type": "code",
   "source": [
    "G1 = nx.erdos_renyi_graph(10, 0.4, seed=1) # 10 nodos, probabilidad de 0.4\n",
    "\n",
    "G2 = nx.barabasi_albert_graph(10, 2, seed=1)\n",
    "\n",
    "G3 = nx.watts_strogatz_graph(10, 2, 0.2, seed=1)\n",
    "\n",
    "G4 = nx.random_tree(10, seed=1)\n",
    "\n",
    "G5 = nx.stochastic_block_model([20, 20], [[1, 0.2], [0.2, 1]], seed=3)\n"
   ],
   "metadata": {
    "collapsed": false,
    "ExecuteTime": {
     "end_time": "2024-04-28T16:30:07.270573Z",
     "start_time": "2024-04-28T16:30:07.266153Z"
    }
   },
   "id": "3c06dbabb8f97f49",
   "outputs": [],
   "execution_count": 2
  },
  {
   "cell_type": "code",
   "source": [
    "def random_walk(G, start_node,destination_node):\n",
    "    current_node = start_node\n",
    "    path = [current_node]\n",
    "    while current_node != destination_node:\n",
    "        neighbors = list(G.neighbors(current_node))\n",
    "        current_node = np.random.choice(neighbors)\n",
    "        path.append(current_node)\n",
    "    return path\n",
    "\n",
    "# Now we are going to create the function hitting time, that calculates the number of steps it takes to go from one node to another using random walks\n",
    "\n",
    "def hitting_time(G, start_node, destination_node, num_walks=1000):\n",
    "    hitting_times = []\n",
    "    # From node_i to node_j\n",
    "    for _ in range(num_walks):\n",
    "        path = random_walk(G, start_node, destination_node)\n",
    "        hitting_times.append(len(path))\n",
    "    # From node_j to node_i\n",
    "    for _ in range(num_walks):\n",
    "        path = random_walk(G, destination_node, start_node)\n",
    "        hitting_times.append(len(path))\n",
    "    return np.mean(hitting_times)"
   ],
   "metadata": {
    "collapsed": false,
    "ExecuteTime": {
     "end_time": "2024-04-28T16:30:09.172083Z",
     "start_time": "2024-04-28T16:30:09.168040Z"
    }
   },
   "id": "c93164f17d0adcc4",
   "outputs": [],
   "execution_count": 3
  },
  {
   "cell_type": "code",
   "source": [
    "def hit(G):\n",
    "    M = np.zeros((len(G.nodes), len(G.nodes)))\n",
    "    for i in range(len(G.nodes)):\n",
    "        for j in range(i+1, len(G.nodes)):\n",
    "            M[i, j] = hitting_time(G, i, j)\n",
    "            M[j, i] = M[i, j]\n",
    "    return M\n",
    "\n",
    "\n",
    "\n",
    "def imprimirColores(M):\n",
    "    if M.__class__ == nx.Graph:\n",
    "        G = M\n",
    "        M = hit(G)\n",
    "    pyt.imshow(M)\n",
    "    pyt.colorbar()\n",
    "    pyt.title('Matriz de Hitting Time')\n",
    "    pyt.show()\n",
    "    \n",
    "\n",
    "\n",
    "\n",
    "\n",
    "def hitNode(G, node):\n",
    "    M = np.zeros(len(G.nodes))\n",
    "    for i in range(len(G.nodes)):\n",
    "        M[i] = hitting_time(G, node, i)\n",
    "    mostEasyNodes = np.argsort(M)\n",
    "    return mostEasyNodes[1:4]\n",
    "\n",
    "\n",
    "\n",
    "\n",
    "\n",
    "\n",
    "\n",
    "\n",
    "\n"
   ],
   "metadata": {
    "collapsed": false,
    "is_executing": true,
    "ExecuteTime": {
     "end_time": "2024-04-28T17:27:07.624793Z",
     "start_time": "2024-04-28T17:27:05.748820Z"
    }
   },
   "id": "e419b9a6f9761dbf",
   "outputs": [
    {
     "name": "stdout",
     "output_type": "stream",
     "text": [
      "[1 4 9]\n"
     ]
    }
   ],
   "execution_count": 16
  },
  {
   "cell_type": "code",
   "outputs": [],
   "source": [],
   "metadata": {
    "collapsed": false
   },
   "id": "5bf39efad0d95ffa",
   "execution_count": null
  }
 ],
 "metadata": {
  "kernelspec": {
   "display_name": "Python 3",
   "language": "python",
   "name": "python3"
  },
  "language_info": {
   "codemirror_mode": {
    "name": "ipython",
    "version": 2
   },
   "file_extension": ".py",
   "mimetype": "text/x-python",
   "name": "python",
   "nbconvert_exporter": "python",
   "pygments_lexer": "ipython2",
   "version": "2.7.6"
  }
 },
 "nbformat": 4,
 "nbformat_minor": 5
}
