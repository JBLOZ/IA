{
 "cells": [
  {
   "cell_type": "code",
   "execution_count": 36,
   "id": "initial_id",
   "metadata": {
    "collapsed": true,
    "ExecuteTime": {
     "end_time": "2024-04-25T17:17:11.318398Z",
     "start_time": "2024-04-25T17:17:10.713531Z"
    }
   },
   "outputs": [],
   "source": [
    "import networkx as nx\n",
    "import matplotlib as plt\n",
    "import numpy as np\n",
    "import matplotlib.pyplot as pyt"
   ]
  },
  {
   "cell_type": "markdown",
   "source": [
    "Creamos los graficos que necesitemos"
   ],
   "metadata": {
    "collapsed": false
   },
   "id": "10cfaf5c841199f6"
  },
  {
   "cell_type": "code",
   "outputs": [],
   "source": [
    "G1 = nx.erdos_renyi_graph(10, 0.4, seed=1) # 10 nodos, probabilidad de 0.4\n",
    "\n",
    "G2 = nx.barabasi_albert_graph(10, 2, seed=1)\n",
    "\n",
    "G3 = nx.watts_strogatz_graph(10, 2, 0.2, seed=1)\n",
    "\n",
    "G4 = nx.random_tree(10, seed=1)\n",
    "\n",
    "G5 = nx.stochastic_block_model([20, 20], [[1, 0.2], [0.2, 1]], seed=1)\n"
   ],
   "metadata": {
    "collapsed": false,
    "ExecuteTime": {
     "end_time": "2024-04-25T17:43:41.942252Z",
     "start_time": "2024-04-25T17:43:41.936458Z"
    }
   },
   "id": "3c06dbabb8f97f49",
   "execution_count": 41
  },
  {
   "cell_type": "code",
   "outputs": [],
   "source": [
    "def random_walk(G, start_node,destination_node):\n",
    "    current_node = start_node\n",
    "    path = [current_node]\n",
    "    while current_node != destination_node:\n",
    "        neighbors = list(G.neighbors(current_node))\n",
    "        current_node = np.random.choice(neighbors)\n",
    "        path.append(current_node)\n",
    "    return path\n",
    "\n",
    "# Now we are going to create the function hitting time, that calculates the number of steps it takes to go from one node to another using random walks\n",
    "\n",
    "def hitting_time(G, start_node, destination_node, num_walks=1000):\n",
    "    hitting_times = []\n",
    "    # From node_i to node_j\n",
    "    for _ in range(num_walks):\n",
    "        path = random_walk(G, start_node, destination_node)\n",
    "        hitting_times.append(len(path))\n",
    "    # From node_j to node_i\n",
    "    for _ in range(num_walks):\n",
    "        path = random_walk(G, destination_node, start_node)\n",
    "        hitting_times.append(len(path))\n",
    "    return np.mean(hitting_times)"
   ],
   "metadata": {
    "collapsed": false,
    "ExecuteTime": {
     "end_time": "2024-04-25T14:42:26.905711Z",
     "start_time": "2024-04-25T14:42:26.900581Z"
    }
   },
   "id": "c93164f17d0adcc4",
   "execution_count": 18
  },
  {
   "cell_type": "code",
   "outputs": [],
   "source": [
    "def hit(G):\n",
    "    M = np.zeros((len(G.nodes), len(G.nodes)))\n",
    "    for i in range(len(G.nodes)):\n",
    "        for j in range(i+1, len(G.nodes)):\n",
    "            M[i, j] = hitting_time(G, i, j)\n",
    "            M[j, i] = M[i, j]\n",
    "    return M\n",
    "\n",
    "\n",
    "\n",
    "def imprimirColores(M):\n",
    "    pyt.imshow(M)\n",
    "    pyt.colorbar()\n",
    "    pyt.title('Matriz de Hitting Time')\n",
    "    pyt.show()\n",
    "    \n",
    "    \n",
    "imprimirColores(hit(G5))\n",
    "\n",
    "\n",
    "\n",
    "\n",
    "\n",
    "\n",
    "\n",
    "\n",
    "\n",
    "\n",
    "\n",
    "\n"
   ],
   "metadata": {
    "collapsed": false,
    "is_executing": true,
    "ExecuteTime": {
     "start_time": "2024-04-25T17:43:48.390102Z"
    }
   },
   "id": "e419b9a6f9761dbf",
   "execution_count": null
  },
  {
   "cell_type": "code",
   "outputs": [],
   "source": [],
   "metadata": {
    "collapsed": false
   },
   "id": "5bf39efad0d95ffa"
  }
 ],
 "metadata": {
  "kernelspec": {
   "display_name": "Python 3",
   "language": "python",
   "name": "python3"
  },
  "language_info": {
   "codemirror_mode": {
    "name": "ipython",
    "version": 2
   },
   "file_extension": ".py",
   "mimetype": "text/x-python",
   "name": "python",
   "nbconvert_exporter": "python",
   "pygments_lexer": "ipython2",
   "version": "2.7.6"
  }
 },
 "nbformat": 4,
 "nbformat_minor": 5
}
