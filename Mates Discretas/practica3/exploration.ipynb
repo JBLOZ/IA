{
 "cells": [
  {
   "cell_type": "code",
   "id": "initial_id",
   "metadata": {
    "collapsed": true,
    "ExecuteTime": {
     "end_time": "2024-04-26T17:59:29.953574Z",
     "start_time": "2024-04-26T17:59:28.904365Z"
    }
   },
   "source": [
    "import networkx as nx\n",
    "import matplotlib as plt\n",
    "import numpy as np\n",
    "import matplotlib.pyplot as pyt"
   ],
   "outputs": [],
   "execution_count": 1
  },
  {
   "cell_type": "markdown",
   "source": [
    "Creamos los graficos que necesitemos"
   ],
   "metadata": {
    "collapsed": false
   },
   "id": "10cfaf5c841199f6"
  },
  {
   "cell_type": "code",
   "source": [
    "G1 = nx.erdos_renyi_graph(10, 0.4, seed=1) # 10 nodos, probabilidad de 0.4\n",
    "\n",
    "G2 = nx.barabasi_albert_graph(10, 2, seed=1)\n",
    "\n",
    "G3 = nx.watts_strogatz_graph(10, 2, 0.2, seed=1)\n",
    "\n",
    "G4 = nx.random_tree(10, seed=1)\n",
    "\n",
    "G5 = nx.stochastic_block_model([20, 20], [[1, 0.2], [0.2, 1]], seed=1)\n"
   ],
   "metadata": {
    "collapsed": false,
    "ExecuteTime": {
     "end_time": "2024-04-26T17:59:31.577678Z",
     "start_time": "2024-04-26T17:59:31.572671Z"
    }
   },
   "id": "3c06dbabb8f97f49",
   "outputs": [],
   "execution_count": 2
  },
  {
   "cell_type": "code",
   "source": [
    "def random_walk(G, start_node,destination_node):\n",
    "    current_node = start_node\n",
    "    path = [current_node]\n",
    "    while current_node != destination_node:\n",
    "        neighbors = list(G.neighbors(current_node))\n",
    "        current_node = np.random.choice(neighbors)\n",
    "        path.append(current_node)\n",
    "    return path\n",
    "\n",
    "# Now we are going to create the function hitting time, that calculates the number of steps it takes to go from one node to another using random walks\n",
    "\n",
    "def hitting_time(G, start_node, destination_node, num_walks=1000):\n",
    "    hitting_times = []\n",
    "    # From node_i to node_j\n",
    "    for _ in range(num_walks):\n",
    "        path = random_walk(G, start_node, destination_node)\n",
    "        hitting_times.append(len(path))\n",
    "    # From node_j to node_i\n",
    "    for _ in range(num_walks):\n",
    "        path = random_walk(G, destination_node, start_node)\n",
    "        hitting_times.append(len(path))\n",
    "    return np.mean(hitting_times)"
   ],
   "metadata": {
    "collapsed": false,
    "ExecuteTime": {
     "end_time": "2024-04-26T17:59:32.156303Z",
     "start_time": "2024-04-26T17:59:32.152169Z"
    }
   },
   "id": "c93164f17d0adcc4",
   "outputs": [],
   "execution_count": 3
  },
  {
   "cell_type": "code",
   "source": [
    "def hit(G):\n",
    "    M = np.zeros((len(G.nodes), len(G.nodes)))\n",
    "    for i in range(len(G.nodes)):\n",
    "        for j in range(i+1, len(G.nodes)):\n",
    "            M[i, j] = hitting_time(G, i, j)\n",
    "            M[j, i] = M[i, j]\n",
    "    return M\n",
    "\n",
    "\n",
    "\n",
    "def imprimirColores(M):\n",
    "    pyt.imshow(M)\n",
    "    pyt.colorbar()\n",
    "    pyt.title('Matriz de Hitting Time')\n",
    "    pyt.show()\n",
    "    \n",
    "print(hit(G1))\n",
    "\n",
    "\n",
    "\n",
    "\n",
    "\n",
    "\n",
    "\n",
    "\n",
    "\n",
    "\n",
    "\n",
    "\n"
   ],
   "metadata": {
    "collapsed": false,
    "is_executing": true,
    "ExecuteTime": {
     "end_time": "2024-04-26T18:00:06.263938Z",
     "start_time": "2024-04-26T17:59:57.207228Z"
    }
   },
   "id": "e419b9a6f9761dbf",
   "outputs": [
    {
     "name": "stdout",
     "output_type": "stream",
     "text": [
      "[[ 0.     10.478  13.897  17.2795 10.4135 16.362  12.7395 14.156  34.982\n",
      "  10.0255]\n",
      " [10.478   0.      9.6625 15.233  10.2035 14.2295  9.1095 12.76   31.844\n",
      "   8.8   ]\n",
      " [13.897   9.6625  0.     14.418  10.13   11.246   8.605  12.2695 32.4155\n",
      "   9.298 ]\n",
      " [17.2795 15.233  14.418   0.      9.5785 16.103   9.8685 10.0575 29.667\n",
      "  12.9595]\n",
      " [10.4135 10.2035 10.13    9.5785  0.     10.3775  7.3205  8.335  28.8765\n",
      "   8.406 ]\n",
      " [16.362  14.2295 11.246  16.103  10.3775  0.      9.851  13.813  34.4955\n",
      "  12.958 ]\n",
      " [12.7395  9.1095  8.605   9.8685  7.3205  9.851   0.      8.488  28.4595\n",
      "   8.8285]\n",
      " [14.156  12.76   12.2695 10.0575  8.335  13.813   8.488   0.     20.753\n",
      "   9.627 ]\n",
      " [34.982  31.844  32.4155 29.667  28.8765 34.4955 28.4595 20.753   0.\n",
      "  30.504 ]\n",
      " [10.0255  8.8     9.298  12.9595  8.406  12.958   8.8285  9.627  30.504\n",
      "   0.    ]]\n"
     ]
    }
   ],
   "execution_count": 5
  },
  {
   "cell_type": "code",
   "outputs": [],
   "source": [],
   "metadata": {
    "collapsed": false
   },
   "id": "5bf39efad0d95ffa",
   "execution_count": null
  }
 ],
 "metadata": {
  "kernelspec": {
   "display_name": "Python 3",
   "language": "python",
   "name": "python3"
  },
  "language_info": {
   "codemirror_mode": {
    "name": "ipython",
    "version": 2
   },
   "file_extension": ".py",
   "mimetype": "text/x-python",
   "name": "python",
   "nbconvert_exporter": "python",
   "pygments_lexer": "ipython2",
   "version": "2.7.6"
  }
 },
 "nbformat": 4,
 "nbformat_minor": 5
}
