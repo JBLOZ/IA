{
 "cells": [
  {
   "cell_type": "markdown",
   "metadata": {
    "id": "m9mXTSrEudh8"
   },
   "source": [
    "# Jordi Blasco Lozano\n",
    "# ***Informe sobre Fundamentos de Numpy***"
   ]
  },
  {
   "cell_type": "markdown",
   "metadata": {
    "id": "5imjr7cb84iY"
   },
   "source": [
    "## **1. Introducción**\n",
    " En este informe, exploraremos los fundamentos de NumPy, una biblioteca fundamental para la computación numérica en Python. NumPy proporciona estructuras  de datos y operaciones eficientes para manejar matrices y matrices multidimensionales."
   ]
  },
  {
   "cell_type": "markdown",
   "metadata": {
    "jp-MarkdownHeadingCollapsed": true,
    "id": "_ZFZlHbK84iY"
   },
   "source": [
    "## **2. Creación de matrices**\n",
    "\n",
    " Las matrices de NumPy son más eficientes que las listas de Python, especialmente para conjuntos de datos grandes, ya que se almacenan en bloques de memoria contiguos. Las matrices pueden crearse a partir de listas o con números aleatorios utilizando las funciones de NumPy.\n",
    "\n",
    " Ejemplo de código:"
   ]
  },
  {
   "cell_type": "code",
   "execution_count": 1,
   "metadata": {
    "colab": {
     "base_uri": "https://localhost:8080/"
    },
    "executionInfo": {
     "elapsed": 356,
     "status": "ok",
     "timestamp": 1707414057534,
     "user": {
      "displayName": "Jordi Blasco Lozano",
      "userId": "06759283674467549937"
     },
     "user_tz": -60
    },
    "id": "4vck4QOhwjLX",
    "outputId": "bba85846-110b-499d-ce45-3effe3759466",
    "ExecuteTime": {
     "end_time": "2024-02-21T14:08:03.075848600Z",
     "start_time": "2024-02-21T14:08:02.802671700Z"
    }
   },
   "outputs": [
    {
     "name": "stdout",
     "output_type": "stream",
     "text": [
      "[0 1 2 3 4 5 6 7 8 9]\n",
      "[[1 1 1]\n",
      " [2 2 2]\n",
      " [3 3 3]]\n",
      "[[0.0966126  0.99244799 0.11363061 0.3909211  0.53277036 0.78736826]\n",
      " [0.69789108 0.19352242 0.05997261 0.8286652  0.65121857 0.63323113]\n",
      " [0.86719573 0.55556508 0.11211107 0.63454774 0.63548764 0.15303089]\n",
      " [0.18881639 0.0858743  0.03254274 0.35499626 0.01733259 0.62458901]\n",
      " [0.28585574 0.13616081 0.04890862 0.2813263  0.05556488 0.37881576]]\n",
      "[[1 0 0 0]\n",
      " [1 0 1 1]\n",
      " [0 0 0 0]\n",
      " [1 0 1 0]]\n",
      "[[[0.31540705 0.25908333 0.72119754 0.40361253 0.15260506]\n",
      "  [0.88038924 0.36668577 0.56207804 0.89148642 0.2998258 ]\n",
      "  [0.57047978 0.76840068 0.60484721 0.79557512 0.4884022 ]\n",
      "  [0.16550412 0.57805729 0.92247959 0.11415063 0.50604835]]]\n",
      "(1, 4, 5)\n"
     ]
    }
   ],
   "source": [
    "import numpy as np\n",
    "\n",
    "# Crear un array con los números del 0 al 9\n",
    "a = np.array([0, 1, 2, 3, 4, 5, 6, 7, 8, 9])\n",
    "print(a)\n",
    "\n",
    "# Crear un array de 2 dimensiones\n",
    "b = np.array([[1, 1, 1], [2, 2, 2], [3, 3, 3]])\n",
    "print(b)\n",
    "\n",
    "# Crear un array de 5 x 6 con números aleatorios\n",
    "c = np.random.rand(5, 6)\n",
    "print(c)\n",
    "\n",
    "# Crear un array de 4 x 4 con numeros enteros aleatorios entre el 0 y el 1\n",
    "d = np.random.randint(0,2, size=(4,4))\n",
    "print(d)\n",
    "\n",
    "# Crear un array aleatoria de mas de dos dimensiones\n",
    "e = np.random.rand(1, 4, 5)\n",
    "print(e)\n",
    "\n",
    "# Mostrar las dimensiones de un array\n",
    "f = e.shape\n",
    "print(f)"
   ]
  },
  {
   "cell_type": "markdown",
   "metadata": {
    "id": "HSA7a1wnwj34",
    "jp-MarkdownHeadingCollapsed": true
   },
   "source": [
    "## **3. Acceso a elementos**\n",
    "Los elementos en las matrices de NumPy pueden accederse mediante indexación y segmentación, muy similar a las listas de Python. Los índices negativos son compatibles para acceder a elementos y subconjuntos de matrices.\n",
    "\n",
    "Ejemplo de código:"
   ]
  },
  {
   "cell_type": "code",
   "execution_count": 2,
   "metadata": {
    "colab": {
     "base_uri": "https://localhost:8080/"
    },
    "executionInfo": {
     "elapsed": 206,
     "status": "ok",
     "timestamp": 1707413887361,
     "user": {
      "displayName": "Jordi Blasco Lozano",
      "userId": "06759283674467549937"
     },
     "user_tz": -60
    },
    "id": "PHeVB5bxyNLA",
    "outputId": "f3220bf0-7fbd-4a25-c9ec-f32ae62135b1",
    "ExecuteTime": {
     "end_time": "2024-02-21T14:08:25.665024900Z",
     "start_time": "2024-02-21T14:08:25.662507100Z"
    }
   },
   "outputs": [
    {
     "name": "stdout",
     "output_type": "stream",
     "text": [
      "0\n",
      "8\n",
      "[0 1 2]\n",
      "[0 3 6]\n"
     ]
    }
   ],
   "source": [
    "import numpy as np\n",
    "\n",
    "# Crear un array de 2 dimensiones\n",
    "a = np.array([[0, 1, 2], [3, 4, 5], [6, 7, 8]])\n",
    "\n",
    "print(a[0, 0])  # Acceder al primer elemento\n",
    "print(a[-1, -1])  # Acceder al último elemento\n",
    "print(a[0, :])  # Acceder a la primera fila\n",
    "print(a[:, 0])  # Acceder a la primera columna"
   ]
  },
  {
   "cell_type": "markdown",
   "metadata": {
    "id": "BK8ngPkgyWWt"
   },
   "source": [
    "## **4. Operaciones**\n",
    " NumPy proporciona varias operaciones para manipular matrices, incluyendo operaciones elemento a elemento, multiplicación de matrices, transmisión, comparación, operaciones lógicas, y más."
   ]
  },
  {
   "cell_type": "markdown",
   "metadata": {
    "id": "1QauxMYT84ia"
   },
   "source": []
  },
  {
   "cell_type": "markdown",
   "metadata": {
    "jp-MarkdownHeadingCollapsed": true,
    "id": "qdHEDCK584ia"
   },
   "source": [
    "### **4.1. Operaciones con la misma array**\n",
    "\n",
    "\n",
    " Ejemplo de código:"
   ]
  },
  {
   "cell_type": "code",
   "execution_count": 2,
   "metadata": {
    "id": "KQR0xzMG84ib",
    "outputId": "48f7d675-7151-4e42-e5c1-726411160c7e",
    "colab": {
     "base_uri": "https://localhost:8080/"
    },
    "executionInfo": {
     "status": "ok",
     "timestamp": 1707816592776,
     "user_tz": -60,
     "elapsed": 272,
     "user": {
      "displayName": "Jordi Blasco Lozano",
      "userId": "06759283674467549937"
     }
    }
   },
   "outputs": [
    {
     "output_type": "stream",
     "name": "stdout",
     "text": [
      "[[1 2 3]\n",
      " [4 5 6]\n",
      " [7 8 9]]\n",
      "\n",
      "[[ 0  2  4]\n",
      " [ 6  8 10]\n",
      " [12 14 16]]\n",
      "\n",
      "36\n",
      "\n",
      "4.0\n",
      "\n",
      "[[ 0  1  4]\n",
      " [ 9 16 25]\n",
      " [36 49 64]]\n",
      "\n",
      "[ 3 12 21]\n",
      "\n",
      "[3. 4. 5.]\n",
      "\n",
      "[ True False False]\n"
     ]
    }
   ],
   "source": [
    "import numpy as np\n",
    "\n",
    "# Crear un array\n",
    "A = np.array([[0, 1, 2], [3, 4, 5], [6, 7, 8]])\n",
    "\n",
    "print(str(A + 1) + '\\n')  # Sumar 1 a cada elemento\n",
    "print(str(A * 2)+ '\\n')  # Multiplicar cada elemento por 2\n",
    "print(str(A.sum())+ '\\n')  # Calcular la suma de todos los elementos\n",
    "print(str(A.mean())+ '\\n')  # Calcular la media de todos los elementos\n",
    "print(str(A ** 2)+ '\\n')  # Elevar a 2 cada elemento\n",
    "print(str(A.sum(axis=1))+ '\\n')  # Calcular la suma de cada fila por separado\n",
    "print(str(A.mean(axis=0))+ '\\n')  # Calcular la media de cada columna por separado\n",
    "print(str(A[0, :] < 1) + '\\n')  # Calcular si los elementos de la primera fila son menores a 1"
   ]
  },
  {
   "cell_type": "markdown",
   "metadata": {
    "id": "7hS7MhMn1kF-",
    "jp-MarkdownHeadingCollapsed": true
   },
   "source": [
    "### **4.2 Operaciones con distintas arrays**\n",
    "\n",
    "Ejemplo de código:"
   ]
  },
  {
   "cell_type": "code",
   "execution_count": null,
   "metadata": {
    "colab": {
     "base_uri": "https://localhost:8080/"
    },
    "executionInfo": {
     "elapsed": 2,
     "status": "ok",
     "timestamp": 1707415490909,
     "user": {
      "displayName": "Jordi Blasco Lozano",
      "userId": "06759283674467549937"
     },
     "user_tz": -60
    },
    "id": "dnc1fBre1zyn",
    "outputId": "40b84ed7-e5b4-458b-93e2-ee235ba05b36"
   },
   "outputs": [
    {
     "name": "stdout",
     "output_type": "stream",
     "text": [
      "[[0 2 2]\n",
      " [4 4 6]\n",
      " [6 8 8]]\n",
      "[[ 1  2  1]\n",
      " [ 4  8  4]\n",
      " [ 7 14  7]]\n"
     ]
    }
   ],
   "source": [
    "import numpy as np\n",
    "\n",
    "# Crear un array\n",
    "A = np.array([[0, 1, 2], [3, 4, 5], [6, 7, 8]])\n",
    "B = np.array([[0, 1, 0], [1, 0, 1], [0, 1, 0]])\n",
    "\n",
    "print(str(A + B)+'\\n')  # Suma de arrays\n",
    "print(str(A @ B))  # Multiplicacion de arrays"
   ]
  },
  {
   "cell_type": "markdown",
   "metadata": {
    "id": "dEJzWOhyypBS",
    "jp-MarkdownHeadingCollapsed": true
   },
   "source": [
    "### **4.3 Manipulación de la forma**\n",
    "Las operaciones de manipulación de la forma como aplanamiento, transposición y remodelación permiten un manejo flexible de las dimensiones de la matriz.\n",
    "\n",
    "Ejemplo de código:\n"
   ]
  },
  {
   "cell_type": "code",
   "execution_count": null,
   "metadata": {
    "colab": {
     "base_uri": "https://localhost:8080/"
    },
    "executionInfo": {
     "elapsed": 3,
     "status": "ok",
     "timestamp": 1707656210528,
     "user": {
      "displayName": "Jordi Blasco Lozano",
      "userId": "06759283674467549937"
     },
     "user_tz": -60
    },
    "id": "-jPcAXBy4qXa",
    "outputId": "4aa046ef-2edd-4709-c6b0-88d3c886d25f"
   },
   "outputs": [
    {
     "output_type": "stream",
     "name": "stdout",
     "text": [
      "[0 1 2 3 4 5 6 7 8]\n",
      "[[0 3 6]\n",
      " [1 4 7]\n",
      " [2 5 8]]\n",
      "[[0]\n",
      " [1]\n",
      " [2]\n",
      " [3]\n",
      " [4]\n",
      " [5]\n",
      " [6]\n",
      " [7]\n",
      " [8]]\n"
     ]
    }
   ],
   "source": [
    "import numpy as np\n",
    "\n",
    "# Crear un array\n",
    "A = np.array([[0, 1, 2], [3, 4, 5], [6, 7, 8]])\n",
    "\n",
    "print(A.flatten())  # Aplanar el array\n",
    "print(A.T)  # Transponer el array\n",
    "print(A.reshape(9, 1))  # Remodelar el array"
   ]
  },
  {
   "cell_type": "markdown",
   "metadata": {
    "id": "sTzjXIb524YW",
    "jp-MarkdownHeadingCollapsed": true
   },
   "source": [
    "### **4.4 Eigenvalores y eigenvectores**\n",
    "NumPy permite el cálculo de los eigenvalores y eigenvectores de matrices, esenciales para diversas aplicaciones matemáticas y científicas.\n",
    "\n",
    "Ejemplo de código:"
   ]
  },
  {
   "cell_type": "code",
   "execution_count": null,
   "metadata": {
    "colab": {
     "base_uri": "https://localhost:8080/"
    },
    "executionInfo": {
     "elapsed": 2,
     "status": "ok",
     "timestamp": 1707415490910,
     "user": {
      "displayName": "Jordi Blasco Lozano",
      "userId": "06759283674467549937"
     },
     "user_tz": -60
    },
    "id": "BhI08AOs42J-",
    "outputId": "01005a02-76cb-4588-cbd0-d71b017f65de"
   },
   "outputs": [
    {
     "name": "stdout",
     "output_type": "stream",
     "text": [
      "[1.36846584e+01 1.31534156e+00 1.06234298e-17]\n",
      "[[ 0.17412685  0.59431808  0.40824829]\n",
      " [ 0.5086532  -0.10172622 -0.81649658]\n",
      " [ 0.84317955 -0.79777052  0.40824829]]\n"
     ]
    }
   ],
   "source": [
    "import numpy as np\n",
    "\n",
    "# Crear un array de 2 dimensiones\n",
    "a = np.array([[3, 2, 1], [6, 5, 4], [9, 8, 7]])\n",
    "eigenvalues, eigenvectors = np.linalg.eig(a)\n",
    "print(eigenvalues)\n",
    "print(eigenvectors)"
   ]
  },
  {
   "cell_type": "markdown",
   "metadata": {
    "id": "3hMxBlcY5APu"
   },
   "source": [
    "## **5. Conclusión**\n",
    "\n",
    "\n",
    "NumPy es una biblioteca poderosa que facilita cálculos numéricos eficientes en Python. Comprender sus fundamentos es crucial para tareas de análisis de datos, computación científica y aprendizaje automático."
   ]
  }
 ],
 "metadata": {
  "colab": {
   "provenance": [],
   "collapsed_sections": [
    "HSA7a1wnwj34",
    "BK8ngPkgyWWt"
   ]
  },
  "kernelspec": {
   "display_name": "Python 3 (ipykernel)",
   "language": "python",
   "name": "python3"
  },
  "language_info": {
   "codemirror_mode": {
    "name": "ipython",
    "version": 3
   },
   "file_extension": ".py",
   "mimetype": "text/x-python",
   "name": "python",
   "nbconvert_exporter": "python",
   "pygments_lexer": "ipython3",
   "version": "3.12.0"
  }
 },
 "nbformat": 4,
 "nbformat_minor": 0
}
