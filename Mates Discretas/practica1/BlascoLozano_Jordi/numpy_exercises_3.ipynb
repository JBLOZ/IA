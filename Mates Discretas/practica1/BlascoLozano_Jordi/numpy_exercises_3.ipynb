{
 "nbformat": 4,
 "nbformat_minor": 0,
 "metadata": {
  "colab": {
   "provenance": [],
   "authorship_tag": "ABX9TyMmkIrmLMRS/o6uuiFzjsR/"
  },
  "kernelspec": {
   "name": "python3",
   "language": "python",
   "display_name": "Python 3 (ipykernel)"
  },
  "language_info": {
   "name": "python"
  }
 },
 "cells": [
  {
   "cell_type": "markdown",
   "source": [
    "# JORDI BLASCO LOZANO"
   ],
   "metadata": {
    "collapsed": false
   }
  },
  {
   "cell_type": "code",
   "execution_count": 4,
   "metadata": {
    "id": "YXGONHn6Wpus",
    "executionInfo": {
     "status": "ok",
     "timestamp": 1707388386983,
     "user_tz": -60,
     "elapsed": 4,
     "user": {
      "displayName": "Jordi Blasco Lozano",
      "userId": "06759283674467549937"
     }
    },
    "ExecuteTime": {
     "end_time": "2024-02-27T11:21:21.818361Z",
     "start_time": "2024-02-27T11:21:21.791032Z"
    }
   },
   "outputs": [],
   "source": [
    "import numpy as np\n",
    "mensaje_calculadora = 'Degree(b), Laplacian(c), Normalized Laplacian(d), Shortest Path (e),Degree Value(f), Salir(s), (b,c,d,e,f,s): '"
   ]
  },
  {
   "cell_type": "markdown",
   "source": [
    " #a -> Crea una matriz de 'x' x 'y' con valores aleatorios entre 0 y 1. Rellena la diagonal de la matriz con 0.\n",
    " #b -> A partir de la matriz creada en el apartado anterior, calcula la matriz de grado.\n",
    " #c -> A partir de la matriz creada en el apartado anterior, calcula la matriz Laplaciana.\n",
    " #d -> A partir de la matriz creada en el apartado anterior, calcula la matriz Laplaciana normalizada.\n",
    " #e -> A partir de la matriz creada en el apartado anterior, calcula el camino más corto entre dos nodos.\n",
    " #f -> A partir de la matriz creada en el apartado anterior, elimina los nodos cuyo grado sea menor que un valor 'x' dado por el usuario.\n",
    " #g -> Menú que permite al usuario seleccionar una de las opciones anteriores. El menú permite al usuario seleccionar una opción, ejecutar la operación y volver a seleccionar otra opción. El menú incluye una opción para salir del programa.\n",
    " #h -> Función principal que llama a la función #a y #g para crear una matriz 10x10 y entrar al menú. Imprime los resultados obtenidos.\n",
    " "
   ],
   "metadata": {
    "collapsed": false
   }
  },
  {
   "cell_type": "markdown",
   "source": [],
   "metadata": {
    "collapsed": false
   }
  },
  {
   "cell_type": "code",
   "source": [
    "def createArray0Diag(x, y):  # a\n",
    "    np.random.seed(44)  # semilla para que los numeros aleatorios sean los mismos\n",
    "    A = np.random.randint(0, 2, (x, y))  # matriz de 10x10 con numeros aleatorios entre 0 y 1\n",
    "    np.fill_diagonal(A, 0)  # rellenar la diagonal de la matriz con 0\n",
    "    return A  # devolver la matriz\n",
    "\n",
    "\n",
    "def degree(X):  # b\n",
    "    return np.diag(np.sum(X, axis=1))\n",
    "\n",
    "\n",
    "def laplacian(X):  # c\n",
    "    D = degree(X)\n",
    "    return D - X\n",
    "\n",
    "\n",
    "def normalizedLaplacian(X):  # d\n",
    "    D12 = np.diag(1 / np.sqrt(np.sum(X, axis=1)))\n",
    "    return D12 @ (laplacian(X)) @ D12\n",
    "\n",
    "\n",
    "def shortestPath(X, origen, destino):  # e\n",
    "\n",
    "    numero_nodos = X.shape[0]  # numero de nodos de la matriz\n",
    "    lista_nodos = list(range(numero_nodos))  # lista de nodos\n",
    "    previos = -np.ones(numero_nodos)  # lista de '-1' de la dimension(x) de la matriz, la usaremos para guardar los nodos por los que pasamos\n",
    "    distancias = np.inf * np.ones(numero_nodos)  # lista de 'inf' de la dimension(x) de la matriz, la usaremos para guardar las distancias\n",
    "    distancias[origen] = 0  # distancia del origen a si mismo es 0\n",
    "\n",
    "    cont1 = 1\n",
    "    \n",
    "    print('-----------CAMINO MAS CORTO-----------')\n",
    "\n",
    "    while lista_nodos:  # cuando lista de nodos acabe sin numeros es decir complete todos los pasos, se saldra del bucle\n",
    "        min_node = lista_nodos[np.argmin(distancias[lista_nodos])]  # '.argmin()' devuelve la posición de donde está el mínimo respecto el origen\n",
    "        lista_nodos.remove(min_node)  # quitara de la lista de nodos el nodo por el que vayamos a pasar\n",
    "        current_dist = distancias[min_node]  # distancia donde estamos\n",
    "\n",
    "        for vecino in np.where(X[min_node] == 1)[0]:\n",
    "            distancia_al_nodo = current_dist + 1 # distancia al nodo por el que vamos a pasar\n",
    "\n",
    "            if distancia_al_nodo < distancias[vecino]:  # 'distancia[vecino]', para ver si ya has visitado los nodos vecinos\n",
    "                distancias[vecino] = distancia_al_nodo  # si la distancia al nodo es menor que la que ya teniamos, la cambiamos\n",
    "                previos[vecino] = min_node  # guardamos el nodo por el que pasamos\n",
    "\n",
    "        print('PASO ', cont1) \n",
    "        print('Lista de nodos: ', lista_nodos) \n",
    "        print('Lista de distancias: ', distancias) \n",
    "        print('Lista de previos: ', previos, '\\n')\n",
    "\n",
    "        cont1 += 1  # contador para saber en que paso estamos\n",
    "\n",
    "        if min_node == destino:  # si el nodo por el que pasamos es el destino, salimos del bucle\n",
    "            camino = []\n",
    "            while previos[int(min_node)] != previos[int(origen)]:\n",
    "                camino.append(min_node)\n",
    "                min_node = previos[int(min_node)]\n",
    "\n",
    "            camino.append(origen)\n",
    "            n_camino = []\n",
    "\n",
    "            for i in range(len(camino)):  # invertir el camino\n",
    "                n_camino.append(int(camino[i]))  # convertir el camino a enteros\n",
    "\n",
    "            n_camino = n_camino[::-1]\n",
    "            print(('El camino es: '))\n",
    "\n",
    "            return (n_camino)\n",
    "\n",
    "\n",
    "def degreeValue(X, value):  # f\n",
    "    C = np.sum(X, axis=1)\n",
    "    L = []\n",
    "    for i in range(len(C)):\n",
    "        if C[i] < value:\n",
    "            L.append(i)\n",
    "\n",
    "    B = np.delete(X, L, axis=0)\n",
    "    B = np.delete(B, L, axis=1)\n",
    "\n",
    "    return B\n",
    "\n",
    "\n",
    "def menu(X, operation):  # g\n",
    "\n",
    "    if operation == 'b':\n",
    "        B = degree(X)\n",
    "\n",
    "    elif operation == 'c':\n",
    "        B = laplacian(X)\n",
    "\n",
    "    elif operation == 'd':\n",
    "        B = normalizedLaplacian(X)\n",
    "\n",
    "    elif operation == 'e':\n",
    "        B = shortestPath(X, origen=int(input('origen: ')), destino=int(input('destino: ')))\n",
    "\n",
    "    elif operation == 'f':\n",
    "        B = degreeValue(X, value=int(input('value: ')))\n",
    "        print('RESULTED MATRIX: \\n \\n  ')\n",
    "\n",
    "    return B\n",
    "\n",
    "\n",
    "def main():  # h\n",
    "\n",
    "    X = createArray0Diag(10, 10)  # creamos la matriz\n",
    "    print('MATRIX X: \\n ' + str(X))  # mostramos la matriz\n",
    "\n",
    "    op = input(mensaje_calculadora)  # pedimos la operacion\n",
    "    while op.capitalize() != 'S':\n",
    "        if op != 'e' and op != 'f':\n",
    "            print('RESULTED MATRIX: \\n \\n  ')\n",
    "\n",
    "        print(menu(X, op))\n",
    "        op = input(mensaje_calculadora)\n",
    "\n",
    "\n",
    "main()\n",
    "\n",
    "\n"
   ],
   "metadata": {
    "id": "mblx_Sgv1jGE",
    "colab": {
     "base_uri": "https://localhost:8080/"
    },
    "executionInfo": {
     "status": "ok",
     "timestamp": 1707390428200,
     "user_tz": -60,
     "elapsed": 15268,
     "user": {
      "displayName": "Jordi Blasco Lozano",
      "userId": "06759283674467549937"
     }
    },
    "outputId": "7f45f14b-5ae2-4696-d011-5d1394adcb84",
    "ExecuteTime": {
     "end_time": "2024-02-27T11:21:47.062034Z",
     "start_time": "2024-02-27T11:21:24.754075Z"
    }
   },
   "execution_count": 5,
   "outputs": [
    {
     "name": "stdout",
     "output_type": "stream",
     "text": [
      "MATRIX X: \n",
      " [[0 1 1 1 1 1 0 0 1 1]\n",
      " [0 0 1 1 0 1 1 1 1 1]\n",
      " [0 1 0 0 1 1 1 0 0 1]\n",
      " [0 1 1 0 0 0 0 1 1 0]\n",
      " [0 1 1 0 0 0 0 0 0 1]\n",
      " [0 0 1 0 0 0 1 1 1 0]\n",
      " [0 1 1 0 1 0 0 0 1 0]\n",
      " [0 0 1 0 0 1 1 0 1 1]\n",
      " [1 0 0 1 1 1 1 1 0 1]\n",
      " [1 0 0 1 1 1 0 0 0 0]]\n",
      "-----------CAMINO MAS CORTO-----------\n",
      "PASO  1\n",
      "Lista de nodos:  [0, 1, 2, 3, 5, 6, 7, 8, 9]\n",
      "Lista de distancias:  [inf  1.  1. inf  0. inf inf inf inf  1.]\n",
      "Lista de previos:  [-1.  4.  4. -1. -1. -1. -1. -1. -1.  4.] \n",
      "\n",
      "PASO  2\n",
      "Lista de nodos:  [0, 2, 3, 5, 6, 7, 8, 9]\n",
      "Lista de distancias:  [inf  1.  1.  2.  0.  2.  2.  2.  2.  1.]\n",
      "Lista de previos:  [-1.  4.  4.  1. -1.  1.  1.  1.  1.  4.] \n",
      "\n",
      "PASO  3\n",
      "Lista de nodos:  [0, 3, 5, 6, 7, 8, 9]\n",
      "Lista de distancias:  [inf  1.  1.  2.  0.  2.  2.  2.  2.  1.]\n",
      "Lista de previos:  [-1.  4.  4.  1. -1.  1.  1.  1.  1.  4.] \n",
      "\n",
      "PASO  4\n",
      "Lista de nodos:  [0, 3, 5, 6, 7, 8]\n",
      "Lista de distancias:  [2. 1. 1. 2. 0. 2. 2. 2. 2. 1.]\n",
      "Lista de previos:  [ 9.  4.  4.  1. -1.  1.  1.  1.  1.  4.] \n",
      "\n",
      "PASO  5\n",
      "Lista de nodos:  [3, 5, 6, 7, 8]\n",
      "Lista de distancias:  [2. 1. 1. 2. 0. 2. 2. 2. 2. 1.]\n",
      "Lista de previos:  [ 9.  4.  4.  1. -1.  1.  1.  1.  1.  4.] \n",
      "\n",
      "El camino es: \n",
      "[4, 9, 0]\n",
      "RESULTED MATRIX: \n",
      " \n",
      "  \n",
      "[[7 0 0 0 0 0 0 0 0 0]\n",
      " [0 7 0 0 0 0 0 0 0 0]\n",
      " [0 0 5 0 0 0 0 0 0 0]\n",
      " [0 0 0 4 0 0 0 0 0 0]\n",
      " [0 0 0 0 3 0 0 0 0 0]\n",
      " [0 0 0 0 0 4 0 0 0 0]\n",
      " [0 0 0 0 0 0 4 0 0 0]\n",
      " [0 0 0 0 0 0 0 5 0 0]\n",
      " [0 0 0 0 0 0 0 0 7 0]\n",
      " [0 0 0 0 0 0 0 0 0 4]]\n",
      "RESULTED MATRIX: \n",
      " \n",
      "  \n"
     ]
    },
    {
     "ename": "UnboundLocalError",
     "evalue": "cannot access local variable 'B' where it is not associated with a value",
     "output_type": "error",
     "traceback": [
      "\u001B[0;31m---------------------------------------------------------------------------\u001B[0m",
      "\u001B[0;31mUnboundLocalError\u001B[0m                         Traceback (most recent call last)",
      "Cell \u001B[0;32mIn[5], line 119\u001B[0m\n\u001B[1;32m    115\u001B[0m         \u001B[38;5;28mprint\u001B[39m(menu(X, op))\n\u001B[1;32m    116\u001B[0m         op \u001B[38;5;241m=\u001B[39m \u001B[38;5;28minput\u001B[39m(mensaje_calculadora)\n\u001B[0;32m--> 119\u001B[0m \u001B[43mmain\u001B[49m\u001B[43m(\u001B[49m\u001B[43m)\u001B[49m\n",
      "Cell \u001B[0;32mIn[5], line 115\u001B[0m, in \u001B[0;36mmain\u001B[0;34m()\u001B[0m\n\u001B[1;32m    112\u001B[0m \u001B[38;5;28;01mif\u001B[39;00m op \u001B[38;5;241m!=\u001B[39m \u001B[38;5;124m'\u001B[39m\u001B[38;5;124me\u001B[39m\u001B[38;5;124m'\u001B[39m \u001B[38;5;129;01mand\u001B[39;00m op \u001B[38;5;241m!=\u001B[39m \u001B[38;5;124m'\u001B[39m\u001B[38;5;124mf\u001B[39m\u001B[38;5;124m'\u001B[39m:\n\u001B[1;32m    113\u001B[0m     \u001B[38;5;28mprint\u001B[39m(\u001B[38;5;124m'\u001B[39m\u001B[38;5;124mRESULTED MATRIX: \u001B[39m\u001B[38;5;130;01m\\n\u001B[39;00m\u001B[38;5;124m \u001B[39m\u001B[38;5;130;01m\\n\u001B[39;00m\u001B[38;5;124m  \u001B[39m\u001B[38;5;124m'\u001B[39m)\n\u001B[0;32m--> 115\u001B[0m \u001B[38;5;28mprint\u001B[39m(\u001B[43mmenu\u001B[49m\u001B[43m(\u001B[49m\u001B[43mX\u001B[49m\u001B[43m,\u001B[49m\u001B[43m \u001B[49m\u001B[43mop\u001B[49m\u001B[43m)\u001B[49m)\n\u001B[1;32m    116\u001B[0m op \u001B[38;5;241m=\u001B[39m \u001B[38;5;28minput\u001B[39m(mensaje_calculadora)\n",
      "Cell \u001B[0;32mIn[5], line 102\u001B[0m, in \u001B[0;36mmenu\u001B[0;34m(X, operation)\u001B[0m\n\u001B[1;32m     99\u001B[0m     B \u001B[38;5;241m=\u001B[39m degreeValue(X, value\u001B[38;5;241m=\u001B[39m\u001B[38;5;28mint\u001B[39m(\u001B[38;5;28minput\u001B[39m(\u001B[38;5;124m'\u001B[39m\u001B[38;5;124mvalue: \u001B[39m\u001B[38;5;124m'\u001B[39m)))\n\u001B[1;32m    100\u001B[0m     \u001B[38;5;28mprint\u001B[39m(\u001B[38;5;124m'\u001B[39m\u001B[38;5;124mRESULTED MATRIX: \u001B[39m\u001B[38;5;130;01m\\n\u001B[39;00m\u001B[38;5;124m \u001B[39m\u001B[38;5;130;01m\\n\u001B[39;00m\u001B[38;5;124m  \u001B[39m\u001B[38;5;124m'\u001B[39m)\n\u001B[0;32m--> 102\u001B[0m \u001B[38;5;28;01mreturn\u001B[39;00m \u001B[43mB\u001B[49m\n",
      "\u001B[0;31mUnboundLocalError\u001B[0m: cannot access local variable 'B' where it is not associated with a value"
     ]
    }
   ]
  },
  {
   "cell_type": "code",
   "outputs": [],
   "source": [],
   "metadata": {
    "collapsed": false
   }
  }
 ]
}
