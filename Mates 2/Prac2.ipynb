{
 "cells": [
  {
   "cell_type": "code",
   "id": "initial_id",
   "metadata": {
    "collapsed": true,
    "ExecuteTime": {
     "end_time": "2024-04-21T10:36:55.403400Z",
     "start_time": "2024-04-21T10:36:54.974498Z"
    }
   },
   "source": [
    "\n",
    "# importamos todas las librerias necesarias para realizar los ejercicios\n",
    "from sympy import init_printing , Matrix , zeros , eye , diag ,linsolve , Symbol , solve\n",
    "\n",
    "# ejecutamos init_printing para que las soluciones se muestren \n",
    "init_printing()"
   ],
   "outputs": [],
   "execution_count": 1
  },
  {
   "metadata": {
    "ExecuteTime": {
     "end_time": "2024-04-10T11:39:16.736402Z",
     "start_time": "2024-04-10T11:39:16.321505Z"
    }
   },
   "cell_type": "code",
   "source": [
    "#1\n",
    "\n",
    "# guardamos las matrices A, B y C\n",
    "A = Matrix([[1,-1,0,3],[2,0,1,0],[3,5,0,2],[-2,-3,-1,0]])\n",
    "\n",
    "B = Matrix([[1,0,0,1],[2,-1,-3,0],[0,0,0,1],[-1,0,0,0]])\n",
    "\n",
    "C = Matrix([[1, 0, 0, 0],[0, 2, 0,0],[0, 0, 3, 0],[0, 0, 0, 4]])\n",
    "\n",
    "# realizamos la operacion\n",
    "M = 0.5*(A+B.T) -3*C.inv()*C*eye(4)\n",
    "M"
   ],
   "id": "877684ba40ef0cf8",
   "outputs": [
    {
     "data": {
      "text/plain": [
       "⎡-2.0  0.5    0   1.0⎤\n",
       "⎢                    ⎥\n",
       "⎢1.0   -3.5  0.5   0 ⎥\n",
       "⎢                    ⎥\n",
       "⎢1.5   1.0   -3   1.0⎥\n",
       "⎢                    ⎥\n",
       "⎣-0.5  -1.5   0   -3 ⎦"
      ],
      "text/latex": "$\\displaystyle \\left[\\begin{matrix}-2.0 & 0.5 & 0 & 1.0\\\\1.0 & -3.5 & 0.5 & 0\\\\1.5 & 1.0 & -3 & 1.0\\\\-0.5 & -1.5 & 0 & -3\\end{matrix}\\right]$"
     },
     "execution_count": 2,
     "metadata": {},
     "output_type": "execute_result"
    }
   ],
   "execution_count": 2
  },
  {
   "metadata": {
    "ExecuteTime": {
     "end_time": "2024-04-21T10:51:50.911548Z",
     "start_time": "2024-04-21T10:51:50.855783Z"
    }
   },
   "cell_type": "code",
   "source": [
    "#2\n",
    "\n",
    "# guardamos el parametro a para que el programa lo reconozca como una variable\n",
    "a = Symbol('a')\n",
    "# a partir del sistema de ecuaciones guardamos la matriz de coeficientes (D) y la de terminos independientes (E)\n",
    "D = Matrix([[1,2,1],[2,1,3],[1,-1,a+2],[4,2,a + 6]])\n",
    "E = Matrix([1  ,-4,  -3*a-5,  -3*a**2-8])\n",
    "\n",
    "# guardamos la matriz ampliada\n",
    "DE = D.row_join(E)\n",
    "\n",
    "# calculamos el determinante de la matriz ampliada\n",
    "f = DE.det()\n",
    "\n",
    "# resolvemos el sistema de ecuaciones\n",
    "solve(f,a,dict=True) #si a es distinto de 0 o 1 sera sistema incompatible\n",
    "\n",
    "\n",
    "[linsolve((D.subs({a:i}),E.subs({a:i}))) for i in solve(f)] # para a = 0 sera un SCI y para a = 1 un SCD"
   ],
   "id": "5792279069a27cd9",
   "outputs": [
    {
     "data": {
      "text/plain": [
       "⎡⎧⎛  5⋅τ₀      τ₀        ⎞⎫              ⎤\n",
       "⎢⎨⎜- ──── - 3, ── + 2, τ₀⎟⎬, {(2, 1, -3)}⎥\n",
       "⎣⎩⎝   3        3         ⎠⎭              ⎦"
      ],
      "image/png": "[encoded data removed]",
      "text/latex": "$\\displaystyle \\left[ \\left\\{\\left( - \\frac{5 \\tau_{0}}{3} - 3, \\  \\frac{\\tau_{0}}{3} + 2, \\  \\tau_{0}\\right)\\right\\}, \\  \\left\\{\\left( 2, \\  1, \\  -3\\right)\\right\\}\\right]$"
     },
     "execution_count": 9,
     "metadata": {},
     "output_type": "execute_result"
    }
   ],
   "execution_count": 9
  },
  {
   "metadata": {
    "ExecuteTime": {
     "end_time": "2024-04-10T11:39:47.569913Z",
     "start_time": "2024-04-10T11:39:47.552600Z"
    }
   },
   "cell_type": "code",
   "source": [
    "#3 \n",
    "\n",
    "# guardamos la matriz A en la variable G\n",
    "G = Matrix([[16,-12,8,-16],[-12,18,-6,9],[8,-6,5,-10],[-16,9,-10,46]])\n",
    "\n",
    "# factorizamos la matriz A en LU y Cholesky\n",
    "L, U, perm = G.LUdecomposition()\n",
    "perm\n",
    "L\n",
    "U\n",
    "\n",
    "H = G.cholesky()\n",
    "H"
   ],
   "id": "e6c37c1e7c65910d",
   "outputs": [
    {
     "data": {
      "text/plain": [
       "⎡4   0   0   0⎤\n",
       "⎢             ⎥\n",
       "⎢-3  3   0   0⎥\n",
       "⎢             ⎥\n",
       "⎢2   0   1   0⎥\n",
       "⎢             ⎥\n",
       "⎣-4  -1  -2  5⎦"
      ],
      "text/latex": "$\\displaystyle \\left[\\begin{matrix}4 & 0 & 0 & 0\\\\-3 & 3 & 0 & 0\\\\2 & 0 & 1 & 0\\\\-4 & -1 & -2 & 5\\end{matrix}\\right]$"
     },
     "execution_count": 4,
     "metadata": {},
     "output_type": "execute_result"
    }
   ],
   "execution_count": 4
  },
  {
   "metadata": {
    "ExecuteTime": {
     "end_time": "2024-04-21T10:54:37.404401Z",
     "start_time": "2024-04-21T10:54:37.386504Z"
    }
   },
   "cell_type": "code",
   "source": [
    "#4\n",
    "# guardamos el subespacio en sistema generador U\n",
    "U = Matrix([[1,0,1,0],[-1,0,0,1],[0,0,1,1]])\n",
    "# guardamos el subespacio en sistema implicito W\n",
    "W = Matrix([[1,1,0,-1],[1,0,-1,1]])\n",
    "\n",
    "# definimos una funcion que nos permitira generar el sistema implicito a partir de un sistema generador\n",
    "def genimp (A):\n",
    "    \n",
    "    matriz = A.T.row_join(eye(A.cols)).rref(pivots=False)\n",
    "    imp = matriz[A.rank():,A.rows:]\n",
    "    \n",
    "    return imp\n",
    "\n",
    "# generamos el sistema implicito a partir de U\n",
    "impU = genimp(U)\n",
    "# y generamos el sistema generador a partir de W\n",
    "genW = genimp(W)\n",
    "\n",
    "# usamos la formula para hayar una base para la suma de los subespacios generados por U y W a partir de sus sistemas generadores\n",
    "UsW = U.col_join(genW).echelon_form()\n",
    "UsW # a partir de esta matriz deberiamos de reducirla a la minima expresion\n",
    "\n",
    "# ahora calculamos la base de la interseccion de los subespacios generados por U y W a partir de sus sistemas implicitos \n",
    "genimp(impU.col_join(W))\n"
   ],
   "id": "7cbbddca179ca4af",
   "outputs": [
    {
     "data": {
      "text/plain": [
       "[1  0  2  1]"
      ],
      "text/latex": "$\\displaystyle \\left[\\begin{matrix}1 & 0 & 2 & 1\\end{matrix}\\right]$"
     },
     "execution_count": 10,
     "metadata": {},
     "output_type": "execute_result"
    }
   ],
   "execution_count": 10
  },
  {
   "metadata": {
    "ExecuteTime": {
     "end_time": "2024-04-21T10:45:50.602743Z",
     "start_time": "2024-04-21T10:45:50.586686Z"
    }
   },
   "cell_type": "code",
   "source": [
    "#5 \n",
    "# guardamos la matriz asociada A\n",
    "J = Matrix([[2, 5, -3] ,[1, -4, 7]])\n",
    "\n",
    "# a)\n",
    "# guardamos el vector \n",
    "vK = Matrix([5/3, 2/5, 1/2])\n",
    "\n",
    "fJvK = (J*vK).T\n",
    "fJvK\n",
    "\n",
    "# b)\n",
    "bnf = J.nullspace() # base del nucleo de f \n",
    "bnf\n",
    "\n",
    "bif = J.columnspace() # base de la imagen de f\n",
    "bif\n",
    "\n",
    "# c)\n",
    "# guardamos las nuevas bases\n",
    "L = Matrix([[1, 1, 1] ,[1, 1, 0], [1, 0, 0]]).T\n",
    "M = Matrix([[2, 1], [1, 1]]).T\n",
    "\n",
    "Aprima = M.inv()*J*L\n",
    "Aprima\n"
   ],
   "id": "5e5c801421fd2ec2",
   "outputs": [
    {
     "data": {
      "text/plain": [
       "⎡0  10   1⎤\n",
       "⎢         ⎥\n",
       "⎣4  -13  0⎦"
      ],
      "text/latex": "$\\displaystyle \\left[\\begin{matrix}0 & 10 & 1\\\\4 & -13 & 0\\end{matrix}\\right]$"
     },
     "execution_count": 8,
     "metadata": {},
     "output_type": "execute_result"
    }
   ],
   "execution_count": 8
  },
  {
   "metadata": {},
   "cell_type": "code",
   "outputs": [],
   "execution_count": null,
   "source": "",
   "id": "3cc9ee73bedfdf32"
  }
 ],
 "metadata": {
  "kernelspec": {
   "display_name": "Python 3",
   "language": "python",
   "name": "python3"
  },
  "language_info": {
   "codemirror_mode": {
    "name": "ipython",
    "version": 2
   },
   "file_extension": ".py",
   "mimetype": "text/x-python",
   "name": "python",
   "nbconvert_exporter": "python",
   "pygments_lexer": "ipython2",
   "version": "2.7.6"
  }
 },
 "nbformat": 4,
 "nbformat_minor": 5
}
