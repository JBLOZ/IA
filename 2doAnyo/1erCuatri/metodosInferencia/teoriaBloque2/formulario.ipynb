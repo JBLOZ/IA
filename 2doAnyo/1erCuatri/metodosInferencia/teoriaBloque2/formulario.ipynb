{
 "cells": [
  {
   "cell_type": "markdown",
   "metadata": {},
   "source": [
    "# Formulario de Métodos de Inferencia\n",
    "\n",
    "A continuación, se presenta un resumen de las fórmulas esenciales en métodos de inferencia, junto con explicaciones sobre cómo utilizarlas y cómo calcular cada uno de los estadísticos muestrales involucrados.\n",
    "\n",
    "## 1. Intervalos de Confianza\n",
    "\n",
    "### 1.1. Intervalo de Confianza para la Media (Varianza Conocida)\n",
    "\n",
    "**Fórmula:**\n",
    "\n",
    "\\[\n",
    "IC = \\left( \\bar{X} - Z_{\\alpha/2} \\cdot \\frac{\\sigma}{\\sqrt{n}}, \\, \\bar{X} + Z_{\\alpha/2} \\cdot \\frac{\\sigma}{\\sqrt{n}} \\right)\n",
    "\\]\n",
    "\n",
    "- **\\(\\bar{X}\\)**: Media muestral.\n",
    "- **\\(\\sigma\\)**: Desviación estándar poblacional (conocida).\n",
    "- **\\(n\\)**: Tamaño de la muestra.\n",
    "- **\\(Z_{\\alpha/2}\\)**: Valor crítico de la distribución normal estándar para un nivel de confianza \\(1-\\alpha\\).\n",
    "\n",
    "**Cómo calcular la media muestral (\\(\\bar{X}\\)):**\n",
    "\n",
    "\\[\n",
    "\\bar{X} = \\frac{1}{n} \\sum_{i=1}^{n} X_i\n",
    "\\]\n",
    "\n",
    "**Uso:** Estimar el intervalo donde probablemente se encuentra la media poblacional cuando la varianza es conocida y la población es normal.\n",
    "\n",
    "---\n",
    "\n",
    "### 1.2. Intervalo de Confianza para la Media (Varianza Desconocida)\n",
    "\n",
    "**Fórmula:**\n",
    "\n",
    "\\[\n",
    "IC = \\left( \\bar{X} - t_{\\alpha/2, \\, n-1} \\cdot \\frac{S}{\\sqrt{n}}, \\, \\bar{X} + t_{\\alpha/2,\n"
   ]
  },
  {
   "cell_type": "markdown",
   "metadata": {},
   "source": []
  }
 ],
 "metadata": {
  "language_info": {
   "name": "python"
  }
 },
 "nbformat": 4,
 "nbformat_minor": 2
}
