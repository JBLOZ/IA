{
 "cells": [
  {
   "cell_type": "markdown",
   "metadata": {
    "slideshow": {
     "slide_type": "slide"
    }
   },
   "source": [
    "# 1. ERRORES\n",
    "\n",
    "## Introducción\n",
    "\n",
    "Primeramente hay que instalar las librerias necesarias ern python.  "
   ]
  },
  {
   "cell_type": "code",
   "execution_count": 2,
   "metadata": {},
   "outputs": [],
   "source": [
    "try:\n",
    "    import math\n",
    "except ImportError:\n",
    "    !pip install math\n",
    "    import math\n",
    "\n",
    "try:\n",
    "    import matplotlib as plt\n",
    "except ImportError:\n",
    "    !pip install matplotlib\n",
    "    import matplotlib as plt\n",
    "\n",
    "try:\n",
    "    import numpy as np\n",
    "except ImportError:\n",
    "    !pip install numpy\n",
    "    import numpy as np"
   ]
  },
  {
   "cell_type": "markdown",
   "metadata": {},
   "source": [
    "Empezamos con ejemplos sencillos de diferentes partes del tema de Errores.\n",
    "\n",
    "### Redondeo"
   ]
  },
  {
   "cell_type": "code",
   "execution_count": 10,
   "metadata": {},
   "outputs": [
    {
     "name": "stdout",
     "output_type": "stream",
     "text": [
      "\n",
      "Los números después del redondeo a 4 cifras significativas son\n",
      "\n",
      "    1.658300       1.658\n",
      "'\n",
      "    30.056700       30.06\n",
      "\n",
      "    0.859378       0.8594\n",
      "\n",
      "    3.141590       3.142\n",
      "\n"
     ]
    }
   ],
   "source": [
    "#redondeo a 4 cifras significativas\n",
    "a1=1.6583\n",
    "a2=30.0567\n",
    "a3=0.859378\n",
    "a4=3.14159\n",
    "print(\"\\nLos números después del redondeo a 4 cifras significativas son\\n\")\n",
    "print(\"    %f       %.4g\\n'\" %(a1,a1))\n",
    "print(\"    %f       %.4g\\n\" %(a2,a2))\n",
    "print(\"    %f       %.4g\\n\" %(a3,a3))\n",
    "print(\"    %f       %.4g\\n\" %(a4,a4))"
   ]
  },
  {
   "cell_type": "markdown",
   "metadata": {},
   "source": [
    "En el siguiente ejemplo se calcula el error absoluto y relativo de dos valores"
   ]
  },
  {
   "cell_type": "code",
   "execution_count": 19,
   "metadata": {},
   "outputs": [
    {
     "name": "stdout",
     "output_type": "stream",
     "text": [
      "Error Absoluto  = 0.0012645 \n",
      "Error Relativo = 0.0004025\n"
     ]
    }
   ],
   "source": [
    "X=3.1428571 #valor aproximado de pi\n",
    "T_X=3.1415926 # vslor verdadero de pi\n",
    "A_E=abs(T_X-X) # error absoluto\n",
    "R_E=A_E/T_X # error relativo\n",
    "print(\"Error Absoluto = %0.7f \\nError Relativo = %0.7f\" %(A_E,R_E))"
   ]
  },
  {
   "cell_type": "markdown",
   "metadata": {},
   "source": [
    "En el siguiente ejemplo se calcula el mejor error absoluto (el mas pequeño)"
   ]
  },
  {
   "cell_type": "code",
   "execution_count": 20,
   "metadata": {},
   "outputs": [
    {
     "name": "stdout",
     "output_type": "stream",
     "text": [
      "La mejor aproximación de 1/3 es 0.330000\n"
     ]
    }
   ],
   "source": [
    "X=1/3 # el número\n",
    "X1=0.30 # aproximacion 1\n",
    "X2=0.33 # aproximacion 2\n",
    "X3=0.34 # aproximacion 3\n",
    "E1=abs(X-X1)\n",
    "E2=abs(X-X2)\n",
    "E3=abs(X-X3)\n",
    "if E1<E2:\n",
    "        if E1<E3:\n",
    "                B_A=X1\n",
    "elif E2<E1:\n",
    "          if E2<E3:\n",
    "                   B_A=X2\n",
    "elif E3<E2:\n",
    "           if E3<E1:\n",
    "                    B_A=X3\n",
    "print(\"La mejor aproximación de 1/3 es %f\" %(B_A))"
   ]
  },
  {
   "cell_type": "code",
   "execution_count": 29,
   "metadata": {},
   "outputs": [
    {
     "name": "stdout",
     "output_type": "stream",
     "text": [
      "El error absoluto de 8.67 es:%0.4f 0.02999999999999936\n",
      "El error relativo del número es:0.0035\n"
     ]
    }
   ],
   "source": [
    "# error relativo que se comete al redondear un número a una cifra decimal\n",
    "n=8.67\n",
    "N=1 #the no is rounded to one decimal places\n",
    "n_r= rounded_number = round(n, 1)\n",
    "E_A=abs(n-n_r)\n",
    "print(\"El error absoluto de\", n, \"es:%0.4f\", (E_A))\n",
    "E_R=E_A/n\n",
    "print(\"El error relativo del número es:%0.4f\" %(E_R))"
   ]
  },
  {
   "cell_type": "code",
   "execution_count": 47,
   "metadata": {},
   "outputs": [
    {
     "name": "stdout",
     "output_type": "stream",
     "text": [
      "a) Error Absoluto: 0.00021356237309522186\n",
      " Error Relativo: 0.00015101140222192286\n",
      "b) Error Absoluto: 14.544268632989315\n",
      "   Error Relativo: 0.010497822704619136\n",
      "c) Error Absoluto: 3343.1271580516477\n",
      "   Error Relativo: 0.009212762230080598\n"
     ]
    }
   ],
   "source": [
    "a = (2)**(1/2)\n",
    "atilda = 1.414\n",
    "absolute_error_a = abs(atilda - a)\n",
    "print(\"a) Error Absoluto:\",absolute_error_a)\n",
    "print(\" Error Relativo:\",absolute_error_a / a)\n",
    "b = (10)**np.pi\n",
    "btilda = 1400\n",
    "absolute_error_b = abs(b-btilda)\n",
    "print(\"b) Error Absoluto:\",absolute_error_b)\n",
    "print(\"   Error Relativo:\",absolute_error_b/b)\n",
    "c = math.factorial(9)\n",
    "ctilda = ((18*np.pi)**(1/2))*(9/np.e)**9\n",
    "absolute_error_c = abs(c-ctilda)\n",
    "print(\"c) Error Absoluto:\",absolute_error_c)\n",
    "print(\"   Error Relativo:\",absolute_error_c/c)"
   ]
  },
  {
   "cell_type": "markdown",
   "metadata": {},
   "source": [
    "En este caso vamos a calcular el error absoluto de la suma de tres números"
   ]
  },
  {
   "cell_type": "code",
   "execution_count": 40,
   "metadata": {},
   "outputs": [
    {
     "name": "stdout",
     "output_type": "stream",
     "text": [
      "La suma de las raíces cuadradas es 6.613870096133258\n",
      "El error absoluto es: 0.000130 \n",
      "\n"
     ]
    }
   ],
   "source": [
    "s=math.sqrt(3)+math.sqrt(5)+math.sqrt(7)  #la suma de las raices de 3,5,7\n",
    "n=4 # decimales a redondear\n",
    "n_1= rounded_number = round(math.sqrt(3), 4)\n",
    "n_2= rounded_number = round(math.sqrt(5), 4)\n",
    "n_3= rounded_number = round(math.sqrt(7), 4)\n",
    "Ea1= abs(math.sqrt(3)-n_1) #error absoluto\n",
    "Ea2= abs(math.sqrt(5)-n_2) #error absoluto\n",
    "Ea3= abs(math.sqrt(7)-n_3) #error absoluto\n",
    "print(\"La suma de las raíces cuadradas es\",s)\n",
    "print(\"El error absoluto es: %f \\n\" %(Ea1+Ea2+Ea3))"
   ]
  },
  {
   "cell_type": "markdown",
   "metadata": {},
   "source": [
    "Vamos a construir una función que calcule el error absoluto medio (MAE) de un array numérico"
   ]
  },
  {
   "cell_type": "code",
   "execution_count": 41,
   "metadata": {},
   "outputs": [
    {
     "name": "stdout",
     "output_type": "stream",
     "text": [
      "Error Absoluto Medio: 1.8\n"
     ]
    }
   ],
   "source": [
    "# Calcula el error absoluto medio de una lista numérica\n",
    "def mean_absolute_error(actual, calculated):\n",
    "  \"\"\"\n",
    "  Calcula el error absoluto medio de entre dos listas (MAE).\n",
    "\n",
    "  Devuelve:\n",
    "    MAE.\n",
    "  \"\"\"\n",
    "  if len(actual) != len(calculated):\n",
    "    raise ValueError(\"Las listas deben ser de la misma longitud.\")\n",
    "\n",
    "# zip crea tuplas terables con los parámetros\n",
    "  errors = [abs(a - c) for a, c in zip(actual, calculated)]\n",
    "  return sum(errors) / len(actual)\n",
    "\n",
    "# Example usage:\n",
    "actual = [2, 3, 5, 5, 9]\n",
    "calculated = [3, 3, 8, 7, 6]\n",
    "\n",
    "mae = mean_absolute_error(actual, calculated)\n",
    "print(f\"Error Absoluto Medio: {mae}\")"
   ]
  },
  {
   "cell_type": "markdown",
   "metadata": {},
   "source": [
    "Una cota del error absoluto es \n",
    "$$\\Delta = |A -a| \\leq \\frac{1}{2}10^{m-n+1}, $$ con $n$ número de digitos exactos y $m$ es la primera potencia de 10 de su descomposicion decimal.\n",
    "\n",
    "Si sabemos que el número $a = 23.071937$ contiene cinco cifras exactas. Determinar su error absoluto."
   ]
  },
  {
   "cell_type": "code",
   "execution_count": 2,
   "metadata": {},
   "outputs": [
    {
     "name": "stdout",
     "output_type": "stream",
     "text": [
      "El error absoluto del número  23.071937  es:  0.005\n"
     ]
    }
   ],
   "source": [
    "m=2\n",
    "n=5\n",
    "num = 23.071937\n",
    "error=0.5*10**(m-n+1)\n",
    "print(\"El error absoluto del número \",num,\" es: \",error)"
   ]
  },
  {
   "cell_type": "markdown",
   "metadata": {},
   "source": [
    "Ejercicios\n",
    "\n",
    "1. Crea una función que admita como parámetros un número y las cifras a redondear y devuelva el número introducido redondeado.\n",
    "\n",
    "2. Crea una función que admita dos números (verdadero y aproximado) y calcule el error absoluto.\n",
    "\n",
    "3. Crea una función que admita dos números (verdadero y aproximado) y calcule el error relativo.\n",
    "\n",
    "4. Crea una función que admita dos vectores numéricos (verdadero y aproximado) y las cifras a redondear y calcule el error absoluto de la suma de los números.\n",
    "\n",
    "5. Añadele a la función anterior el código necesario para que calcule tambien el error relativo.\n",
    "  \n",
    "6. Crea una función que admita dos vectores numéricos (verdadero y aproximado) y las cifras a redondear y calcule el error relativo del producto de los números.\n",
    "\n",
    "7. Crea una función que admita dos números y las cifras a redondear y cacule el error relativo del cociente.\n",
    "\n",
    "8. Una encuesta estima que el ingreso mensual promedio de una muestra de 100 personas es de 3000€ con un error absoluto de 100€. Calcule el error relativo (en porcentaje) para las estimaciones de ingresos.\n",
    "9. En un estudio se miden los tiempos de reacción de 80 participantes y se descubre que el tiempo de reacción medio es de 0,5 segundos con un error absoluto de 0,05 segundos. Calcule el error relativo (en porcentaje) para los tiempos de reacción.\n",
    "\n",
    "10. Al realizar una conversión de unidades, un alumno escribe 10 millas es igual a 16,096 kilómetros. Sin embargo, el valor aceptado es 16,093 kilómetros. ¿Cuál es el error relativo cometido por el alumno?\n",
    "\n",
    "11. A un chico se le pide que mida la altura de un árbol y acaba encontrando que la altura del árbol es de 10,02 pies. La altura real del árbol es de 10,00 pies. Calcula el error relativo en la medición del chico.\n",
    "\n",
    "12. ¿Cuál es el error relativo cuando una chica escribe 1.000 atm es igual a 103,1 kPa mientras que la conversión correcta es 1.000 atm = 101,3 kPa?\n",
    "\n",
    "13. Crea una función que calcule el Error Absoluto Medio dados dos vectores con los valores aproximados y reales.\n",
    "   \n",
    "14. Crea una función que calcule el Error Cuadratico Medio y la Raíz del error Cuadrático Medio dados dos vectores con los valores aproximados y reales.\n",
    "\n",
    "16. Crea una función que admita un vector y una cota del error absoluto y devuelva el número de cifras exactas de cada número del vector.\n",
    "\n",
    "17. Crea una función que admita un vector y una cota del error relativo y devuelva el número de cifras exactas de cada número del vector.\n",
    "\n",
    "18. Para medir la altura de un árbol, $L$, se mide la longitud de su sombra, $L_1$, la altura de un objeto de referencia, $L_2$ y la longitud de su sombra, $L_3$. Realizadas las medidas resultan: $L_1 = 200 \\pm 2$ cm; $L_2 = 100 \\pm 0.4$; $L_3 = 10.3 \\pm 0.2$. Calcula $L$ mediante la razón de semejamza $$ L = L_{1}\\frac{L_2}{L_3}$$\n",
    "\n",
    "19. Crea una función que tenga como parámetro $f(x)$ y el error absoluto de la variable y calcule el error absoluto de la función.\n",
    "\n",
    "20. Crea una función que tenga como parámetro $f(x,y)$ y el error absoluto de las variables $x, y$ y calcule el error absoluto de la función de dos variables.\n",
    "    \n",
    "21. Dados $f(x,y,z) = \\frac{5xy^2}{z^2}$, encontrar el error absoluto en la evaluacion de $f(x,y,z)$ para $x = y = z = 0.1$ y errores $\\Delta x = \\Delta y = \\Delta z = 0.1 $.   \n"
   ]
  }
 ],
 "metadata": {
  "celltoolbar": "Slideshow",
  "kernelspec": {
   "display_name": "Python 3 (ipykernel)",
   "language": "python",
   "name": "python3"
  },
  "language_info": {
   "codemirror_mode": {
    "name": "ipython",
    "version": 3
   },
   "file_extension": ".py",
   "mimetype": "text/x-python",
   "name": "python",
   "nbconvert_exporter": "python",
   "pygments_lexer": "ipython3",
   "version": "3.12.1"
  },
  "widgets": {
   "state": {},
   "version": "1.1.2"
  }
 },
 "nbformat": 4,
 "nbformat_minor": 4
}
