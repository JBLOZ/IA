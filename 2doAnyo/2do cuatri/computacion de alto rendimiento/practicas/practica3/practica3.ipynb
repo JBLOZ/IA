{
 "cells": [
  {
   "cell_type": "markdown",
   "metadata": {},
   "source": [
    "# Practica 3 COMPARACIÓN CPU VS GPU\n",
    "\n",
    "### JORDI BLASCO LOZANO\n",
    "### computacion de alto rendimiento"
   ]
  },
  {
   "cell_type": "markdown",
   "metadata": {},
   "source": [
    "## Introducción \n",
    "En esta práctica, hemos explorado y comparado el rendimiento de una CPU y una GPU en la tarea de reconocimiento de imágenes utilizando un modelo de aprendizaje profundo preentrenado, ResNet18. El objetivo principal ha sido entender cómo la elección del hardware puede afectar significativamente el tiempo de procesamiento y cómo este conocimiento puede ser aplicado en proyectos reales.\n",
    "\n",
    "## Objetivos de la Práctica\n",
    "\n",
    "- Comparar los tiempos de ejecución en CPU y GPU para la tarea de procesamiento de imágenes.\n",
    "- Reflexionar sobre cómo esta diferencia de rendimiento puede influir en aplicaciones del mundo real, como el reconocimiento facial.\n"
   ]
  },
  {
   "cell_type": "markdown",
   "metadata": {},
   "source": [
    "## Pasos Realizados\n",
    "\n",
    "### 1. Preparación del Entorno\n",
    "- Instalacion e importacion de las bibliotecas necesarias\n",
    "- Configuracion del debugger para que se puedan imprimir al nivel de log que se quiera (INFO, DEBUGG)"
   ]
  },
  {
   "cell_type": "code",
   "execution_count": 169,
   "metadata": {},
   "outputs": [],
   "source": [
    "import torch\n",
    "import time\n",
    "from torchvision import models, transforms\n",
    "from torchvision.models import ResNet18_Weights\n",
    "from PIL import Image\n",
    "import sys\n",
    "import os\n",
    "import logging\n",
    "import warnings\n",
    "import pandas as pd\n",
    "import matplotlib.pyplot as plt\n",
    "import numpy as np\n",
    "import io"
   ]
  },
  {
   "cell_type": "code",
   "execution_count": 182,
   "metadata": {},
   "outputs": [
    {
     "name": "stderr",
     "output_type": "stream",
     "text": [
      "2025-02-11 18:16:12 - DEBUG - Modo DEBUG activado\n",
      "2025-02-11 18:16:12 - INFO - Modo INFO activado\n"
     ]
    }
   ],
   "source": [
    "# nivel de log\n",
    "DEBUG = True\n",
    "INFO = True\n",
    "\n",
    "log_level = logging.DEBUG if DEBUG else logging.INFO\n",
    "logger = logging.getLogger()\n",
    "logger.setLevel(log_level)\n",
    "\n",
    "if not DEBUG:\n",
    "    warnings.simplefilter(\"ignore\", UserWarning)\n",
    "\n",
    "if logger.hasHandlers():\n",
    "    logger.handlers.clear()\n",
    "handler = logging.StreamHandler()\n",
    "handler.setLevel(log_level)\n",
    "asctime_format = '%Y-%m-%d %H:%M:%S'\n",
    "formatter = logging.Formatter('%(asctime)s - %(levelname)s - %(message)s', datefmt=asctime_format)\n",
    "handler.setFormatter(formatter)\n",
    "logger.addHandler(handler)\n",
    "\n",
    "logger.debug(\"Modo DEBUG activado\")\n",
    "logger.info(\"Modo INFO activado\")"
   ]
  },
  {
   "cell_type": "markdown",
   "metadata": {},
   "source": [
    "### 2. Carga de Bibliotecas y Modelo\n",
    "- Comprobacion de si tenemos una gpu con cuda en el sistema\n",
    "- Carga del modelo preentrenado ResNet18 y configuración en modo evaluación.\n",
    "- Carga de imágenes de prueba.\n",
    "- Aplicación de transformaciones a las imágenes para ajustarlas al tamaño requerido por el modelo.\n",
    "- Medición del tiempo de procesamiento en CPU.\n",
    "- Medición del tiempo de procesamiento en GPU (si está disponible).\n",
    "- Registro de los tiempos de ejecución para diferentes tamaños de imágenes en una string en formato markdonw.\n"
   ]
  },
  {
   "cell_type": "code",
   "execution_count": 183,
   "metadata": {},
   "outputs": [],
   "source": [
    "class PracticaCPUvsGPU:\n",
    "    def __init__(self):\n",
    "        \"\"\"\n",
    "        Inicializa la práctica.\n",
    "        \"\"\"\n",
    "        \n",
    "\n",
    "\n",
    "        logging.debug(\"GPU disponible (inicial): %s\", torch.cuda.is_available())\n",
    "        logging.debug(\"Número de GPUs (inicial): %s\", torch.cuda.device_count())\n",
    "    \n",
    "        # Definir las resoluciones a comparar\n",
    "        self.resoluciones = [(224, 224), (512, 512), (1024, 1024), (2048, 2048), (4096, 4096)]\n",
    "        \n",
    "        # Cargar el modelo ResNet18 para CPU y establecerlo en modo evaluación\n",
    "\n",
    "        self.model_cpu = models.resnet18(pretrained=True)\n",
    "        self.model_cpu.eval()\n",
    "        \n",
    "        # Verificar GPU y cargar modelo en GPU si aparece disponible\n",
    "        self.gpu_disponible = torch.cuda.is_available()\n",
    "        if self.gpu_disponible:\n",
    "            self.model_gpu = models.resnet18(pretrained=True).to('cuda')\n",
    "            self.model_gpu.eval()\n",
    "        else:\n",
    "            self.model_gpu = None\n",
    "        \n",
    "        # Directorio donde se encuentran las imágenes\n",
    "        self.imagenes_dir = \"Fotos ejemplo\"\n",
    "        # Lista de rutas de imagen (Foto facial 1.jpg a Foto facial 5.jpg)\n",
    "        self.image_paths = [os.path.join(self.imagenes_dir, f\"Foto facial {i}.jpg\") for i in range(1, 6)]\n",
    "    \n",
    "    def run_measurements(self):\n",
    "        \"\"\"\n",
    "        Recorre las imágenes y mide los tiempos de ejecución sobre CPU y GPU (si está disponible),\n",
    "        registrando los resultados mediante logging.\n",
    "        \"\"\"\n",
    "        for path in self.image_paths:\n",
    "            try:\n",
    "                image = Image.open(path)\n",
    "            except Exception as e:\n",
    "                logging.error(\"Error al abrir la imagen %s: %s\", path, e)\n",
    "                continue\n",
    "\n",
    "            for res in self.resoluciones:\n",
    "                # Definir la transformación para la resolución actual\n",
    "                transform_res = transforms.Compose([\n",
    "                    transforms.Resize(res),\n",
    "                    transforms.ToTensor()\n",
    "                ])\n",
    "    \n",
    "                # Convertir la imagen a tensor y añadir dimensión batch\n",
    "                input_tensor = transform_res(image).unsqueeze(0)\n",
    "    \n",
    "                # Medición en CPU \n",
    "                start_cpu = time.time()\n",
    "                with torch.no_grad():\n",
    "                    _ = self.model_cpu(input_tensor)\n",
    "                tiempo_cpu = time.time() - start_cpu\n",
    "    \n",
    "                resultado = f\"Imagen: {path} | Tamaño: {res[0]}x{res[1]} | Tiempo en CPU: {tiempo_cpu:.4f} segundos\"\n",
    "    \n",
    "                # Medición en GPU si está disponible\n",
    "                if self.gpu_disponible:\n",
    "                    input_tensor_gpu = input_tensor.to('cuda')\n",
    "                    start_gpu = time.time()\n",
    "                    with torch.no_grad():\n",
    "                        _ = self.model_gpu(input_tensor_gpu)\n",
    "                    torch.cuda.synchronize()  # Asegurarse de que la GPU finalice la operación\n",
    "                    tiempo_gpu = time.time() - start_gpu\n",
    "                    resultado += f\" | Tiempo en GPU: {tiempo_gpu:.4f} segundos\"\n",
    "                else:\n",
    "                    resultado += \" | GPU no disponible.\"\n",
    "    \n",
    "                logging.info(resultado)\n",
    "    \n",
    "    def generar_tabla_markdown(self) -> str:\n",
    "        \"\"\"\n",
    "        Genera una tabla en formato Markdown con los tiempos de ejecución en CPU y GPU.\n",
    "        \n",
    "        Returns:\n",
    "            Una cadena con la tabla Markdown.\n",
    "        \"\"\"\n",
    "        table_lines = []\n",
    "        # Cabecera de la tabla Markdown\n",
    "        table_lines.append(\"| Imagen | Tamaño | Tiempo CPU (s) | Tiempo GPU (s) |\")\n",
    "        table_lines.append(\"|--------|--------|----------------|----------------|\")\n",
    "    \n",
    "        for path in self.image_paths:\n",
    "            try:\n",
    "                image = Image.open(path)\n",
    "            except Exception as e:\n",
    "                table_lines.append(f\"| {path} | Error al abrir imagen: {e} | - | - |\")\n",
    "                continue\n",
    "    \n",
    "            for res in self.resoluciones:\n",
    "                transform_res = transforms.Compose([\n",
    "                    transforms.Resize(res),\n",
    "                    transforms.ToTensor()\n",
    "                ])\n",
    "                input_tensor = transform_res(image).unsqueeze(0)\n",
    "                start_cpu = time.time()\n",
    "                with torch.no_grad():\n",
    "                    _ = self.model_cpu(input_tensor)\n",
    "                tiempo_cpu = time.time() - start_cpu\n",
    "    \n",
    "                if self.gpu_disponible:\n",
    "                    input_tensor_gpu = input_tensor.to('cuda')\n",
    "                    start_gpu = time.time()\n",
    "                    with torch.no_grad():\n",
    "                        _ = self.model_gpu(input_tensor_gpu)\n",
    "                    torch.cuda.synchronize()\n",
    "                    tiempo_gpu = time.time() - start_gpu\n",
    "                    tiempo_gpu_str = f\"{tiempo_gpu:.4f}\"\n",
    "                else:\n",
    "                    tiempo_gpu_str = \"N/A\"\n",
    "    \n",
    "                table_lines.append(f\"| {os.path.basename(path)} | {res[0]}x{res[1]} | {tiempo_cpu:.4f} | {tiempo_gpu_str} |\")\n",
    "    \n",
    "        return \"\\n\".join(table_lines)\n",
    "\n",
    "    def run_all(self):\n",
    "        \"\"\"\n",
    "        Ejecuta el análisis (mediciones) y genera la tabla Markdown.\n",
    "        \"\"\"\n",
    "        self.run_measurements()\n",
    "        md_table = self.generar_tabla_markdown()\n",
    "        \n",
    "        return md_table\n",
    "    "
   ]
  },
  {
   "cell_type": "markdown",
   "metadata": {},
   "source": [
    "\n",
    "### 3 Ejecucion del modelo\n",
    "- Carga de la clase en una variable\n",
    "- Ejecucion del programa y guardado de la tabla de markdonw en una variable\n"
   ]
  },
  {
   "cell_type": "code",
   "execution_count": 189,
   "metadata": {},
   "outputs": [
    {
     "name": "stderr",
     "output_type": "stream",
     "text": [
      "2025-02-11 18:24:40 - DEBUG - GPU disponible (inicial): False\n",
      "2025-02-11 18:24:40 - DEBUG - Número de GPUs (inicial): 0\n",
      "2025-02-11 18:24:40 - INFO - Imagen: Fotos ejemplo/Foto facial 1.jpg | Tamaño: 224x224 | Tiempo en CPU: 0.0455 segundos | GPU no disponible.\n",
      "2025-02-11 18:24:40 - INFO - Imagen: Fotos ejemplo/Foto facial 1.jpg | Tamaño: 512x512 | Tiempo en CPU: 0.1460 segundos | GPU no disponible.\n",
      "2025-02-11 18:24:41 - INFO - Imagen: Fotos ejemplo/Foto facial 1.jpg | Tamaño: 1024x1024 | Tiempo en CPU: 0.6473 segundos | GPU no disponible.\n",
      "2025-02-11 18:24:43 - INFO - Imagen: Fotos ejemplo/Foto facial 1.jpg | Tamaño: 2048x2048 | Tiempo en CPU: 2.2095 segundos | GPU no disponible.\n",
      "2025-02-11 18:24:52 - INFO - Imagen: Fotos ejemplo/Foto facial 1.jpg | Tamaño: 4096x4096 | Tiempo en CPU: 8.3688 segundos | GPU no disponible.\n",
      "2025-02-11 18:24:52 - INFO - Imagen: Fotos ejemplo/Foto facial 2.jpg | Tamaño: 224x224 | Tiempo en CPU: 0.0643 segundos | GPU no disponible.\n",
      "2025-02-11 18:24:52 - INFO - Imagen: Fotos ejemplo/Foto facial 2.jpg | Tamaño: 512x512 | Tiempo en CPU: 0.1326 segundos | GPU no disponible.\n",
      "2025-02-11 18:24:53 - INFO - Imagen: Fotos ejemplo/Foto facial 2.jpg | Tamaño: 1024x1024 | Tiempo en CPU: 0.4579 segundos | GPU no disponible.\n",
      "2025-02-11 18:24:55 - INFO - Imagen: Fotos ejemplo/Foto facial 2.jpg | Tamaño: 2048x2048 | Tiempo en CPU: 1.5677 segundos | GPU no disponible.\n",
      "2025-02-11 18:25:02 - INFO - Imagen: Fotos ejemplo/Foto facial 2.jpg | Tamaño: 4096x4096 | Tiempo en CPU: 6.5444 segundos | GPU no disponible.\n",
      "2025-02-11 18:25:02 - INFO - Imagen: Fotos ejemplo/Foto facial 3.jpg | Tamaño: 224x224 | Tiempo en CPU: 0.0564 segundos | GPU no disponible.\n",
      "2025-02-11 18:25:02 - INFO - Imagen: Fotos ejemplo/Foto facial 3.jpg | Tamaño: 512x512 | Tiempo en CPU: 0.1262 segundos | GPU no disponible.\n",
      "2025-02-11 18:25:02 - INFO - Imagen: Fotos ejemplo/Foto facial 3.jpg | Tamaño: 1024x1024 | Tiempo en CPU: 0.4754 segundos | GPU no disponible.\n",
      "2025-02-11 18:25:04 - INFO - Imagen: Fotos ejemplo/Foto facial 3.jpg | Tamaño: 2048x2048 | Tiempo en CPU: 1.6739 segundos | GPU no disponible.\n",
      "2025-02-11 18:25:12 - INFO - Imagen: Fotos ejemplo/Foto facial 3.jpg | Tamaño: 4096x4096 | Tiempo en CPU: 7.5444 segundos | GPU no disponible.\n",
      "2025-02-11 18:25:12 - INFO - Imagen: Fotos ejemplo/Foto facial 4.jpg | Tamaño: 224x224 | Tiempo en CPU: 0.0529 segundos | GPU no disponible.\n",
      "2025-02-11 18:25:13 - INFO - Imagen: Fotos ejemplo/Foto facial 4.jpg | Tamaño: 512x512 | Tiempo en CPU: 0.1074 segundos | GPU no disponible.\n",
      "2025-02-11 18:25:13 - INFO - Imagen: Fotos ejemplo/Foto facial 4.jpg | Tamaño: 1024x1024 | Tiempo en CPU: 0.4681 segundos | GPU no disponible.\n",
      "2025-02-11 18:25:15 - INFO - Imagen: Fotos ejemplo/Foto facial 4.jpg | Tamaño: 2048x2048 | Tiempo en CPU: 1.8472 segundos | GPU no disponible.\n",
      "2025-02-11 18:25:22 - INFO - Imagen: Fotos ejemplo/Foto facial 4.jpg | Tamaño: 4096x4096 | Tiempo en CPU: 6.5194 segundos | GPU no disponible.\n",
      "2025-02-11 18:25:22 - INFO - Imagen: Fotos ejemplo/Foto facial 5.jpg | Tamaño: 224x224 | Tiempo en CPU: 0.0481 segundos | GPU no disponible.\n",
      "2025-02-11 18:25:22 - INFO - Imagen: Fotos ejemplo/Foto facial 5.jpg | Tamaño: 512x512 | Tiempo en CPU: 0.1037 segundos | GPU no disponible.\n",
      "2025-02-11 18:25:23 - INFO - Imagen: Fotos ejemplo/Foto facial 5.jpg | Tamaño: 1024x1024 | Tiempo en CPU: 0.4112 segundos | GPU no disponible.\n",
      "2025-02-11 18:25:25 - INFO - Imagen: Fotos ejemplo/Foto facial 5.jpg | Tamaño: 2048x2048 | Tiempo en CPU: 2.0856 segundos | GPU no disponible.\n",
      "2025-02-11 18:25:33 - INFO - Imagen: Fotos ejemplo/Foto facial 5.jpg | Tamaño: 4096x4096 | Tiempo en CPU: 7.7566 segundos | GPU no disponible.\n",
      "2025-02-11 18:26:24 - DEBUG - Tabla Markdown generada:\n",
      "| Imagen | Tamaño | Tiempo CPU (s) | Tiempo GPU (s) |\n",
      "|--------|--------|----------------|----------------|\n",
      "| Foto facial 1.jpg | 224x224 | 0.0663 | N/A |\n",
      "| Foto facial 1.jpg | 512x512 | 0.1354 | N/A |\n",
      "| Foto facial 1.jpg | 1024x1024 | 0.5387 | N/A |\n",
      "| Foto facial 1.jpg | 2048x2048 | 1.6260 | N/A |\n",
      "| Foto facial 1.jpg | 4096x4096 | 6.7276 | N/A |\n",
      "| Foto facial 2.jpg | 224x224 | 0.0619 | N/A |\n",
      "| Foto facial 2.jpg | 512x512 | 0.1279 | N/A |\n",
      "| Foto facial 2.jpg | 1024x1024 | 0.5118 | N/A |\n",
      "| Foto facial 2.jpg | 2048x2048 | 1.7403 | N/A |\n",
      "| Foto facial 2.jpg | 4096x4096 | 7.4085 | N/A |\n",
      "| Foto facial 3.jpg | 224x224 | 0.0677 | N/A |\n",
      "| Foto facial 3.jpg | 512x512 | 0.1351 | N/A |\n",
      "| Foto facial 3.jpg | 1024x1024 | 0.5797 | N/A |\n",
      "| Foto facial 3.jpg | 2048x2048 | 2.0240 | N/A |\n",
      "| Foto facial 3.jpg | 4096x4096 | 7.2819 | N/A |\n",
      "| Foto facial 4.jpg | 224x224 | 0.0500 | N/A |\n",
      "| Foto facial 4.jpg | 512x512 | 0.1050 | N/A |\n",
      "| Foto facial 4.jpg | 1024x1024 | 0.4784 | N/A |\n",
      "| Foto facial 4.jpg | 2048x2048 | 1.7095 | N/A |\n",
      "| Foto facial 4.jpg | 4096x4096 | 6.4906 | N/A |\n",
      "| Foto facial 5.jpg | 224x224 | 0.0586 | N/A |\n",
      "| Foto facial 5.jpg | 512x512 | 0.1061 | N/A |\n",
      "| Foto facial 5.jpg | 1024x1024 | 0.4185 | N/A |\n",
      "| Foto facial 5.jpg | 2048x2048 | 1.5592 | N/A |\n",
      "| Foto facial 5.jpg | 4096x4096 | 7.0770 | N/A |\n"
     ]
    }
   ],
   "source": [
    "practica = PracticaCPUvsGPU()\n",
    "tabla = practica.run_all()\n",
    "\n",
    "logging.debug(\"Tabla Markdown generada:\\n%s\", tabla)"
   ]
  },
  {
   "cell_type": "markdown",
   "metadata": {},
   "source": [
    "| Imagen | Tamaño | Tiempo CPU (s) | Tiempo GPU (s) |\n",
    "|--------|--------|----------------|----------------|\n",
    "| Foto facial 1.jpg | 224x224 | 0.0150 | 0.0030 |\n",
    "| Foto facial 1.jpg | 512x512 | 0.0540 | 0.0030 |\n",
    "| Foto facial 1.jpg | 1024x1024 | 0.2046 | 0.0090 |\n",
    "| Foto facial 2.jpg | 224x224 | 0.0150 | 0.0030 |\n",
    "| Foto facial 2.jpg | 512x512 | 0.0530 | 0.0040 |\n",
    "| Foto facial 2.jpg | 1024x1024 | 0.2180 | 0.0090 |\n",
    "| Foto facial 3.jpg | 224x224 | 0.0160 | 0.0030 |\n",
    "| Foto facial 3.jpg | 512x512 | 0.0540 | 0.0030 |\n",
    "| Foto facial 3.jpg | 1024x1024 | 0.2180 | 0.0100 |\n",
    "| Foto facial 4.jpg | 224x224 | 0.0160 | 0.0040 |\n",
    "| Foto facial 4.jpg | 512x512 | 0.0540 | 0.0030 |\n",
    "| Foto facial 4.jpg | 1024x1024 | 0.2208 | 0.0110 |\n",
    "| Foto facial 5.jpg | 224x224 | 0.0160 | 0.0030 |\n",
    "| Foto facial 5.jpg | 512x512 | 0.0550 | 0.0040 |\n",
    "| Foto facial 5.jpg | 1024x1024 | 0.2240 | 0.0090 |"
   ]
  },
  {
   "cell_type": "markdown",
   "metadata": {},
   "source": [
    "###  4 Uso de un pandas dataset y luego calcular las medias de cada tamaño de imagen para la CPU y GPU\n",
    "\n",
    "- Leemos linea por linea la string markdown\n",
    "- Creamos un dataset para incluir los datos\n",
    "- Aplicamos una mascara por si no hay GPU en nuestra maquina y en lugar de poner N/A lo sustituimos por un np.nan\n",
    "- Calculamos las medias y nos las guardamos en orden de menor tamaño de imagen a mayor sacando el entero de la string y creando una nueva variable que ordena el df para luego eliminar la columna"
   ]
  },
  {
   "cell_type": "code",
   "execution_count": 186,
   "metadata": {},
   "outputs": [
    {
     "name": "stderr",
     "output_type": "stream",
     "text": [
      "2025-02-11 18:17:49 - DEBUG - Media calculada\n",
      "2025-02-11 18:17:49 - INFO - Media de tiempos por tamaño:\n",
      "       Tamaño  Tiempo CPU (s)  Tiempo GPU (s)\n",
      "0    224x224         0.07022             NaN\n",
      "1    512x512         0.13548             NaN\n",
      "2  1024x1024         0.48602             NaN\n",
      "3  2048x2048         1.83482             NaN\n",
      "4  4096x4096         7.30970             NaN\n"
     ]
    }
   ],
   "source": [
    "# Convertir la cadena en un objeto similar a un archivo\n",
    "archivo = io.StringIO(tabla)\n",
    "lines = archivo.readlines()\n",
    "\n",
    "# Extraer las líneas que forman parte de la tabla (líneas que empiezan con \"|\")\n",
    "table_lines = [line.strip() for line in lines if line.strip().startswith(\"|\")]\n",
    "\n",
    "# La primera línea es el header y la segunda el separador\n",
    "header = [col.strip() for col in table_lines[0].split(\"|\") if col.strip()]\n",
    "\n",
    "data_rows = []\n",
    "# Se omiten las dos primeras líneas (header y separador)\n",
    "for row in table_lines[2:]:\n",
    "    cols = [col.strip() for col in row.split(\"|\") if col.strip()]\n",
    "    if len(cols) == len(header):\n",
    "        data_rows.append(cols)\n",
    "\n",
    "# Crear el DataFrame\n",
    "df = pd.DataFrame(data_rows, columns=header)\n",
    "\n",
    "# Convertir la columna de CPU a numérico\n",
    "df['Tiempo CPU (s)'] = pd.to_numeric(df['Tiempo CPU (s)'])\n",
    "\n",
    "# Para la columna de GPU, reemplazamos 'N/A' por NaN usando mask (sin downcasting)\n",
    "df['Tiempo GPU (s)'] = df['Tiempo GPU (s)'].mask(df['Tiempo GPU (s)'] == 'N/A', np.nan)\n",
    "df['Tiempo GPU (s)'] = pd.to_numeric(df['Tiempo GPU (s)'], errors='coerce')\n",
    "\n",
    "# Calcular la media de los tiempos agrupando por 'Tamaño'\n",
    "mean_times = df.groupby('Tamaño')[['Tiempo CPU (s)', 'Tiempo GPU (s)']].mean().reset_index()\n",
    "\n",
    "# Convertir 'Tamaño' a un valor numérico para ordenar (por ejemplo, tomando el ancho)\n",
    "mean_times['size_num'] = mean_times['Tamaño'].apply(lambda s: int(s.split(\"x\")[0]) if \"x\" in s else None)\n",
    "\n",
    "# Ordenar los datos de menor a mayor según el valor numérico extraído\n",
    "mean_times = mean_times.sort_values('size_num')\n",
    "\n",
    "# Eliminar la columna auxiliar 'size_num'\n",
    "mean_times = mean_times.drop('size_num', axis=1)\n",
    "\n",
    "# Reindizar sin cambiar el orden de los datos\n",
    "mean_times = mean_times.reset_index(drop=True)\n",
    "\n",
    "logger.debug(\"Media calculada\")\n",
    "logger.info(f\"Media de tiempos por tamaño:\\n {mean_times}\")\n",
    "\n"
   ]
  },
  {
   "cell_type": "markdown",
   "metadata": {},
   "source": [
    "### 4 Metricas nuevas y plots de datos\n",
    "- Dividimos la media de tiempo de CPU entre el tiempo de ejecucion de GPU y sacamos la cantidad de veces que la GPU es más rapida que la CPU\n",
    "\n",
    "`nota`**Si no tenemos GPU no podremos generar un plot nuevo**"
   ]
  },
  {
   "cell_type": "code",
   "execution_count": null,
   "metadata": {},
   "outputs": [
    {
     "name": "stderr",
     "output_type": "stream",
     "text": [
      "2025-02-11 18:17:52 - INFO - Numero de veces mas rapido la GPU que la CPU \n",
      "       Tamaño  Veces mas rapido\n",
      "0    224x224               NaN\n",
      "1    512x512               NaN\n",
      "2  1024x1024               NaN\n",
      "3  2048x2048               NaN\n",
      "4  4096x4096               NaN\n"
     ]
    },
    {
     "data": {
      "image/png": "[encoded data removed]",
      "text/plain": [
       "<Figure size 1000x500 with 1 Axes>"
      ]
     },
     "metadata": {},
     "output_type": "display_data"
    },
    {
     "name": "stderr",
     "output_type": "stream",
     "text": [
      "2025-02-11 18:17:52 - DEBUG - Gráfico 1 mostrado. \n"
     ]
    }
   ],
   "source": [
    "\n",
    "\n",
    "mean_times['Total (s)'] = mean_times['Tiempo CPU (s)'] + mean_times['Tiempo GPU (s)']\n",
    "mean_times['Veces mas rapido'] = mean_times['Tiempo CPU (s)'] / mean_times['Tiempo GPU (s)']\n",
    "\n",
    "logs_a_mostrar = mean_times[['Tamaño', 'Veces mas rapido']]\n",
    "logger.info(f\"Numero de veces mas rapido la GPU que la CPU \\n {logs_a_mostrar}\")\n",
    "\n",
    "positions = np.arange(len(mean_times))\n",
    "width = 0.35\n",
    "\n",
    "plt.figure(figsize=(10, 5))\n",
    "plt.bar(positions , mean_times['Veces mas rapido'], width, color='pink',  label='Veces mas rapido')\n",
    "\n",
    "plt.xlabel('Tamaño de Imagen')\n",
    "plt.ylabel('Número de Veces')\n",
    "plt.title('Veces mas rapido la GPU que la CPU')\n",
    "plt.xticks(positions, mean_times['Tamaño'])\n",
    "plt.legend()\n",
    "plt.show()\n",
    "logger.debug(\"Gráfico 1 mostrado. \")\n"
   ]
  },
  {
   "cell_type": "markdown",
   "metadata": {},
   "source": [
    "### 5 Plot final\n",
    "- Generamos un plot con la media de cada tamaño de imagen con puntos y luego las unimos con una linea para la CPU y otra para la GPU"
   ]
  },
  {
   "cell_type": "code",
   "execution_count": 188,
   "metadata": {},
   "outputs": [
    {
     "name": "stderr",
     "output_type": "stream",
     "text": [
      "2025-02-11 18:23:02 - INFO - Media de datos \n",
      "       Tamaño  Tiempo CPU (s)  Tiempo GPU (s)\n",
      "0    224x224         0.07022             NaN\n",
      "1    512x512         0.13548             NaN\n",
      "2  1024x1024         0.48602             NaN\n",
      "3  2048x2048         1.83482             NaN\n",
      "4  4096x4096         7.30970             NaN\n"
     ]
    },
    {
     "data": {
      "image/png": "[encoded data removed]",
      "text/plain": [
       "<Figure size 1000x500 with 1 Axes>"
      ]
     },
     "metadata": {},
     "output_type": "display_data"
    },
    {
     "name": "stderr",
     "output_type": "stream",
     "text": [
      "2025-02-11 18:23:02 - DEBUG - Gráfico 2 mostrado.\n"
     ]
    }
   ],
   "source": [
    "# Suponiendo que 'mean_times' ya se ha calculado a partir del DataFrame\n",
    "mean_times['size_num'] = mean_times['Tamaño'].apply(lambda s: int(s.split(\"x\")[0]) if \"x\" in s else None)\n",
    "mean_times = mean_times.sort_values('size_num')\n",
    "\n",
    "logs_a_mostrar = mean_times[['Tamaño', 'Tiempo CPU (s)', 'Tiempo GPU (s)']]\n",
    "logger.info(f\"Media de datos \\n {logs_a_mostrar}\")\n",
    "\n",
    "plt.figure(figsize=(10, 5))\n",
    "plt.plot(mean_times['Tamaño'], mean_times['Tiempo CPU (s)'], marker='o', linestyle='-', color='blue', label='Media CPU')\n",
    "plt.plot(mean_times['Tamaño'], mean_times['Tiempo GPU (s)'], marker='x', linestyle='-', color='orange', label='Media GPU')\n",
    "plt.xlabel('Tamaño de Imagen')\n",
    "plt.ylabel('Tiempo (s)')\n",
    "plt.title('Tiempos medios de procesamiento por tamaño de imagen')\n",
    "plt.legend()\n",
    "plt.show()\n",
    "logger.debug(\"Gráfico 2 mostrado.\")"
   ]
  },
  {
   "cell_type": "markdown",
   "metadata": {},
   "source": [
    "## CONCLUSIONES"
   ]
  }
 ],
 "metadata": {
  "kernelspec": {
   "display_name": "Python 3",
   "language": "python",
   "name": "python3"
  },
  "language_info": {
   "codemirror_mode": {
    "name": "ipython",
    "version": 3
   },
   "file_extension": ".py",
   "mimetype": "text/x-python",
   "name": "python",
   "nbconvert_exporter": "python",
   "pygments_lexer": "ipython3",
   "version": "3.12.1"
  }
 },
 "nbformat": 4,
 "nbformat_minor": 2
}
