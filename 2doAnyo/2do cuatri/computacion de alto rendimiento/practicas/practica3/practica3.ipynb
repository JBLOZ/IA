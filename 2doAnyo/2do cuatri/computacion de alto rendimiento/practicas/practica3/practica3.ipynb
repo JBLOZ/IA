{
 "cells": [
  {
   "cell_type": "markdown",
   "metadata": {},
   "source": [
    "# Practica 3 COMPARACIÓN CPU VS GPU\n",
    "\n",
    "### JORDI BLASCO LOZANO\n",
    "### computacion de alto rendimiento"
   ]
  },
  {
   "cell_type": "markdown",
   "metadata": {},
   "source": [
    "## Introducción \n",
    "En esta práctica, hemos explorado y comparado el rendimiento de una CPU y una GPU en la tarea de reconocimiento de imágenes utilizando un modelo de aprendizaje profundo preentrenado, ResNet18. El objetivo principal ha sido entender cómo la elección del hardware puede afectar significativamente el tiempo de procesamiento y cómo este conocimiento puede ser aplicado en proyectos reales.\n",
    "\n",
    "## Objetivos de la Práctica\n",
    "\n",
    "- Comparar los tiempos de ejecución en CPU y GPU para la tarea de procesamiento de imágenes.\n",
    "- Reflexionar sobre cómo esta diferencia de rendimiento puede influir en aplicaciones del mundo real, como el reconocimiento facial.\n"
   ]
  },
  {
   "cell_type": "markdown",
   "metadata": {},
   "source": [
    "## Pasos Realizados\n",
    "\n",
    "### 1. Preparación del Entorno\n",
    "- Instalacion e importacion de las bibliotecas necesarias\n",
    "- Configuracion del debugger para que se puedan imprimir al nivel de log que se quiera (INFO, DEBUGG)"
   ]
  },
  {
   "cell_type": "code",
   "execution_count": 1,
   "metadata": {},
   "outputs": [],
   "source": [
    "import torch\n",
    "import time\n",
    "from torchvision import models, transforms\n",
    "from torchvision.models import ResNet18_Weights\n",
    "from PIL import Image\n",
    "import sys\n",
    "import os\n",
    "import logging\n",
    "import warnings\n",
    "import pandas as pd\n",
    "import matplotlib.pyplot as plt\n",
    "import numpy as np\n",
    "import io"
   ]
  },
  {
   "cell_type": "code",
   "execution_count": 2,
   "metadata": {},
   "outputs": [
    {
     "name": "stderr",
     "output_type": "stream",
     "text": [
      "2025-02-11 19:33:58 - DEBUG - Modo DEBUG activado\n",
      "2025-02-11 19:33:58 - INFO - Modo INFO activado\n"
     ]
    }
   ],
   "source": [
    "# nivel de log\n",
    "DEBUG = True\n",
    "INFO = True\n",
    "\n",
    "log_level = logging.DEBUG if DEBUG else logging.INFO\n",
    "logger = logging.getLogger()\n",
    "logger.setLevel(log_level)\n",
    "\n",
    "if not DEBUG:\n",
    "    warnings.simplefilter(\"ignore\", UserWarning)\n",
    "\n",
    "if logger.hasHandlers():\n",
    "    logger.handlers.clear()\n",
    "handler = logging.StreamHandler()\n",
    "handler.setLevel(log_level)\n",
    "asctime_format = '%Y-%m-%d %H:%M:%S'\n",
    "formatter = logging.Formatter('%(asctime)s - %(levelname)s - %(message)s', datefmt=asctime_format)\n",
    "handler.setFormatter(formatter)\n",
    "logger.addHandler(handler)\n",
    "\n",
    "logger.debug(\"Modo DEBUG activado\")\n",
    "logger.info(\"Modo INFO activado\")"
   ]
  },
  {
   "cell_type": "markdown",
   "metadata": {},
   "source": [
    "### 2. Carga de Bibliotecas y Modelo\n",
    "- Comprobacion de si tenemos una gpu con cuda en el sistema\n",
    "- Carga del modelo preentrenado ResNet18 y configuración en modo evaluación.\n",
    "- Carga de imágenes de prueba.\n",
    "- Aplicación de transformaciones a las imágenes para ajustarlas al tamaño requerido por el modelo.\n",
    "- Medición del tiempo de procesamiento en CPU.\n",
    "- Medición del tiempo de procesamiento en GPU (si está disponible).\n",
    "- Registramos los tiempos de ejecucion de CPU y GPU y nos los guardamos en un dataset\n",
    "- Exportamos el dataset a markdown para visualizarlo mejor\n"
   ]
  },
  {
   "cell_type": "code",
   "execution_count": null,
   "metadata": {},
   "outputs": [],
   "source": [
    "class PracticaCPUvsGPU:\n",
    "    def __init__(self):\n",
    "        \"\"\"\n",
    "        Inicializa la práctica.\n",
    "        \"\"\"\n",
    "        logging.debug(\"GPU disponible (inicial): %s\", torch.cuda.is_available())\n",
    "        logging.debug(\"Número de GPUs (inicial): %s\", torch.cuda.device_count())\n",
    "        \n",
    "        # Definir las resoluciones a comparar\n",
    "        self.resoluciones = [(224, 224), (512, 512), (1024, 1024), (2048, 2048), (4096, 4096)]\n",
    "        \n",
    "        # Cargar el modelo ResNet18 para CPU y establecerlo en modo evaluación\n",
    "        self.model_cpu = models.resnet18(pretrained=True)\n",
    "        self.model_cpu.eval()\n",
    "        \n",
    "        # Verificar GPU y cargar modelo en GPU si está disponible\n",
    "        self.gpu_disponible = torch.cuda.is_available()\n",
    "        if self.gpu_disponible:\n",
    "            self.model_gpu = models.resnet18(pretrained=True).to('cuda')\n",
    "            self.model_gpu.eval()\n",
    "        else:\n",
    "            self.model_gpu = None\n",
    "        \n",
    "        # Directorio donde se encuentran las imágenes\n",
    "        self.imagenes_dir = \"Fotos ejemplo\"\n",
    "        # Lista de rutas de imagen (Foto facial 1.jpg a Foto facial 5.jpg)\n",
    "        self.image_paths = [os.path.join(self.imagenes_dir, f\"Foto facial {i}.jpg\") for i in range(1, 6)]\n",
    "        \n",
    "        # Inicialmente se crea un DataFrame vacío para almacenar los resultados.\n",
    "        self.df = pd.DataFrame(columns=[\"imagen\", \"tamaño\", \"tiempo_cpu\", \"tiempo_gpu\"])\n",
    "    \n",
    "    def run_measurements(self):\n",
    "        \"\"\"\n",
    "        Recorre las imágenes y mide los tiempos de ejecución sobre CPU y GPU (si está disponible),\n",
    "        registrando los resultados mediante logging y almacenándolos en un DataFrame.\n",
    "        \"\"\"\n",
    "        resultados = []\n",
    "        \n",
    "        for path in self.image_paths:\n",
    "            try:\n",
    "                image = Image.open(path)\n",
    "            except Exception as e:\n",
    "                logging.error(\"Error al abrir la imagen %s: %s\", path, e)\n",
    "                # Se agrega una fila de error (una sola por imagen) tal como se hacía en el código original\n",
    "                resultados.append({\n",
    "                    \"imagen\": path,\n",
    "                    \"tamaño\": f\"Error al abrir imagen: {e}\",\n",
    "                    \"tiempo_cpu\": \"-\",\n",
    "                    \"tiempo_gpu\": \"-\"\n",
    "                })\n",
    "                continue\n",
    "\n",
    "            for res in self.resoluciones:\n",
    "                # Definir la transformación para la resolución actual\n",
    "                transform_res = transforms.Compose([\n",
    "                    transforms.Resize(res),\n",
    "                    transforms.ToTensor()\n",
    "                ])\n",
    "                \n",
    "                # Convertir la imagen a tensor y añadir dimensión batch\n",
    "                input_tensor = transform_res(image).unsqueeze(0)\n",
    "                \n",
    "                # Medición en CPU \n",
    "                start_cpu = time.time()\n",
    "                with torch.no_grad():\n",
    "                    _ = self.model_cpu(input_tensor)\n",
    "                tiempo_cpu = time.time() - start_cpu\n",
    "                \n",
    "                resultado_log = f\"Imagen: {path} | Tamaño: {res[0]}x{res[1]} | Tiempo en CPU: {tiempo_cpu:.4f} segundos\"\n",
    "                \n",
    "                # Medición en GPU si está disponible\n",
    "                if self.gpu_disponible:\n",
    "                    input_tensor_gpu = input_tensor.to('cuda')\n",
    "                    start_gpu = time.time()\n",
    "                    with torch.no_grad():\n",
    "                        _ = self.model_gpu(input_tensor_gpu)\n",
    "                    torch.cuda.synchronize()  # Asegurarse de que la GPU finalice la operación\n",
    "                    tiempo_gpu = time.time() - start_gpu\n",
    "                    resultado_log += f\" | Tiempo en GPU: {tiempo_gpu:.4f} segundos\"\n",
    "                    tiempo_gpu_val = tiempo_gpu\n",
    "                else:\n",
    "                    resultado_log += \" | GPU no disponible.\"\n",
    "                    tiempo_gpu_val = \"-\"\n",
    "                \n",
    "                logging.info(resultado_log)\n",
    "                \n",
    "                # Se agrega el resultado al listado; para la tabla se usa el nombre base de la imagen.\n",
    "                resultados.append({\n",
    "                    \"imagen\": os.path.basename(path),\n",
    "                    \"tamaño\": f\"{res[0]}x{res[1]}\",\n",
    "                    \"tiempo_cpu\": tiempo_cpu,\n",
    "                    \"tiempo_gpu\": tiempo_gpu_val\n",
    "                })\n",
    "        \n",
    "        # Se crea el DataFrame a partir de la lista de resultados.\n",
    "        self.df = pd.DataFrame(resultados)\n",
    "    \n",
    "    def generar_tabla_markdown(self) -> str:\n",
    "        \n",
    "        return self.df.to_markdown()\n",
    "    \n",
    "    def run_all(self):\n",
    "        \"\"\"\n",
    "        Ejecuta el análisis (mediciones) y genera la tabla Markdown.\n",
    "        \"\"\"\n",
    "        self.run_measurements()\n",
    "        md_table = self.generar_tabla_markdown()\n",
    "        \n",
    "        return md_table\n",
    "    "
   ]
  },
  {
   "cell_type": "markdown",
   "metadata": {},
   "source": [
    "\n",
    "### 3 Ejecucion del modelo\n",
    "- Carga de la clase en una variable\n",
    "- Ejecucion del programa y guardado de la tabla de markdonw en una variable, (aunque tengamos el dataset de pandas para mostrar la tabla mejor cogemos la tabla de markdown)\n"
   ]
  },
  {
   "cell_type": "code",
   "execution_count": 20,
   "metadata": {},
   "outputs": [
    {
     "name": "stderr",
     "output_type": "stream",
     "text": [
      "2025-02-11 19:57:09 - DEBUG - GPU disponible (inicial): True\n",
      "2025-02-11 19:57:09 - DEBUG - Número de GPUs (inicial): 1\n",
      "2025-02-11 19:57:09 - INFO - Imagen: Fotos ejemplo\\Foto facial 1.jpg | Tamaño: 224x224 | Tiempo en CPU: 0.0165 segundos | Tiempo en GPU: 0.0040 segundos\n",
      "2025-02-11 19:57:09 - INFO - Imagen: Fotos ejemplo\\Foto facial 1.jpg | Tamaño: 512x512 | Tiempo en CPU: 0.0570 segundos | Tiempo en GPU: 0.0030 segundos\n",
      "2025-02-11 19:57:09 - INFO - Imagen: Fotos ejemplo\\Foto facial 1.jpg | Tamaño: 1024x1024 | Tiempo en CPU: 0.2281 segundos | Tiempo en GPU: 0.0100 segundos\n",
      "2025-02-11 19:57:10 - INFO - Imagen: Fotos ejemplo\\Foto facial 1.jpg | Tamaño: 2048x2048 | Tiempo en CPU: 0.9193 segundos | Tiempo en GPU: 0.0365 segundos\n",
      "2025-02-11 19:57:15 - INFO - Imagen: Fotos ejemplo\\Foto facial 1.jpg | Tamaño: 4096x4096 | Tiempo en CPU: 4.0635 segundos | Tiempo en GPU: 0.1420 segundos\n",
      "2025-02-11 19:57:15 - INFO - Imagen: Fotos ejemplo\\Foto facial 2.jpg | Tamaño: 224x224 | Tiempo en CPU: 0.0180 segundos | Tiempo en GPU: 0.0030 segundos\n",
      "2025-02-11 19:57:15 - INFO - Imagen: Fotos ejemplo\\Foto facial 2.jpg | Tamaño: 512x512 | Tiempo en CPU: 0.0573 segundos | Tiempo en GPU: 0.0030 segundos\n",
      "2025-02-11 19:57:15 - INFO - Imagen: Fotos ejemplo\\Foto facial 2.jpg | Tamaño: 1024x1024 | Tiempo en CPU: 0.2266 segundos | Tiempo en GPU: 0.0100 segundos\n",
      "2025-02-11 19:57:16 - INFO - Imagen: Fotos ejemplo\\Foto facial 2.jpg | Tamaño: 2048x2048 | Tiempo en CPU: 0.8957 segundos | Tiempo en GPU: 0.0342 segundos\n",
      "2025-02-11 19:57:20 - INFO - Imagen: Fotos ejemplo\\Foto facial 2.jpg | Tamaño: 4096x4096 | Tiempo en CPU: 4.1148 segundos | Tiempo en GPU: 0.1400 segundos\n",
      "2025-02-11 19:57:21 - INFO - Imagen: Fotos ejemplo\\Foto facial 3.jpg | Tamaño: 224x224 | Tiempo en CPU: 0.0170 segundos | Tiempo en GPU: 0.0040 segundos\n",
      "2025-02-11 19:57:21 - INFO - Imagen: Fotos ejemplo\\Foto facial 3.jpg | Tamaño: 512x512 | Tiempo en CPU: 0.0570 segundos | Tiempo en GPU: 0.0030 segundos\n",
      "2025-02-11 19:57:21 - INFO - Imagen: Fotos ejemplo\\Foto facial 3.jpg | Tamaño: 1024x1024 | Tiempo en CPU: 0.2280 segundos | Tiempo en GPU: 0.0090 segundos\n",
      "2025-02-11 19:57:22 - INFO - Imagen: Fotos ejemplo\\Foto facial 3.jpg | Tamaño: 2048x2048 | Tiempo en CPU: 0.8914 segundos | Tiempo en GPU: 0.0330 segundos\n",
      "2025-02-11 19:57:26 - INFO - Imagen: Fotos ejemplo\\Foto facial 3.jpg | Tamaño: 4096x4096 | Tiempo en CPU: 4.1129 segundos | Tiempo en GPU: 0.1420 segundos\n",
      "2025-02-11 19:57:26 - INFO - Imagen: Fotos ejemplo\\Foto facial 4.jpg | Tamaño: 224x224 | Tiempo en CPU: 0.0170 segundos | Tiempo en GPU: 0.0040 segundos\n",
      "2025-02-11 19:57:26 - INFO - Imagen: Fotos ejemplo\\Foto facial 4.jpg | Tamaño: 512x512 | Tiempo en CPU: 0.0570 segundos | Tiempo en GPU: 0.0030 segundos\n",
      "2025-02-11 19:57:27 - INFO - Imagen: Fotos ejemplo\\Foto facial 4.jpg | Tamaño: 1024x1024 | Tiempo en CPU: 0.2266 segundos | Tiempo en GPU: 0.0090 segundos\n",
      "2025-02-11 19:57:28 - INFO - Imagen: Fotos ejemplo\\Foto facial 4.jpg | Tamaño: 2048x2048 | Tiempo en CPU: 0.8660 segundos | Tiempo en GPU: 0.0330 segundos\n",
      "2025-02-11 19:57:32 - INFO - Imagen: Fotos ejemplo\\Foto facial 4.jpg | Tamaño: 4096x4096 | Tiempo en CPU: 4.0420 segundos | Tiempo en GPU: 0.1406 segundos\n",
      "2025-02-11 19:57:32 - INFO - Imagen: Fotos ejemplo\\Foto facial 5.jpg | Tamaño: 224x224 | Tiempo en CPU: 0.0180 segundos | Tiempo en GPU: 0.0040 segundos\n",
      "2025-02-11 19:57:32 - INFO - Imagen: Fotos ejemplo\\Foto facial 5.jpg | Tamaño: 512x512 | Tiempo en CPU: 0.0580 segundos | Tiempo en GPU: 0.0040 segundos\n",
      "2025-02-11 19:57:32 - INFO - Imagen: Fotos ejemplo\\Foto facial 5.jpg | Tamaño: 1024x1024 | Tiempo en CPU: 0.2356 segundos | Tiempo en GPU: 0.0090 segundos\n",
      "2025-02-11 19:57:33 - INFO - Imagen: Fotos ejemplo\\Foto facial 5.jpg | Tamaño: 2048x2048 | Tiempo en CPU: 0.8602 segundos | Tiempo en GPU: 0.0330 segundos\n",
      "2025-02-11 19:57:38 - INFO - Imagen: Fotos ejemplo\\Foto facial 5.jpg | Tamaño: 4096x4096 | Tiempo en CPU: 4.0768 segundos | Tiempo en GPU: 0.1400 segundos\n",
      "2025-02-11 19:57:38 - DEBUG - Tabla Markdown generada:\n",
      "|    | imagen            | tamaño    |   tiempo_cpu |   tiempo_gpu |\n",
      "|---:|:------------------|:----------|-------------:|-------------:|\n",
      "|  0 | Foto facial 1.jpg | 224x224   |    0.0165162 |   0.00399995 |\n",
      "|  1 | Foto facial 1.jpg | 512x512   |    0.0570023 |   0.00300217 |\n",
      "|  2 | Foto facial 1.jpg | 1024x1024 |    0.228137  |   0.00999689 |\n",
      "|  3 | Foto facial 1.jpg | 2048x2048 |    0.91932   |   0.0364637  |\n",
      "|  4 | Foto facial 1.jpg | 4096x4096 |    4.06353   |   0.142001   |\n",
      "|  5 | Foto facial 2.jpg | 224x224   |    0.0180011 |   0.00299835 |\n",
      "|  6 | Foto facial 2.jpg | 512x512   |    0.0573187 |   0.00300097 |\n",
      "|  7 | Foto facial 2.jpg | 1024x1024 |    0.226626  |   0.00999618 |\n",
      "|  8 | Foto facial 2.jpg | 2048x2048 |    0.895709  |   0.034209   |\n",
      "|  9 | Foto facial 2.jpg | 4096x4096 |    4.11482   |   0.140002   |\n",
      "| 10 | Foto facial 3.jpg | 224x224   |    0.0170014 |   0.00400043 |\n",
      "| 11 | Foto facial 3.jpg | 512x512   |    0.0569983 |   0.00299788 |\n",
      "| 12 | Foto facial 3.jpg | 1024x1024 |    0.228017  |   0.00899744 |\n",
      "| 13 | Foto facial 3.jpg | 2048x2048 |    0.891399  |   0.032999   |\n",
      "| 14 | Foto facial 3.jpg | 4096x4096 |    4.11287   |   0.142001   |\n",
      "| 15 | Foto facial 4.jpg | 224x224   |    0.0170004 |   0.00399685 |\n",
      "| 16 | Foto facial 4.jpg | 512x512   |    0.0570011 |   0.00299907 |\n",
      "| 17 | Foto facial 4.jpg | 1024x1024 |    0.226554  |   0.00899839 |\n",
      "| 18 | Foto facial 4.jpg | 2048x2048 |    0.865997  |   0.0329978  |\n",
      "| 19 | Foto facial 4.jpg | 4096x4096 |    4.04203   |   0.140606   |\n",
      "| 20 | Foto facial 5.jpg | 224x224   |    0.0180049 |   0.00400043 |\n",
      "| 21 | Foto facial 5.jpg | 512x512   |    0.0579977 |   0.00400496 |\n",
      "| 22 | Foto facial 5.jpg | 1024x1024 |    0.235649  |   0.00899839 |\n",
      "| 23 | Foto facial 5.jpg | 2048x2048 |    0.860167  |   0.0329986  |\n",
      "| 24 | Foto facial 5.jpg | 4096x4096 |    4.07685   |   0.139999   |\n"
     ]
    }
   ],
   "source": [
    "practica = PracticaCPUvsGPU()\n",
    "\n",
    "tabla_md = practica.run_all()\n",
    "\n",
    "logging.debug(\"Tabla Markdown generada:\\n%s\", tabla_md)\n"
   ]
  },
  {
   "cell_type": "markdown",
   "metadata": {},
   "source": [
    "|    | imagen            | tamaño    |   tiempo_cpu |   tiempo_gpu |\n",
    "|---:|:------------------|:----------|-------------:|-------------:|\n",
    "|  0 | Foto facial 1.jpg | 224x224   |    0.0165162 |   0.00399995 |\n",
    "|  1 | Foto facial 1.jpg | 512x512   |    0.0570023 |   0.00300217 |\n",
    "|  2 | Foto facial 1.jpg | 1024x1024 |    0.228137  |   0.00999689 |\n",
    "|  3 | Foto facial 1.jpg | 2048x2048 |    0.91932   |   0.0364637  |\n",
    "|  4 | Foto facial 1.jpg | 4096x4096 |    4.06353   |   0.142001   |\n",
    "|  5 | Foto facial 2.jpg | 224x224   |    0.0180011 |   0.00299835 |\n",
    "|  6 | Foto facial 2.jpg | 512x512   |    0.0573187 |   0.00300097 |\n",
    "|  7 | Foto facial 2.jpg | 1024x1024 |    0.226626  |   0.00999618 |\n",
    "|  8 | Foto facial 2.jpg | 2048x2048 |    0.895709  |   0.034209   |\n",
    "|  9 | Foto facial 2.jpg | 4096x4096 |    4.11482   |   0.140002   |\n",
    "| 10 | Foto facial 3.jpg | 224x224   |    0.0170014 |   0.00400043 |\n",
    "| 11 | Foto facial 3.jpg | 512x512   |    0.0569983 |   0.00299788 |\n",
    "| 12 | Foto facial 3.jpg | 1024x1024 |    0.228017  |   0.00899744 |\n",
    "| 13 | Foto facial 3.jpg | 2048x2048 |    0.891399  |   0.032999   |\n",
    "| 14 | Foto facial 3.jpg | 4096x4096 |    4.11287   |   0.142001   |\n",
    "| 15 | Foto facial 4.jpg | 224x224   |    0.0170004 |   0.00399685 |\n",
    "| 16 | Foto facial 4.jpg | 512x512   |    0.0570011 |   0.00299907 |\n",
    "| 17 | Foto facial 4.jpg | 1024x1024 |    0.226554  |   0.00899839 |\n",
    "| 18 | Foto facial 4.jpg | 2048x2048 |    0.865997  |   0.0329978  |\n",
    "| 19 | Foto facial 4.jpg | 4096x4096 |    4.04203   |   0.140606   |\n",
    "| 20 | Foto facial 5.jpg | 224x224   |    0.0180049 |   0.00400043 |\n",
    "| 21 | Foto facial 5.jpg | 512x512   |    0.0579977 |   0.00400496 |\n",
    "| 22 | Foto facial 5.jpg | 1024x1024 |    0.235649  |   0.00899839 |\n",
    "| 23 | Foto facial 5.jpg | 2048x2048 |    0.860167  |   0.0329986  |\n",
    "| 24 | Foto facial 5.jpg | 4096x4096 |    4.07685   |   0.139999   |"
   ]
  },
  {
   "cell_type": "markdown",
   "metadata": {},
   "source": [
    "###  4 Uso de un pandas dataset y luego calcular las medias de cada tamaño de imagen para la CPU y GPU\n",
    "\n",
    "- Copiamos el dataset de la clase anterior que estabamos usando en una nueva variable global\n",
    "- Si tenemos valores de `-` en los datos de la GPU porque no haya GPU los cambiamos por `np.nan` para que no de error al pasarlos a numeros \n",
    "- Calculamos las medias y nos las guardamos en orden de menor tamaño de imagen a mayor sacando el entero de la string `tamaño` y creando una nueva variable que ordena el df para luego eliminar la columna auxiliar"
   ]
  },
  {
   "cell_type": "code",
   "execution_count": 25,
   "metadata": {},
   "outputs": [
    {
     "name": "stderr",
     "output_type": "stream",
     "text": [
      "2025-02-11 20:09:39 - DEBUG - Media calculada\n",
      "2025-02-11 20:09:39 - INFO - Media de tiempos por tamaño:\n",
      "      tamaño  tiempo_cpu  tiempo_gpu\n",
      "0    224x224    0.017305    0.003799\n",
      "1    512x512    0.057264    0.003201\n",
      "2  1024x1024    0.228997    0.009397\n",
      "3  2048x2048    0.886518    0.033934\n",
      "4  4096x4096    4.082020    0.140922\n"
     ]
    }
   ],
   "source": [
    "# Copiamos el DataFrame para no modificar el original\n",
    "df = practica.df.copy()\n",
    "\n",
    "# Convertir las columnas de tiempos a numérico:\n",
    "# Si en algún caso se hubiera almacenado \"-\" (por ejemplo, en 'tiempo_gpu' cuando la GPU no está disponible),\n",
    "# lo reemplazamos por NaN.\n",
    "df['tiempo_cpu'] = pd.to_numeric(df['tiempo_cpu'], errors='coerce')\n",
    "df['tiempo_gpu'] = df['tiempo_gpu'].replace(\"-\", np.nan)\n",
    "df['tiempo_gpu'] = pd.to_numeric(df['tiempo_gpu'], errors='coerce')\n",
    "\n",
    "# Calcular la media de los tiempos agrupando por 'tamaño'\n",
    "mean_times = df.groupby('tamaño')[['tiempo_cpu', 'tiempo_gpu']].mean().reset_index()\n",
    "\n",
    "# Para ordenar de forma numérica, extraemos el ancho a partir del string (formato \"anchoxalto\")\n",
    "mean_times['size_num'] = mean_times['tamaño'].apply(lambda s: int(s.split(\"x\")[0]) if \"x\" in s else None)\n",
    "\n",
    "# Ordenar los datos de menor a mayor según el ancho extraído y eliminar la columna auxiliar\n",
    "mean_times = mean_times.sort_values('size_num').drop('size_num', axis=1).reset_index(drop=True)\n",
    "\n",
    "logging.debug(\"Media calculada\")\n",
    "logging.info(f\"Media de tiempos por tamaño:\\n{mean_times}\")\n",
    "\n",
    "\n"
   ]
  },
  {
   "cell_type": "markdown",
   "metadata": {},
   "source": [
    "### 4 Metricas nuevas y plots de datos\n",
    "- Dividimos la media de tiempo de CPU entre el tiempo de ejecucion de GPU y sacamos la cantidad de veces que la GPU es más rapida que la CPU\n",
    "\n",
    "`nota`**Si no tenemos GPU no podremos generar un plot nuevo**"
   ]
  },
  {
   "cell_type": "code",
   "execution_count": 27,
   "metadata": {},
   "outputs": [
    {
     "name": "stderr",
     "output_type": "stream",
     "text": [
      "2025-02-11 20:10:21 - INFO - Numero de veces mas rapido la GPU que la CPU \n",
      "       tamaño  Veces mas rapido\n",
      "0    224x224          4.554854\n",
      "1    512x512         17.889245\n",
      "2  1024x1024         24.367929\n",
      "3  2048x2048         26.125058\n",
      "4  4096x4096         28.966577\n"
     ]
    },
    {
     "data": {
      "image/png": "[encoded data removed]",
      "text/plain": [
       "<Figure size 1000x500 with 1 Axes>"
      ]
     },
     "metadata": {},
     "output_type": "display_data"
    },
    {
     "name": "stderr",
     "output_type": "stream",
     "text": [
      "2025-02-11 20:10:21 - DEBUG - Gráfico 1 mostrado. \n"
     ]
    }
   ],
   "source": [
    "\n",
    "\n",
    "mean_times['Total (s)'] = mean_times['tiempo_cpu'] + mean_times['tiempo_gpu']\n",
    "mean_times['Veces mas rapido'] = mean_times['tiempo_cpu'] / mean_times['tiempo_gpu']\n",
    "\n",
    "logs_a_mostrar = mean_times[['tamaño', 'Veces mas rapido']]\n",
    "logger.info(f\"Numero de veces mas rapido la GPU que la CPU \\n {logs_a_mostrar}\")\n",
    "\n",
    "positions = np.arange(len(mean_times))\n",
    "width = 0.35\n",
    "\n",
    "plt.figure(figsize=(10, 5))\n",
    "plt.bar(positions , mean_times['Veces mas rapido'], width, color='pink',  label='Veces mas rapido')\n",
    "\n",
    "plt.xlabel('Tamaño de Imagen')\n",
    "plt.ylabel('Número de Veces')\n",
    "plt.title('Veces mas rapido la GPU que la CPU')\n",
    "plt.xticks(positions, mean_times['tamaño'])\n",
    "plt.legend()\n",
    "plt.show()\n",
    "logger.debug(\"Gráfico 1 mostrado. \")\n"
   ]
  },
  {
   "cell_type": "markdown",
   "metadata": {},
   "source": [
    "### 5 Plot final\n",
    "- Generamos un plot con la media de cada tamaño de imagen con puntos y luego las unimos con una linea para la CPU y otra para la GPU"
   ]
  },
  {
   "cell_type": "code",
   "execution_count": 31,
   "metadata": {},
   "outputs": [
    {
     "name": "stderr",
     "output_type": "stream",
     "text": [
      "2025-02-11 20:11:30 - INFO - Media de datos \n",
      "       tamaño  tiempo_cpu  tiempo_gpu\n",
      "0    224x224    0.017305    0.003799\n",
      "1    512x512    0.057264    0.003201\n",
      "2  1024x1024    0.228997    0.009397\n",
      "3  2048x2048    0.886518    0.033934\n",
      "4  4096x4096    4.082020    0.140922\n"
     ]
    },
    {
     "data": {
      "image/png": "[encoded data removed]",
      "text/plain": [
       "<Figure size 1000x500 with 1 Axes>"
      ]
     },
     "metadata": {},
     "output_type": "display_data"
    },
    {
     "name": "stderr",
     "output_type": "stream",
     "text": [
      "2025-02-11 20:11:30 - DEBUG - Gráfico 2 mostrado.\n"
     ]
    }
   ],
   "source": [
    "\n",
    "logs_a_mostrar = mean_times[['tamaño', 'tiempo_cpu', 'tiempo_gpu']]\n",
    "logger.info(f\"Media de datos \\n {logs_a_mostrar}\")\n",
    "\n",
    "plt.figure(figsize=(10, 5))\n",
    "plt.plot(mean_times['tamaño'], mean_times['tiempo_cpu'], marker='o', linestyle='-', color='blue', label='Media CPU')\n",
    "plt.plot(mean_times['tamaño'], mean_times['tiempo_gpu'], marker='x', linestyle='-', color='orange', label='Media GPU')\n",
    "plt.xlabel('Tamaño de Imagen')\n",
    "plt.ylabel('Tiempo (s)')\n",
    "plt.title('Tiempos medios de procesamiento por tamaño de imagen')\n",
    "plt.legend()\n",
    "plt.show()\n",
    "logger.debug(\"Gráfico 2 mostrado.\")"
   ]
  },
  {
   "cell_type": "markdown",
   "metadata": {},
   "source": [
    "## CONCLUSIONES"
   ]
  }
 ],
 "metadata": {
  "kernelspec": {
   "display_name": "Python 3",
   "language": "python",
   "name": "python3"
  },
  "language_info": {
   "codemirror_mode": {
    "name": "ipython",
    "version": 3
   },
   "file_extension": ".py",
   "mimetype": "text/x-python",
   "name": "python",
   "nbconvert_exporter": "python",
   "pygments_lexer": "ipython3",
   "version": "3.9.13"
  }
 },
 "nbformat": 4,
 "nbformat_minor": 2
}
