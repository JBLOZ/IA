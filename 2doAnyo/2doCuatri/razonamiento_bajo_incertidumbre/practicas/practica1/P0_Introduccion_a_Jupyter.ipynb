{
 "cells": [
  {
   "cell_type": "markdown",
   "metadata": {
    "slideshow": {
     "slide_type": "slide"
    }
   },
   "source": [
    "# 1. Introducción a Jupyter Notebook\n",
    "\n",
    "Jupyter Notebook, antes conocido como IPython, es una herramienta de código abierto flexible y potente que ayuda a mantener una narrativa del proceso de codificación. El nombre Jupyter es un acrónimo de los tres lenguajes principales para los que fue diseñado: **JU**lia, **PYT**hon y **R**. El proyecto Jupyter soporta la ciencia de datos interactiva y la computación científica en más de 40 lenguajes de programación.\n",
    "\n",
    "Se puede pensar en el Notebook como en un diario de laboratorio o de campo que lleva un registro detallado de los pasos que se dan a medida que se desarrollan scripts y flujos de trabajo de programación. Al igual que con un cuaderno de campo, es importante desarrollar  habilidades, herramientas y buenas prácticas para mejorar la reproducibilidad, lo que facilitará las modificaciones, la colaboración y la publicación.\n",
    "\n",
    "Los Jupyter Notebooks **facilitan** una serie de tareas como:\n",
    "\n",
    "* **Documentación y programación alfabetizada**: combina *texto enriquecido* y *código* legible. El cuaderno en sí es una estructura de datos con metadatos que pueden leerse y analizarse fácilmente. \n",
    "* **Exploración y desarrollo**: Los pasos intermedios se guardan en un formato limpio y bien documentado.\n",
    "* **Comunicación/Colaboración**: Compartir la investigación con compañeros, colaboradores, revisores, público, etc.\n",
    "* **Publicación**: Es sencillo y rápido pasar de la fase de desarrollo a la de publicación.\n",
    "\n",
    "* Jupyter consta de varios componentes, con algunos de los cuales el usuario no interactúa directamente, pero que se debería conocer. En el **front-end**, el usuario trabajará con:\n",
    "\n",
    "1. **Aplicación Web:** Herramienta basada en navegador para el desarrollo interactivo de documentos de cuaderno. \n",
    "2. **Documento de Cuaderno:** Una representación de todo el contenido visible en la aplicación web, incluyendo entradas y salidas de los cálculos, texto explicativo, matemáticas, imágenes y representaciones multimedia de objetos. Estos documentos son internamente archivos JSON y se guardan con la extensión .ipynb. Como JSON es un formato de texto sin formato, pueden controlarse las versiones y compartirse.\n",
    "\n",
    "Jupyter también tiene algunos procesos **back-end**, incluyendo el:\n",
    "\n",
    "3. **Kernel:** Un proceso separado responsable de ejecutar el código de usuario. En nuestro caso trabajaremos con kernels de Python, aunque Jupyter también es capaz de interactuar con otros lenguajes de programación. \n",
    "4. **Servidor del cuaderno:** Se comunica con el kernel y enruta el lenguaje de programación Python al navegador web.\n",
    "\n",
    "Ha habido un desarrollo considerable tanto por parte del Proyecto Jupyter como de colaboradores externos que ha dado lugar a una multitud de opciones para los usuarios de Jupyter. "
   ]
  },
  {
   "cell_type": "markdown",
   "metadata": {},
   "source": [
    "# 2. Funcionamiento de Jupyter Notebook\n",
    "\n",
    "En esta sección, se muestra como ejecutar y guardar cuadernos, se debe familiarizar con su estructura y entender la interfaz. Para avanzar más rápidamente es necesario comprehender la terminología y características del entorno Jupyter.\n",
    "\n",
    "Hay dos formas de trabajar con Jupyter:\n",
    "1. Nativa (Navegador)\n",
    "2. IDE\n",
    "\n",
    "Al ejecutar Jupyter desde un terminal se abre el navegador con una dirección web en local.\n",
    "\n",
    "En el panel de control, diseñado específicamente para gestionar los cuadernos Jupyter, aparece un explorador de ficheros, donde se puede editar y crear cuadernos y sólo da acceso a los archivos y sub-carpetas contenidas en el directorio donde se ha iniciado Jupyter.\n",
    "\n",
    "Jupyter Notebooks se abre en el navegador pero está siendo alojado y ejecutado en tu máquina local con lo que los cuadernos NO están realmente en la web.\n",
    "\n",
    "Algunas de las tareas que se pueden realizar desde el panel de control de Jupyter Notebook son:\n",
    "1. Crear un Notebook nuevo (New).\n",
    "2. Abrir un Ntebook existente (Open).\n",
    "3. Renombrar (Rename).\n",
    "4. Duplicar (Duplicate).\n",
    "5. Borra (Delete).\n",
    "\n",
    "Para comprender el funcionamiento de Jupyter hay que saber que existen dos términos importantes: Las **celdas** definidas como contenedores de texto formateado o código ejecutable y el **kernel** que es un \"motor de computación\" que ejecuta el código contenido en una celda.\n",
    "\n",
    "Así pues, **las celdas forman el cuerpo de un cuaderno**. y las hay de dos tipos:\n",
    "\n",
    "1. **Celda de código**: contiene el código que se ejecutará en el kernel. Cuando el código se ejecuta, el cuaderno muestra la salida debajo de la celda de código que lo generó.\n",
    "2. **Celda Markdown**: contiene texto formateado usando el formato Markdown y muestra su salida en el lugar cuando se ejecuta la celda Markdown.\n",
    "\n",
    "Las celdas de código contienen código ejecutable en python mientras que las celdas Markdown contienen texto formateado. Markdown es un lenguaje de marcado ligero y fácil de aprender para formatear texto plano. Su sintaxis tiene una correspondencia con las etiquetas HTML, por lo que su visualización correcta depende de etiquetas básicas. Existen innumerables guías básicas de Markdown como por ejemplo __[Guia](https://www.markdownguide.org/cheat-sheet/)__.\n",
    "\n",
    "\n",
    "Hay varios entornos (IDE) que se pueden usar en alternativa al editor nativo de Jupyter. Dos de los más conocidos son el Visual Code Studio y PyCharm. Cada uno tiene un flujo de trabajo distinto, aunque el formato, kernels y salidas son exactamente iguales a la nativa, pues el motor de Python que es usado para todos ellos es el del entorno virtual.\n",
    "\n"
   ]
  },
  {
   "cell_type": "markdown",
   "metadata": {},
   "source": [
    "# Creando el primer Notebook\n",
    "\n",
    "Para familizarse con el entorno de un Notebook lo mejor es crear un bloc de notas sencillo desde cero. Algunas de las operaciones que se pueden realizar en este Notebook:\n",
    "\n",
    "1. Insertar y eliminar celdas.\n",
    "2. Cambiar el tipo de celda.\n",
    "3. Ejecutar una sola celda desde la barra de tareas y el método abreviado de teclado (<kbd>Mayús + Intro</kbd>)\n",
    "4. Ejecutar múltiples celdas, todas las celdas\n",
    "5. Reordenar celdas\n",
    "6. Detener una celda\n",
    "7. etc.\n",
    "\n",
    "En un Jupyter Notebook, siempre hay una celda \"activa\" resaltada con un borde de color. Se puede ejecutar una celda con Run o con la combinación de teclas <kbd>Ctrl + Enter</kbd>. Hay muchos otros comandos se que pueden utilizar con iconos, menús o con atajos de teclado. Igualmente, se puede alternar entre el modo de edición y el de comando con <kbd>Esc</kbd> y <kbd>Enter</kbd>, respectivamente.\n",
    "\n",
    "Se recomienda aprender los siguientes atajos de teclado (keyboard shortcuts):\n",
    "\n",
    "- Ejecución: <kbd>Shift+Enter</kbd> y <kbd>Ctrl+Enter</kbd>\n",
    "- Creación: <kbd>a</kbd> y <kbd>b</kbd>\n",
    "- Copiar y pegar celdas: <kbd>c</kbd> y  <kbd>v</kbd>\n",
    "- Cambio de tipo: <kbd>m</kbd> y <kbd>y</kbd>\n",
    "- Salvar: <kbd>Ctrl+s</kbd>\n",
    "\n",
    "Se puede consultar la lista completa de atajos con <kbd>h</kbd> o bajo el menú Help.\n",
    "\n",
    "## Editando y ejecutando un bloque de código\n",
    "\n",
    "Crea un Notebook nuevo y, en la celda que aparece añade un código nuevo"
   ]
  },
  {
   "cell_type": "code",
   "execution_count": 1,
   "metadata": {},
   "outputs": [
    {
     "name": "stdout",
     "output_type": "stream",
     "text": [
      "Hola Mundo\n"
     ]
    }
   ],
   "source": [
    "print('Hola Mundo')\n",
    "x=\"Razonamiento bajo Incertidumbre\""
   ]
  },
  {
   "cell_type": "markdown",
   "metadata": {},
   "source": [
    "La última línea de ejecución de un bloque se imprime como salida. Además, las variables y módulos que se crean/importan en una celda puede ser llamados desde otra celda. Se puede suprimir la salida terminando la expresión con ;"
   ]
  },
  {
   "cell_type": "code",
   "execution_count": 2,
   "metadata": {},
   "outputs": [
    {
     "data": {
      "text/plain": [
       "'Razonamiento bajo Incertidumbre'"
      ]
     },
     "execution_count": 2,
     "metadata": {},
     "output_type": "execute_result"
    }
   ],
   "source": [
    "x"
   ]
  },
  {
   "cell_type": "code",
   "execution_count": 3,
   "metadata": {},
   "outputs": [],
   "source": [
    "x;"
   ]
  },
  {
   "cell_type": "markdown",
   "metadata": {},
   "source": [
    "Cada vez que se ejecuta una celda, se actualiza el estado del proceso python subyacente, aunque no se actualice la visualización de otras celdas del cuaderno.\n",
    "Las magias son comandos especiales de IPython que se llama con el operador %. Por ejemplo podemos medir el tiempo de ejecución de un bloque utiliazndo"
   ]
  },
  {
   "cell_type": "code",
   "execution_count": 4,
   "metadata": {},
   "outputs": [
    {
     "name": "stdout",
     "output_type": "stream",
     "text": [
      "0123456789\n",
      "CPU times: user 239 µs, sys: 49 µs, total: 288 µs\n",
      "Wall time: 285 µs\n"
     ]
    }
   ],
   "source": [
    "%%time \n",
    "a = ''\n",
    "for i in range(10):\n",
    "    a += str(i)\n",
    "print(a)"
   ]
  },
  {
   "cell_type": "markdown",
   "metadata": {},
   "source": [
    "O mostrar las variables y librerías que hemos importado a nuestro entorno"
   ]
  },
  {
   "cell_type": "code",
   "execution_count": 5,
   "metadata": {},
   "outputs": [
    {
     "name": "stdout",
     "output_type": "stream",
     "text": [
      "a\t i\t x\t \n"
     ]
    }
   ],
   "source": [
    "%who"
   ]
  },
  {
   "cell_type": "markdown",
   "metadata": {},
   "source": [
    "O los comandos que hemos escrito"
   ]
  },
  {
   "cell_type": "code",
   "execution_count": 8,
   "metadata": {},
   "outputs": [
    {
     "name": "stdout",
     "output_type": "stream",
     "text": [
      "print('Hola Mundo')\n",
      "x=\"Razonamiento bajo Incertidumbre\"\n",
      "x\n",
      "x;\n",
      "%%time \n",
      "a = ''\n",
      "for i in range(10):\n",
      "    a += str(i)\n",
      "print(a)\n",
      "%who\n",
      "%history\n",
      "%run script_interesante.py\n",
      "%history\n"
     ]
    }
   ],
   "source": [
    "%history"
   ]
  },
  {
   "cell_type": "markdown",
   "metadata": {},
   "source": [
    "Podemos usar la magia %run para ejecutar un script externo\n",
    "\n",
    "%run script_interesante.py\n",
    "\n",
    "También podemos importar una función dentro de un módulo con\n",
    "\n",
    "from script_interesante import funcion_interesante\n",
    "\n",
    "funcion_interesante(10)\n",
    "\n",
    "Usando el operador ! podemos hacer llamados al sistema operativo dentro de nuestros bloques de código."
   ]
  },
  {
   "cell_type": "code",
   "execution_count": null,
   "metadata": {},
   "outputs": [],
   "source": [
    "!pip install matplotlib"
   ]
  },
  {
   "cell_type": "markdown",
   "metadata": {},
   "source": [
    "## Añadir celdas de texto - Markdown\n",
    "\n",
    "Para añadir una nueva celda Markdown al cuaderno se haga clic en el botón + de la barra de herramientas y se cambia el tipo de celda utilizando la lista desplegable de la barra de herramientas o el atajo de teclado <kbd>Esc + M</kbd>.\n",
    "\n",
    "Se puede ver el texto renderizado ejecutando la celda:\n",
    "- Pulsando el botón de reproducción de la barra de herramientas.\n",
    "- Utilizando el atajo de teclado <kbd>Shift + Enter</kbd>."
   ]
  },
  {
   "cell_type": "markdown",
   "metadata": {},
   "source": [
    "Las celdas Markdown utilizan el Lenguaje markdown para generar texto formateado:\n",
    "\n",
    "- inline styles\n",
    "  - *texto enfatizado*\n",
    "  - __texto fuertemente enfatizado__\n",
    "  - ___texto aún más enfatizado___\n",
    " \n",
    "\n",
    "Markdown también puede mostrar estilos de «código en línea», así como bloques de código:\n",
    "````\n",
    "def mycode():\n",
    "    ''' Aquí está mi código no ejecutable '''\n",
    "    pass\n",
    "````\n"
   ]
  },
  {
   "cell_type": "markdown",
   "metadata": {},
   "source": [
    "Igualmente, las celdas Markdown pueden contener listas numeradas o no numeradas\n",
    "\n",
    "- list item 1\n",
    "- list item 2\n",
    "\n",
    "1. numbered item 1\n",
    "2. numbered item 2\n",
    "\n",
    "Incluso sublistas \n",
    "- list item\n",
    "   - sublist item\n",
    " \n",
    "Pueden contener enlaces en textos\n",
    "\n",
    "[texto][(URL o path)\n",
    "\n",
    "O en imágenes \n",
    "\n",
    "[imagen](URL o path)\n",
    "\n",
    "Las expresiones matemáticas se pueden representar en línea envolviendo una expresión LaTeX (sin espacios)  $e^x=\\sum_{i=0}^\\infty \\frac{1}{i!}x^i$, en una línea nueva con $$e^x=\\sum_{i=0}^\\infty \\frac{1}{i!}x^i$$\n",
    "\n",
    "\n",
    "\n"
   ]
  }
 ],
 "metadata": {
  "celltoolbar": "Slideshow",
  "kernelspec": {
   "display_name": "Python 3 (ipykernel)",
   "language": "python",
   "name": "python3"
  },
  "language_info": {
   "codemirror_mode": {
    "name": "ipython",
    "version": 3
   },
   "file_extension": ".py",
   "mimetype": "text/x-python",
   "name": "python",
   "nbconvert_exporter": "python",
   "pygments_lexer": "ipython3",
   "version": "3.12.1"
  },
  "widgets": {
   "state": {},
   "version": "1.1.2"
  }
 },
 "nbformat": 4,
 "nbformat_minor": 4
}
