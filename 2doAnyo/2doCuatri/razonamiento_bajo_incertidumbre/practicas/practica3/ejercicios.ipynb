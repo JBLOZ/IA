{
    "cells": [
        {
            "cell_type": "markdown",
            "metadata": {},
            "source": [
                "# Ejercicios de Probabilidad\n",
                "\n",
                "En este notebook se resuelven los 5 primeros ejercicios de la práctica."
            ]
        },
        {
            "cell_type": "code",
            "execution_count": 1,
            "metadata": {},
            "outputs": [
                {
                    "name": "stdout",
                    "output_type": "stream",
                    "text": [
                        "Número total de resultados: 216\n",
                        "Espacio muestral: [(1, 1, 1), (1, 1, 2), (1, 1, 3), (1, 1, 4), (1, 1, 5), (1, 1, 6), (1, 2, 1), (1, 2, 2), (1, 2, 3), (1, 2, 4), (1, 2, 5), (1, 2, 6), (1, 3, 1), (1, 3, 2), (1, 3, 3), (1, 3, 4), (1, 3, 5), (1, 3, 6), (1, 4, 1), (1, 4, 2), (1, 4, 3), (1, 4, 4), (1, 4, 5), (1, 4, 6), (1, 5, 1), (1, 5, 2), (1, 5, 3), (1, 5, 4), (1, 5, 5), (1, 5, 6), (1, 6, 1), (1, 6, 2), (1, 6, 3), (1, 6, 4), (1, 6, 5), (1, 6, 6), (2, 1, 1), (2, 1, 2), (2, 1, 3), (2, 1, 4), (2, 1, 5), (2, 1, 6), (2, 2, 1), (2, 2, 2), (2, 2, 3), (2, 2, 4), (2, 2, 5), (2, 2, 6), (2, 3, 1), (2, 3, 2), (2, 3, 3), (2, 3, 4), (2, 3, 5), (2, 3, 6), (2, 4, 1), (2, 4, 2), (2, 4, 3), (2, 4, 4), (2, 4, 5), (2, 4, 6), (2, 5, 1), (2, 5, 2), (2, 5, 3), (2, 5, 4), (2, 5, 5), (2, 5, 6), (2, 6, 1), (2, 6, 2), (2, 6, 3), (2, 6, 4), (2, 6, 5), (2, 6, 6), (3, 1, 1), (3, 1, 2), (3, 1, 3), (3, 1, 4), (3, 1, 5), (3, 1, 6), (3, 2, 1), (3, 2, 2), (3, 2, 3), (3, 2, 4), (3, 2, 5), (3, 2, 6), (3, 3, 1), (3, 3, 2), (3, 3, 3), (3, 3, 4), (3, 3, 5), (3, 3, 6), (3, 4, 1), (3, 4, 2), (3, 4, 3), (3, 4, 4), (3, 4, 5), (3, 4, 6), (3, 5, 1), (3, 5, 2), (3, 5, 3), (3, 5, 4), (3, 5, 5), (3, 5, 6), (3, 6, 1), (3, 6, 2), (3, 6, 3), (3, 6, 4), (3, 6, 5), (3, 6, 6), (4, 1, 1), (4, 1, 2), (4, 1, 3), (4, 1, 4), (4, 1, 5), (4, 1, 6), (4, 2, 1), (4, 2, 2), (4, 2, 3), (4, 2, 4), (4, 2, 5), (4, 2, 6), (4, 3, 1), (4, 3, 2), (4, 3, 3), (4, 3, 4), (4, 3, 5), (4, 3, 6), (4, 4, 1), (4, 4, 2), (4, 4, 3), (4, 4, 4), (4, 4, 5), (4, 4, 6), (4, 5, 1), (4, 5, 2), (4, 5, 3), (4, 5, 4), (4, 5, 5), (4, 5, 6), (4, 6, 1), (4, 6, 2), (4, 6, 3), (4, 6, 4), (4, 6, 5), (4, 6, 6), (5, 1, 1), (5, 1, 2), (5, 1, 3), (5, 1, 4), (5, 1, 5), (5, 1, 6), (5, 2, 1), (5, 2, 2), (5, 2, 3), (5, 2, 4), (5, 2, 5), (5, 2, 6), (5, 3, 1), (5, 3, 2), (5, 3, 3), (5, 3, 4), (5, 3, 5), (5, 3, 6), (5, 4, 1), (5, 4, 2), (5, 4, 3), (5, 4, 4), (5, 4, 5), (5, 4, 6), (5, 5, 1), (5, 5, 2), (5, 5, 3), (5, 5, 4), (5, 5, 5), (5, 5, 6), (5, 6, 1), (5, 6, 2), (5, 6, 3), (5, 6, 4), (5, 6, 5), (5, 6, 6), (6, 1, 1), (6, 1, 2), (6, 1, 3), (6, 1, 4), (6, 1, 5), (6, 1, 6), (6, 2, 1), (6, 2, 2), (6, 2, 3), (6, 2, 4), (6, 2, 5), (6, 2, 6), (6, 3, 1), (6, 3, 2), (6, 3, 3), (6, 3, 4), (6, 3, 5), (6, 3, 6), (6, 4, 1), (6, 4, 2), (6, 4, 3), (6, 4, 4), (6, 4, 5), (6, 4, 6), (6, 5, 1), (6, 5, 2), (6, 5, 3), (6, 5, 4), (6, 5, 5), (6, 5, 6), (6, 6, 1), (6, 6, 2), (6, 6, 3), (6, 6, 4), (6, 6, 5), (6, 6, 6)]\n"
                    ]
                }
            ],
            "source": [
                "# Ejercicio 1\n",
                "# Determinar por enumeración el espacio muestral del lanzamiento triple de un dado.\n",
                "dado = [1, 2, 3, 4, 5, 6]\n",
                "espacio_muestral = [(a, b, c) for a in dado for b in dado for c in dado]\n",
                "print('Número total de resultados:', len(espacio_muestral))\n",
                "print('Espacio muestral:', espacio_muestral)"
            ]
        },
        {
            "cell_type": "code",
            "execution_count": 2,
            "metadata": {},
            "outputs": [
                {
                    "name": "stdout",
                    "output_type": "stream",
                    "text": [
                        "Probabilidad de elegir una carta roja: 0.5\n"
                    ]
                }
            ],
            "source": [
                "# Ejercicio 2\n",
                "# En una baraja de poker de 52 cartas, la probabilidad de elegir una carta roja.\n",
                "# Hay 26 cartas rojas (corazones y diamantes)\n",
                "total_cartas = 52\n",
                "cartas_rojas = 26\n",
                "probabilidad_roja = cartas_rojas / total_cartas\n",
                "print('Probabilidad de elegir una carta roja:', probabilidad_roja)"
            ]
        },
        {
            "cell_type": "code",
            "execution_count": 3,
            "metadata": {},
            "outputs": [
                {
                    "name": "stdout",
                    "output_type": "stream",
                    "text": [
                        "Probabilidad de sacar el as de picas dos veces seguidas: 0.00036982248520710064\n"
                    ]
                }
            ],
            "source": [
                "# Ejercicio 3\n",
                "# Probabilidad de sacar el as de picas dos veces seguidas (con reposición).\n",
                "# En una baraja de 52 cartas, solo 1 es as de picas.\n",
                "p_as_picas = 1 / 52\n",
                "prob_dos_as = p_as_picas * p_as_picas\n",
                "print('Probabilidad de sacar el as de picas dos veces seguidas:', prob_dos_as)"
            ]
        },
        {
            "cell_type": "code",
            "execution_count": 4,
            "metadata": {},
            "outputs": [
                {
                    "name": "stdout",
                    "output_type": "stream",
                    "text": [
                        "Probabilidad de suspender en Matemáticas: 0.13999999999999996\n"
                    ]
                }
            ],
            "source": [
                "# Ejercicio 4\n",
                "# Se tiene que la probabilidad marginal de aprobar cada examen es 0.67, por lo tanto la probabilidad\n",
                "# de suspender (fallar) en cualquier examen sería 1 - 0.67 = 0.33.\n",
                "# Dado que P(suspender Econom&iacute;a)=0.10 y P(suspender Valenciano)=0.09, se asume que la suma de los\n",
                "# suspendidos en Econom&iacute;a y Valenciano es 0.10+0.09=0.19. \n",
                "# Entonces, la probabilidad de suspender en Matem&aacute;ticas es:\n",
                "\n",
                "p_fail_total = 1 - 0.67   # 0.33\n",
                "p_fail_economia = 0.10\n",
                "p_fail_valenciano = 0.09\n",
                "p_fail_matematicas = p_fail_total - (p_fail_economia + p_fail_valenciano)\n",
                "\n",
                "print('Probabilidad de suspender en Matemáticas:', p_fail_matematicas)"
            ]
        },
        {
            "cell_type": "code",
            "execution_count": 5,
            "metadata": {},
            "outputs": [
                {
                    "name": "stdout",
                    "output_type": "stream",
                    "text": [
                        "Probabilidad de volver a sacar la misma carta: 0.019230769230769232\n"
                    ]
                }
            ],
            "source": [
                "# Ejercicio 5\n",
                "# Se saca una carta de una baraja, se vuelve a colocar y se baraja.\n",
                "# La probabilidad de volver a sacar la misma carta es 1/52.\n",
                "\n",
                "prob_misma_carta = 1 / 52\n",
                "print('Probabilidad de volver a sacar la misma carta:', prob_misma_carta)"
            ]
        },
        {
            "cell_type": "code",
            "execution_count": null,
            "metadata": {},
            "outputs": [],
            "source": []
        }
    ],
    "metadata": {
        "kernelspec": {
            "display_name": "Python 3",
            "language": "python",
            "name": "python3"
        },
        "language_info": {
            "codemirror_mode": {
                "name": "ipython",
                "version": 3
            },
            "file_extension": ".py",
            "mimetype": "text/x-python",
            "name": "python",
            "nbconvert_exporter": "python",
            "pygments_lexer": "ipython3",
            "version": "3.12.1"
        }
    },
    "nbformat": 4,
    "nbformat_minor": 4
}
