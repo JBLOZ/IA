{
 "cells": [
  {
   "cell_type": "markdown",
   "metadata": {
    "slideshow": {
     "slide_type": "slide"
    }
   },
   "source": [
    "# 1. ERRORES\n",
    "\n",
    "## Introducción\n",
    "\n",
    "Primeramente hay que instalar las librerias necesarias ern python.  "
   ]
  },
  {
   "cell_type": "code",
   "execution_count": 2,
   "metadata": {},
   "outputs": [],
   "source": [
    "try:\n",
    "    import math\n",
    "except ImportError:\n",
    "    !pip install math\n",
    "    import math\n",
    "\n",
    "try:\n",
    "    import matplotlib as plt\n",
    "except ImportError:\n",
    "    !pip install matplotlib\n",
    "    import matplotlib as plt\n",
    "\n",
    "try:\n",
    "    import numpy as np\n",
    "except ImportError:\n",
    "    !pip install numpy\n",
    "    import numpy as np"
   ]
  },
  {
   "cell_type": "markdown",
   "metadata": {},
   "source": [
    "Empezamos con ejemplos sencillos de diferentes partes del tema de Errores.\n",
    "\n",
    "### Redondeo"
   ]
  },
  {
   "cell_type": "code",
   "execution_count": 3,
   "metadata": {},
   "outputs": [
    {
     "name": "stdout",
     "output_type": "stream",
     "text": [
      "\n",
      "Los números después del redondeo a 4 cifras significativas son\n",
      "\n",
      "    1.658300       1.658\n",
      "'\n",
      "    30.056700       30.06\n",
      "\n",
      "    0.859378       0.8594\n",
      "\n",
      "    3.141590       3.142\n",
      "\n"
     ]
    }
   ],
   "source": [
    "#redondeo a 4 cifras significativas\n",
    "a1=1.6583\n",
    "a2=30.0567\n",
    "a3=0.859378\n",
    "a4=3.14159\n",
    "print(\"\\nLos números después del redondeo a 4 cifras significativas son\\n\")\n",
    "print(\"    %f       %.4g\\n'\" %(a1,a1))\n",
    "print(\"    %f       %.4g\\n\" %(a2,a2))\n",
    "print(\"    %f       %.4g\\n\" %(a3,a3))\n",
    "print(\"    %f       %.4g\\n\" %(a4,a4))"
   ]
  },
  {
   "cell_type": "markdown",
   "metadata": {},
   "source": [
    "En el siguiente ejemplo se calcula el error absoluto y relativo de dos valores"
   ]
  },
  {
   "cell_type": "code",
   "execution_count": 3,
   "metadata": {},
   "outputs": [
    {
     "name": "stdout",
     "output_type": "stream",
     "text": [
      "Error Absoluto = 0.0012645 \n",
      "Error Relativo = 0.0004025\n"
     ]
    }
   ],
   "source": [
    "X=3.1428571 #valor aproximado de pi\n",
    "T_X=3.1415926 # vslor verdadero de pi\n",
    "A_E=abs(T_X-X) # error absoluto\n",
    "R_E=A_E/T_X # error relativo\n",
    "print(\"Error Absoluto = %0.7f \\nError Relativo = %0.7f\" %(A_E,R_E))"
   ]
  },
  {
   "cell_type": "markdown",
   "metadata": {},
   "source": [
    "En el siguiente ejemplo se calcula el mejor error absoluto (el mas pequeño)"
   ]
  },
  {
   "cell_type": "code",
   "execution_count": 4,
   "metadata": {},
   "outputs": [
    {
     "name": "stdout",
     "output_type": "stream",
     "text": [
      "La mejor aproximación de 1/3 es 0.330000\n"
     ]
    }
   ],
   "source": [
    "X=1/3 # el número\n",
    "X1=0.30 # aproximacion 1\n",
    "X2=0.33 # aproximacion 2\n",
    "X3=0.34 # aproximacion 3\n",
    "E1=abs(X-X1)\n",
    "E2=abs(X-X2)\n",
    "E3=abs(X-X3)\n",
    "if E1<E2:\n",
    "        if E1<E3:\n",
    "                B_A=X1\n",
    "elif E2<E1:\n",
    "          if E2<E3:\n",
    "                   B_A=X2\n",
    "elif E3<E2:\n",
    "           if E3<E1:\n",
    "                    B_A=X3\n",
    "print(\"La mejor aproximación de 1/3 es %f\" %(B_A))"
   ]
  },
  {
   "cell_type": "code",
   "execution_count": 5,
   "metadata": {},
   "outputs": [
    {
     "name": "stdout",
     "output_type": "stream",
     "text": [
      "El error absoluto de 8.67 es:%0.4f 0.02999999999999936\n",
      "El error relativo del número es:0.0035\n"
     ]
    }
   ],
   "source": [
    "# error relativo que se comete al redondear un número a una cifra decimal\n",
    "n=8.67\n",
    "N=1 #the no is rounded to one decimal places\n",
    "n_r= rounded_number = round(n, 1)\n",
    "E_A=abs(n-n_r)\n",
    "print(\"El error absoluto de\", n, \"es:%0.4f\", (E_A))\n",
    "E_R=E_A/n\n",
    "print(\"El error relativo del número es:%0.4f\" %(E_R))"
   ]
  },
  {
   "cell_type": "code",
   "execution_count": 6,
   "metadata": {},
   "outputs": [
    {
     "name": "stdout",
     "output_type": "stream",
     "text": [
      "a) Error Absoluto: 0.00021356237309522186\n",
      " Error Relativo: 0.00015101140222192286\n",
      "b) Error Absoluto: 14.544268632989315\n",
      "   Error Relativo: 0.010497822704619136\n",
      "c) Error Absoluto: 3343.1271580516477\n",
      "   Error Relativo: 0.009212762230080598\n"
     ]
    }
   ],
   "source": [
    "a = (2)**(1/2)\n",
    "atilda = 1.414\n",
    "absolute_error_a = abs(atilda - a)\n",
    "print(\"a) Error Absoluto:\",absolute_error_a)\n",
    "print(\" Error Relativo:\",absolute_error_a / a)\n",
    "b = (10)**np.pi\n",
    "btilda = 1400\n",
    "absolute_error_b = abs(b-btilda)\n",
    "print(\"b) Error Absoluto:\",absolute_error_b)\n",
    "print(\"   Error Relativo:\",absolute_error_b/b)\n",
    "c = math.factorial(9)\n",
    "ctilda = ((18*np.pi)**(1/2))*(9/np.e)**9\n",
    "absolute_error_c = abs(c-ctilda)\n",
    "print(\"c) Error Absoluto:\",absolute_error_c)\n",
    "print(\"   Error Relativo:\",absolute_error_c/c)"
   ]
  },
  {
   "cell_type": "markdown",
   "metadata": {},
   "source": [
    "En este caso vamos a calcular el error absoluto de la suma de tres números"
   ]
  },
  {
   "cell_type": "code",
   "execution_count": 7,
   "metadata": {},
   "outputs": [
    {
     "name": "stdout",
     "output_type": "stream",
     "text": [
      "La suma de las raíces cuadradas es 6.613870096133258\n",
      "El error absoluto es: 0.000130 \n",
      "\n"
     ]
    }
   ],
   "source": [
    "s=math.sqrt(3)+math.sqrt(5)+math.sqrt(7)  #la suma de las raices de 3,5,7\n",
    "n=4 # decimales a redondear\n",
    "n_1= rounded_number = round(math.sqrt(3), 4)\n",
    "n_2= rounded_number = round(math.sqrt(5), 4)\n",
    "n_3= rounded_number = round(math.sqrt(7), 4)\n",
    "Ea1= abs(math.sqrt(3)-n_1) #error absoluto\n",
    "Ea2= abs(math.sqrt(5)-n_2) #error absoluto\n",
    "Ea3= abs(math.sqrt(7)-n_3) #error absoluto\n",
    "print(\"La suma de las raíces cuadradas es\",s)\n",
    "print(\"El error absoluto es: %f \\n\" %(Ea1+Ea2+Ea3))"
   ]
  },
  {
   "cell_type": "markdown",
   "metadata": {},
   "source": [
    "Vamos a construir una función que calcule el error absoluto medio (MAE) de un array numérico"
   ]
  },
  {
   "cell_type": "code",
   "execution_count": 8,
   "metadata": {},
   "outputs": [
    {
     "name": "stdout",
     "output_type": "stream",
     "text": [
      "Error Absoluto Medio: 1.8\n"
     ]
    }
   ],
   "source": [
    "# Calcula el error absoluto medio de una lista numérica\n",
    "def mean_absolute_error(actual, calculated):\n",
    "  \"\"\"\n",
    "  Calcula el error absoluto medio de entre dos listas (MAE).\n",
    "\n",
    "  Devuelve:\n",
    "    MAE.\n",
    "  \"\"\"\n",
    "  if len(actual) != len(calculated):\n",
    "    raise ValueError(\"Las listas deben ser de la misma longitud.\")\n",
    "\n",
    "# zip crea tuplas terables con los parámetros\n",
    "  errors = [abs(a - c) for a, c in zip(actual, calculated)]\n",
    "  return sum(errors) / len(actual)\n",
    "\n",
    "# Example usage:\n",
    "actual = [2, 3, 5, 5, 9]\n",
    "calculated = [3, 3, 8, 7, 6]\n",
    "\n",
    "mae = mean_absolute_error(actual, calculated)\n",
    "print(f\"Error Absoluto Medio: {mae}\")"
   ]
  },
  {
   "cell_type": "markdown",
   "metadata": {},
   "source": [
    "Una cota del error absoluto es \n",
    "$$\\Delta = |A -a| \\leq \\frac{1}{2}10^{m-n+1}, $$ con $n$ número de digitos exactos y $m$ es la primera potencia de 10 de su descomposicion decimal.\n",
    "\n",
    "Si sabemos que el número $a = 23.071937$ contiene cinco cifras exactas. Determinar su error absoluto."
   ]
  },
  {
   "cell_type": "code",
   "execution_count": 9,
   "metadata": {},
   "outputs": [
    {
     "name": "stdout",
     "output_type": "stream",
     "text": [
      "El error absoluto del número  23.071937  es:  0.0005\n"
     ]
    }
   ],
   "source": [
    "m=1\n",
    "n=5\n",
    "num = 23.071937\n",
    "error=0.5*10**(m-n+1)\n",
    "print(\"El error absoluto del número \",num,\" es: \",error)"
   ]
  },
  {
   "cell_type": "markdown",
   "metadata": {},
   "source": [
    "Ejercicios\n",
    "\n",
    "1. Crea una función que admita como parámetros un número y las cifras a redondear y devuelva el número introducido redondeado.\n",
    "\n",
    "2. Crea una función que admita dos números (verdadero y aproximado) y calcule el error absoluto.\n",
    "\n",
    "3. Crea una función que admita dos números (verdadero y aproximado) y calcule el error relativo.\n",
    "\n",
    "4. Crea una función que admita dos vectores numéricos (verdadero y aproximado) y las cifras a redondear y calcule el error absoluto de la suma de los números.\n",
    "\n",
    "5. Añadele a la función anterior el código necesario para que calcule tambien el error relativo.\n",
    "  \n",
    "6. Crea una función que admita dos vectores numéricos (verdadero y aproximado) y las cifras a redondear y calcule el error relativo del producto de los números.\n",
    "\n",
    "7. Crea una función que admita dos números y las cifras a redondear y cacule el error relativo del cociente.\n",
    "\n",
    "8. Una encuesta estima que el ingreso mensual promedio de una muestra de 100 personas es de 3000€ con un error absoluto de 100€. Calcule el error relativo (en porcentaje) para las estimaciones de ingresos.\n",
    "9. En un estudio se miden los tiempos de reacción de 80 participantes y se descubre que el tiempo de reacción medio es de 0,5 segundos con un error absoluto de 0,05 segundos. Calcule el error relativo (en porcentaje) para los tiempos de reacción.\n",
    "\n",
    "10. Al realizar una conversión de unidades, un alumno escribe 10 millas es igual a 16,096 kilómetros. Sin embargo, el valor aceptado es 16,093 kilómetros. ¿Cuál es el error relativo cometido por el alumno?\n",
    "\n",
    "11. A un chico se le pide que mida la altura de un árbol y acaba encontrando que la altura del árbol es de 10,02 pies. La altura real del árbol es de 10,00 pies. Calcula el error relativo en la medición del chico.\n",
    "\n",
    "12. ¿Cuál es el error relativo cuando una chica escribe 1.000 atm es igual a 103,1 kPa mientras que la conversión correcta es 1.000 atm = 101,3 kPa?\n",
    "\n",
    "13. Construye una función que calcule el error absoluto medio de un array numérico.\n",
    "\n",
    "14. Crea una función que admita un vector y una cota del error absoluto y devuelva el número de cifras exactas de cada número del vector.\n",
    "\n",
    "15. Crea una función que admita un vector y una cota del error relativo y devuelva el número de cifras exactas de cada número del vector.\n",
    "\n",
    "16. Para medir la altura de un árbol, $L$, se mide la longitud de su sombra, $L_1$, la altura de un objeto de referencia, $L_2$ y la longitud de su sombra, $L_3$. Realizadas las medidas resultan: $L_1 = 200 \\pm 2$ cm; $L_2 = 100 \\pm 0.4$; $L_3 = 10.3 \\pm 0.2$. Calcula $L$ mediante la razón de semejamza $$ L = L_{1}\\frac{L_2}{L_3}$$\n",
    "\n",
    "17. Crea una función que tenga como parámetro $f(x)$, el valor verdadero y el error absoluto de la variable y calcule el error absoluto de la función.\n",
    "\n",
    "18. Crea una función que tenga como parámetro $f(x,y)$, el valor verdadero y el error absoluto de las variables $x, y$ y calcule el error absoluto de la función de dos variables.\n",
    "\n",
    "19. Dados $f(x,y,z) = \\frac{5xy^2}{z^2}$, encontrar el error absoluto en la evaluacion de $f(x,y,z)$ para $x = y = z = 0.1$ y errores $\\Delta x = \\Delta y = \\Delta z = 0.1 $.   \n"
   ]
  },
  {
   "cell_type": "markdown",
   "metadata": {},
   "source": [
    "## ejercicio 1"
   ]
  },
  {
   "cell_type": "code",
   "execution_count": 4,
   "metadata": {},
   "outputs": [
    {
     "name": "stdout",
     "output_type": "stream",
     "text": [
      "El número 3.141592653589793 redondeado a 4 cifras es: 3.1416\n"
     ]
    }
   ],
   "source": [
    "def redondear_numero(numero, cifras):\n",
    "    return round(numero, cifras)\n",
    "\n",
    "num = math.pi\n",
    "cifras = 4\n",
    "print(f\"El número {num} redondeado a {cifras} cifras es: {redondear_numero(num, cifras)}\")"
   ]
  },
  {
   "cell_type": "markdown",
   "metadata": {},
   "source": [
    "## ejercicio 2"
   ]
  },
  {
   "cell_type": "code",
   "execution_count": 9,
   "metadata": {},
   "outputs": [
    {
     "name": "stdout",
     "output_type": "stream",
     "text": [
      "El error absoluto entre 3.141592653589793 y 3.14 es: 0.0015926535897929917\n"
     ]
    }
   ],
   "source": [
    "def error_absoluto(valor_verdadero, valor_aproximado):\n",
    "    return abs(valor_verdadero - valor_aproximado)\n",
    "\n",
    "valor_real = math.pi\n",
    "valor_aprox = 3.14\n",
    "print(f\"El error absoluto entre {valor_real} y {valor_aprox} es: {error_absoluto(valor_real, valor_aprox)}\")"
   ]
  },
  {
   "cell_type": "markdown",
   "metadata": {},
   "source": [
    "## ejercicio 3"
   ]
  },
  {
   "cell_type": "code",
   "execution_count": 8,
   "metadata": {},
   "outputs": [
    {
     "name": "stdout",
     "output_type": "stream",
     "text": [
      "El error relativo entre 3.141592653589793 y 3.14 es: 0.0005069573828972128\n",
      "En porcentaje: 0.0507%\n"
     ]
    }
   ],
   "source": [
    "def error_relativo(valor_verdadero, valor_aproximado):\n",
    "    return abs(valor_verdadero - valor_aproximado) / abs(valor_verdadero)\n",
    "\n",
    "valor_real = math.pi\n",
    "valor_aprox = 3.14\n",
    "err_rel = error_relativo(valor_real, valor_aprox)\n",
    "print(f\"El error relativo entre {valor_real} y {valor_aprox} es: {err_rel}\")\n",
    "print(f\"En porcentaje: {err_rel * 100:.4f}%\")"
   ]
  },
  {
   "cell_type": "markdown",
   "metadata": {},
   "source": [
    "## ejercicio 4"
   ]
  },
  {
   "cell_type": "code",
   "execution_count": 11,
   "metadata": {},
   "outputs": [
    {
     "name": "stdout",
     "output_type": "stream",
     "text": [
      "Suma de valores reales: 6.613870096133258\n",
      "Suma de valores aproximados redondeados a 3 cifras: 6.614\n",
      "Error absoluto de la suma: 0.00012990386674172072\n"
     ]
    }
   ],
   "source": [
    "def error_absoluto_suma(vector_verdadero, vector_aproximado, cifras):\n",
    "    if len(vector_verdadero) != len(vector_aproximado):\n",
    "        raise ValueError(\"Los vectores deben tener la misma longitud\")\n",
    "    \n",
    "    suma_verdadera = sum(vector_verdadero)\n",
    "    suma_aproximada = sum([round(x, cifras) for x in vector_aproximado])\n",
    "    \n",
    "    return abs(suma_verdadera - suma_aproximada)\n",
    "\n",
    "v_aprox = [1.732, 2.236, 2.646]\n",
    "v_real = [math.sqrt(3), math.sqrt(5), math.sqrt(7)]\n",
    "cifras = 3\n",
    "\n",
    "print(f\"Suma de valores reales: {sum(v_real)}\")\n",
    "print(f\"Suma de valores aproximados redondeados a {cifras} cifras: {sum([round(x, cifras) for x in v_aprox])}\")\n",
    "print(f\"Error absoluto de la suma: {error_absoluto_suma(v_real, v_aprox, cifras)}\")"
   ]
  },
  {
   "cell_type": "markdown",
   "metadata": {},
   "source": [
    "## ejercicio 5"
   ]
  },
  {
   "cell_type": "code",
   "execution_count": 10,
   "metadata": {},
   "outputs": [
    {
     "name": "stdout",
     "output_type": "stream",
     "text": [
      "Error absoluto de la suma: 0.00012990386674172072\n",
      "Error relativo de la suma: 1.9641127638365305e-05\n",
      "Error relativo en porcentaje: 0.0020%\n"
     ]
    }
   ],
   "source": [
    "def errores_suma(vector_verdadero, vector_aproximado, cifras):\n",
    "    if len(vector_verdadero) != len(vector_aproximado):\n",
    "        raise ValueError(\"Los vectores deben tener la misma longitud\")\n",
    "    \n",
    "    suma_verdadera = sum(vector_verdadero)\n",
    "    suma_aproximada = sum([round(x, cifras) for x in vector_aproximado])\n",
    "    \n",
    "    error_abs = abs(suma_verdadera - suma_aproximada)\n",
    "    error_rel = error_abs / abs(suma_verdadera)\n",
    "    \n",
    "    return (error_abs, error_rel)\n",
    "\n",
    "v_aprox = [1.732, 2.236, 2.646]\n",
    "v_real = [math.sqrt(3), math.sqrt(5), math.sqrt(7)]\n",
    "cifras = 3\n",
    "\n",
    "err_abs, err_rel = errores_suma(v_real, v_aprox, cifras)\n",
    "print(f\"Error absoluto de la suma: {err_abs}\")\n",
    "print(f\"Error relativo de la suma: {err_rel}\")\n",
    "print(f\"Error relativo en porcentaje: {err_rel * 100:.4f}%\")"
   ]
  },
  {
   "cell_type": "markdown",
   "metadata": {},
   "source": [
    "## ejercicio 6"
   ]
  },
  {
   "cell_type": "code",
   "execution_count": 12,
   "metadata": {},
   "outputs": [
    {
     "name": "stdout",
     "output_type": "stream",
     "text": [
      "Error relativo del producto: 0.00542534335848201\n",
      "Error relativo en porcentaje: 0.5425%\n"
     ]
    }
   ],
   "source": [
    "def error_relativo_producto(vector_verdadero, vector_aproximado, cifras):\n",
    "    if len(vector_verdadero) != len(vector_aproximado):\n",
    "        raise ValueError(\"Los vectores deben tener la misma longitud\")\n",
    "    \n",
    "    prod_verdadero = 1\n",
    "    for x in vector_verdadero:\n",
    "        prod_verdadero *= x\n",
    "        \n",
    "    prod_aproximado = 1\n",
    "    for x in vector_aproximado:\n",
    "        prod_aproximado *= round(x, cifras)\n",
    "    \n",
    "    error_abs = abs(prod_verdadero - prod_aproximado)\n",
    "    error_rel = error_abs / abs(prod_verdadero)\n",
    "    \n",
    "    return error_rel\n",
    "\n",
    "v_aprox = [1.5, 2.7, 3.2]\n",
    "v_real = [1.51, 2.68, 3.22]\n",
    "cifras = 2\n",
    "\n",
    "err_rel = error_relativo_producto(v_real, v_aprox, cifras)\n",
    "print(f\"Error relativo del producto: {err_rel}\")\n",
    "print(f\"Error relativo en porcentaje: {err_rel * 100:.4f}%\")"
   ]
  },
  {
   "cell_type": "markdown",
   "metadata": {},
   "source": [
    "## ejercicio 7"
   ]
  },
  {
   "cell_type": "code",
   "execution_count": 13,
   "metadata": {},
   "outputs": [
    {
     "name": "stdout",
     "output_type": "stream",
     "text": [
      "Error relativo del cociente: 0.015151515151515048\n",
      "Error relativo en porcentaje: 1.5152%\n"
     ]
    }
   ],
   "source": [
    "def error_relativo_cociente(numerador_real, denominador_real, numerador_aprox, denominador_aprox, cifras):\n",
    "    cociente_real = numerador_real / denominador_real\n",
    "    cociente_aprox = round(numerador_aprox, cifras) / round(denominador_aprox, cifras)\n",
    "    \n",
    "    error_abs = abs(cociente_real - cociente_aprox)\n",
    "    error_rel = error_abs / abs(cociente_real)\n",
    "    \n",
    "    return error_rel\n",
    "\n",
    "num_real = 10\n",
    "den_real = 3\n",
    "num_aprox = 10.05\n",
    "den_aprox = 2.97\n",
    "cifras = 2\n",
    "\n",
    "err_rel = error_relativo_cociente(num_real, den_real, num_aprox, den_aprox, cifras)\n",
    "print(f\"Error relativo del cociente: {err_rel}\")\n",
    "print(f\"Error relativo en porcentaje: {err_rel * 100:.4f}%\")"
   ]
  },
  {
   "cell_type": "markdown",
   "metadata": {},
   "source": [
    "## ejercicio 8"
   ]
  },
  {
   "cell_type": "code",
   "execution_count": 14,
   "metadata": {},
   "outputs": [
    {
     "name": "stdout",
     "output_type": "stream",
     "text": [
      "Para un ingreso promedio de 3000€ con un error absoluto de 100€:\n",
      "El error relativo es: 3.33%\n"
     ]
    }
   ],
   "source": [
    "def calcular_error_relativo_porcentaje(valor, error_absoluto):\n",
    "    return (error_absoluto / abs(valor)) * 100\n",
    "\n",
    "ingreso_promedio = 3000\n",
    "error_abs = 100\n",
    "\n",
    "error_rel_porcentaje = calcular_error_relativo_porcentaje(ingreso_promedio, error_abs)\n",
    "print(f\"Para un ingreso promedio de {ingreso_promedio}€ con un error absoluto de {error_abs}€:\")\n",
    "print(f\"El error relativo es: {error_rel_porcentaje:.2f}%\")"
   ]
  },
  {
   "cell_type": "markdown",
   "metadata": {},
   "source": [
    "## ejercicio 9"
   ]
  },
  {
   "cell_type": "code",
   "execution_count": 15,
   "metadata": {},
   "outputs": [
    {
     "name": "stdout",
     "output_type": "stream",
     "text": [
      "Para un tiempo de reacción de 0.5 segundos con un error absoluto de 0.05 segundos:\n",
      "El error relativo es: 10.00%\n"
     ]
    }
   ],
   "source": [
    "tiempo_reaccion = 0.5\n",
    "error_abs = 0.05\n",
    "\n",
    "error_rel_porcentaje = calcular_error_relativo_porcentaje(tiempo_reaccion, error_abs)\n",
    "print(f\"Para un tiempo de reacción de {tiempo_reaccion} segundos con un error absoluto de {error_abs} segundos:\")\n",
    "print(f\"El error relativo es: {error_rel_porcentaje:.2f}%\")"
   ]
  },
  {
   "cell_type": "markdown",
   "metadata": {},
   "source": [
    "## ejercicio 10"
   ]
  },
  {
   "cell_type": "code",
   "execution_count": 16,
   "metadata": {},
   "outputs": [
    {
     "name": "stdout",
     "output_type": "stream",
     "text": [
      "El error relativo en la conversión de millas a kilómetros es: 0.00018641645435904516\n",
      "En porcentaje: 0.018642%\n"
     ]
    }
   ],
   "source": [
    "def error_relativo_conversion(valor_correcto, valor_calculado):\n",
    "    return abs(valor_correcto - valor_calculado) / abs(valor_correcto)\n",
    "\n",
    "valor_correcto = 16.093\n",
    "valor_calculado = 16.096\n",
    "\n",
    "err_rel = error_relativo_conversion(valor_correcto, valor_calculado)\n",
    "print(f\"El error relativo en la conversión de millas a kilómetros es: {err_rel}\")\n",
    "print(f\"En porcentaje: {err_rel * 100:.6f}%\")"
   ]
  },
  {
   "cell_type": "markdown",
   "metadata": {},
   "source": [
    "## ejercicio 11"
   ]
  },
  {
   "cell_type": "code",
   "execution_count": 17,
   "metadata": {},
   "outputs": [
    {
     "name": "stdout",
     "output_type": "stream",
     "text": [
      "El error relativo en la medición de la altura del árbol es: 0.0019999999999999575\n",
      "En porcentaje: 0.20%\n"
     ]
    }
   ],
   "source": [
    "altura_real = 10.00\n",
    "altura_medida = 10.02\n",
    "\n",
    "err_rel = error_relativo_conversion(altura_real, altura_medida)\n",
    "print(f\"El error relativo en la medición de la altura del árbol es: {err_rel}\")\n",
    "print(f\"En porcentaje: {err_rel * 100:.2f}%\")"
   ]
  },
  {
   "cell_type": "markdown",
   "metadata": {},
   "source": [
    "## ejercicio 12"
   ]
  },
  {
   "cell_type": "code",
   "execution_count": 18,
   "metadata": {},
   "outputs": [
    {
     "name": "stdout",
     "output_type": "stream",
     "text": [
      "El error relativo en la conversión de presión es: 0.017769002961500465\n",
      "En porcentaje: 1.78%\n"
     ]
    }
   ],
   "source": [
    "presion_correcta = 101.3\n",
    "presion_calculada = 103.1\n",
    "\n",
    "err_rel = error_relativo_conversion(presion_correcta, presion_calculada)\n",
    "print(f\"El error relativo en la conversión de presión es: {err_rel}\")\n",
    "print(f\"En porcentaje: {err_rel * 100:.2f}%\")"
   ]
  },
  {
   "cell_type": "markdown",
   "metadata": {},
   "source": [
    "## ejercicio 13"
   ]
  },
  {
   "cell_type": "code",
   "execution_count": 19,
   "metadata": {},
   "outputs": [
    {
     "name": "stdout",
     "output_type": "stream",
     "text": [
      "Error absoluto medio: 0.5400000000000006\n"
     ]
    }
   ],
   "source": [
    "def error_absoluto_medio(valores_reales, valores_calculados):\n",
    "    if len(valores_reales) != len(valores_calculados):\n",
    "        raise ValueError(\"Las listas deben tener la misma longitud\")\n",
    "    \n",
    "    errores = [abs(r - c) for r, c in zip(valores_reales, valores_calculados)]\n",
    "    return sum(errores) / len(errores)\n",
    "\n",
    "reales = [10, 20, 30, 40, 50]\n",
    "calculados = [9.8, 20.5, 29.7, 41.2, 49.5]\n",
    "\n",
    "mae = error_absoluto_medio(reales, calculados)\n",
    "print(f\"Error absoluto medio: {mae}\")"
   ]
  },
  {
   "cell_type": "markdown",
   "metadata": {},
   "source": [
    "## ejercicio 14"
   ]
  },
  {
   "cell_type": "code",
   "execution_count": 20,
   "metadata": {},
   "outputs": [
    {
     "name": "stdout",
     "output_type": "stream",
     "text": [
      "El número 23.45 tiene 4 cifras exactas con cota de error 0.001\n",
      "El número 123.456 tiene 5 cifras exactas con cota de error 0.001\n",
      "El número 0.0123 tiene 1 cifras exactas con cota de error 0.001\n"
     ]
    }
   ],
   "source": [
    "def cifras_exactas_error_absoluto(vector, cota_error):\n",
    "    cifras = []\n",
    "    for num in vector:\n",
    "        m = math.floor(math.log10(abs(num))) + 1\n",
    "        n = m - math.ceil(math.log10(2 * cota_error))\n",
    "        cifras.append(n)\n",
    "    return cifras\n",
    "\n",
    "numeros = [23.45, 123.456, 0.0123]\n",
    "cota_error = 0.001\n",
    "\n",
    "cifras = cifras_exactas_error_absoluto(numeros, cota_error)\n",
    "for num, n in zip(numeros, cifras):\n",
    "    print(f\"El número {num} tiene {n} cifras exactas con cota de error {cota_error}\")"
   ]
  },
  {
   "cell_type": "markdown",
   "metadata": {},
   "source": [
    "## ejercicio 15"
   ]
  },
  {
   "cell_type": "code",
   "execution_count": 21,
   "metadata": {},
   "outputs": [
    {
     "name": "stdout",
     "output_type": "stream",
     "text": [
      "El número 23.45 tiene 3 cifras exactas con cota de error relativo 0.001\n",
      "El número 123.456 tiene 3 cifras exactas con cota de error relativo 0.001\n",
      "El número 0.0123 tiene 3 cifras exactas con cota de error relativo 0.001\n"
     ]
    }
   ],
   "source": [
    "def cifras_exactas_error_relativo(vector, cota_error_rel):\n",
    "    cifras = []\n",
    "    for num in vector:\n",
    "        n = math.ceil(-math.log10(2 * cota_error_rel))\n",
    "        cifras.append(n)\n",
    "    return cifras\n",
    "\n",
    "numeros = [23.45, 123.456, 0.0123]\n",
    "cota_error_rel = 0.001\n",
    "\n",
    "cifras = cifras_exactas_error_relativo(numeros, cota_error_rel)\n",
    "for num, n in zip(numeros, cifras):\n",
    "    print(f\"El número {num} tiene {n} cifras exactas con cota de error relativo {cota_error_rel}\")"
   ]
  },
  {
   "cell_type": "markdown",
   "metadata": {},
   "source": [
    "## ejercicio 16"
   ]
  },
  {
   "cell_type": "code",
   "execution_count": 22,
   "metadata": {},
   "outputs": [
    {
     "name": "stdout",
     "output_type": "stream",
     "text": [
      "La altura del árbol es: 1941.75 ± 43.12 cm\n"
     ]
    }
   ],
   "source": [
    "def calcular_altura_arbol(L1, L2, L3, dL1, dL2, dL3):\n",
    "    L = L1 * (L2 / L3)\n",
    "    \n",
    "    dL = L * math.sqrt((dL1/L1)**2 + (dL2/L2)**2 + (dL3/L3)**2)\n",
    "    \n",
    "    return L, dL\n",
    "\n",
    "L1 = 200    # cm\n",
    "dL1 = 2     # cm\n",
    "L2 = 100    # cm\n",
    "dL2 = 0.4   # cm\n",
    "L3 = 10.3   # cm\n",
    "dL3 = 0.2   # cm\n",
    "\n",
    "altura, error = calcular_altura_arbol(L1, L2, L3, dL1, dL2, dL3)\n",
    "print(f\"La altura del árbol es: {altura:.2f} ± {error:.2f} cm\")"
   ]
  },
  {
   "cell_type": "markdown",
   "metadata": {},
   "source": [
    "## ejercicio 17"
   ]
  },
  {
   "cell_type": "code",
   "execution_count": 23,
   "metadata": {},
   "outputs": [
    {
     "name": "stdout",
     "output_type": "stream",
     "text": [
      "f(0.7853981633974483) = 0.7071067811865476, con error absoluto aproximado de 0.007035594916891985\n"
     ]
    }
   ],
   "source": [
    "def error_absoluto_funcion(f, x, dx):\n",
    "    valor = f(x)\n",
    "    deriv = (f(x + dx) - f(x)) / dx  # Aproximación de la derivada\n",
    "    error = abs(deriv * dx)\n",
    "    return valor, error\n",
    "\n",
    "def funcion(x):\n",
    "    return math.sin(x)\n",
    "\n",
    "x = math.pi/4\n",
    "dx = 0.01\n",
    "\n",
    "valor, error = error_absoluto_funcion(funcion, x, dx)\n",
    "print(f\"f({x}) = {valor}, con error absoluto aproximado de {error}\")"
   ]
  },
  {
   "cell_type": "markdown",
   "metadata": {},
   "source": [
    "## ejercicio 18"
   ]
  },
  {
   "cell_type": "code",
   "execution_count": 24,
   "metadata": {},
   "outputs": [
    {
     "name": "stdout",
     "output_type": "stream",
     "text": [
      "f(2, 3) = 13, con error absoluto aproximado de 0.1001999999999974\n"
     ]
    }
   ],
   "source": [
    "def error_absoluto_funcion_2var(f, x, y, dx, dy):\n",
    "    valor = f(x, y)\n",
    "    \n",
    "    # Aproximación de derivadas parciales\n",
    "    dfdx = (f(x + dx, y) - f(x, y)) / dx\n",
    "    dfdy = (f(x, y + dy) - f(x, y)) / dy\n",
    "    \n",
    "    error = abs(dfdx * dx) + abs(dfdy * dy)  # Cota del error\n",
    "    \n",
    "    return valor, error\n",
    "\n",
    "def funcion_2var(x, y):\n",
    "    return x**2 + y**2\n",
    "\n",
    "x, y = 2, 3\n",
    "dx, dy = 0.01, 0.01\n",
    "\n",
    "valor, error = error_absoluto_funcion_2var(funcion_2var, x, y, dx, dy)\n",
    "print(f\"f({x}, {y}) = {valor}, con error absoluto aproximado de {error}\")"
   ]
  },
  {
   "cell_type": "markdown",
   "metadata": {},
   "source": [
    "## ejercicio 19"
   ]
  },
  {
   "cell_type": "code",
   "execution_count": 25,
   "metadata": {},
   "outputs": [
    {
     "name": "stdout",
     "output_type": "stream",
     "text": [
      "f(0.1, 0.1, 0.1) = 0.5, con error absoluto de 0.24999999999999997\n"
     ]
    }
   ],
   "source": [
    "def f(x, y, z):\n",
    "    return 5 * x * y**2 / z**2\n",
    "\n",
    "def error_absoluto_funcion_especifica(x, y, z, dx, dy, dz):\n",
    "    valor = f(x, y, z)\n",
    "    \n",
    "    # Derivadas parciales exactas\n",
    "    dfdx = 5 * y**2 / z**2\n",
    "    dfdy = 10 * x * y / z**2\n",
    "    dfdz = -10 * x * y**2 / z**3\n",
    "    \n",
    "    error = abs(dfdx * dx) + abs(dfdy * dy) + abs(dfdz * dz)\n",
    "    \n",
    "    return valor, error\n",
    "\n",
    "x = y = z = 0.1\n",
    "dx = dy = dz = 0.01\n",
    "\n",
    "valor, error = error_absoluto_funcion_especifica(x, y, z, dx, dy, dz)\n",
    "print(f\"f({x}, {y}, {z}) = {valor}, con error absoluto de {error}\")"
   ]
  }
 ],
 "metadata": {
  "celltoolbar": "Slideshow",
  "kernelspec": {
   "display_name": "Python 3",
   "language": "python",
   "name": "python3"
  },
  "language_info": {
   "codemirror_mode": {
    "name": "ipython",
    "version": 3
   },
   "file_extension": ".py",
   "mimetype": "text/x-python",
   "name": "python",
   "nbconvert_exporter": "python",
   "pygments_lexer": "ipython3",
   "version": "3.13.2"
  },
  "widgets": {
   "state": {},
   "version": "1.1.2"
  }
 },
 "nbformat": 4,
 "nbformat_minor": 4
}
