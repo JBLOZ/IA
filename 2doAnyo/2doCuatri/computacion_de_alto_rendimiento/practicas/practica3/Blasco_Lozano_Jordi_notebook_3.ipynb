{
 "cells": [
  {
   "cell_type": "markdown",
   "metadata": {},
   "source": [
    "# Practica 3 COMPARACIÓN CPU VS GPU\n",
    "\n",
    "### JORDI BLASCO LOZANO\n",
    "### computacion de alto rendimiento"
   ]
  },
  {
   "cell_type": "markdown",
   "metadata": {},
   "source": [
    "## Introducción \n",
    "En esta práctica, hemos explorado y comparado el rendimiento de una CPU y una GPU en la tarea de reconocimiento de imágenes utilizando un modelo de aprendizaje profundo preentrenado, ResNet18. El objetivo principal ha sido entender cómo la elección del hardware puede afectar significativamente el tiempo de procesamiento y cómo este conocimiento puede ser aplicado en proyectos reales.\n",
    "\n",
    "### Objetivos de la Práctica\n",
    "\n",
    "- Comparar los tiempos de ejecución en CPU y GPU para la tarea de procesamiento de imágenes.\n",
    "- Reflexionar sobre cómo esta diferencia de rendimiento puede influir en aplicaciones del mundo real, como el reconocimiento facial.\n"
   ]
  },
  {
   "cell_type": "markdown",
   "metadata": {},
   "source": [
    "## Pasos Realizados\n",
    "\n",
    "### 1. Preparación del Entorno\n",
    "- Instalacion e importacion de las bibliotecas necesarias\n",
    "- Configuracion del debugger para que se puedan imprimir al nivel de log que se quiera (INFO, DEBUGG)"
   ]
  },
  {
   "cell_type": "code",
   "execution_count": 1,
   "metadata": {},
   "outputs": [],
   "source": [
    "import torch\n",
    "import time\n",
    "from torchvision import models, transforms\n",
    "from torchvision.models import ResNet18_Weights\n",
    "from PIL import Image\n",
    "import sys\n",
    "import os\n",
    "import logging\n",
    "import warnings\n",
    "import pandas as pd\n",
    "import matplotlib.pyplot as plt\n",
    "import numpy as np\n",
    "import io"
   ]
  },
  {
   "cell_type": "code",
   "execution_count": 2,
   "metadata": {},
   "outputs": [
    {
     "name": "stderr",
     "output_type": "stream",
     "text": [
      "2025-02-15 18:11:10 - DEBUG - Modo DEBUG activado\n",
      "2025-02-15 18:11:10 - INFO - Modo INFO activado\n"
     ]
    }
   ],
   "source": [
    "# nivel de log\n",
    "DEBUG = True\n",
    "\n",
    "log_level = logging.DEBUG if DEBUG else logging.INFO\n",
    "logger = logging.getLogger()\n",
    "logger.setLevel(log_level)\n",
    "\n",
    "if not DEBUG:\n",
    "    warnings.simplefilter(\"ignore\", UserWarning)\n",
    "\n",
    "if logger.hasHandlers():\n",
    "    logger.handlers.clear()\n",
    "handler = logging.StreamHandler()\n",
    "handler.setLevel(log_level)\n",
    "asctime_format = '%Y-%m-%d %H:%M:%S'\n",
    "formatter = logging.Formatter('%(asctime)s - %(levelname)s - %(message)s', datefmt=asctime_format)\n",
    "handler.setFormatter(formatter)\n",
    "logger.addHandler(handler)\n",
    "\n",
    "logger.debug(\"Modo DEBUG activado\")\n",
    "logger.info(\"Modo INFO activado\")"
   ]
  },
  {
   "cell_type": "markdown",
   "metadata": {},
   "source": [
    "### 2. Carga de Bibliotecas y Modelo\n",
    "- Comprobacion de si tenemos una gpu con cuda en el sistema\n",
    "- Carga del modelo preentrenado ResNet18 y configuración en modo evaluación.\n",
    "- Carga de imágenes de prueba.\n",
    "- Aplicación de transformaciones a las imágenes para ajustarlas al tamaño requerido por el modelo.\n",
    "- Medición del tiempo de procesamiento en CPU.\n",
    "- Medición del tiempo de procesamiento en GPU (si está disponible).\n",
    "- Registramos los tiempos de ejecucion de CPU y GPU y nos los guardamos en un dataset\n",
    "- Exportamos el dataset a markdown para visualizarlo mejor\n"
   ]
  },
  {
   "cell_type": "code",
   "execution_count": 8,
   "metadata": {},
   "outputs": [],
   "source": [
    "class PracticaCPUvsGPU:\n",
    "    def __init__(self):\n",
    "        \"\"\"\n",
    "        Inicializa la práctica.\n",
    "        \"\"\"\n",
    "        logging.debug(\"GPU disponible (inicial): %s\", torch.cuda.is_available())\n",
    "        logging.debug(\"Número de GPUs (inicial): %s\", torch.cuda.device_count())\n",
    "        \n",
    "        # Definir las resoluciones a comparar\n",
    "        self.resoluciones = [(224, 224), (512, 512), (1024, 1024), (2048, 2048), (4096, 4096)]\n",
    "        \n",
    "        # Cargar el modelo ResNet18 para CPU y establecerlo en modo evaluación\n",
    "        self.model_cpu = models.resnet18(pretrained=True)\n",
    "        self.model_cpu.eval()\n",
    "        \n",
    "        # Verificar GPU y cargar modelo en GPU si está disponible\n",
    "        self.gpu_disponible = torch.cuda.is_available()\n",
    "        if self.gpu_disponible:\n",
    "            self.model_gpu = models.resnet18(pretrained=True).to('cuda')\n",
    "            self.model_gpu.eval()\n",
    "        else:\n",
    "            self.model_gpu = None\n",
    "        \n",
    "        # Directorio donde se encuentran las imágenes\n",
    "        self.imagenes_dir = \"Fotos ejemplo\"\n",
    "        # Lista de rutas de imagen (Foto facial 1.jpg a Foto facial 5.jpg)\n",
    "        self.image_paths = [os.path.join(self.imagenes_dir, f\"Foto facial {i}.jpg\") for i in range(1, 6)]\n",
    "        \n",
    "        # Inicialmente se crea un DataFrame vacío para almacenar los resultados.\n",
    "        self.df = pd.DataFrame(columns=[\"imagen\", \"tamaño\", \"tiempo_cpu\", \"tiempo_gpu\"])\n",
    "    \n",
    "    def run_measurements(self):\n",
    "        \"\"\"\n",
    "        Recorre las imágenes y mide los tiempos de ejecución sobre CPU y GPU (si está disponible),\n",
    "        registrando los resultados mediante logging y almacenándolos en un DataFrame.\n",
    "        \"\"\"\n",
    "        resultados = []\n",
    "        \n",
    "        for path in self.image_paths:\n",
    "            try:\n",
    "                image = Image.open(path)\n",
    "            except Exception as e:\n",
    "                logging.error(\"Error al abrir la imagen %s: %s\", path, e)\n",
    "                # Se agrega una fila de error (una sola por imagen) tal como se hacía en el código original\n",
    "                resultados.append({\n",
    "                    \"imagen\": path,\n",
    "                    \"tamaño\": f\"Error al abrir imagen: {e}\",\n",
    "                    \"tiempo_cpu\": \"-\",\n",
    "                    \"tiempo_gpu\": \"-\"\n",
    "                })\n",
    "                continue\n",
    "\n",
    "            for res in self.resoluciones:\n",
    "                # Definir la transformación para la resolución actual\n",
    "                transform_res = transforms.Compose([\n",
    "                    transforms.Resize(res),\n",
    "                    transforms.ToTensor()\n",
    "                ])\n",
    "                \n",
    "                # Convertir la imagen a tensor y añadir dimensión batch\n",
    "                input_tensor = transform_res(image).unsqueeze(0)\n",
    "                \n",
    "                # Medición en CPU \n",
    "                start_cpu = time.time()\n",
    "                with torch.no_grad():\n",
    "                    _ = self.model_cpu(input_tensor)\n",
    "                tiempo_cpu = time.time() - start_cpu\n",
    "                \n",
    "                resultado_log = f\"Imagen: {path} | Tamaño: {res[0]}x{res[1]} | Tiempo en CPU: {tiempo_cpu:.4f} segundos\"\n",
    "                \n",
    "                # Medición en GPU si está disponible\n",
    "                if self.gpu_disponible:\n",
    "                    input_tensor_gpu = input_tensor.to('cuda')\n",
    "                    start_gpu = time.time()\n",
    "                    with torch.no_grad():\n",
    "                        _ = self.model_gpu(input_tensor_gpu)\n",
    "                    torch.cuda.synchronize()  # Asegurarse de que la GPU finalice la operación\n",
    "                    tiempo_gpu = time.time() - start_gpu\n",
    "                    resultado_log += f\" | Tiempo en GPU: {tiempo_gpu:.4f} segundos\"\n",
    "                    tiempo_gpu_val = tiempo_gpu\n",
    "                else:\n",
    "                    resultado_log += \" | GPU no disponible.\"\n",
    "                    tiempo_gpu_val = \"-\"\n",
    "                \n",
    "                logging.info(resultado_log)\n",
    "                \n",
    "                # Se agrega el resultado al listado; para la tabla se usa el nombre base de la imagen.\n",
    "                resultados.append({\n",
    "                    \"imagen\": os.path.basename(path),\n",
    "                    \"tamaño\": f\"{res[0]}x{res[1]}\",\n",
    "                    \"tiempo_cpu\": tiempo_cpu,\n",
    "                    \"tiempo_gpu\": tiempo_gpu_val\n",
    "                })\n",
    "        \n",
    "        # Se crea el DataFrame a partir de la lista de resultados.\n",
    "        self.df = pd.DataFrame(resultados)\n",
    "    \n",
    "    def generar_tabla_markdown(self) -> str:\n",
    "        \n",
    "        return self.df.to_markdown()\n",
    "    \n",
    "    def run_all(self):\n",
    "        \"\"\"\n",
    "        Ejecuta el análisis (mediciones) y genera la tabla Markdown.\n",
    "        \"\"\"\n",
    "        self.run_measurements()\n",
    "        md_table = self.generar_tabla_markdown()\n",
    "        \n",
    "        return md_table\n",
    "    "
   ]
  },
  {
   "cell_type": "markdown",
   "metadata": {},
   "source": [
    "\n",
    "### 3 Ejecucion del modelo\n",
    "- Carga de la clase en una variable\n",
    "- Ejecucion del programa y guardado de la tabla de markdonw en una variable, (aunque tengamos el dataset de pandas para mostrar la tabla mejor cogemos la tabla de markdown)\n"
   ]
  },
  {
   "cell_type": "code",
   "execution_count": 9,
   "metadata": {},
   "outputs": [
    {
     "name": "stderr",
     "output_type": "stream",
     "text": [
      "2025-02-15 18:12:58 - DEBUG - GPU disponible (inicial): True\n",
      "2025-02-15 18:12:58 - DEBUG - Número de GPUs (inicial): 1\n",
      "c:\\Users\\jordi\\AppData\\Local\\Programs\\Python\\Python39\\lib\\site-packages\\torchvision\\models\\_utils.py:208: UserWarning: The parameter 'pretrained' is deprecated since 0.13 and may be removed in the future, please use 'weights' instead.\n",
      "  warnings.warn(\n",
      "c:\\Users\\jordi\\AppData\\Local\\Programs\\Python\\Python39\\lib\\site-packages\\torchvision\\models\\_utils.py:223: UserWarning: Arguments other than a weight enum or `None` for 'weights' are deprecated since 0.13 and may be removed in the future. The current behavior is equivalent to passing `weights=ResNet18_Weights.IMAGENET1K_V1`. You can also use `weights=ResNet18_Weights.DEFAULT` to get the most up-to-date weights.\n",
      "  warnings.warn(msg)\n",
      "2025-02-15 18:12:58 - INFO - Imagen: Fotos ejemplo\\Foto facial 1.jpg | Tamaño: 224x224 | Tiempo en CPU: 0.0160 segundos | Tiempo en GPU: 0.0040 segundos\n",
      "2025-02-15 18:12:58 - INFO - Imagen: Fotos ejemplo\\Foto facial 1.jpg | Tamaño: 512x512 | Tiempo en CPU: 0.0550 segundos | Tiempo en GPU: 0.0030 segundos\n",
      "2025-02-15 18:12:59 - INFO - Imagen: Fotos ejemplo\\Foto facial 1.jpg | Tamaño: 1024x1024 | Tiempo en CPU: 0.2220 segundos | Tiempo en GPU: 0.0100 segundos\n",
      "2025-02-15 18:13:00 - INFO - Imagen: Fotos ejemplo\\Foto facial 1.jpg | Tamaño: 2048x2048 | Tiempo en CPU: 0.9194 segundos | Tiempo en GPU: 0.0360 segundos\n",
      "2025-02-15 18:13:04 - INFO - Imagen: Fotos ejemplo\\Foto facial 1.jpg | Tamaño: 4096x4096 | Tiempo en CPU: 4.0373 segundos | Tiempo en GPU: 0.1346 segundos\n",
      "2025-02-15 18:13:04 - INFO - Imagen: Fotos ejemplo\\Foto facial 2.jpg | Tamaño: 224x224 | Tiempo en CPU: 0.0180 segundos | Tiempo en GPU: 0.0030 segundos\n",
      "2025-02-15 18:13:04 - INFO - Imagen: Fotos ejemplo\\Foto facial 2.jpg | Tamaño: 512x512 | Tiempo en CPU: 0.0570 segundos | Tiempo en GPU: 0.0030 segundos\n",
      "2025-02-15 18:13:04 - INFO - Imagen: Fotos ejemplo\\Foto facial 2.jpg | Tamaño: 1024x1024 | Tiempo en CPU: 0.2080 segundos | Tiempo en GPU: 0.0090 segundos\n",
      "2025-02-15 18:13:05 - INFO - Imagen: Fotos ejemplo\\Foto facial 2.jpg | Tamaño: 2048x2048 | Tiempo en CPU: 0.9173 segundos | Tiempo en GPU: 0.0340 segundos\n",
      "2025-02-15 18:13:10 - INFO - Imagen: Fotos ejemplo\\Foto facial 2.jpg | Tamaño: 4096x4096 | Tiempo en CPU: 4.1053 segundos | Tiempo en GPU: 0.1300 segundos\n",
      "2025-02-15 18:13:10 - INFO - Imagen: Fotos ejemplo\\Foto facial 3.jpg | Tamaño: 224x224 | Tiempo en CPU: 0.0160 segundos | Tiempo en GPU: 0.0040 segundos\n",
      "2025-02-15 18:13:10 - INFO - Imagen: Fotos ejemplo\\Foto facial 3.jpg | Tamaño: 512x512 | Tiempo en CPU: 0.0540 segundos | Tiempo en GPU: 0.0030 segundos\n",
      "2025-02-15 18:13:10 - INFO - Imagen: Fotos ejemplo\\Foto facial 3.jpg | Tamaño: 1024x1024 | Tiempo en CPU: 0.2180 segundos | Tiempo en GPU: 0.0080 segundos\n",
      "2025-02-15 18:13:11 - INFO - Imagen: Fotos ejemplo\\Foto facial 3.jpg | Tamaño: 2048x2048 | Tiempo en CPU: 0.9142 segundos | Tiempo en GPU: 0.0350 segundos\n",
      "2025-02-15 18:13:16 - INFO - Imagen: Fotos ejemplo\\Foto facial 3.jpg | Tamaño: 4096x4096 | Tiempo en CPU: 4.1561 segundos | Tiempo en GPU: 0.1350 segundos\n",
      "2025-02-15 18:13:16 - INFO - Imagen: Fotos ejemplo\\Foto facial 4.jpg | Tamaño: 224x224 | Tiempo en CPU: 0.0170 segundos | Tiempo en GPU: 0.0030 segundos\n",
      "2025-02-15 18:13:16 - INFO - Imagen: Fotos ejemplo\\Foto facial 4.jpg | Tamaño: 512x512 | Tiempo en CPU: 0.0560 segundos | Tiempo en GPU: 0.0030 segundos\n",
      "2025-02-15 18:13:16 - INFO - Imagen: Fotos ejemplo\\Foto facial 4.jpg | Tamaño: 1024x1024 | Tiempo en CPU: 0.2280 segundos | Tiempo en GPU: 0.0090 segundos\n",
      "2025-02-15 18:13:17 - INFO - Imagen: Fotos ejemplo\\Foto facial 4.jpg | Tamaño: 2048x2048 | Tiempo en CPU: 0.9108 segundos | Tiempo en GPU: 0.0340 segundos\n",
      "2025-02-15 18:13:21 - INFO - Imagen: Fotos ejemplo\\Foto facial 4.jpg | Tamaño: 4096x4096 | Tiempo en CPU: 4.0880 segundos | Tiempo en GPU: 0.1360 segundos\n",
      "2025-02-15 18:13:21 - INFO - Imagen: Fotos ejemplo\\Foto facial 5.jpg | Tamaño: 224x224 | Tiempo en CPU: 0.0170 segundos | Tiempo en GPU: 0.0030 segundos\n",
      "2025-02-15 18:13:22 - INFO - Imagen: Fotos ejemplo\\Foto facial 5.jpg | Tamaño: 512x512 | Tiempo en CPU: 0.0584 segundos | Tiempo en GPU: 0.0040 segundos\n",
      "2025-02-15 18:13:22 - INFO - Imagen: Fotos ejemplo\\Foto facial 5.jpg | Tamaño: 1024x1024 | Tiempo en CPU: 0.2180 segundos | Tiempo en GPU: 0.0100 segundos\n",
      "2025-02-15 18:13:23 - INFO - Imagen: Fotos ejemplo\\Foto facial 5.jpg | Tamaño: 2048x2048 | Tiempo en CPU: 0.8857 segundos | Tiempo en GPU: 0.0330 segundos\n",
      "2025-02-15 18:13:27 - INFO - Imagen: Fotos ejemplo\\Foto facial 5.jpg | Tamaño: 4096x4096 | Tiempo en CPU: 4.1244 segundos | Tiempo en GPU: 0.1390 segundos\n",
      "2025-02-15 18:13:27 - DEBUG - Tabla Markdown generada:\n",
      "|    | imagen            | tamaño    |   tiempo_cpu |   tiempo_gpu |\n",
      "|---:|:------------------|:----------|-------------:|-------------:|\n",
      "|  0 | Foto facial 1.jpg | 224x224   |    0.0160015 |   0.00399828 |\n",
      "|  1 | Foto facial 1.jpg | 512x512   |    0.0549984 |   0.00300074 |\n",
      "|  2 | Foto facial 1.jpg | 1024x1024 |    0.221951  |   0.0099988  |\n",
      "|  3 | Foto facial 1.jpg | 2048x2048 |    0.919378  |   0.0359995  |\n",
      "|  4 | Foto facial 1.jpg | 4096x4096 |    4.03731   |   0.13456    |\n",
      "|  5 | Foto facial 2.jpg | 224x224   |    0.0180023 |   0.0029974  |\n",
      "|  6 | Foto facial 2.jpg | 512x512   |    0.0570037 |   0.00299621 |\n",
      "|  7 | Foto facial 2.jpg | 1024x1024 |    0.207998  |   0.00900006 |\n",
      "|  8 | Foto facial 2.jpg | 2048x2048 |    0.917265  |   0.0339987  |\n",
      "|  9 | Foto facial 2.jpg | 4096x4096 |    4.10527   |   0.130001   |\n",
      "| 10 | Foto facial 3.jpg | 224x224   |    0.0160005 |   0.00399923 |\n",
      "| 11 | Foto facial 3.jpg | 512x512   |    0.0539529 |   0.00300026 |\n",
      "| 12 | Foto facial 3.jpg | 1024x1024 |    0.217998  |   0.00800061 |\n",
      "| 13 | Foto facial 3.jpg | 2048x2048 |    0.914236  |   0.0349977  |\n",
      "| 14 | Foto facial 3.jpg | 4096x4096 |    4.15613   |   0.134999   |\n",
      "| 15 | Foto facial 4.jpg | 224x224   |    0.0170033 |   0.00299931 |\n",
      "| 16 | Foto facial 4.jpg | 512x512   |    0.0560002 |   0.00299883 |\n",
      "| 17 | Foto facial 4.jpg | 1024x1024 |    0.227997  |   0.00899959 |\n",
      "| 18 | Foto facial 4.jpg | 2048x2048 |    0.910813  |   0.0339978  |\n",
      "| 19 | Foto facial 4.jpg | 4096x4096 |    4.088     |   0.135998   |\n",
      "| 20 | Foto facial 5.jpg | 224x224   |    0.0170023 |   0.00299883 |\n",
      "| 21 | Foto facial 5.jpg | 512x512   |    0.0583518 |   0.00399756 |\n",
      "| 22 | Foto facial 5.jpg | 1024x1024 |    0.218     |   0.0100002  |\n",
      "| 23 | Foto facial 5.jpg | 2048x2048 |    0.885651  |   0.0330017  |\n",
      "| 24 | Foto facial 5.jpg | 4096x4096 |    4.12441   |   0.138998   |\n"
     ]
    }
   ],
   "source": [
    "practica = PracticaCPUvsGPU()\n",
    "\n",
    "tabla_md = practica.run_all()\n",
    "\n",
    "logging.debug(\"Tabla Markdown generada:\\n%s\", tabla_md)\n"
   ]
  },
  {
   "cell_type": "markdown",
   "metadata": {},
   "source": [
    "|    | imagen            | tamaño    |   tiempo_cpu |   tiempo_gpu |\n",
    "|---:|:------------------|:----------|-------------:|-------------:|\n",
    "|  0 | Foto facial 1.jpg | 224x224   |    0.0160015 |   0.00399828 |\n",
    "|  1 | Foto facial 1.jpg | 512x512   |    0.0549984 |   0.00300074 |\n",
    "|  2 | Foto facial 1.jpg | 1024x1024 |    0.221951  |   0.0099988  |\n",
    "|  3 | Foto facial 1.jpg | 2048x2048 |    0.919378  |   0.0359995  |\n",
    "|  4 | Foto facial 1.jpg | 4096x4096 |    4.03731   |   0.13456    |\n",
    "|  5 | Foto facial 2.jpg | 224x224   |    0.0180023 |   0.0029974  |\n",
    "|  6 | Foto facial 2.jpg | 512x512   |    0.0570037 |   0.00299621 |\n",
    "|  7 | Foto facial 2.jpg | 1024x1024 |    0.207998  |   0.00900006 |\n",
    "|  8 | Foto facial 2.jpg | 2048x2048 |    0.917265  |   0.0339987  |\n",
    "|  9 | Foto facial 2.jpg | 4096x4096 |    4.10527   |   0.130001   |\n",
    "| 10 | Foto facial 3.jpg | 224x224   |    0.0160005 |   0.00399923 |\n",
    "| 11 | Foto facial 3.jpg | 512x512   |    0.0539529 |   0.00300026 |\n",
    "| 12 | Foto facial 3.jpg | 1024x1024 |    0.217998  |   0.00800061 |\n",
    "| 13 | Foto facial 3.jpg | 2048x2048 |    0.914236  |   0.0349977  |\n",
    "| 14 | Foto facial 3.jpg | 4096x4096 |    4.15613   |   0.134999   |\n",
    "| 15 | Foto facial 4.jpg | 224x224   |    0.0170033 |   0.00299931 |\n",
    "| 16 | Foto facial 4.jpg | 512x512   |    0.0560002 |   0.00299883 |\n",
    "| 17 | Foto facial 4.jpg | 1024x1024 |    0.227997  |   0.00899959 |\n",
    "| 18 | Foto facial 4.jpg | 2048x2048 |    0.910813  |   0.0339978  |\n",
    "| 19 | Foto facial 4.jpg | 4096x4096 |    4.088     |   0.135998   |\n",
    "| 20 | Foto facial 5.jpg | 224x224   |    0.0170023 |   0.00299883 |\n",
    "| 21 | Foto facial 5.jpg | 512x512   |    0.0583518 |   0.00399756 |\n",
    "| 22 | Foto facial 5.jpg | 1024x1024 |    0.218     |   0.0100002  |\n",
    "| 23 | Foto facial 5.jpg | 2048x2048 |    0.885651  |   0.0330017  |\n",
    "| 24 | Foto facial 5.jpg | 4096x4096 |    4.12441   |   0.138998   |"
   ]
  },
  {
   "cell_type": "markdown",
   "metadata": {},
   "source": [
    "###  4 Uso de un pandas dataset y luego calcular las medias de cada tamaño de imagen para la CPU y GPU\n",
    "\n",
    "- Copiamos el dataset de la clase anterior que estabamos usando en una nueva variable global\n",
    "- Si tenemos valores de `-` en los datos de la GPU porque no haya GPU los cambiamos por `np.nan` para que no de error al pasarlos a numeros \n",
    "- Calculamos las medias y nos las guardamos en orden de menor tamaño de imagen a mayor sacando el entero de la string `tamaño` y creando una nueva variable que ordena el df para luego eliminar la columna auxiliar"
   ]
  },
  {
   "cell_type": "code",
   "execution_count": 10,
   "metadata": {},
   "outputs": [
    {
     "name": "stderr",
     "output_type": "stream",
     "text": [
      "2025-02-15 18:13:48 - DEBUG - Media calculada\n",
      "2025-02-15 18:13:48 - INFO - Media de tiempos por tamaño:\n",
      "      tamaño  tiempo_cpu  tiempo_gpu\n",
      "0    224x224    0.016802    0.003399\n",
      "1    512x512    0.056061    0.003199\n",
      "2  1024x1024    0.218789    0.009200\n",
      "3  2048x2048    0.909469    0.034399\n",
      "4  4096x4096    4.102226    0.134911\n"
     ]
    }
   ],
   "source": [
    "# Copiamos el DataFrame para no modificar el original\n",
    "df = practica.df.copy()\n",
    "\n",
    "# Convertir las columnas de tiempos a numérico:\n",
    "# Si en algún caso se hubiera almacenado \"-\" (por ejemplo, en 'tiempo_gpu' cuando la GPU no está disponible),\n",
    "# lo reemplazamos por NaN.\n",
    "df['tiempo_cpu'] = pd.to_numeric(df['tiempo_cpu'], errors='coerce')\n",
    "df['tiempo_gpu'] = df['tiempo_gpu'].replace(\"-\", np.nan)\n",
    "df['tiempo_gpu'] = pd.to_numeric(df['tiempo_gpu'], errors='coerce')\n",
    "\n",
    "# Calcular la media de los tiempos agrupando por 'tamaño'\n",
    "mean_times = df.groupby('tamaño')[['tiempo_cpu', 'tiempo_gpu']].mean().reset_index()\n",
    "\n",
    "# Para ordenar de forma numérica, extraemos el ancho a partir del string (formato \"anchoxalto\")\n",
    "mean_times['size_num'] = mean_times['tamaño'].apply(lambda s: int(s.split(\"x\")[0]) if \"x\" in s else None)\n",
    "\n",
    "# Ordenar los datos de menor a mayor según el ancho extraído y eliminar la columna auxiliar\n",
    "mean_times = mean_times.sort_values('size_num').drop('size_num', axis=1).reset_index(drop=True)\n",
    "\n",
    "logging.debug(\"Media calculada\")\n",
    "logging.info(f\"Media de tiempos por tamaño:\\n{mean_times}\")\n",
    "\n",
    "\n"
   ]
  },
  {
   "cell_type": "markdown",
   "metadata": {},
   "source": [
    "### 4 Metricas nuevas y plots de datos\n",
    "- Dividimos la media de tiempo de CPU entre el tiempo de ejecucion de GPU y sacamos la cantidad de veces que la GPU es más rapida que la CPU\n",
    "\n",
    "`nota`**Si no tenemos GPU no podremos generar un plot nuevo**"
   ]
  },
  {
   "cell_type": "code",
   "execution_count": 11,
   "metadata": {},
   "outputs": [
    {
     "name": "stderr",
     "output_type": "stream",
     "text": [
      "2025-02-15 18:13:55 - INFO - Numero de veces mas rapido la GPU que la CPU \n",
      "       tamaño  Veces mas rapido\n",
      "0    224x224          4.943780\n",
      "1    512x512         17.526207\n",
      "2  1024x1024         23.781756\n",
      "3  2048x2048         26.438748\n",
      "4  4096x4096         30.406861\n"
     ]
    },
    {
     "data": {
      "image/png": "[encoded data removed]",
      "text/plain": [
       "<Figure size 1000x500 with 1 Axes>"
      ]
     },
     "metadata": {},
     "output_type": "display_data"
    },
    {
     "name": "stderr",
     "output_type": "stream",
     "text": [
      "2025-02-15 18:13:55 - DEBUG - Gráfico 1 mostrado. \n"
     ]
    }
   ],
   "source": [
    "\n",
    "\n",
    "mean_times['Total (s)'] = mean_times['tiempo_cpu'] + mean_times['tiempo_gpu']\n",
    "mean_times['Veces mas rapido'] = mean_times['tiempo_cpu'] / mean_times['tiempo_gpu']\n",
    "\n",
    "logs_a_mostrar = mean_times[['tamaño', 'Veces mas rapido']]\n",
    "logger.info(f\"Numero de veces mas rapido la GPU que la CPU \\n {logs_a_mostrar}\")\n",
    "\n",
    "positions = np.arange(len(mean_times))\n",
    "width = 0.35\n",
    "\n",
    "plt.figure(figsize=(10, 5))\n",
    "plt.bar(positions , mean_times['Veces mas rapido'], width, color='pink',  label='Veces mas rapido')\n",
    "\n",
    "plt.xlabel('Tamaño de Imagen')\n",
    "plt.ylabel('Número de Veces')\n",
    "plt.title('Veces mas rapido la GPU que la CPU')\n",
    "plt.xticks(positions, mean_times['tamaño'])\n",
    "plt.legend()\n",
    "plt.show()\n",
    "logger.debug(\"Gráfico 1 mostrado. \")\n"
   ]
  },
  {
   "cell_type": "markdown",
   "metadata": {},
   "source": [
    "### 5 Plot final\n",
    "- Generamos un plot con la media de cada tamaño de imagen con puntos y luego las unimos con una linea para la CPU y otra para la GPU"
   ]
  },
  {
   "cell_type": "code",
   "execution_count": 12,
   "metadata": {},
   "outputs": [
    {
     "name": "stderr",
     "output_type": "stream",
     "text": [
      "2025-02-15 18:14:05 - INFO - Media de datos \n",
      "       tamaño  tiempo_cpu  tiempo_gpu\n",
      "0    224x224    0.016802    0.003399\n",
      "1    512x512    0.056061    0.003199\n",
      "2  1024x1024    0.218789    0.009200\n",
      "3  2048x2048    0.909469    0.034399\n",
      "4  4096x4096    4.102226    0.134911\n"
     ]
    },
    {
     "data": {
      "image/png": "[encoded data removed]",
      "text/plain": [
       "<Figure size 1000x500 with 1 Axes>"
      ]
     },
     "metadata": {},
     "output_type": "display_data"
    },
    {
     "name": "stderr",
     "output_type": "stream",
     "text": [
      "2025-02-15 18:14:06 - DEBUG - Gráfico 2 mostrado.\n"
     ]
    }
   ],
   "source": [
    "\n",
    "logs_a_mostrar = mean_times[['tamaño', 'tiempo_cpu', 'tiempo_gpu']]\n",
    "logger.info(f\"Media de datos \\n {logs_a_mostrar}\")\n",
    "\n",
    "plt.figure(figsize=(10, 5))\n",
    "plt.plot(mean_times['tamaño'], mean_times['tiempo_cpu'], marker='o', linestyle='-', color='blue', label='Media CPU')\n",
    "plt.plot(mean_times['tamaño'], mean_times['tiempo_gpu'], marker='x', linestyle='-', color='orange', label='Media GPU')\n",
    "plt.xlabel('Tamaño de Imagen')\n",
    "plt.ylabel('Tiempo (s)')\n",
    "plt.title('Tiempos medios de procesamiento por tamaño de imagen')\n",
    "plt.legend()\n",
    "plt.show()\n",
    "logger.debug(\"Gráfico 2 mostrado.\")"
   ]
  },
  {
   "cell_type": "markdown",
   "metadata": {},
   "source": [
    "## **Desarrollo y analisis de la practica**  \n",
    "\n",
    "\n",
    "En esta práctica hemos analizado el impacto del hardware en el procesamiento de imágenes utilizando un modelo de aprendizaje profundo preentrenado, ResNet18. Hemos implementado un experimento en el que comparamos los tiempos de ejecución en CPU y GPU, evaluando su desempeño en diferentes tamaños de imagen. Para ello, preparamos el entorno con las bibliotecas necesarias y configuramos un sistema de registro que nos permite monitorear los tiempos de ejecución. \n",
    "\n",
    "El procedimiento consiste en cargar un conjunto de imágenes y someterlas a transformaciones para ajustarlas al formato requerido por ResNet18. Posteriormente, medimos los tiempos de inferencia en CPU y GPU para imágenes de distintos tamaños: `224x224`, `512x512`, `1024x1024`, `2048x2048` y `4096x4096` píxeles. Registramos los resultados en un conjunto de datos estructurado, permitiendo su análisis comparativo y la generación de visualizaciones gráficas.  \n",
    "\n",
    "Los resultados obtenidos evidencian una notable diferencia de rendimiento entre la CPU y la GPU. En imágenes pequeñas, la GPU ya muestra tiempos significativamente menores, pero es en imágenes de alta resolución donde la diferencia se vuelve mucho más pronunciada. Mientras que en la CPU el tiempo de procesamiento crece exponencialmente con el tamaño de la imagen, la GPU mantiene un crecimiento mucho más moderado, procesando imágenes grandes en una fracción del tiempo requerido por la CPU.  \n",
    "\n",
    "Este comportamiento se debe a la arquitectura de ambos tipos de hardware. Las CPUs están diseñadas para ejecutar tareas en serie con pocos núcleos de alta velocidad optimizados para operaciones secuenciales. En contraste, las GPUs están optimizadas para el procesamiento masivo en paralelo, con miles de núcleos que pueden manejar simultáneamente múltiples operaciones matemáticas, lo que resulta en un mejor desempeño en tareas como el reconocimiento de imágenes.  \n",
    "\n",
    "A partir del análisis de los datos, hemos identificado oportunidades de optimización. Podemos mejorar aún más el rendimiento implementando técnicas de paralelismo adicional, como el procesamiento por lotes en GPU, o el uso de modelos más ligeros, como MobileNet, que requieren menos recursos computacionales. También podemos explorar una gestión de memoria más eficiente en la GPU para reducir los tiempos de transferencia de datos entre la CPU y la GPU.  \n"
   ]
  },
  {
   "cell_type": "markdown",
   "metadata": {},
   "source": [
    "## **Conclusión**  \n",
    "\n",
    "El experimento ha demostrado claramente la superioridad de las GPUs en tareas de inferencia de modelos de aprendizaje profundo, especialmente a medida que aumenta el tamaño de los datos procesados. En todas las pruebas, la GPU supera a la CPU con una diferencia que se hace más pronunciada en imágenes de mayor resolución, donde llega a ser hasta 28 veces más rápida.  \n",
    "\n",
    "El motivo principal de esta diferencia radica en la capacidad de procesamiento paralelo de las GPUs, que les permite manejar grandes volúmenes de datos de manera más eficiente que las CPUs, cuyo diseño está orientado a tareas secuenciales. Este hallazgo es crucial en aplicaciones del mundo real, como el reconocimiento facial o la visión artificial, donde el rendimiento es un factor determinante.  \n",
    "\n",
    "La práctica resalta la importancia de elegir la arquitectura de hardware adecuada según la naturaleza del problema. Para tareas altamente paralelizables, como la inferencia de redes neuronales profundas, el uso de GPUs es claramente ventajoso. Sin embargo, la optimización del código y la elección de modelos adecuados también juegan un papel clave en la maximización del rendimiento. Implementar mejoras en la gestión de memoria y en el uso eficiente de los recursos de la GPU puede llevar a resultados aún más óptimos en futuros experimentos."
   ]
  }
 ],
 "metadata": {
  "kernelspec": {
   "display_name": "Python 3",
   "language": "python",
   "name": "python3"
  },
  "language_info": {
   "codemirror_mode": {
    "name": "ipython",
    "version": 3
   },
   "file_extension": ".py",
   "mimetype": "text/x-python",
   "name": "python",
   "nbconvert_exporter": "python",
   "pygments_lexer": "ipython3",
   "version": "3.9.13"
  }
 },
 "nbformat": 4,
 "nbformat_minor": 2
}
