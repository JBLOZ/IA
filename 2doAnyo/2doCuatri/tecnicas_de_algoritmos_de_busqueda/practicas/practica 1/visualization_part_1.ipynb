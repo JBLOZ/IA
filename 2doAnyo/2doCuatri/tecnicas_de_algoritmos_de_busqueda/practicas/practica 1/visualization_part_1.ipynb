{
 "cells": [
  {
   "cell_type": "code",
   "execution_count": 3,
   "metadata": {},
   "outputs": [],
   "source": [
    "# Import necessary libraries\n",
    "import numpy as np          # Import NumPy for numerical operations and array handling\n",
    "from PIL import Image      # Import PIL (Python Imaging Library) for image processing\n",
    "import scipy.io as sio     # Import SciPy's IO module for reading .mat files\n",
    "\n",
    "# Define target size for image resizing (256x256 pixels)\n",
    "obj_resize = (256, 256)\n",
    "\n",
    "# Load duck images from the Willow Object Dataset\n",
    "# These images will be used for feature matching\n",
    "img1 = Image.open('WILLOW-ObjectClass_dataset/WILLOW-ObjectClass/Duck/060_0000.png')  # Load first duck image\n",
    "img2 = Image.open('WILLOW-ObjectClass_dataset/WILLOW-ObjectClass/Duck/060_0010.png')  # Load second duck image\n",
    "\n",
    "# Load keypoint annotations from corresponding .mat files\n",
    "# 'pts_coord' contains the coordinates of manually annotated keypoints for each image\n",
    "# Convert the MATLAB format to NumPy arrays for easier processing\n",
    "kpts1 = np.array(sio.loadmat('WILLOW-ObjectClass_dataset/WILLOW-ObjectClass/Duck/060_0000.mat')['pts_coord'])  # Keypoints for first image\n",
    "kpts2 = np.array(sio.loadmat('WILLOW-ObjectClass_dataset/WILLOW-ObjectClass/Duck/060_0010.mat')['pts_coord'])  # Keypoints for second image\n",
    "\n",
    "# Scale keypoint coordinates to match the new image dimensions\n",
    "# This ensures keypoints remain aligned when images are resized\n",
    "kpts1[0] = kpts1[0] * obj_resize[0] / img1.size[0]  # Scale x-coordinates of first image keypoints\n",
    "kpts1[1] = kpts1[1] * obj_resize[1] / img1.size[1]  # Scale y-coordinates of first image keypoints\n",
    "kpts2[0] = kpts2[0] * obj_resize[0] / img2.size[0]  # Scale x-coordinates of second image keypoints\n",
    "kpts2[1] = kpts2[1] * obj_resize[1] / img2.size[1]  # Scale y-coordinates of second image keypoints\n",
    "\n",
    "# Resize both images to the target size (256x256)\n",
    "# Using BILINEAR interpolation for smooth resizing\n",
    "img1 = img1.resize(obj_resize, resample=Image.BILINEAR)  # Resize first image\n",
    "img2 = img2.resize(obj_resize, resample=Image.BILINEAR)  # Resize second image"
   ]
  }
 ],
 "metadata": {
  "kernelspec": {
   "display_name": "base",
   "language": "python",
   "name": "python3"
  },
  "language_info": {
   "codemirror_mode": {
    "name": "ipython",
    "version": 3
   },
   "file_extension": ".py",
   "mimetype": "text/x-python",
   "name": "python",
   "nbconvert_exporter": "python",
   "pygments_lexer": "ipython3",
   "version": "3.12.7"
  }
 },
 "nbformat": 4,
 "nbformat_minor": 2
}
