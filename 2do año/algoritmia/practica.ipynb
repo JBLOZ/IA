{
 "cells": [
  {
   "cell_type": "code",
   "outputs": [],
   "source": [
    "import time\n",
    "import random\n",
    "import numpy as np\n",
    "import matplotlib.pyplot as plt"
   ],
   "metadata": {
    "collapsed": false,
    "ExecuteTime": {
     "end_time": "2024-09-20T10:49:05.292451Z",
     "start_time": "2024-09-20T10:49:05.289135Z"
    }
   },
   "execution_count": 4
  },
  {
   "cell_type": "code",
   "outputs": [],
   "source": [
    "def ordenacion_uno(arr):\n",
    "    tiempo = time.time()\n",
    "    n = len(arr)\n",
    "\n",
    "    for i in range(n):\n",
    "        for j in range(n-i-1):\n",
    "            if arr[j] > arr[j+1]:\n",
    "                arr[j], arr[j+1] = arr[j + 1], arr[j]\n",
    "\n",
    "    tiempo2 = time.time() - tiempo\n",
    "    return tiempo2\n",
    "\n",
    "def ord_dos(arr):\n",
    "    if len(arr) <= 1:\n",
    "        return arr\n",
    "    else:\n",
    "        pivote = arr[0]\n",
    "        menores = [x for x in arr[1:] if x <= pivote]\n",
    "        mayores = [x for x in arr[1:] if x > pivote]\n",
    "        menores_sorted = ord_dos(menores)\n",
    "        mayores_sorted = ord_dos(mayores)\n",
    "    return menores_sorted + [pivote] + mayores_sorted\n",
    "\n",
    "def ordenacion_dos(arr):\n",
    "    tiempo = time.time()\n",
    "    arr = ord_dos(arr)\n",
    "    tiempo2 = time.time() - tiempo\n",
    "    return tiempo2"
   ],
   "metadata": {
    "collapsed": false,
    "ExecuteTime": {
     "end_time": "2024-09-20T10:49:10.051783Z",
     "start_time": "2024-09-20T10:49:10.046139Z"
    }
   },
   "execution_count": 6
  },
  {
   "cell_type": "code",
   "outputs": [
    {
     "ename": "KeyboardInterrupt",
     "evalue": "",
     "output_type": "error",
     "traceback": [
      "\u001B[0;31m---------------------------------------------------------------------------\u001B[0m",
      "\u001B[0;31mKeyboardInterrupt\u001B[0m                         Traceback (most recent call last)",
      "Cell \u001B[0;32mIn[8], line 11\u001B[0m\n\u001B[1;32m      8\u001B[0m \u001B[38;5;28;01mfor\u001B[39;00m size \u001B[38;5;129;01min\u001B[39;00m sizes:\n\u001B[1;32m      9\u001B[0m     array_aleatorio \u001B[38;5;241m=\u001B[39m np\u001B[38;5;241m.\u001B[39mrandom\u001B[38;5;241m.\u001B[39mrandint(\u001B[38;5;241m0\u001B[39m, \u001B[38;5;241m1000\u001B[39m, size)\n\u001B[0;32m---> 11\u001B[0m     _, tiempo_uno \u001B[38;5;241m=\u001B[39m \u001B[43mordenacion_uno\u001B[49m\u001B[43m(\u001B[49m\u001B[43marray_aleatorio\u001B[49m\u001B[38;5;241;43m.\u001B[39;49m\u001B[43mcopy\u001B[49m\u001B[43m(\u001B[49m\u001B[43m)\u001B[49m\u001B[43m)\u001B[49m\n\u001B[1;32m     12\u001B[0m     _, tiempo_dos \u001B[38;5;241m=\u001B[39m ordenacion_dos(array_aleatorio\u001B[38;5;241m.\u001B[39mcopy())\n\u001B[1;32m     14\u001B[0m     tiempos_uno\u001B[38;5;241m.\u001B[39mappend(tiempo_uno)\n",
      "Cell \u001B[0;32mIn[6], line 8\u001B[0m, in \u001B[0;36mordenacion_uno\u001B[0;34m(arr)\u001B[0m\n\u001B[1;32m      6\u001B[0m     \u001B[38;5;28;01mfor\u001B[39;00m j \u001B[38;5;129;01min\u001B[39;00m \u001B[38;5;28mrange\u001B[39m(n\u001B[38;5;241m-\u001B[39mi\u001B[38;5;241m-\u001B[39m\u001B[38;5;241m1\u001B[39m):\n\u001B[1;32m      7\u001B[0m         \u001B[38;5;28;01mif\u001B[39;00m arr[j] \u001B[38;5;241m>\u001B[39m arr[j\u001B[38;5;241m+\u001B[39m\u001B[38;5;241m1\u001B[39m]:\n\u001B[0;32m----> 8\u001B[0m             arr[j], arr[j\u001B[38;5;241m+\u001B[39m\u001B[38;5;241m1\u001B[39m] \u001B[38;5;241m=\u001B[39m arr[j \u001B[38;5;241m+\u001B[39m \u001B[38;5;241m1\u001B[39m], arr[j]\n\u001B[1;32m     10\u001B[0m tiempo2 \u001B[38;5;241m=\u001B[39m time\u001B[38;5;241m.\u001B[39mtime() \u001B[38;5;241m-\u001B[39m tiempo\n\u001B[1;32m     11\u001B[0m \u001B[38;5;28;01mreturn\u001B[39;00m arr, tiempo2\n",
      "\u001B[0;31mKeyboardInterrupt\u001B[0m: "
     ]
    }
   ],
   "source": [
    "sizes = np.linspace(1, 10000, 1000, dtype=int)\n",
    "\n",
    "# Inicializar listas para almacenar los tiempos de ejecución\n",
    "tiempos_uno = []\n",
    "tiempos_dos = []\n",
    "\n",
    "# Medir el tiempo de ejecución para cada tamaño de array\n",
    "for size in sizes:\n",
    "    array_aleatorio = np.random.randint(0, 1000, size)\n",
    "\n",
    "    tiempo_uno = ordenacion_uno(array_aleatorio.copy())\n",
    "    tiempo_dos = ordenacion_dos(array_aleatorio.copy())\n",
    "\n",
    "    tiempos_uno.append(tiempo_uno)\n",
    "    tiempos_dos.append(tiempo_dos)\n",
    "\n",
    "# Graficar los resultados\n",
    "plt.plot(sizes, tiempos_uno, label='Ordenación Uno')\n",
    "plt.plot(sizes, tiempos_dos, label='Ordenación Dos')\n",
    "plt.xlabel('Tamaño del Array')\n",
    "plt.ylabel('Tiempo de Ejecución (s)')\n",
    "plt.title('Comparación de Algoritmos de Ordenación')\n",
    "plt.legend()\n",
    "plt.show()\n"
   ],
   "metadata": {
    "collapsed": false,
    "ExecuteTime": {
     "end_time": "2024-09-20T10:55:34.922270Z",
     "start_time": "2024-09-20T10:50:31.329894Z"
    }
   },
   "execution_count": 8
  },
  {
   "cell_type": "code",
   "outputs": [],
   "source": [],
   "metadata": {
    "collapsed": false
   }
  }
 ],
 "metadata": {
  "kernelspec": {
   "display_name": ".venv",
   "language": "python",
   "name": "python3"
  },
  "language_info": {
   "codemirror_mode": {
    "name": "ipython",
    "version": 3
   },
   "file_extension": ".py",
   "mimetype": "text/x-python",
   "name": "python",
   "nbconvert_exporter": "python",
   "pygments_lexer": "ipython3",
   "version": "3.12.1"
  }
 },
 "nbformat": 4,
 "nbformat_minor": 2
}
