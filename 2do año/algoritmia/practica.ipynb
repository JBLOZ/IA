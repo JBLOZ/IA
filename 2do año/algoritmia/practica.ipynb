{
 "cells": [
  {
   "cell_type": "code",
<<<<<<< HEAD
   "outputs": [],
=======
   "execution_count": 40,
   "metadata": {},
   "outputs": [
    {
     "name": "stdout",
     "output_type": "stream",
     "text": [
      "(array([  4,   5,  17,  17,  18,  26,  27,  29,  29,  30,  33,  35,  38,\n",
      "        41,  46,  47,  47,  62,  64,  68,  69,  71,  73,  75,  76,  78,\n",
      "        80,  81,  85,  89,  89, 105, 112, 121, 124, 135, 140, 145, 150,\n",
      "       174, 201, 210, 221, 226, 229, 232, 240, 243, 243, 244, 245, 249,\n",
      "       251, 256, 262, 263, 271, 276, 282, 282, 287, 288, 289, 290, 295,\n",
      "       299, 301, 311, 313, 326, 327, 331, 340, 341, 341, 359, 361, 364,\n",
      "       370, 374, 376, 380, 387, 398, 401, 408, 412, 412, 415, 421, 436,\n",
      "       446, 450, 453, 457, 457, 465, 476, 483, 485, 492, 495, 496, 498,\n",
      "       511, 515, 528, 529, 531, 537, 543, 545, 549, 574, 577, 580, 588,\n",
      "       590, 594, 601, 605, 613, 613, 623, 623, 626, 628, 629, 629, 634,\n",
      "       636, 636, 637, 645, 653, 656, 656, 656, 658, 663, 665, 670, 671,\n",
      "       675, 681, 689, 696, 702, 705, 719, 719, 729, 752, 753, 756, 760,\n",
      "       766, 767, 775, 776, 793, 796, 801, 812, 814, 824, 825, 830, 845,\n",
      "       846, 855, 860, 866, 877, 881, 887, 888, 893, 897, 900, 902, 903,\n",
      "       906, 915, 928, 932, 933, 933, 939, 943, 943, 948, 949, 960, 972,\n",
      "       977, 980, 986, 986, 987, 989, 991]), 0.008599042892456055)\n"
     ]
    },
    {
     "ename": "RecursionError",
     "evalue": "maximum recursion depth exceeded",
     "output_type": "error",
     "traceback": [
      "\u001b[0;31m---------------------------------------------------------------------------\u001b[0m",
      "\u001b[0;31mRecursionError\u001b[0m                            Traceback (most recent call last)",
      "Cell \u001b[0;32mIn[40], line 38\u001b[0m\n\u001b[1;32m     33\u001b[0m array_aleatorio \u001b[38;5;241m=\u001b[39m np\u001b[38;5;241m.\u001b[39mrandom\u001b[38;5;241m.\u001b[39mrandint(\u001b[38;5;241m0\u001b[39m, \u001b[38;5;241m1000\u001b[39m, sizes[\u001b[38;5;241m20\u001b[39m])\n\u001b[1;32m     37\u001b[0m \u001b[38;5;28mprint\u001b[39m(ordenacion_uno(array_aleatorio))\n\u001b[0;32m---> 38\u001b[0m \u001b[38;5;28mprint\u001b[39m(\u001b[43mordenacion_dos\u001b[49m\u001b[43m(\u001b[49m\u001b[43marray_aleatorio\u001b[49m\u001b[43m)\u001b[49m)\n",
      "Cell \u001b[0;32mIn[40], line 28\u001b[0m, in \u001b[0;36mordenacion_dos\u001b[0;34m(arr)\u001b[0m\n\u001b[1;32m     26\u001b[0m     mayores \u001b[38;5;241m=\u001b[39m arr[arr \u001b[38;5;241m>\u001b[39m pivote]\n\u001b[1;32m     27\u001b[0m     menores_sorted, _ \u001b[38;5;241m=\u001b[39m ordenacion_dos(menores)\n\u001b[0;32m---> 28\u001b[0m     mayores_sorted, _ \u001b[38;5;241m=\u001b[39m \u001b[43mordenacion_dos\u001b[49m\u001b[43m(\u001b[49m\u001b[43mmayores\u001b[49m\u001b[43m)\u001b[49m\n\u001b[1;32m     29\u001b[0m tiempo2 \u001b[38;5;241m=\u001b[39m time\u001b[38;5;241m.\u001b[39mtime() \u001b[38;5;241m-\u001b[39m tiempo\n\u001b[1;32m     30\u001b[0m \u001b[38;5;28;01mreturn\u001b[39;00m np\u001b[38;5;241m.\u001b[39mconcatenate((menores_sorted, [pivote], mayores_sorted)), tiempo2\n",
      "Cell \u001b[0;32mIn[40], line 28\u001b[0m, in \u001b[0;36mordenacion_dos\u001b[0;34m(arr)\u001b[0m\n\u001b[1;32m     26\u001b[0m     mayores \u001b[38;5;241m=\u001b[39m arr[arr \u001b[38;5;241m>\u001b[39m pivote]\n\u001b[1;32m     27\u001b[0m     menores_sorted, _ \u001b[38;5;241m=\u001b[39m ordenacion_dos(menores)\n\u001b[0;32m---> 28\u001b[0m     mayores_sorted, _ \u001b[38;5;241m=\u001b[39m \u001b[43mordenacion_dos\u001b[49m\u001b[43m(\u001b[49m\u001b[43mmayores\u001b[49m\u001b[43m)\u001b[49m\n\u001b[1;32m     29\u001b[0m tiempo2 \u001b[38;5;241m=\u001b[39m time\u001b[38;5;241m.\u001b[39mtime() \u001b[38;5;241m-\u001b[39m tiempo\n\u001b[1;32m     30\u001b[0m \u001b[38;5;28;01mreturn\u001b[39;00m np\u001b[38;5;241m.\u001b[39mconcatenate((menores_sorted, [pivote], mayores_sorted)), tiempo2\n",
      "Cell \u001b[0;32mIn[40], line 27\u001b[0m, in \u001b[0;36mordenacion_dos\u001b[0;34m(arr)\u001b[0m\n\u001b[1;32m     25\u001b[0m     menores \u001b[38;5;241m=\u001b[39m arr[arr \u001b[38;5;241m<\u001b[39m\u001b[38;5;241m=\u001b[39m pivote]\n\u001b[1;32m     26\u001b[0m     mayores \u001b[38;5;241m=\u001b[39m arr[arr \u001b[38;5;241m>\u001b[39m pivote]\n\u001b[0;32m---> 27\u001b[0m     menores_sorted, _ \u001b[38;5;241m=\u001b[39m \u001b[43mordenacion_dos\u001b[49m\u001b[43m(\u001b[49m\u001b[43mmenores\u001b[49m\u001b[43m)\u001b[49m\n\u001b[1;32m     28\u001b[0m     mayores_sorted, _ \u001b[38;5;241m=\u001b[39m ordenacion_dos(mayores)\n\u001b[1;32m     29\u001b[0m tiempo2 \u001b[38;5;241m=\u001b[39m time\u001b[38;5;241m.\u001b[39mtime() \u001b[38;5;241m-\u001b[39m tiempo\n",
      "Cell \u001b[0;32mIn[40], line 27\u001b[0m, in \u001b[0;36mordenacion_dos\u001b[0;34m(arr)\u001b[0m\n\u001b[1;32m     25\u001b[0m     menores \u001b[38;5;241m=\u001b[39m arr[arr \u001b[38;5;241m<\u001b[39m\u001b[38;5;241m=\u001b[39m pivote]\n\u001b[1;32m     26\u001b[0m     mayores \u001b[38;5;241m=\u001b[39m arr[arr \u001b[38;5;241m>\u001b[39m pivote]\n\u001b[0;32m---> 27\u001b[0m     menores_sorted, _ \u001b[38;5;241m=\u001b[39m \u001b[43mordenacion_dos\u001b[49m\u001b[43m(\u001b[49m\u001b[43mmenores\u001b[49m\u001b[43m)\u001b[49m\n\u001b[1;32m     28\u001b[0m     mayores_sorted, _ \u001b[38;5;241m=\u001b[39m ordenacion_dos(mayores)\n\u001b[1;32m     29\u001b[0m tiempo2 \u001b[38;5;241m=\u001b[39m time\u001b[38;5;241m.\u001b[39mtime() \u001b[38;5;241m-\u001b[39m tiempo\n",
      "    \u001b[0;31m[... skipping similar frames: ordenacion_dos at line 27 (2972 times)]\u001b[0m\n",
      "Cell \u001b[0;32mIn[40], line 27\u001b[0m, in \u001b[0;36mordenacion_dos\u001b[0;34m(arr)\u001b[0m\n\u001b[1;32m     25\u001b[0m     menores \u001b[38;5;241m=\u001b[39m arr[arr \u001b[38;5;241m<\u001b[39m\u001b[38;5;241m=\u001b[39m pivote]\n\u001b[1;32m     26\u001b[0m     mayores \u001b[38;5;241m=\u001b[39m arr[arr \u001b[38;5;241m>\u001b[39m pivote]\n\u001b[0;32m---> 27\u001b[0m     menores_sorted, _ \u001b[38;5;241m=\u001b[39m \u001b[43mordenacion_dos\u001b[49m\u001b[43m(\u001b[49m\u001b[43mmenores\u001b[49m\u001b[43m)\u001b[49m\n\u001b[1;32m     28\u001b[0m     mayores_sorted, _ \u001b[38;5;241m=\u001b[39m ordenacion_dos(mayores)\n\u001b[1;32m     29\u001b[0m tiempo2 \u001b[38;5;241m=\u001b[39m time\u001b[38;5;241m.\u001b[39mtime() \u001b[38;5;241m-\u001b[39m tiempo\n",
      "\u001b[0;31mRecursionError\u001b[0m: maximum recursion depth exceeded"
     ]
    }
   ],
>>>>>>> main
   "source": [
    "import time\n",
    "import random\n",
    "import numpy as np\n",
<<<<<<< HEAD
    "import matplotlib.pyplot as plt"
   ],
   "metadata": {
    "collapsed": false,
    "ExecuteTime": {
     "end_time": "2024-09-20T10:49:05.292451Z",
     "start_time": "2024-09-20T10:49:05.289135Z"
    }
   },
   "execution_count": 4
  },
  {
   "cell_type": "code",
   "outputs": [],
   "source": [
=======
    "\n",
    "\n",
>>>>>>> main
    "def ordenacion_uno(arr):\n",
    "    tiempo = time.time()\n",
    "    n = len(arr)\n",
    "\n",
    "    for i in range(n):\n",
    "        for j in range(n-i-1):\n",
    "            if arr[j] > arr[j+1]:\n",
    "                arr[j], arr[j+1] = arr[j + 1], arr[j]\n",
    "\n",
    "    tiempo2 = time.time() - tiempo\n",
<<<<<<< HEAD
    "    return tiempo2\n",
    "\n",
    "def ord_dos(arr):\n",
    "    if len(arr) <= 1:\n",
    "        return arr\n",
    "    else:\n",
    "        pivote = arr[0]\n",
    "        menores = [x for x in arr[1:] if x <= pivote]\n",
    "        mayores = [x for x in arr[1:] if x > pivote]\n",
    "        menores_sorted = ord_dos(menores)\n",
    "        mayores_sorted = ord_dos(mayores)\n",
    "    return menores_sorted + [pivote] + mayores_sorted\n",
    "\n",
    "def ordenacion_dos(arr):\n",
    "    tiempo = time.time()\n",
    "    arr = ord_dos(arr)\n",
    "    tiempo2 = time.time() - tiempo\n",
    "    return tiempo2"
   ],
   "metadata": {
    "collapsed": false,
    "ExecuteTime": {
     "end_time": "2024-09-20T10:49:10.051783Z",
     "start_time": "2024-09-20T10:49:10.046139Z"
    }
   },
   "execution_count": 6
  },
  {
   "cell_type": "code",
   "outputs": [
    {
     "ename": "KeyboardInterrupt",
     "evalue": "",
     "output_type": "error",
     "traceback": [
      "\u001B[0;31m---------------------------------------------------------------------------\u001B[0m",
      "\u001B[0;31mKeyboardInterrupt\u001B[0m                         Traceback (most recent call last)",
      "Cell \u001B[0;32mIn[8], line 11\u001B[0m\n\u001B[1;32m      8\u001B[0m \u001B[38;5;28;01mfor\u001B[39;00m size \u001B[38;5;129;01min\u001B[39;00m sizes:\n\u001B[1;32m      9\u001B[0m     array_aleatorio \u001B[38;5;241m=\u001B[39m np\u001B[38;5;241m.\u001B[39mrandom\u001B[38;5;241m.\u001B[39mrandint(\u001B[38;5;241m0\u001B[39m, \u001B[38;5;241m1000\u001B[39m, size)\n\u001B[0;32m---> 11\u001B[0m     _, tiempo_uno \u001B[38;5;241m=\u001B[39m \u001B[43mordenacion_uno\u001B[49m\u001B[43m(\u001B[49m\u001B[43marray_aleatorio\u001B[49m\u001B[38;5;241;43m.\u001B[39;49m\u001B[43mcopy\u001B[49m\u001B[43m(\u001B[49m\u001B[43m)\u001B[49m\u001B[43m)\u001B[49m\n\u001B[1;32m     12\u001B[0m     _, tiempo_dos \u001B[38;5;241m=\u001B[39m ordenacion_dos(array_aleatorio\u001B[38;5;241m.\u001B[39mcopy())\n\u001B[1;32m     14\u001B[0m     tiempos_uno\u001B[38;5;241m.\u001B[39mappend(tiempo_uno)\n",
      "Cell \u001B[0;32mIn[6], line 8\u001B[0m, in \u001B[0;36mordenacion_uno\u001B[0;34m(arr)\u001B[0m\n\u001B[1;32m      6\u001B[0m     \u001B[38;5;28;01mfor\u001B[39;00m j \u001B[38;5;129;01min\u001B[39;00m \u001B[38;5;28mrange\u001B[39m(n\u001B[38;5;241m-\u001B[39mi\u001B[38;5;241m-\u001B[39m\u001B[38;5;241m1\u001B[39m):\n\u001B[1;32m      7\u001B[0m         \u001B[38;5;28;01mif\u001B[39;00m arr[j] \u001B[38;5;241m>\u001B[39m arr[j\u001B[38;5;241m+\u001B[39m\u001B[38;5;241m1\u001B[39m]:\n\u001B[0;32m----> 8\u001B[0m             arr[j], arr[j\u001B[38;5;241m+\u001B[39m\u001B[38;5;241m1\u001B[39m] \u001B[38;5;241m=\u001B[39m arr[j \u001B[38;5;241m+\u001B[39m \u001B[38;5;241m1\u001B[39m], arr[j]\n\u001B[1;32m     10\u001B[0m tiempo2 \u001B[38;5;241m=\u001B[39m time\u001B[38;5;241m.\u001B[39mtime() \u001B[38;5;241m-\u001B[39m tiempo\n\u001B[1;32m     11\u001B[0m \u001B[38;5;28;01mreturn\u001B[39;00m arr, tiempo2\n",
      "\u001B[0;31mKeyboardInterrupt\u001B[0m: "
     ]
    }
   ],
   "source": [
    "sizes = np.linspace(1, 10000, 1000, dtype=int)\n",
    "\n",
    "# Inicializar listas para almacenar los tiempos de ejecución\n",
    "tiempos_uno = []\n",
    "tiempos_dos = []\n",
    "\n",
    "# Medir el tiempo de ejecución para cada tamaño de array\n",
    "for size in sizes:\n",
    "    array_aleatorio = np.random.randint(0, 1000, size)\n",
    "\n",
    "    tiempo_uno = ordenacion_uno(array_aleatorio.copy())\n",
    "    tiempo_dos = ordenacion_dos(array_aleatorio.copy())\n",
    "\n",
    "    tiempos_uno.append(tiempo_uno)\n",
    "    tiempos_dos.append(tiempo_dos)\n",
    "\n",
    "# Graficar los resultados\n",
    "plt.plot(sizes, tiempos_uno, label='Ordenación Uno')\n",
    "plt.plot(sizes, tiempos_dos, label='Ordenación Dos')\n",
    "plt.xlabel('Tamaño del Array')\n",
    "plt.ylabel('Tiempo de Ejecución (s)')\n",
    "plt.title('Comparación de Algoritmos de Ordenación')\n",
    "plt.legend()\n",
    "plt.show()"
   ],
   "metadata": {
    "collapsed": false,
    "ExecuteTime": {
     "end_time": "2024-09-20T10:55:34.922270Z",
     "start_time": "2024-09-20T10:50:31.329894Z"
    }
   },
   "execution_count": 8
  },
  {
   "cell_type": "code",
   "outputs": [],
   "source": [],
   "metadata": {
    "collapsed": false
   }
=======
    "    return arr, tiempo2\n",
    "\n",
    "def ordenacion_dos(arr):\n",
    "    tiempo = time.time()\n",
    "    if len(arr) <= 1:\n",
    "        tiempo2 = time.time() - tiempo\n",
    "        return arr, tiempo2\n",
    "    else:\n",
    "        pivote = arr[0]\n",
    "        menores = arr[arr <= pivote]\n",
    "        mayores = arr[arr > pivote]\n",
    "        menores_sorted, _ = ordenacion_dos(menores)\n",
    "        mayores_sorted, _ = ordenacion_dos(mayores)\n",
    "    tiempo2 = time.time() - tiempo\n",
    "    \n",
    "\n",
    "sizes = np.linspace(1, 1000, 100, dtype=int)\n",
    "array_aleatorio = np.random.randint(0, 1000, sizes[20])\n",
    "\n",
    "\n",
    "\n",
    "print(ordenacion_uno(array_aleatorio))\n",
    "print(ordenacion_dos(array_aleatorio))\n"
   ]
>>>>>>> main
  }
 ],
 "metadata": {
  "kernelspec": {
   "display_name": ".venv",
   "language": "python",
   "name": "python3"
  },
  "language_info": {
   "codemirror_mode": {
    "name": "ipython",
    "version": 3
   },
   "file_extension": ".py",
   "mimetype": "text/x-python",
   "name": "python",
   "nbconvert_exporter": "python",
   "pygments_lexer": "ipython3",
   "version": "3.12.1"
  }
 },
 "nbformat": 4,
 "nbformat_minor": 2
}
