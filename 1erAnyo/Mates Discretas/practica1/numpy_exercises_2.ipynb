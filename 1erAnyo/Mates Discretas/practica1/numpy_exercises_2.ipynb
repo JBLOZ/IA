{
 "cells": [
  {
   "cell_type": "markdown",
   "metadata": {
    "id": "iRRTeA5GzOrs"
   },
   "source": [
    "# JORDI BLASCO LOZANO"
   ]
  },
  {
   "cell_type": "code",
   "execution_count": null,
   "metadata": {
    "executionInfo": {
     "elapsed": 4,
     "status": "ok",
     "timestamp": 1708435739242,
     "user": {
      "displayName": "Jordi Blasco Lozano",
      "userId": "06759283674467549937"
     },
     "user_tz": -60
    },
    "id": "bFnbntcmHnac",
    "is_executing": true
   },
   "outputs": [],
   "source": [
    "import numpy as np"
   ]
  },
  {
   "cell_type": "markdown",
   "metadata": {
    "id": "lr6YMVgdQdIY"
   },
   "source": [
    " #1 -> crea un array preguntandote el numero de filas y columnas ademas de cada una de las celdas\n",
    " #2 -> opera segun las matrices que le pasemos\n",
    " #3 -> imprime las matrices\n",
    " #4 -> llama a #2 segun la operacion que querramos con las matrices que querramos, la operacion la guarda en una matriz C que la podremos usar para mas calculos posteriormente:\n",
    "\n",
    " - para sumar -> A+B, B+B, etc.\n",
    " - para restar -> A-B, A-C, C-C etc.\n",
    " - para multiplicar -> AxB, BxC, CxC etc.\n",
    " - para trasponer -> TA, TB, TC\n",
    " - para concadenar ->\n",
    "    - AB1 (a con b por columnas)\n",
    "    - BBA0 (b con b con a por filas)\n",
    "    - CAB2 (c con a con b flaten) etc."
   ]
  },
  {
   "cell_type": "code",
   "execution_count": 2,
   "metadata": {
    "colab": {
     "base_uri": "https://localhost:8080/",
     "height": 1000
    },
    "id": "mnOfrboGH_Rj",
    "executionInfo": {
     "status": "error",
     "timestamp": 1708435820733,
     "user_tz": -60,
     "elapsed": 75075,
     "user": {
      "displayName": "Jordi Blasco Lozano",
      "userId": "06759283674467549937"
     }
    },
    "outputId": "bd6aeddf-a9d8-4c48-e06f-93092d23b5cb",
    "ExecuteTime": {
     "end_time": "2024-02-27T10:46:02.016045Z",
     "start_time": "2024-02-27T10:45:06.795Z"
    }
   },
   "outputs": [
    {
     "name": "stdout",
     "output_type": "stream",
     "text": [
      "MATRIZ A: \n",
      "MATRIZ B: \n",
      "\n",
      " MATRIZ A: \n",
      "[[3 3]\n",
      " [4 5]]\n",
      "\n",
      "MATRIZ B: \n",
      "[[2 2 2]\n",
      " [2 2 2]]\n",
      "\n",
      "MATRIZ C: \n",
      "None\n",
      "\n",
      " MATRIZ A: \n",
      "[[3 3]\n",
      " [4 5]]\n",
      "\n",
      "MATRIZ B: \n",
      "[[2 2 2]\n",
      " [2 2 2]]\n",
      "\n",
      "MATRIZ C: \n",
      "[[0 0]\n",
      " [0 0]]\n",
      "\n",
      " MATRIZ A: \n",
      "[[3 3]\n",
      " [4 5]]\n",
      "\n",
      "MATRIZ B: \n",
      "[[2 2 2]\n",
      " [2 2 2]]\n",
      "\n",
      "MATRIZ C: \n",
      "[[12 12 12]\n",
      " [18 18 18]]\n"
     ]
    }
   ],
   "source": [
    "def create_array (x,y): #1\n",
    "    array = []\n",
    "    for i in range(x):\n",
    "        fila = []\n",
    "\n",
    "        for j in range(y):\n",
    "            fila.append(int(input('celda (' + str(i+1) + ',' + str(j+1) + '): ')))\n",
    "\n",
    "        array.append(fila)\n",
    "\n",
    "    X = np.array(array)\n",
    "    return X\n",
    "\n",
    "\n",
    "def calculator(A,B,C=1,op=''): #2\n",
    "    if op == '+':\n",
    "        return (A+B)\n",
    "    elif op == '-':\n",
    "        return (A-B)\n",
    "    elif op == 'x' or op =='*':\n",
    "        return (A@B)\n",
    "    elif op == 'T':\n",
    "        return (A.T)\n",
    "    elif op in [0,1]:\n",
    "        if np.sum(C) == 0:\n",
    "            return (np.concatenate((A,B), axis=op))\n",
    "        else:\n",
    "            return (np.concatenate((A,B,C), axis=op))\n",
    "    elif op in [2]:\n",
    "\n",
    "        if np.sum(B) == 0:\n",
    "            return (np.concatenate((A), axis=None))\n",
    "        elif np.sum(C) == 0:\n",
    "            return (np.concatenate((A,B), axis=None))\n",
    "        else:\n",
    "            return (np.concatenate((A,B,C), axis=None))\n",
    "\n",
    "\n",
    "\n",
    "def show_matrixs(A,B=None,C=None): #3\n",
    "\n",
    "    print('\\n MATRIZ A: \\n' + str(A) + '\\n')\n",
    "    print('MATRIZ B: \\n' + str(B) + '\\n')\n",
    "    print('MATRIZ C: \\n' + str(C) + '\\n')\n",
    "\n",
    "\n",
    "def main(): #4\n",
    "    print('MATRIZ A: ')\n",
    "    A = create_array(int(input('num filas: ')), int(input('num columnas: ')))\n",
    "\n",
    "    print('MATRIZ B: ')\n",
    "    B = create_array(int(input('num filas: ')), int(input('num columnas: ')))\n",
    "\n",
    "    show_matrixs(A,B)\n",
    "\n",
    "\n",
    "    while True:\n",
    "        operation = input(\"Elige operacion (_+_, _-_, _x_, T_, _ _ _(0,1,2) exit): \")\n",
    "\n",
    "        if '+' in operation or '-' in operation or '*' in operation or 'x' in operation:\n",
    "\n",
    "            if operation[0] == 'A' and operation[2] == 'B':\n",
    "                C = calculator(A,B,op=operation[1])\n",
    "            elif operation[0] == 'A' and operation[2] == 'C':\n",
    "                C = calculator(A,B,op=operation[1])\n",
    "            elif operation[0] == 'A' and operation[2] == 'A':\n",
    "                C = calculator(A,A,op=operation[1])\n",
    "\n",
    "            elif operation[0] == 'B' and operation[2] == 'A':\n",
    "                C = calculator(B,A,op=operation[1])\n",
    "            elif operation[0] == 'B' and operation[2] == 'C':\n",
    "                C = calculator(B,C,op=operation[1])\n",
    "            elif operation[0] == 'B' and operation[2] == 'B':\n",
    "                C = calculator(B,B,op=operation[1])\n",
    "\n",
    "            elif operation[0] == 'C' and operation[2] == 'A':\n",
    "                C = calculator(C,A,op=operation[1])\n",
    "            elif operation[0] == 'C' and operation[2] == 'B':\n",
    "                C = calculator(C,B,op=operation[1])\n",
    "            elif operation[0] == 'C' and operation[2] == 'C':\n",
    "                C = calculator(C,C,op=operation[1])\n",
    "\n",
    "        elif operation == 'TA':\n",
    "            C = calculator(A,B=None,op='T')\n",
    "        elif operation == 'TB':\n",
    "            C = calculator(B,B=None,op='T')\n",
    "        elif operation == 'TC':\n",
    "            C = calculator(C,B=None,op='T')\n",
    "\n",
    "        elif '0' in operation or '1' in operation or '2' in operation:\n",
    "\n",
    "\n",
    "            if 'A' == operation[0]:\n",
    "                m1 = A\n",
    "            elif 'B' == operation[0]:\n",
    "                m1 = B\n",
    "            elif 'C' == operation[0]:\n",
    "                m1 = C\n",
    "\n",
    "            if 'A' == operation[1]:\n",
    "                m2 = A\n",
    "            elif 'B' == operation[1]:\n",
    "                m2 = B\n",
    "            elif 'C' == operation[1]:\n",
    "                m2 = C\n",
    "            else:\n",
    "                m2 = np.array([0])\n",
    "\n",
    "            if len(operation) >= 3:\n",
    "\n",
    "                if 'A' == operation[2]:\n",
    "                    m3 = A\n",
    "                elif 'B' == operation[2]:\n",
    "                    m3 = B\n",
    "                elif 'C' == operation[2]:\n",
    "                    m3 = C\n",
    "                else:\n",
    "                    m3 = np.array([0])\n",
    "            else:\n",
    "                m3 = np.array([0])\n",
    "\n",
    "            C = calculator(m1,m2,m3,op=int(operation[-1]))\n",
    "\n",
    "\n",
    "        else:\n",
    "            break\n",
    "        show_matrixs(A,B,C)\n",
    "\n",
    "main()\n"
   ]
  },
  {
   "cell_type": "code",
   "outputs": [],
   "source": [],
   "metadata": {
    "collapsed": false
   }
  }
 ],
 "metadata": {
  "colab": {
   "provenance": [],
   "authorship_tag": "ABX9TyPtcO2Ea11u8BUx32LKXmPE"
  },
  "kernelspec": {
   "name": "python3",
   "language": "python",
   "display_name": "Python 3 (ipykernel)"
  },
  "language_info": {
   "name": "python"
  }
 },
 "nbformat": 4,
 "nbformat_minor": 0
}
